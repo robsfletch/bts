{
 "cells": [
  {
   "cell_type": "code",
   "execution_count": 30,
   "id": "upper-garbage",
   "metadata": {},
   "outputs": [],
   "source": [
    "from pathlib import Path\n",
    "import pandas as pd\n",
    "\n",
    "interim = Path('../data/interim')\n",
    "game_logs = pd.read_pickle(Path(interim) / 'game_logs.pkl')\n",
    "panel = pd.read_pickle(Path(interim) / 'panel.pkl')"
   ]
  },
  {
   "cell_type": "code",
   "execution_count": 31,
   "id": "flying-theta",
   "metadata": {},
   "outputs": [
    {
     "data": {
      "text/html": [
       "<div>\n",
       "<style scoped>\n",
       "    .dataframe tbody tr th:only-of-type {\n",
       "        vertical-align: middle;\n",
       "    }\n",
       "\n",
       "    .dataframe tbody tr th {\n",
       "        vertical-align: top;\n",
       "    }\n",
       "\n",
       "    .dataframe thead th {\n",
       "        text-align: right;\n",
       "    }\n",
       "</style>\n",
       "<table border=\"1\" class=\"dataframe\">\n",
       "  <thead>\n",
       "    <tr style=\"text-align: right;\">\n",
       "      <th></th>\n",
       "      <th></th>\n",
       "      <th>rest</th>\n",
       "    </tr>\n",
       "    <tr>\n",
       "      <th>GAME_ID</th>\n",
       "      <th>BAT_ID</th>\n",
       "      <th></th>\n",
       "    </tr>\n",
       "  </thead>\n",
       "  <tbody>\n",
       "    <tr>\n",
       "      <th>CIN195404130</th>\n",
       "      <th>aaroh101</th>\n",
       "      <td>NaN</td>\n",
       "    </tr>\n",
       "    <tr>\n",
       "      <th>MLN195404150</th>\n",
       "      <th>aaroh101</th>\n",
       "      <td>2.0</td>\n",
       "    </tr>\n",
       "    <tr>\n",
       "      <th>MLN195404170</th>\n",
       "      <th>aaroh101</th>\n",
       "      <td>2.0</td>\n",
       "    </tr>\n",
       "    <tr>\n",
       "      <th>MLN195404181</th>\n",
       "      <th>aaroh101</th>\n",
       "      <td>1.0</td>\n",
       "    </tr>\n",
       "    <tr>\n",
       "      <th>MLN195404182</th>\n",
       "      <th>aaroh101</th>\n",
       "      <td>0.0</td>\n",
       "    </tr>\n",
       "    <tr>\n",
       "      <th>...</th>\n",
       "      <th>...</th>\n",
       "      <td>...</td>\n",
       "    </tr>\n",
       "    <tr>\n",
       "      <th rowspan=\"5\" valign=\"top\">CHA197907122</th>\n",
       "      <th>NaN</th>\n",
       "      <td>NaN</td>\n",
       "    </tr>\n",
       "    <tr>\n",
       "      <th>NaN</th>\n",
       "      <td>NaN</td>\n",
       "    </tr>\n",
       "    <tr>\n",
       "      <th>NaN</th>\n",
       "      <td>NaN</td>\n",
       "    </tr>\n",
       "    <tr>\n",
       "      <th>NaN</th>\n",
       "      <td>NaN</td>\n",
       "    </tr>\n",
       "    <tr>\n",
       "      <th>NaN</th>\n",
       "      <td>NaN</td>\n",
       "    </tr>\n",
       "  </tbody>\n",
       "</table>\n",
       "<p>3178224 rows × 1 columns</p>\n",
       "</div>"
      ],
      "text/plain": [
       "                       rest\n",
       "GAME_ID      BAT_ID        \n",
       "CIN195404130 aaroh101   NaN\n",
       "MLN195404150 aaroh101   2.0\n",
       "MLN195404170 aaroh101   2.0\n",
       "MLN195404181 aaroh101   1.0\n",
       "MLN195404182 aaroh101   0.0\n",
       "...                     ...\n",
       "CHA197907122 NaN        NaN\n",
       "             NaN        NaN\n",
       "             NaN        NaN\n",
       "             NaN        NaN\n",
       "             NaN        NaN\n",
       "\n",
       "[3178224 rows x 1 columns]"
      ]
     },
     "execution_count": 31,
     "metadata": {},
     "output_type": "execute_result"
    }
   ],
   "source": [
    "rest = panel[['GAME_ID', 'BAT_ID', 'Date']].sort_values(['BAT_ID', 'Date'])\n",
    "rest['L_Date'] = rest.groupby(['BAT_ID'])['Date'].shift(1)\n",
    "rest['rest'] = rest['Date'] - rest['L_Date']\n",
    "rest['rest'] = rest['rest'].astype('timedelta64[D]')\n",
    "rest.loc[rest['rest'] >= 10, 'rest'] = 10\n",
    "rest = rest[['GAME_ID', 'BAT_ID', 'rest']]\n",
    "rest = rest.set_index(['GAME_ID', 'BAT_ID'])\n",
    "rest"
   ]
  },
  {
   "cell_type": "code",
   "execution_count": 32,
   "id": "generous-mystery",
   "metadata": {},
   "outputs": [
    {
     "data": {
      "text/plain": [
       "<AxesSubplot:>"
      ]
     },
     "execution_count": 32,
     "metadata": {},
     "output_type": "execute_result"
    },
    {
     "data": {
      "image/png": "[encoded data removed]",
      "text/plain": [
       "<Figure size 432x288 with 1 Axes>"
      ]
     },
     "metadata": {
      "needs_background": "light"
     },
     "output_type": "display_data"
    }
   ],
   "source": [
    "rest['rest'].hist(bins=11, range=(-0.5, 10.5))"
   ]
  },
  {
   "cell_type": "code",
   "execution_count": 33,
   "id": "equal-accommodation",
   "metadata": {},
   "outputs": [
    {
     "data": {
      "text/plain": [
       "count    3.166454e+06\n",
       "mean     2.063103e+00\n",
       "std      2.211948e+00\n",
       "min      0.000000e+00\n",
       "25%      1.000000e+00\n",
       "50%      1.000000e+00\n",
       "75%      2.000000e+00\n",
       "max      1.000000e+01\n",
       "Name: rest, dtype: float64"
      ]
     },
     "execution_count": 33,
     "metadata": {},
     "output_type": "execute_result"
    }
   ],
   "source": [
    "rest['rest'].describe()"
   ]
  },
  {
   "cell_type": "code",
   "execution_count": null,
   "id": "molecular-insider",
   "metadata": {},
   "outputs": [],
   "source": []
  }
 ],
 "metadata": {
  "kernelspec": {
   "display_name": "bts",
   "language": "python",
   "name": "bts"
  },
  "language_info": {
   "codemirror_mode": {
    "name": "ipython",
    "version": 3
   },
   "file_extension": ".py",
   "mimetype": "text/x-python",
   "name": "python",
   "nbconvert_exporter": "python",
   "pygments_lexer": "ipython3",
   "version": "3.7.10"
  }
 },
 "nbformat": 4,
 "nbformat_minor": 5
}
