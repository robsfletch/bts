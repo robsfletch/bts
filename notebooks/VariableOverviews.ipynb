{
 "cells": [
  {
   "cell_type": "code",
   "execution_count": null,
   "id": "impressive-behalf",
   "metadata": {},
   "outputs": [],
   "source": [
    "import os \n",
    "os.getcwd()"
   ]
  },
  {
   "cell_type": "code",
   "execution_count": null,
   "id": "about-deficit",
   "metadata": {},
   "outputs": [],
   "source": [
    "import pandas as pd\n",
    "from pathlib import Path"
   ]
  },
  {
   "cell_type": "code",
   "execution_count": null,
   "id": "breeding-sunrise",
   "metadata": {},
   "outputs": [],
   "source": [
    "processed = '../data/processed'\n",
    "main_data = pd.read_pickle(Path(processed) / 'main_data.pkl')"
   ]
  },
  {
   "cell_type": "code",
   "execution_count": null,
   "id": "comprehensive-rebel",
   "metadata": {},
   "outputs": [],
   "source": [
    "x_vars = [\n",
    "    'spot', 'home', 'b_HPG', 'p_HPAB', 'park_factor', 'year',\n",
    "    'BAT_HAND', 'PIT_HAND', 'b_avg_win', 'p_team_HPAB',\n",
    "    'p_avg_game_score', 'p_team_avg_game_score'\n",
    "]"
   ]
  },
  {
   "cell_type": "code",
   "execution_count": null,
   "id": "protective-athletics",
   "metadata": {},
   "outputs": [],
   "source": [
    "def adjust_plot(plt):\n",
    "    plt.xaxis.grid(False)\n",
    "    plt.yaxis.grid(True, linestyle='dashed', color='lightgrey')\n",
    "    plt.set_axisbelow(True)\n",
    "    plt.xaxis.set_ticks_position('none') \n",
    "    plt.yaxis.set_ticks_position('none') \n",
    "\n",
    "    plt.spines['left'].set_visible(False)\n",
    "    plt.spines['right'].set_visible(False)\n",
    "    plt.spines['top'].set_visible(False)"
   ]
  },
  {
   "cell_type": "code",
   "execution_count": null,
   "id": "requested-concentration",
   "metadata": {},
   "outputs": [],
   "source": [
    "main_data = main_data[(main_data.b_prev_G > 50)]"
   ]
  },
  {
   "cell_type": "code",
   "execution_count": null,
   "id": "structured-times",
   "metadata": {},
   "outputs": [],
   "source": [
    "main_data['b_prev_G'].describe()"
   ]
  },
  {
   "cell_type": "code",
   "execution_count": null,
   "id": "ignored-specific",
   "metadata": {},
   "outputs": [],
   "source": [
    "plot_b_hpg = main_data['b_pred_HPPA'].hist(rwidth=0.9)\n",
    "adjust_plot(plot_b_hpg)"
   ]
  },
  {
   "cell_type": "code",
   "execution_count": null,
   "id": "emotional-redhead",
   "metadata": {},
   "outputs": [],
   "source": [
    "plot_p_hpab = main_data['p_pred_HPPA'].hist(rwidth=0.9)\n",
    "adjust_plot(plot_p_hpab)"
   ]
  },
  {
   "cell_type": "code",
   "execution_count": null,
   "id": "political-omaha",
   "metadata": {},
   "outputs": [],
   "source": [
    "plot_park_factor = main_data['park_h_factor'].hist(rwidth=0.9)\n",
    "adjust_plot(plot_park_factor)"
   ]
  },
  {
   "cell_type": "code",
   "execution_count": null,
   "id": "strange-texture",
   "metadata": {},
   "outputs": [],
   "source": [
    "plot_b_avg_win = main_data['rating_rating_prob'].hist(rwidth=0.9)\n",
    "adjust_plot(plot_b_avg_win)"
   ]
  },
  {
   "cell_type": "code",
   "execution_count": null,
   "id": "honest-showcase",
   "metadata": {},
   "outputs": [],
   "source": [
    "plot_p_own_HPAB = main_data['rating_pitcher_rgs'].hist(rwidth=0.9)\n",
    "adjust_plot(plot_p_own_HPAB)"
   ]
  },
  {
   "cell_type": "code",
   "execution_count": null,
   "id": "statistical-durham",
   "metadata": {},
   "outputs": [],
   "source": [
    "plot_p_avg_game_score = main_data['p_team_pred_AdjHPG'].hist(rwidth=0.9)\n",
    "adjust_plot(plot_p_avg_game_score)"
   ]
  },
  {
   "cell_type": "code",
   "execution_count": null,
   "id": "acquired-placement",
   "metadata": {},
   "outputs": [],
   "source": [
    "plot_p_own_avg_game_score = main_data['p_team_pred_DefEff'].hist(rwidth=0.9)\n",
    "adjust_plot(plot_p_own_avg_game_score)"
   ]
  },
  {
   "cell_type": "code",
   "execution_count": null,
   "id": "attractive-edition",
   "metadata": {},
   "outputs": [],
   "source": [
    "plot_p_team_hpg = main_data['b_team_pred_AdjHPG'].hist(rwidth=0.9)\n",
    "adjust_plot(plot_p_team_hpg)"
   ]
  },
  {
   "cell_type": "code",
   "execution_count": null,
   "id": "solved-exercise",
   "metadata": {},
   "outputs": [],
   "source": [
    "plot_p_team_hpg = main_data['spot'].hist(rwidth=1)\n",
    "adjust_plot(plot_p_team_hpg)"
   ]
  },
  {
   "cell_type": "code",
   "execution_count": null,
   "metadata": {},
   "outputs": [],
   "source": [
    "    x_vars = [\n",
    "        'spot', 'home',\n",
    "        'opp_hands',\n",
    "    ]"
   ]
  },
  {
   "cell_type": "code",
   "execution_count": null,
   "metadata": {},
   "outputs": [],
   "source": []
  }
 ],
 "metadata": {
  "kernelspec": {
   "display_name": "bts",
   "language": "python",
   "name": "bts"
  },
  "language_info": {
   "codemirror_mode": {
    "name": "ipython",
    "version": 3
   },
   "file_extension": ".py",
   "mimetype": "text/x-python",
   "name": "python",
   "nbconvert_exporter": "python",
   "pygments_lexer": "ipython3"
  }
 },
 "nbformat": 4,
 "nbformat_minor": 5
}
