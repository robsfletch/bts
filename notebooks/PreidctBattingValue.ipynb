{
 "cells": [
  {
   "cell_type": "code",
   "execution_count": 81,
   "id": "ordinary-spiritual",
   "metadata": {},
   "outputs": [],
   "source": [
    "import pandas as pd\n",
    "from pathlib import Path\n",
    "import statsmodels.formula.api as sm\n",
    "import numpy as np"
   ]
  },
  {
   "cell_type": "code",
   "execution_count": 82,
   "id": "ceramic-defensive",
   "metadata": {},
   "outputs": [],
   "source": [
    "interim = '../data/interim'\n",
    "br = pd.read_pickle(Path(interim) / 'batting_records.pkl')"
   ]
  },
  {
   "cell_type": "code",
   "execution_count": 69,
   "id": "abroad-nursing",
   "metadata": {},
   "outputs": [],
   "source": [
    "br = br.sort_values(['BAT_ID', 'year'])\n",
    "br_pred = br.loc[:, ['BAT_HAND', 'G', 'BBPG', 'ABPG', 'HPG', 'HPPA']].groupby('BAT_ID').shift(1)\n",
    "br_pred = br_pred.dropna(subset=['G'])\n",
    "\n",
    "br_pred['w_HPPA'] = br_pred['HPPA'] * br_pred['G']\n",
    "\n",
    "br_pred['sum_w_HPPA'] = br_pred.groupby('BAT_ID')['w_HPPA'].transform(lambda x: x.rolling(5, 1).mean())\n",
    "br_pred['sum_G'] = br_pred.groupby('BAT_ID')['G'].transform(lambda x: x.rolling(5, 1).mean())\n",
    "br_pred['pred_HPPA'] = (br_pred['sum_w_HPPA'] / br_pred['sum_G'])\n",
    "\n",
    "del br_pred['HPPA']\n",
    "\n",
    "br_pred = br_pred.rename(columns={'G': 'prev_G'})"
   ]
  },
  {
   "cell_type": "code",
   "execution_count": 70,
   "id": "improving-white",
   "metadata": {},
   "outputs": [],
   "source": [
    "merged = pd.merge(br, br_pred, on=['BAT_ID', 'year'])\n",
    "merged['HPPA'] = merged['HPPA'].astype('float')\n",
    "merged['pred_HPPA'] = merged['pred_HPPA'].astype('float')"
   ]
  },
  {
   "cell_type": "code",
   "execution_count": 78,
   "id": "printable-precipitation",
   "metadata": {},
   "outputs": [],
   "source": [
    "limited = merged[(merged.G >= 50) & (merged.prev_G >= 50)]\n",
    "result = sm.ols(formula=\"HPPA ~ pred_HPPA\", data=limited).fit()"
   ]
  },
  {
   "cell_type": "code",
   "execution_count": 79,
   "id": "preceding-verification",
   "metadata": {},
   "outputs": [
    {
     "name": "stdout",
     "output_type": "stream",
     "text": [
      "                            OLS Regression Results                            \n",
      "==============================================================================\n",
      "Dep. Variable:                   HPPA   R-squared:                       0.269\n",
      "Model:                            OLS   Adj. R-squared:                  0.269\n",
      "Method:                 Least Squares   F-statistic:                     8025.\n",
      "Date:                Thu, 18 Mar 2021   Prob (F-statistic):               0.00\n",
      "Time:                        20:15:04   Log-Likelihood:                 46840.\n",
      "No. Observations:               21755   AIC:                        -9.368e+04\n",
      "Df Residuals:                   21753   BIC:                        -9.366e+04\n",
      "Df Model:                           1                                         \n",
      "Covariance Type:            nonrobust                                         \n",
      "==============================================================================\n",
      "                 coef    std err          t      P>|t|      [0.025      0.975]\n",
      "------------------------------------------------------------------------------\n",
      "Intercept      0.0741      0.002     40.291      0.000       0.071       0.078\n",
      "pred_HPPA      0.6757      0.008     89.581      0.000       0.661       0.691\n",
      "==============================================================================\n",
      "Omnibus:                      365.680   Durbin-Watson:                   1.868\n",
      "Prob(Omnibus):                  0.000   Jarque-Bera (JB):              521.419\n",
      "Skew:                          -0.203   Prob(JB):                    5.96e-114\n",
      "Kurtosis:                       3.640   Cond. No.                         41.9\n",
      "==============================================================================\n",
      "\n",
      "Notes:\n",
      "[1] Standard Errors assume that the covariance matrix of the errors is correctly specified.\n"
     ]
    }
   ],
   "source": [
    "print(result.summary())"
   ]
  },
  {
   "cell_type": "code",
   "execution_count": 80,
   "id": "perfect-damages",
   "metadata": {},
   "outputs": [
    {
     "data": {
      "text/plain": [
       "<AxesSubplot:xlabel='HPPA', ylabel='pred_HPPA'>"
      ]
     },
     "execution_count": 80,
     "metadata": {},
     "output_type": "execute_result"
    },
    {
     "data": {
      "image/png": "[encoded data removed]",
      "text/plain": [
       "<Figure size 432x288 with 1 Axes>"
      ]
     },
     "metadata": {
      "needs_background": "light"
     },
     "output_type": "display_data"
    }
   ],
   "source": [
    "limited.plot.scatter(x='HPPA', y='pred_HPPA')"
   ]
  },
  {
   "cell_type": "code",
   "execution_count": null,
   "id": "composed-bones",
   "metadata": {},
   "outputs": [],
   "source": []
  },
  {
   "cell_type": "code",
   "execution_count": null,
   "id": "sophisticated-schema",
   "metadata": {},
   "outputs": [],
   "source": [
    "br = br.sort_values(['BAT_ID', 'year'])\n",
    "br_pred = br.loc[:, ['BAT_HAND', 'G', 'BBPG', 'ABPG', 'HPG', 'HPPA']].groupby('BAT_ID').shift(1)\n",
    "br_pred = br_pred.dropna(subset=['G'])\n",
    "\n",
    "br_pred['w_HPPA'] = br_pred['HPPA'] * br_pred['G']\n",
    "\n",
    "br_pred['sum_w_HPPA'] = br_pred.groupby('BAT_ID')['w_HPPA'].transform(lambda x: x.rolling(5, 1).mean())\n",
    "br_pred['sum_G'] = br_pred.groupby('BAT_ID')['G'].transform(lambda x: x.rolling(5, 1).mean())\n",
    "br_pred['pred_HPPA'] = (br_pred['sum_w_HPPA'] / br_pred['sum_G'])\n",
    "\n",
    "del br_pred['HPPA']\n",
    "\n",
    "br_pred = br_pred.rename(columns={'G': 'prev_G'})"
   ]
  },
  {
   "cell_type": "code",
   "execution_count": 83,
   "id": "small-charles",
   "metadata": {},
   "outputs": [],
   "source": [
    "br = br.sort_values(['BAT_ID', 'year'])\n",
    "br_pred = br.loc[:, ['BAT_HAND', 'G', 'BBPG', 'ABPG', 'HPG', 'HPPA']].groupby('BAT_ID').shift(1)\n",
    "br_pred = br_pred.dropna(subset=['G'])"
   ]
  },
  {
   "cell_type": "code",
   "execution_count": 95,
   "id": "canadian-nowhere",
   "metadata": {},
   "outputs": [
    {
     "data": {
      "text/plain": [
       "BAT_ID    year\n",
       "aardd001  2008      NaN\n",
       "          2015      2.0\n",
       "aaroh101  1955     59.0\n",
       "          1956    129.0\n",
       "          1957    141.0\n",
       "                  ...  \n",
       "zuvep001  1985      5.5\n",
       "          1986     37.0\n",
       "          1987     43.0\n",
       "          1988     16.5\n",
       "          1989     30.0\n",
       "Name: G, Length: 55566, dtype: float64"
      ]
     },
     "execution_count": 95,
     "metadata": {},
     "output_type": "execute_result"
    }
   ],
   "source": [
    "br_pred.loc[[1,2], 'G'].rolling(2, 2).apply(lambda x: print(x))"
   ]
  },
  {
   "cell_type": "code",
   "execution_count": 148,
   "id": "acute-doubt",
   "metadata": {},
   "outputs": [],
   "source": [
    "def marcel(x):\n",
    "    if len(x) == 1:\n",
    "        return x[0]\n",
    "    if len(x) == 2:\n",
    "        return x[1]*(5/9) + x[0]*(4/9)\n",
    "    else:\n",
    "        return x[2]*(5/12) + x[1]*(4/12) + x[0]*(3/12)"
   ]
  },
  {
   "cell_type": "code",
   "execution_count": 149,
   "id": "laughing-preparation",
   "metadata": {},
   "outputs": [
    {
     "data": {
      "text/plain": [
       "BAT_ID  \n",
       "aardd001      3.000000\n",
       "aardd001      1.888889\n",
       "aaroh101    117.000000\n",
       "aaroh101    130.333333\n",
       "aaroh101    135.000000\n",
       "aaroh101    145.166667\n",
       "aaroh101    148.916667\n",
       "aaroh101    152.166667\n",
       "aaroh101    152.750000\n",
       "aaroh101    153.833333\n",
       "Name: G, dtype: float64"
      ]
     },
     "execution_count": 149,
     "metadata": {},
     "output_type": "execute_result"
    }
   ],
   "source": [
    "br_pred['G'].head(10).groupby('BAT_ID').rolling(3, 1).apply(lambda x: marcel(x))"
   ]
  },
  {
   "cell_type": "code",
   "execution_count": null,
   "id": "imperial-situation",
   "metadata": {},
   "outputs": [],
   "source": []
  }
 ],
 "metadata": {
  "kernelspec": {
   "display_name": "bts",
   "language": "python",
   "name": "bts"
  },
  "language_info": {
   "codemirror_mode": {
    "name": "ipython",
    "version": 3
   },
   "file_extension": ".py",
   "mimetype": "text/x-python",
   "name": "python",
   "nbconvert_exporter": "python",
   "pygments_lexer": "ipython3",
   "version": "3.7.10"
  }
 },
 "nbformat": 4,
 "nbformat_minor": 5
}
