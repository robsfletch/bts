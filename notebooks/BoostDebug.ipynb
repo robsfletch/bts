{
 "cells": [
  {
   "cell_type": "code",
   "execution_count": 12,
   "id": "figured-brain",
   "metadata": {},
   "outputs": [],
   "source": [
    "import pandas as pd\n",
    "from pathlib import Path\n",
    "import matplotlib.pyplot as plt\n",
    "\n",
    "from sklearn.experimental import enable_hist_gradient_boosting\n",
    "from sklearn.ensemble import (\n",
    "    HistGradientBoostingClassifier,\n",
    "    GradientBoostingClassifier\n",
    ")\n",
    "\n",
    "from sklearn.model_selection import cross_val_score, TimeSeriesSplit\n",
    "\n",
    "from xgboost import XGBClassifier"
   ]
  },
  {
   "cell_type": "code",
   "execution_count": 13,
   "id": "conditional-console",
   "metadata": {},
   "outputs": [],
   "source": [
    "processed = '../data/processed'\n",
    "main_data = pd.read_pickle(Path(processed) / 'main_data.pkl')"
   ]
  },
  {
   "cell_type": "code",
   "execution_count": 14,
   "id": "valid-situation",
   "metadata": {},
   "outputs": [],
   "source": [
    "main_data = main_data[(main_data.b_prev_G > 50)]\n",
    "\n",
    "train = main_data[(main_data.year < 2000) & (main_data.year >= 1960)]"
   ]
  },
  {
   "cell_type": "code",
   "execution_count": 15,
   "id": "concerned-nevada",
   "metadata": {},
   "outputs": [],
   "source": [
    "x_vars = [\n",
    "    'spot', 'home', 'b_pred_HPPA', 'p_pred_HPAB', 'park_factor', 'year',\n",
    "    'BAT_HAND', 'PIT_HAND', 'b_avg_win', 'own_p_pred_HPAB',\n",
    "    'p_team_HPG', 'p_team_avg_game_score', 'rating_rating_pre',\n",
    "    'rating_rating_prob', 'rating_pitcher_rgs',\n",
    "    'rating_own_rating_pre', 'rating_own_pitcher_rgs'\n",
    "]"
   ]
  },
  {
   "cell_type": "code",
   "execution_count": 16,
   "id": "drawn-growth",
   "metadata": {},
   "outputs": [],
   "source": [
    "clf = XGBClassifier(\n",
    "    tree_method='hist',\n",
    "    verbosity = 0,\n",
    "    random_state = 0,\n",
    "    eval_metric = 'auc',\n",
    "    max_depth = 1,\n",
    "    learning_rate = .0005,\n",
    "    n_estimators = 900,\n",
    ")"
   ]
  },
  {
   "cell_type": "code",
   "execution_count": 17,
   "id": "growing-precipitation",
   "metadata": {},
   "outputs": [],
   "source": [
    "# clf = XGBClassifier(\n",
    "#     tree_method='hist',\n",
    "#     verbosity = 0,\n",
    "#     random_state = 0,\n",
    "#     eval_metric = 'auc',\n",
    "#     max_depth = 1,\n",
    "#     learning_rate = .01,\n",
    "#     subsample=.5,\n",
    "#     colsample_bytree=.4,\n",
    "#     # min_leaf_weight = 7.5,\n",
    "#     use_label_encoder=False,\n",
    "#     n_estimators = 100,\n",
    "# )"
   ]
  },
  {
   "cell_type": "code",
   "execution_count": 18,
   "id": "bulgarian-measurement",
   "metadata": {},
   "outputs": [],
   "source": [
    "# clf = HistGradientBoostingClassifier(\n",
    "#     loss = 'binary_crossentropy',\n",
    "#     random_state=0, \n",
    "#     learning_rate = .1,\n",
    "#     max_depth=1,\n",
    "#     max_iter = 400,\n",
    "# )"
   ]
  },
  {
   "cell_type": "code",
   "execution_count": 19,
   "id": "induced-binary",
   "metadata": {},
   "outputs": [
    {
     "name": "stdout",
     "output_type": "stream",
     "text": [
      "[0.65896304 0.6589583  0.6589583  0.6589583  0.65896143]\n",
      "Accuracy: 65.896% (0.000%)\n"
     ]
    }
   ],
   "source": [
    "results = cross_val_score(clf, train[x_vars], train['Win'].astype('int'), cv=5, n_jobs=-1)\n",
    "print(results)\n",
    "print(\"Accuracy: %.3f%% (%.3f%%)\" % (results.mean()*100.0, results.std()*100.0))"
   ]
  },
  {
   "cell_type": "code",
   "execution_count": 20,
   "id": "atlantic-reform",
   "metadata": {},
   "outputs": [
    {
     "name": "stdout",
     "output_type": "stream",
     "text": [
      "[0.52016026 0.5        0.4950359  0.5155655  0.5       ]\n",
      "Accuracy: 50.615% (0.984%)\n"
     ]
    }
   ],
   "source": [
    "results = cross_val_score(clf, train[x_vars], train['Win'].astype('int'), cv=5, scoring='roc_auc', n_jobs=-1)\n",
    "print(results)\n",
    "print(\"Accuracy: %.3f%% (%.3f%%)\" % (results.mean()*100.0, results.std()*100.0))"
   ]
  },
  {
   "cell_type": "code",
   "execution_count": 21,
   "id": "existing-questionnaire",
   "metadata": {},
   "outputs": [
    {
     "name": "stdout",
     "output_type": "stream",
     "text": [
      "[0.52400019 0.51822678 0.55428286 0.5        0.49278686 0.52325383\n",
      " 0.52150137 0.56318977 0.5        0.5       ]\n",
      "Accuracy: 51.972% (2.239%)\n"
     ]
    }
   ],
   "source": [
    "results = cross_val_score(clf, train[x_vars], train['Win'].astype('int'), cv=10, scoring='roc_auc', n_jobs=-1)\n",
    "print(results)\n",
    "print(\"Accuracy: %.3f%% (%.3f%%)\" % (results.mean()*100.0, results.std()*100.0))"
   ]
  },
  {
   "cell_type": "code",
   "execution_count": null,
   "id": "superb-chick",
   "metadata": {},
   "outputs": [],
   "source": []
  }
 ],
 "metadata": {
  "kernelspec": {
   "display_name": "bts",
   "language": "python",
   "name": "bts"
  },
  "language_info": {
   "codemirror_mode": {
    "name": "ipython",
    "version": 3
   },
   "file_extension": ".py",
   "mimetype": "text/x-python",
   "name": "python",
   "nbconvert_exporter": "python",
   "pygments_lexer": "ipython3",
   "version": "3.7.10"
  }
 },
 "nbformat": 4,
 "nbformat_minor": 5
}
