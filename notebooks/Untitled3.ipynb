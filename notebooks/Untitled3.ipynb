{
 "cells": [
  {
   "cell_type": "code",
   "execution_count": null,
   "id": "adolescent-experience",
   "metadata": {},
   "outputs": [],
   "source": [
    "import pandas as pd\n",
    "from pathlib import Path\n",
    "from sklearn.metrics import make_scorer\n",
    "import cloudpickle\n",
    "import numpy as np\n",
    "from sklearn.model_selection import cross_val_score"
   ]
  },
  {
   "cell_type": "code",
   "execution_count": null,
   "id": "compound-tourism",
   "metadata": {},
   "outputs": [],
   "source": [
    "processed = Path('../data/processed')\n",
    "pred = pd.read_pickle(Path(processed) / 'main_predictions.pkl')\n",
    "pred = pred[(pred.b_prev_G > 50)]\n",
    "# pred = pred.head(10000)\n",
    "pred = pred.reset_index().set_index(['Date', 'GAME_ID', 'BAT_ID'])"
   ]
  },
  {
   "cell_type": "code",
   "execution_count": null,
   "id": "ultimate-shoot",
   "metadata": {},
   "outputs": [],
   "source": [
    "with open(Path('../models/logistic_model.pkl'), 'rb') as fp:\n",
    "    fitted_model = cloudpickle.load(fp)"
   ]
  },
  {
   "cell_type": "code",
   "execution_count": null,
   "id": "consecutive-ecuador",
   "metadata": {},
   "outputs": [],
   "source": [
    "x_vars = [\n",
    "    'spot', 'home', 'b_pred_HPPA', 'p_pred_HPPA',\n",
    "    'rating_rating_prob', 'rating_pitcher_rgs',\n",
    "    'park_h_factor', 'opp_hands',\n",
    "    'p_team_pred_AdjHPG', 'p_team_pred_DefEff',\n",
    "    'b_team_pred_AdjHPG'\n",
    "]\n",
    "y_var = ['Win']\n",
    "vars = x_vars + y_var"
   ]
  },
  {
   "cell_type": "code",
   "execution_count": null,
   "id": "royal-latest",
   "metadata": {},
   "outputs": [],
   "source": [
    "def my_custom_loss_func(y_true, y_pred):\n",
    "    diff = np.abs(y_true - y_pred).max()\n",
    "    return np.log1p(diff)"
   ]
  },
  {
   "cell_type": "code",
   "execution_count": null,
   "id": "superior-merit",
   "metadata": {},
   "outputs": [],
   "source": [
    "def my_custom_loss_func2(estimator, X, y):\n",
    "    data = X.copy()\n",
    "    outcome = y.to_frame()\n",
    "    probs = estimator.predict_proba(data)\n",
    "    outcome['EstProb'] = probs[:, 1]\n",
    "    \n",
    "    selections = outcome.sort_values(['Date', 'EstProb'], ascending=[True, False])\n",
    "    selections['pick_order'] = selections.groupby(['Date']).cumcount() + 1\n",
    "    selections = selections[selections.pick_order <= 2]\n",
    "\n",
    "    return selections['Win'].mean()"
   ]
  },
  {
   "cell_type": "code",
   "execution_count": null,
   "id": "activated-circuit",
   "metadata": {},
   "outputs": [],
   "source": [
    "cross_val_score(fitted_model,\n",
    "    pred[x_vars],\n",
    "    pred['Win'].astype('int'),\n",
    "    scoring=my_custom_loss_func2,\n",
    "    cv=5,\n",
    ") "
   ]
  },
  {
   "cell_type": "code",
   "execution_count": null,
   "id": "double-bowling",
   "metadata": {},
   "outputs": [],
   "source": [
    "pred['Win'].astype('int').mean()"
   ]
  },
  {
   "cell_type": "code",
   "execution_count": null,
   "id": "opposite-influence",
   "metadata": {},
   "outputs": [],
   "source": []
  }
 ],
 "metadata": {
  "kernelspec": {
   "display_name": "bts",
   "language": "python",
   "name": "bts"
  },
  "language_info": {
   "codemirror_mode": {
    "name": "ipython",
    "version": 3
   },
   "file_extension": ".py",
   "mimetype": "text/x-python",
   "name": "python",
   "nbconvert_exporter": "python",
   "pygments_lexer": "ipython3"
  }
 },
 "nbformat": 4,
 "nbformat_minor": 5
}
