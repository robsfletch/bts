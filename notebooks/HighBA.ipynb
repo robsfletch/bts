{
 "cells": [
  {
   "cell_type": "code",
   "execution_count": null,
   "id": "duplicate-tuning",
   "metadata": {},
   "outputs": [],
   "source": [
    "import pandas as pd\n",
    "from pathlib import Path\n",
    "import matplotlib.pyplot as plt"
   ]
  },
  {
   "cell_type": "code",
   "execution_count": null,
   "id": "narrow-serbia",
   "metadata": {},
   "outputs": [],
   "source": [
    "interim = '../data/interim'\n",
    "br = pd.read_pickle(Path(interim) / 'batting_records.pkl')\n",
    "bg = pd.read_pickle(Path(interim) / 'batting_games.pkl')\n",
    "gl = pd.read_pickle(Path(interim) / 'game_logs.pkl')\n",
    "pr = pd.read_pickle(Path(interim) / 'park_records.pkl')\n",
    "panel = pd.read_pickle(Path(interim) / 'panel.pkl')\n",
    "events = pd.read_pickle(Path(interim) / 'events.pkl')"
   ]
  },
  {
   "cell_type": "code",
   "execution_count": null,
   "id": "cultural-collins",
   "metadata": {},
   "outputs": [],
   "source": [
    "bg = events.groupby(['GAME_ID', 'BAT_ID']).agg({\n",
    "    'H': 'sum',\n",
    "    'AB_FL': 'sum',\n",
    "    'BAT_LINEUP_ID': 'first',\n",
    "    'year': 'first',\n",
    "})\n",
    "\n",
    "bg['Win'] = (bg['H'] > 0).astype('int')\n",
    "bg = bg.rename(columns={'AB_FL': 'AB'})"
   ]
  },
  {
   "cell_type": "code",
   "execution_count": null,
   "id": "foster-tradition",
   "metadata": {},
   "outputs": [],
   "source": [
    "bg_adj = pd.merge(bg.reset_index(), gl[['GAME_ID', 'ParkID', 'Date']], on=['GAME_ID'])"
   ]
  },
  {
   "cell_type": "code",
   "execution_count": null,
   "id": "bearing-girlfriend",
   "metadata": {},
   "outputs": [],
   "source": [
    "bg_adj2 = pd.merge(bg_adj, pr[['factor_year', 'factor']], on=['ParkID', 'year'])"
   ]
  },
  {
   "cell_type": "code",
   "execution_count": null,
   "id": "grave-martial",
   "metadata": {},
   "outputs": [],
   "source": [
    "bg_adj2['H_adj'] = bg_adj2['H'] / bg_adj2['factor']"
   ]
  },
  {
   "cell_type": "code",
   "execution_count": null,
   "id": "greater-consent",
   "metadata": {},
   "outputs": [],
   "source": [
    "WinRate = bg_adj2.groupby(['BAT_ID', 'year']).agg({\n",
    "    'Win': 'mean', 'H_adj': 'sum', 'AB': 'sum', 'GAME_ID': 'nunique'\n",
    "})\n",
    "WinRate.columns = ['WPG', 'H_adj', 'AB', 'G']\n",
    "WinRate['BA_adj'] = WinRate['H_adj'] / WinRate['AB']\n",
    "WinRate['Win_adj'] = WinRate['H_adj'] / WinRate['G']"
   ]
  },
  {
   "cell_type": "code",
   "execution_count": null,
   "id": "duplicate-father",
   "metadata": {},
   "outputs": [],
   "source": [
    "test = pd.merge(bg_adj2.reset_index(), WinRate[['G', 'BA_adj', 'Win_adj']].reset_index(), on=['BAT_ID', 'year'])\n",
    "test = test[test.G >= 100]\n",
    "test = test.set_index(['GAME_ID', 'BAT_ID'])\n",
    "\n",
    "test['pred_BA'] = test['BA_adj'] * test['factor']\n",
    "test['pred_Win'] = test['Win_adj'] # * test['factor']"
   ]
  },
  {
   "cell_type": "code",
   "execution_count": null,
   "id": "above-bracelet",
   "metadata": {},
   "outputs": [],
   "source": [
    "test4 = test.groupby('Date')['pred_Win'].nlargest(2).to_frame()\n",
    "test4 = test4.sort_values(by=['Date', 'pred_Win', 'GAME_ID'], ascending=[True, False, True])\n",
    "test4['pick_order'] = test4.groupby(['Date']).cumcount()+1\n",
    "\n",
    "selection_data = test4.merge(test[['Date', 'Win', 'year']], on =['GAME_ID', 'BAT_ID'])\n",
    "selection_data = selection_data.set_index(['Date', 'pick_order'])"
   ]
  },
  {
   "cell_type": "code",
   "execution_count": null,
   "id": "communist-crisis",
   "metadata": {},
   "outputs": [],
   "source": [
    "# plt.style.use('fivethirtyeight')"
   ]
  },
  {
   "cell_type": "code",
   "execution_count": null,
   "id": "gothic-state",
   "metadata": {},
   "outputs": [],
   "source": [
    "wr_plot = selection_data.groupby('year')[['Win']].mean().plot.line()\n",
    "adjust_plot(wr_plot)"
   ]
  },
  {
   "cell_type": "code",
   "execution_count": null,
   "id": "guilty-vintage",
   "metadata": {},
   "outputs": [],
   "source": [
    "selection_data.loc[selection_data.year >= 2010, 'Win'].mean()"
   ]
  },
  {
   "cell_type": "code",
   "execution_count": null,
   "id": "running-elite",
   "metadata": {},
   "outputs": [],
   "source": []
  },
  {
   "cell_type": "code",
   "execution_count": null,
   "id": "computational-aerospace",
   "metadata": {},
   "outputs": [],
   "source": [
    "br['BA'] = br['H'] / br['AB']"
   ]
  },
  {
   "cell_type": "code",
   "execution_count": null,
   "id": "sized-beast",
   "metadata": {},
   "outputs": [],
   "source": [
    "merged = pd.merge(br, WinRate, on=['BAT_ID', 'year'])"
   ]
  },
  {
   "cell_type": "code",
   "execution_count": null,
   "id": "intimate-fitness",
   "metadata": {},
   "outputs": [],
   "source": [
    "def adjust_plot(plt):\n",
    "    plt.xaxis.grid(False)\n",
    "    plt.yaxis.grid(True, linestyle='dashed', color='lightgrey')\n",
    "    plt.set_axisbelow(True)\n",
    "    plt.xaxis.set_ticks_position('none') \n",
    "    plt.yaxis.set_ticks_position('none') \n",
    "\n",
    "    plt.spines['left'].set_visible(False)\n",
    "    plt.spines['right'].set_visible(False)\n",
    "    plt.spines['top'].set_visible(False)"
   ]
  },
  {
   "cell_type": "code",
   "execution_count": null,
   "id": "animated-comparison",
   "metadata": {},
   "outputs": [],
   "source": [
    "plot = merged.loc[merged.G >= 100 , 'ABPG'].hist(rwidth=0.9)\n",
    "adjust_plot(plot)"
   ]
  },
  {
   "cell_type": "code",
   "execution_count": null,
   "id": "stopped-table",
   "metadata": {},
   "outputs": [],
   "source": [
    "plot = merged.loc[merged.G >= 100 , 'WPG'].hist(rwidth=0.9)\n",
    "adjust_plot(plot)"
   ]
  },
  {
   "cell_type": "code",
   "execution_count": null,
   "id": "legal-contractor",
   "metadata": {},
   "outputs": [],
   "source": [
    "merged.loc[(merged.G >= 120) & (merged.WPG > .8)]"
   ]
  },
  {
   "cell_type": "code",
   "execution_count": null,
   "id": "flexible-facility",
   "metadata": {},
   "outputs": [],
   "source": [
    "merged.loc[\n",
    "    (merged.G >= 120) &\n",
    "    (merged.WPG > .8) & \n",
    "    (merged.index.get_level_values('year') >= 1990),\n",
    "    ['FirstName', 'LastName', 'G', 'ABPG', 'BA', 'HPG', 'WPG']\n",
    "].sort_values(['year'])"
   ]
  },
  {
   "cell_type": "code",
   "execution_count": null,
   "id": "chronic-nursing",
   "metadata": {},
   "outputs": [],
   "source": [
    "test = pd.merge(bg.reset_index(), br[['G', 'BA', 'HPG', 'ABPG']].reset_index(), on=['BAT_ID', 'year'])"
   ]
  },
  {
   "cell_type": "code",
   "execution_count": null,
   "id": "minus-holly",
   "metadata": {},
   "outputs": [],
   "source": [
    "test2 = pd.merge(test, gl[['GAME_ID', 'ParkID', 'Date']], on=['GAME_ID'])"
   ]
  },
  {
   "cell_type": "code",
   "execution_count": null,
   "id": "compound-humidity",
   "metadata": {},
   "outputs": [],
   "source": [
    "test3 = pd.merge(test2, pr[['factor_year', 'factor']], on=['ParkID', 'year'])"
   ]
  },
  {
   "cell_type": "code",
   "execution_count": null,
   "id": "renewable-worse",
   "metadata": {},
   "outputs": [],
   "source": [
    "test3 = test3[test3.G >= 100]\n",
    "test3 = test3.set_index(['GAME_ID', 'BAT_ID'])\n",
    "\n",
    "test3['adj_BA'] = test3['BA'] * test3['factor']\n",
    "\n",
    "test4 = test3.groupby('Date')['adj_BA'].nlargest(2).to_frame()\n",
    "test4 = test4.sort_values(by=['Date', 'adj_BA', 'GAME_ID'], ascending=[True, False, True])\n",
    "test4['pick_order'] = test4.groupby(['Date']).cumcount()+1\n",
    "\n",
    "selection_data = test4.merge(test3[['Date', 'Win', 'year']], on =['GAME_ID', 'BAT_ID'])\n",
    "selection_data = selection_data.set_index(['Date', 'pick_order'])"
   ]
  },
  {
   "cell_type": "code",
   "execution_count": null,
   "id": "early-fluid",
   "metadata": {},
   "outputs": [],
   "source": [
    "wr_plot = selection_data.groupby('year')[['Win']].mean().plot.line()\n",
    "adjust_plot(wr_plot)"
   ]
  },
  {
   "cell_type": "code",
   "execution_count": null,
   "id": "intense-worse",
   "metadata": {},
   "outputs": [],
   "source": [
    "selection_data.loc[selection_data.year >= 2010, 'Win'].mean()"
   ]
  },
  {
   "cell_type": "code",
   "execution_count": null,
   "id": "trying-theorem",
   "metadata": {},
   "outputs": [],
   "source": [
    "def streak_counter(df):\n",
    "    df['L_Win'] = df['Win'].shift(1)\n",
    "    df['L_year'] = df['year'].shift(1)\n",
    "    df['start_of_streak'] = (df['Win'] != df['L_Win']) | (df['year'] != df['L_year'])\n",
    "    df['streak_id'] = df['start_of_streak'].cumsum()\n",
    "    df['streak_counter'] = df.groupby('streak_id').cumcount() + 1\n",
    "    df.loc[df.Win == 0, 'streak_counter'] = 0\n",
    "    \n",
    "    return df"
   ]
  },
  {
   "cell_type": "code",
   "execution_count": null,
   "id": "numerous-grass",
   "metadata": {},
   "outputs": [],
   "source": [
    "selection_data = selection_data.astype({'Win':'int8'})\n",
    "selection_data = streak_counter(selection_data)\n",
    "streaks = selection_data.groupby('streak_id').agg({'streak_counter':'max'})\n",
    "streaks['streak_counter'].max()"
   ]
  },
  {
   "cell_type": "code",
   "execution_count": null,
   "id": "spiritual-vertex",
   "metadata": {},
   "outputs": [],
   "source": [
    "year_results = selection_data.groupby('year').agg({'Win':'mean', 'streak_counter':'max'})\n",
    "st_plot = year_results['streak_counter'].plot()\n",
    "adjust_plot(st_plot)"
   ]
  },
  {
   "cell_type": "code",
   "execution_count": null,
   "id": "amended-while",
   "metadata": {},
   "outputs": [],
   "source": []
  },
  {
   "cell_type": "code",
   "execution_count": null,
   "id": "hybrid-diagram",
   "metadata": {},
   "outputs": [],
   "source": [
    "fp = pd.merge(panel, bg, on=['GAME_ID', 'BAT_ID'])"
   ]
  },
  {
   "cell_type": "code",
   "execution_count": null,
   "id": "emerging-replication",
   "metadata": {},
   "outputs": [],
   "source": [
    "fp = fp[['Win', 'GAME_ID', 'ParkID', 'BAT_ID', 'PIT_ID', 'home']]"
   ]
  },
  {
   "cell_type": "code",
   "execution_count": null,
   "id": "moved-mountain",
   "metadata": {},
   "outputs": [],
   "source": [
    "fp.dtypes"
   ]
  },
  {
   "cell_type": "code",
   "execution_count": null,
   "id": "honey-fairy",
   "metadata": {},
   "outputs": [],
   "source": [
    "fp['Win'] = fp['Win'].astype('int')"
   ]
  },
  {
   "cell_type": "code",
   "execution_count": null,
   "id": "statistical-biography",
   "metadata": {},
   "outputs": [],
   "source": []
  }
 ],
 "metadata": {
  "kernelspec": {
   "display_name": "bts",
   "language": "python",
   "name": "bts"
  },
  "language_info": {
   "codemirror_mode": {
    "name": "ipython",
    "version": 3
   },
   "file_extension": ".py",
   "mimetype": "text/x-python",
   "name": "python",
   "nbconvert_exporter": "python",
   "pygments_lexer": "ipython3"
  }
 },
 "nbformat": 4,
 "nbformat_minor": 5
}
