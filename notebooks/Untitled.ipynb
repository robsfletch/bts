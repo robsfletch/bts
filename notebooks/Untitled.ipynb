{
 "cells": [
  {
   "cell_type": "code",
   "execution_count": 1,
   "id": "changing-bernard",
   "metadata": {},
   "outputs": [],
   "source": [
    "import scikeras\n",
    "import numpy as np\n",
    "from scikeras.wrappers import KerasClassifier, KerasRegressor\n",
    "from tensorflow import keras\n",
    "import pickle\n",
    "import pandas as pd\n",
    "from pathlib import Path\n",
    "import os "
   ]
  },
  {
   "cell_type": "code",
   "execution_count": 2,
   "id": "typical-exclusive",
   "metadata": {},
   "outputs": [],
   "source": [
    "processed = '../data/processed'\n",
    "\n",
    "main_data = pd.read_pickle(Path(processed) / 'main_data.pkl')\n",
    "main_data = main_data[(main_data.b_G > 50)]"
   ]
  },
  {
   "cell_type": "code",
   "execution_count": 3,
   "id": "loaded-significance",
   "metadata": {},
   "outputs": [],
   "source": [
    "train = main_data[(main_data.year < 2010) & (main_data.year >= 2009)]\n",
    "\n",
    "x_vars = [\n",
    "    'spot', 'home', 'b_HPG', 'p_HPAB', 'park_factor', 'year',\n",
    "    'BAT_HAND', 'PIT_HAND', 'b_avg_win', 'p_team_HPAB',\n",
    "    'p_avg_game_score', 'p_team_avg_game_score'\n",
    "]\n",
    "y_var = ['Win']\n",
    "vars = x_vars + y_var\n",
    "\n",
    "train = train[vars]\n",
    "train = train.dropna()"
   ]
  },
  {
   "cell_type": "code",
   "execution_count": 4,
   "id": "retained-comedy",
   "metadata": {},
   "outputs": [],
   "source": [
    "def get_clf2():\n",
    "    model = keras.models.Sequential()\n",
    "    model.add(keras.layers.Dense(12, input_dim=12, activation='relu'))\n",
    "    model.add(keras.layers.Dense(12, activation='relu'))\n",
    "    model.add(keras.layers.Dense(1, activation='sigmoid'))\n",
    "    return model"
   ]
  },
  {
   "cell_type": "code",
   "execution_count": 5,
   "id": "optional-arrest",
   "metadata": {},
   "outputs": [],
   "source": [
    "clf = KerasClassifier(\n",
    "    model=get_clf2,\n",
    "    loss=\"binary_crossentropy\",\n",
    ")"
   ]
  },
  {
   "cell_type": "code",
   "execution_count": 6,
   "id": "otherwise-maker",
   "metadata": {},
   "outputs": [
    {
     "name": "stdout",
     "output_type": "stream",
     "text": [
      "712/712 [==============================] - 1s 544us/step - loss: 25.9095\n"
     ]
    },
    {
     "data": {
      "text/plain": [
       "KerasClassifier(\n",
       "\tmodel=<function get_clf2 at 0x7fcc0a7b5710>\n",
       "\tbuild_fn=None\n",
       "\twarm_start=False\n",
       "\trandom_state=None\n",
       "\toptimizer=rmsprop\n",
       "\tloss=binary_crossentropy\n",
       "\tmetrics=None\n",
       "\tbatch_size=None\n",
       "\tverbose=1\n",
       "\tcallbacks=None\n",
       "\tvalidation_split=0.0\n",
       "\tshuffle=True\n",
       "\trun_eagerly=False\n",
       "\tepochs=1\n",
       "\tclass_weight=None\n",
       ")"
      ]
     },
     "execution_count": 6,
     "metadata": {},
     "output_type": "execute_result"
    }
   ],
   "source": [
    "clf.fit(train[x_vars], train['Win'].astype('int'))"
   ]
  },
  {
   "cell_type": "code",
   "execution_count": 7,
   "id": "promotional-establishment",
   "metadata": {},
   "outputs": [],
   "source": [
    "bytes_model = pickle.dumps(clf)"
   ]
  },
  {
   "cell_type": "code",
   "execution_count": null,
   "id": "administrative-times",
   "metadata": {},
   "outputs": [],
   "source": []
  }
 ],
 "metadata": {
  "kernelspec": {
   "display_name": "bts",
   "language": "python",
   "name": "bts"
  },
  "language_info": {
   "codemirror_mode": {
    "name": "ipython",
    "version": 3
   },
   "file_extension": ".py",
   "mimetype": "text/x-python",
   "name": "python",
   "nbconvert_exporter": "python",
   "pygments_lexer": "ipython3",
   "version": "3.7.10"
  }
 },
 "nbformat": 4,
 "nbformat_minor": 5
}
