{
 "cells": [
  {
   "cell_type": "code",
   "execution_count": null,
   "id": "center-firmware",
   "metadata": {},
   "outputs": [],
   "source": [
    "import pandas as pd\n",
    "from pathlib import Path\n",
    "import matplotlib.pyplot as plt\n",
    "\n",
    "from sklearn.experimental import enable_hist_gradient_boosting\n",
    "from sklearn.ensemble import (\n",
    "    HistGradientBoostingClassifier,\n",
    "    GradientBoostingClassifier\n",
    ")\n",
    "\n",
    "from sklearn.linear_model import (SGDClassifier)\n",
    "\n",
    "from sklearn.model_selection import cross_val_score, TimeSeriesSplit\n",
    "\n",
    "from xgboost import XGBRFClassifier\n",
    "\n",
    "from sklearn.model_selection import RepeatedStratifiedKFold\n",
    "from sklearn.ensemble import RandomForestClassifier\n",
    "from sklearn.compose import ColumnTransformer\n",
    "from sklearn.preprocessing import PolynomialFeatures\n",
    "\n",
    "from sklearn.pipeline import make_pipeline, Pipeline\n",
    "from sklearn.feature_selection import SelectFromModel\n",
    "from sklearn.preprocessing import StandardScaler\n",
    "\n",
    "from sklearn.metrics import roc_auc_score, roc_curve\n",
    "import matplotlib.pyplot as plt"
   ]
  },
  {
   "cell_type": "code",
   "execution_count": null,
   "id": "measured-intro",
   "metadata": {},
   "outputs": [],
   "source": [
    "processed = '../data/processed'\n",
    "main_data = pd.read_pickle(Path(processed) / 'main_data.pkl')"
   ]
  },
  {
   "cell_type": "code",
   "execution_count": null,
   "id": "gothic-brick",
   "metadata": {},
   "outputs": [],
   "source": [
    "main_data = main_data[(main_data.b_prev_G > 50)]\n",
    "\n",
    "x_vars = [\n",
    "    'spot', 'home', 'b_pred_HPPA', 'p_pred_HPAB', 'park_factor', 'year',\n",
    "    'BAT_HAND', 'PIT_HAND', 'b_avg_win', 'own_p_pred_HPAB',\n",
    "    'p_team_HPG', 'p_team_avg_game_score', 'rating_rating_pre',\n",
    "    'rating_rating_prob', 'rating_pitcher_rgs',\n",
    "    'rating_own_rating_pre', 'rating_own_pitcher_rgs'\n",
    "]\n",
    "y_var = ['Win']\n",
    "vars = x_vars + y_var\n",
    "\n",
    "main_data = main_data.loc[:, vars]\n",
    "main_data = main_data.dropna()\n",
    "\n",
    "train = main_data[(main_data.year < 2000) & (main_data.year >= 1960)]\n",
    "test = main_data[(main_data.year >= 2000)]\n",
    "\n",
    "train_x = train[x_vars]\n",
    "train_y = train['Win'].astype('int')\n",
    "test_x = test[x_vars]\n",
    "test_y = test['Win'].astype('int')"
   ]
  },
  {
   "cell_type": "code",
   "execution_count": null,
   "id": "obvious-syntax",
   "metadata": {},
   "outputs": [],
   "source": [
    "preprocessor =  ColumnTransformer(\n",
    "    [('spot', 'passthrough', x_vars)],\n",
    "    remainder='drop'\n",
    ")\n",
    "\n",
    "sgd = SGDClassifier(\n",
    "    loss='log',\n",
    "    penalty='l1',\n",
    "    random_state=0,\n",
    "    max_iter = 1000,\n",
    "    alpha = .0001\n",
    ")\n",
    "\n",
    "clf = XGBRFClassifier(\n",
    "    verbosity = 1,\n",
    "    random_state = 0,\n",
    "    n_estimators = 300,\n",
    "    use_label_encoder=False,\n",
    "    eval_metric='auc',\n",
    "    colsample_bynode=0.3,\n",
    "    subsample = .8,\n",
    ")\n",
    "\n",
    "fitted_model = Pipeline([\n",
    "    ('select', preprocessor),\n",
    "    ('poly', PolynomialFeatures(2, interaction_only=True)),\n",
    "    ('scale', StandardScaler()),\n",
    "    ('feature_selection', SelectFromModel(sgd)),\n",
    "    ('clf', clf),\n",
    "])"
   ]
  },
  {
   "cell_type": "code",
   "execution_count": null,
   "id": "wicked-barrel",
   "metadata": {},
   "outputs": [],
   "source": [
    "cv = RepeatedStratifiedKFold(n_splits=5, n_repeats=3, random_state=1)\n",
    "results = cross_val_score(fitted_model, train, train['Win'].astype('int'), cv=cv, n_jobs=-1, scoring='roc_auc')\n",
    "print(results)\n",
    "print(\"Accuracy: %.3f%% (%.3f%%)\" % (results.mean()*100.0, results.std()*100.0))"
   ]
  },
  {
   "cell_type": "code",
   "execution_count": null,
   "id": "modular-latino",
   "metadata": {},
   "outputs": [],
   "source": [
    "fitted_model.fit(train, train['Win'].astype('int'))"
   ]
  },
  {
   "cell_type": "code",
   "execution_count": null,
   "id": "great-yield",
   "metadata": {},
   "outputs": [],
   "source": [
    "y_pred = fitted_model.predict_proba(test)[:, 1]\n",
    "y_true = test['Win'].astype('int')\n",
    "print(roc_auc_score(y_true, y_pred))"
   ]
  },
  {
   "cell_type": "code",
   "execution_count": null,
   "id": "improving-heather",
   "metadata": {},
   "outputs": [],
   "source": [
    "fpr, tpr, thresholds = roc_curve(y_true, y_pred, pos_label=1)"
   ]
  },
  {
   "cell_type": "code",
   "execution_count": null,
   "id": "accompanied-congo",
   "metadata": {},
   "outputs": [],
   "source": [
    "plt.plot(fpr, tpr, tpr, tpr)"
   ]
  },
  {
   "cell_type": "code",
   "execution_count": null,
   "id": "expanded-census",
   "metadata": {},
   "outputs": [],
   "source": [
    "mask = fitted_model.named_steps['feature_selection'].get_support()\n",
    "\n",
    "new_features = []\n",
    "for bool, feature in zip(mask, x_vars):\n",
    "    if bool:\n",
    "        new_features.append(feature)\n",
    "  \n",
    "import numpy as np\n",
    "perc = round(np.sqrt(len(new_features)) / len(new_features), 2)\n",
    "print(str(perc*100) + '%')"
   ]
  },
  {
   "cell_type": "code",
   "execution_count": null,
   "id": "graduate-trouble",
   "metadata": {},
   "outputs": [],
   "source": [
    "fitted_model.named_steps['feature_selection'].get_support().sum()"
   ]
  },
  {
   "cell_type": "code",
   "execution_count": null,
   "id": "documentary-shell",
   "metadata": {},
   "outputs": [],
   "source": []
  }
 ],
 "metadata": {
  "kernelspec": {
   "display_name": "bts",
   "language": "python",
   "name": "bts"
  },
  "language_info": {
   "codemirror_mode": {
    "name": "ipython",
    "version": 3
   },
   "file_extension": ".py",
   "mimetype": "text/x-python",
   "name": "python",
   "nbconvert_exporter": "python",
   "pygments_lexer": "ipython3"
  }
 },
 "nbformat": 4,
 "nbformat_minor": 5
}
