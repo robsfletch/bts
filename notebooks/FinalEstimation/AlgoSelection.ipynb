{
 "cells": [
  {
   "cell_type": "code",
   "execution_count": null,
   "id": "weighted-accordance",
   "metadata": {},
   "outputs": [],
   "source": [
    "from pathlib import Path\n",
    "import pandas as pd\n",
    "\n",
    "processed = Path('../../data/processed')\n",
    "selection_data = pd.read_pickle(Path(processed) / 'selection_data.pkl')\n",
    "main_data = pd.read_pickle(Path(processed) / 'main_data.pkl')"
   ]
  },
  {
   "cell_type": "code",
   "execution_count": null,
   "id": "composite-connecticut",
   "metadata": {},
   "outputs": [],
   "source": [
    "selection_data = selection_data.reset_index()"
   ]
  },
  {
   "cell_type": "code",
   "execution_count": null,
   "id": "earlier-result",
   "metadata": {},
   "outputs": [],
   "source": [
    "selected = pd.merge(\n",
    "    main_data, \n",
    "    selection_data[['GAME_ID', 'BAT_ID']], \n",
    "    how='left', \n",
    "    on=['GAME_ID', 'BAT_ID'],\n",
    "    indicator = True\n",
    ")"
   ]
  },
  {
   "cell_type": "code",
   "execution_count": null,
   "id": "proprietary-function",
   "metadata": {},
   "outputs": [],
   "source": [
    "def adjust_plot(plt):\n",
    "    plt.xaxis.grid(False)\n",
    "    plt.yaxis.grid(True, linestyle='dashed', color='lightgrey')\n",
    "    plt.set_axisbelow(True)\n",
    "    plt.xaxis.set_ticks_position('none') \n",
    "    plt.yaxis.set_ticks_position('none') \n",
    "\n",
    "    plt.spines['left'].set_visible(False)\n",
    "    plt.spines['right'].set_visible(False)\n",
    "    plt.spines['top'].set_visible(False)"
   ]
  },
  {
   "cell_type": "code",
   "execution_count": null,
   "id": "standard-explorer",
   "metadata": {},
   "outputs": [],
   "source": [
    "## WHAT's going on with this? Why is it flipped?\n",
    "plot_home = selected.loc[selected._merge == 'left_only', 'home'].hist(\n",
    "    rwidth=0.9, density = True, alpha = 0.5, bins=2, range=(-0.5,1.5)\n",
    ")\n",
    "plot_home = selected.loc[selected._merge == 'both', 'home'].hist(\n",
    "    rwidth=0.9, density = True, alpha = 0.5, bins=2, range=(-0.5,1.5)\n",
    ")\n",
    "adjust_plot(plot_home)"
   ]
  },
  {
   "cell_type": "code",
   "execution_count": null,
   "id": "reasonable-litigation",
   "metadata": {},
   "outputs": [],
   "source": [
    "plot_BAT_HAND = selected.loc[selected._merge == 'left_only', 'BAT_HAND'].hist(\n",
    "    rwidth=0.9, density = True, alpha = 0.5, bins=2, range=(-0.5,1.5)\n",
    ")\n",
    "plot_BAT_HAND = selected.loc[selected._merge == 'both', 'BAT_HAND'].hist(\n",
    "    rwidth=0.9, density = True, alpha = 0.5, bins=2, range=(-0.5,1.5)\n",
    ")\n",
    "adjust_plot(plot_BAT_HAND)"
   ]
  },
  {
   "cell_type": "code",
   "execution_count": null,
   "id": "convenient-blink",
   "metadata": {},
   "outputs": [],
   "source": [
    "## BATHAND AND PIT HAND COMBINED\n",
    "plot_PIT_HAND = selected.loc[selected._merge == 'left_only', 'opp_hands'].hist(\n",
    "    rwidth=0.9, density = True, alpha = 0.5, bins=2, range=(-0.5,1.5)\n",
    ")\n",
    "plot_PIT_HAND = selected.loc[selected._merge == 'both', 'opp_hands'].hist(\n",
    "    rwidth=0.9, density = True, alpha = 0.5, bins=2, range=(-0.5,1.5)\n",
    ")\n",
    "adjust_plot(plot_PIT_HAND)"
   ]
  },
  {
   "cell_type": "code",
   "execution_count": null,
   "id": "portable-invalid",
   "metadata": {},
   "outputs": [],
   "source": [
    "plot_park_factor = selected.loc[selected._merge == 'left_only', 'park_h_factor'].hist(\n",
    "    rwidth=0.9, density = True, alpha = 0.5, bins=10, range=(0.8,1.3)\n",
    ")\n",
    "plot_park_factor = selected.loc[selected._merge == 'both', 'park_h_factor'].hist(\n",
    "    rwidth=0.9, density = True, alpha = 0.5, bins=10, range=(0.8,1.3)\n",
    ")\n",
    "adjust_plot(plot_park_factor)"
   ]
  },
  {
   "cell_type": "code",
   "execution_count": null,
   "id": "foreign-immunology",
   "metadata": {},
   "outputs": [],
   "source": [
    "plot_b_hpg = selected.loc[selected._merge == 'left_only', 'b_pred_HPPA'].hist(\n",
    "    rwidth=0.9, density = True, alpha = 0.5, bins=10, range=(.15,.4)\n",
    ")\n",
    "plot_b_hpg = selected.loc[selected._merge == 'both', 'b_pred_HPPA'].hist(\n",
    "    rwidth=0.9, density = True, alpha = 0.5, bins=10, range=(.15,.4)\n",
    ")\n",
    "adjust_plot(plot_b_hpg)"
   ]
  },
  {
   "cell_type": "code",
   "execution_count": null,
   "id": "experimental-excellence",
   "metadata": {},
   "outputs": [],
   "source": [
    "plot_p_hpab = selected.loc[selected._merge == 'left_only', 'p_pred_HPPA'].hist(\n",
    "    rwidth=0.9, density = True, alpha = 0.5, range=(.15,.4)\n",
    ")\n",
    "plot_p_hpab = selected.loc[selected._merge == 'both', 'p_pred_HPPA'].hist(\n",
    "    rwidth=0.9, density = True, alpha = 0.5, range=(.15,.4)\n",
    ")\n",
    "adjust_plot(plot_p_hpab)"
   ]
  },
  {
   "cell_type": "code",
   "execution_count": null,
   "id": "increasing-spoke",
   "metadata": {},
   "outputs": [],
   "source": [
    "plot_b_avg_win = selected.loc[selected._merge == 'left_only', 'rating_rating_prob'].hist(\n",
    "    rwidth=0.9, density = True, alpha = 0.5, bins=10, range=(0,1)\n",
    ")\n",
    "plot_b_avg_win = selected.loc[selected._merge == 'both', 'rating_rating_prob'].hist(\n",
    "    rwidth=0.9, density = True, alpha = 0.5, bins=10, range=(0,1)\n",
    ")\n",
    "adjust_plot(plot_b_avg_win)"
   ]
  },
  {
   "cell_type": "code",
   "execution_count": null,
   "id": "accredited-optics",
   "metadata": {},
   "outputs": [],
   "source": [
    "plot_p_team_avg_game_score = selected.loc[selected._merge == 'left_only', 'rating_pitcher_rgs'].hist(\n",
    "    rwidth=0.9, density = True, alpha = 0.5, bins=14, range=(35,70)\n",
    ")\n",
    "plot_p_team_avg_game_score = selected.loc[selected._merge == 'both', 'rating_pitcher_rgs'].hist(\n",
    "    rwidth=0.9, density = True, alpha = 0.5, bins=14, range=(35,70)\n",
    ")\n",
    "adjust_plot(plot_p_team_avg_game_score)"
   ]
  },
  {
   "cell_type": "code",
   "execution_count": null,
   "id": "characteristic-worry",
   "metadata": {},
   "outputs": [],
   "source": [
    "plot_spot = selected.loc[selected._merge == 'left_only', 'spot'].hist(\n",
    "    rwidth=0.9, density = True, alpha = 0.5, bins=9, range=(0.5,9.5)\n",
    ")\n",
    "plot_spot = selected.loc[selected._merge == 'both', 'spot'].hist(\n",
    "    rwidth=0.9, density = True, alpha = 0.5, bins=9, range=(0.5,9.5)\n",
    ")\n",
    "adjust_plot(plot_spot)"
   ]
  },
  {
   "cell_type": "code",
   "execution_count": null,
   "id": "major-vision",
   "metadata": {},
   "outputs": [],
   "source": [
    "plot_p_team_HPG = selected.loc[selected._merge == 'left_only', 'p_team_pred_AdjHPG'].hist(\n",
    "    rwidth=0.9, density = True, alpha = 0.5, bins=16, range=(6,14)\n",
    ")\n",
    "plot_p_team_HPG = selected.loc[selected._merge == 'both', 'p_team_pred_AdjHPG'].hist(\n",
    "    rwidth=0.9, density = True, alpha = 0.5, bins=16, range=(6,14)\n",
    ")\n",
    "adjust_plot(plot_p_team_HPG)"
   ]
  },
  {
   "cell_type": "code",
   "execution_count": null,
   "id": "everyday-precipitation",
   "metadata": {},
   "outputs": [],
   "source": [
    "plot_p_team_avg_game_score = selected.loc[selected._merge == 'left_only', 'b_team_pred_AdjHPG'].hist(\n",
    "    rwidth=0.9, density = True, alpha = 0.5, bins=16, range=(6,14)\n",
    ")\n",
    "plot_p_team_avg_game_score = selected.loc[selected._merge == 'both', 'b_team_pred_AdjHPG'].hist(\n",
    "    rwidth=0.9, density = True, alpha = 0.5, bins=16, range=(6, 14)\n",
    ")\n",
    "adjust_plot(plot_p_team_avg_game_score)"
   ]
  },
  {
   "cell_type": "code",
   "execution_count": null,
   "id": "conditional-draft",
   "metadata": {},
   "outputs": [],
   "source": [
    "plot_p_own_HPAB = selected.loc[selected._merge == 'left_only', 'p_team_pred_DefEff'].hist(\n",
    "    rwidth=0.9, density = True, alpha = 0.5\n",
    ")\n",
    "plot_p_own_HPAB = selected.loc[selected._merge == 'both', 'p_team_pred_DefEff'].hist(\n",
    "    rwidth=0.9, density = True, alpha = 0.5\n",
    ")\n",
    "adjust_plot(plot_p_own_HPAB)"
   ]
  },
  {
   "cell_type": "code",
   "execution_count": null,
   "id": "subjective-infrastructure",
   "metadata": {},
   "outputs": [],
   "source": [
    "plot_rating_rating_pre = selected.loc[selected._merge == 'left_only', 'rating_rating_pre'].hist(\n",
    "    rwidth=0.9, density = True, alpha = 0.5, bins=16 , range=(1300, 1700)\n",
    ")\n",
    "plot_rating_rating_pre = selected.loc[selected._merge == 'both', 'rating_rating_pre'].hist(\n",
    "    rwidth=0.9, density = True, alpha = 0.5, bins=16 , range=(1300, 1700)\n",
    ")\n",
    "adjust_plot(plot_rating_rating_pre)"
   ]
  },
  {
   "cell_type": "code",
   "execution_count": null,
   "id": "global-bidding",
   "metadata": {},
   "outputs": [],
   "source": [
    "plot_rating_rating_prob = selected.loc[selected._merge == 'left_only', 'rating_rating_prob'].hist(\n",
    "    rwidth=0.9, density = True, alpha = 0.5, bins=20, range=(0,1)\n",
    ")\n",
    "plot_rating_rating_prob = selected.loc[selected._merge == 'both', 'rating_rating_prob'].hist(\n",
    "    rwidth=0.9, density = True, alpha = 0.5, bins=20, range=(0,1)\n",
    ")\n",
    "adjust_plot(plot_rating_rating_prob)"
   ]
  },
  {
   "cell_type": "code",
   "execution_count": null,
   "id": "amber-maker",
   "metadata": {},
   "outputs": [],
   "source": [
    "plot_rating_pitcher_rgs = selected.loc[selected._merge == 'left_only', 'rating_pitcher_rgs'].hist(\n",
    "    rwidth=0.9, density = True, alpha = 0.5, bins=14, range=(35,70)\n",
    ")\n",
    "plot_rating_pitcher_rgs = selected.loc[selected._merge == 'both', 'rating_pitcher_rgs'].hist(\n",
    "    rwidth=0.9, density = True, alpha = 0.5, bins=14, range=(35,70)\n",
    ")\n",
    "adjust_plot(plot_rating_pitcher_rgs)"
   ]
  },
  {
   "cell_type": "code",
   "execution_count": null,
   "id": "extra-remainder",
   "metadata": {},
   "outputs": [],
   "source": [
    "plot_rating_own_rating_pre = selected.loc[selected._merge == 'left_only', 'rating_own_rating_pre'].hist(\n",
    "    rwidth=0.9, density = True, alpha = 0.5, bins=16 , range=(1300, 1700)\n",
    ")\n",
    "plot_rating_own_rating_pre = selected.loc[selected._merge == 'both', 'rating_own_rating_pre'].hist(\n",
    "    rwidth=0.9, density = True, alpha = 0.5, bins=16 , range=(1300, 1700)\n",
    ")\n",
    "adjust_plot(plot_rating_own_rating_pre)"
   ]
  },
  {
   "cell_type": "code",
   "execution_count": null,
   "id": "hydraulic-winter",
   "metadata": {},
   "outputs": [],
   "source": [
    "plot_rating_own_pitcher_rgs = selected.loc[selected._merge == 'left_only', 'rating_own_pitcher_rgs'].hist(\n",
    "    rwidth=0.9, density = True, alpha = 0.5, bins=14, range=(35,70)\n",
    ")\n",
    "plot_rating_own_pitcher_rgs = selected.loc[selected._merge == 'both', 'rating_own_pitcher_rgs'].hist(\n",
    "    rwidth=0.9, density = True, alpha = 0.5, bins=14, range=(35,70)\n",
    ")\n",
    "adjust_plot(plot_rating_own_pitcher_rgs)"
   ]
  },
  {
   "cell_type": "code",
   "execution_count": null,
   "id": "filled-ghana",
   "metadata": {},
   "outputs": [],
   "source": []
  }
 ],
 "metadata": {
  "kernelspec": {
   "display_name": "bts",
   "language": "python",
   "name": "bts"
  },
  "language_info": {
   "codemirror_mode": {
    "name": "ipython",
    "version": 3
   },
   "file_extension": ".py",
   "mimetype": "text/x-python",
   "name": "python",
   "nbconvert_exporter": "python",
   "pygments_lexer": "ipython3"
  }
 },
 "nbformat": 4,
 "nbformat_minor": 5
}
