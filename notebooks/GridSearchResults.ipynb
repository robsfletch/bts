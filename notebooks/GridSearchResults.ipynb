{
 "cells": [
  {
   "cell_type": "code",
   "execution_count": 33,
   "id": "inappropriate-cleaners",
   "metadata": {},
   "outputs": [],
   "source": [
    "# -*- coding: utf-8 -*-\n",
    "import logging\n",
    "from pathlib import Path\n",
    "\n",
    "import pandas as pd\n",
    "import numpy as np\n",
    "\n",
    "import cloudpickle\n",
    "import click\n",
    "\n",
    "import numpy as np\n",
    "\n",
    "import matplotlib.pyplot as plt"
   ]
  },
  {
   "cell_type": "code",
   "execution_count": 34,
   "id": "massive-bumper",
   "metadata": {},
   "outputs": [],
   "source": [
    "models = '../models'"
   ]
  },
  {
   "cell_type": "code",
   "execution_count": 35,
   "id": "amber-lawyer",
   "metadata": {},
   "outputs": [],
   "source": [
    "model_file = Path(models) / 'logistic_model.pkl'\n",
    "with open(model_file, 'rb') as fp:\n",
    "    fitted_model = cloudpickle.load(fp)"
   ]
  },
  {
   "cell_type": "code",
   "execution_count": 36,
   "id": "hearing-classification",
   "metadata": {},
   "outputs": [],
   "source": [
    "grid_results = fitted_model.cv_results_"
   ]
  },
  {
   "cell_type": "code",
   "execution_count": 37,
   "id": "precious-cooler",
   "metadata": {},
   "outputs": [],
   "source": [
    "AUC = grid_results['mean_test_AUC']"
   ]
  },
  {
   "cell_type": "code",
   "execution_count": 38,
   "id": "permanent-brick",
   "metadata": {},
   "outputs": [
    {
     "name": "stdout",
     "output_type": "stream",
     "text": [
      "alpha\n"
     ]
    },
    {
     "data": {
      "image/png": "[encoded data removed]",
      "text/plain": [
       "<Figure size 432x288 with 1 Axes>"
      ]
     },
     "metadata": {
      "needs_background": "light"
     },
     "output_type": "display_data"
    },
    {
     "ename": "ValueError",
     "evalue": "could not convert string to float: 'l1'",
     "output_type": "error",
     "traceback": [
      "\u001b[0;31m---------------------------------------------------------------------------\u001b[0m",
      "\u001b[0;31mValueError\u001b[0m                                Traceback (most recent call last)",
      "\u001b[0;32m<ipython-input-38-fc55282dd4e9>\u001b[0m in \u001b[0;36m<module>\u001b[0;34m\u001b[0m\n\u001b[1;32m      3\u001b[0m     \u001b[0;32mif\u001b[0m \u001b[0;34m'param_clf__'\u001b[0m \u001b[0;32min\u001b[0m \u001b[0mkey\u001b[0m\u001b[0;34m:\u001b[0m\u001b[0;34m\u001b[0m\u001b[0;34m\u001b[0m\u001b[0m\n\u001b[1;32m      4\u001b[0m         \u001b[0mname\u001b[0m \u001b[0;34m=\u001b[0m \u001b[0mkey\u001b[0m\u001b[0;34m.\u001b[0m\u001b[0mreplace\u001b[0m\u001b[0;34m(\u001b[0m\u001b[0;34m'param_clf__'\u001b[0m\u001b[0;34m,\u001b[0m \u001b[0;34m''\u001b[0m\u001b[0;34m)\u001b[0m\u001b[0;34m\u001b[0m\u001b[0;34m\u001b[0m\u001b[0m\n\u001b[0;32m----> 5\u001b[0;31m         \u001b[0mnew\u001b[0m \u001b[0;34m=\u001b[0m \u001b[0mnp\u001b[0m\u001b[0;34m.\u001b[0m\u001b[0marray\u001b[0m\u001b[0;34m(\u001b[0m\u001b[0mnp\u001b[0m\u001b[0;34m.\u001b[0m\u001b[0mma\u001b[0m\u001b[0;34m.\u001b[0m\u001b[0mgetdata\u001b[0m\u001b[0;34m(\u001b[0m\u001b[0mgrid_results\u001b[0m\u001b[0;34m[\u001b[0m\u001b[0mkey\u001b[0m\u001b[0;34m]\u001b[0m\u001b[0;34m)\u001b[0m\u001b[0;34m,\u001b[0m \u001b[0mdtype\u001b[0m\u001b[0;34m=\u001b[0m\u001b[0mnp\u001b[0m\u001b[0;34m.\u001b[0m\u001b[0mfloat\u001b[0m\u001b[0;34m)\u001b[0m\u001b[0;34m\u001b[0m\u001b[0;34m\u001b[0m\u001b[0m\n\u001b[0m\u001b[1;32m      6\u001b[0m         \u001b[0mparam_dict\u001b[0m\u001b[0;34m[\u001b[0m\u001b[0mname\u001b[0m\u001b[0;34m]\u001b[0m \u001b[0;34m=\u001b[0m \u001b[0mnew\u001b[0m\u001b[0;34m\u001b[0m\u001b[0;34m\u001b[0m\u001b[0m\n\u001b[1;32m      7\u001b[0m         \u001b[0mprint\u001b[0m\u001b[0;34m(\u001b[0m\u001b[0mname\u001b[0m\u001b[0;34m)\u001b[0m\u001b[0;34m\u001b[0m\u001b[0;34m\u001b[0m\u001b[0m\n",
      "\u001b[0;31mValueError\u001b[0m: could not convert string to float: 'l1'"
     ]
    }
   ],
   "source": [
    "param_dict = {}\n",
    "for key, value in grid_results.items():\n",
    "    if 'param_clf__' in key:\n",
    "        name = key.replace('param_clf__', '')\n",
    "        new = np.array(np.ma.getdata(grid_results[key]), dtype=np.float)\n",
    "        param_dict[name] = new\n",
    "        print(name)\n",
    "        plt.figure()\n",
    "        plt.scatter(new, AUC)\n",
    "        plt.show()\n",
    "\n",
    "param_dict"
   ]
  },
  {
   "cell_type": "code",
   "execution_count": 39,
   "id": "veterinary-might",
   "metadata": {},
   "outputs": [
    {
     "name": "stdout",
     "output_type": "stream",
     "text": [
      "Best: 0.589834 using {'clf__alpha': 0.008, 'clf__penalty': 'l1'}\n"
     ]
    }
   ],
   "source": [
    "print(\"Best: %f using %s\" % (fitted_model.best_score_, \n",
    "    fitted_model.best_params_))"
   ]
  },
  {
   "cell_type": "code",
   "execution_count": 40,
   "id": "practical-industry",
   "metadata": {},
   "outputs": [
    {
     "data": {
      "text/plain": [
       "{'mean_fit_time': array([101.85842166,  94.76014986,  98.18346443,  91.42650537,\n",
       "        102.29652267,  92.53522949, 103.40879359,  90.24236698,\n",
       "        106.25072112,  90.27896361, 102.52010465,  89.68255796,\n",
       "        103.24732356,  59.16701679]),\n",
       " 'std_fit_time': array([1.58873662, 3.41709916, 0.82168413, 2.95925867, 4.1377696 ,\n",
       "        4.34557134, 2.4403464 , 1.64267398, 2.25404537, 2.24356271,\n",
       "        1.04106742, 6.93468921, 7.88294291, 9.0602686 ]),\n",
       " 'mean_score_time': array([2.06696339, 1.94363284, 1.69103398, 2.00128942, 2.3690402 ,\n",
       "        2.24910917, 2.25715303, 2.32142096, 2.06055026, 2.13335662,\n",
       "        1.97589169, 2.3194984 , 1.90839167, 0.81604056]),\n",
       " 'std_score_time': array([0.20686432, 0.23871124, 0.2228598 , 0.23078218, 0.28910053,\n",
       "        0.11671743, 0.15198907, 0.22512214, 0.1707666 , 0.4421331 ,\n",
       "        0.13149405, 0.33035956, 0.17386315, 0.32283292]),\n",
       " 'param_clf__alpha': masked_array(data=[0.0003, 0.0003, 0.001, 0.001, 0.003, 0.003, 0.005,\n",
       "                    0.005, 0.008, 0.008, 0.01, 0.01, 0.02, 0.02],\n",
       "              mask=[False, False, False, False, False, False, False, False,\n",
       "                    False, False, False, False, False, False],\n",
       "        fill_value='?',\n",
       "             dtype=object),\n",
       " 'param_clf__penalty': masked_array(data=['l1', 'l2', 'l1', 'l2', 'l1', 'l2', 'l1', 'l2', 'l1',\n",
       "                    'l2', 'l1', 'l2', 'l1', 'l2'],\n",
       "              mask=[False, False, False, False, False, False, False, False,\n",
       "                    False, False, False, False, False, False],\n",
       "        fill_value='?',\n",
       "             dtype=object),\n",
       " 'params': [{'clf__alpha': 0.0003, 'clf__penalty': 'l1'},\n",
       "  {'clf__alpha': 0.0003, 'clf__penalty': 'l2'},\n",
       "  {'clf__alpha': 0.001, 'clf__penalty': 'l1'},\n",
       "  {'clf__alpha': 0.001, 'clf__penalty': 'l2'},\n",
       "  {'clf__alpha': 0.003, 'clf__penalty': 'l1'},\n",
       "  {'clf__alpha': 0.003, 'clf__penalty': 'l2'},\n",
       "  {'clf__alpha': 0.005, 'clf__penalty': 'l1'},\n",
       "  {'clf__alpha': 0.005, 'clf__penalty': 'l2'},\n",
       "  {'clf__alpha': 0.008, 'clf__penalty': 'l1'},\n",
       "  {'clf__alpha': 0.008, 'clf__penalty': 'l2'},\n",
       "  {'clf__alpha': 0.01, 'clf__penalty': 'l1'},\n",
       "  {'clf__alpha': 0.01, 'clf__penalty': 'l2'},\n",
       "  {'clf__alpha': 0.02, 'clf__penalty': 'l1'},\n",
       "  {'clf__alpha': 0.02, 'clf__penalty': 'l2'}],\n",
       " 'split0_test_AUC': array([0.58571745, 0.59217803, 0.5875735 , 0.59536309, 0.58147165,\n",
       "        0.59105536, 0.58263252, 0.59196815, 0.58319481, 0.59205861,\n",
       "        0.58285344, 0.59184996, 0.58342847, 0.5901791 ]),\n",
       " 'split1_test_AUC': array([0.57387187, 0.57532894, 0.58933018, 0.56599288, 0.59993093,\n",
       "        0.574016  , 0.60263006, 0.58008029, 0.60619896, 0.58428094,\n",
       "        0.60698755, 0.58596777, 0.60529778, 0.59058448]),\n",
       " 'split2_test_AUC': array([0.54256561, 0.53410732, 0.54088222, 0.53435111, 0.54148894,\n",
       "        0.53958013, 0.54142075, 0.53980173, 0.5418855 , 0.53984578,\n",
       "        0.54164074, 0.5398551 , 0.54233784, 0.53991918]),\n",
       " 'split3_test_AUC': array([0.59044112, 0.57504178, 0.58823155, 0.56798613, 0.59138304,\n",
       "        0.57641171, 0.59180932, 0.57890335, 0.59237135, 0.58060023,\n",
       "        0.59172194, 0.5814598 , 0.58774315, 0.5842402 ]),\n",
       " 'split4_test_AUC': array([0.62935067, 0.62150073, 0.62920849, 0.62457792, 0.62782312,\n",
       "        0.62858009, 0.62576221, 0.6289174 , 0.62551786, 0.6288627 ,\n",
       "        0.62520582, 0.62876174, 0.62089427, 0.62819068]),\n",
       " 'mean_test_AUC': array([0.58438934, 0.57963136, 0.58704519, 0.57765423, 0.58841954,\n",
       "        0.58192866, 0.58885097, 0.58393419, 0.5898337 , 0.58512965,\n",
       "        0.5896819 , 0.58557887, 0.5879403 , 0.58662273]),\n",
       " 'std_test_AUC': array([0.02799911, 0.02836362, 0.02798454, 0.03039755, 0.02808804,\n",
       "        0.02879617, 0.02774653, 0.02855125, 0.02789525, 0.02839879,\n",
       "        0.02800063, 0.0283262 , 0.02640919, 0.02808251]),\n",
       " 'rank_test_AUC': array([10, 13,  6, 14,  4, 12,  3, 11,  1,  9,  2,  8,  5,  7],\n",
       "       dtype=int32)}"
      ]
     },
     "execution_count": 40,
     "metadata": {},
     "output_type": "execute_result"
    }
   ],
   "source": [
    "fitted_model.cv_results_"
   ]
  },
  {
   "cell_type": "code",
   "execution_count": 31,
   "id": "negative-movie",
   "metadata": {},
   "outputs": [],
   "source": [
    "learning_rates = np.ma.getdata(grid_results['param_clf__learning_rate'])\n",
    "learning_rates = np.ma.getdata(grid_results['param_clf__learning_rate'])\n",
    "# alphas = np.ma.getdata(grid_results['param_clf__alpha'])\n",
    "# rates = np.ma.getdata(grid_results['param_clf__optimizer__learning_rate'])\n",
    "# dims = np.ma.getdata(grid_results['param_clf__hidden_layer_dim'])\n",
    "# b_size = np.ma.getdata(grid_results['param_clf__batch_size'])\n",
    "# opts = np.ma.getdata(grid_results['param_clf__optimizer'])"
   ]
  },
  {
   "cell_type": "code",
   "execution_count": 32,
   "id": "graduate-compact",
   "metadata": {},
   "outputs": [
    {
     "ename": "NameError",
     "evalue": "name 'rates' is not defined",
     "output_type": "error",
     "traceback": [
      "\u001b[0;31m---------------------------------------------------------------------------\u001b[0m",
      "\u001b[0;31mNameError\u001b[0m                                 Traceback (most recent call last)",
      "\u001b[0;32m<ipython-input-32-7f33b18d8c1c>\u001b[0m in \u001b[0;36m<module>\u001b[0;34m\u001b[0m\n\u001b[0;32m----> 1\u001b[0;31m \u001b[0mlog_rates\u001b[0m \u001b[0;34m=\u001b[0m\u001b[0mnp\u001b[0m\u001b[0;34m.\u001b[0m\u001b[0mlog\u001b[0m\u001b[0;34m(\u001b[0m\u001b[0mrates\u001b[0m\u001b[0;34m)\u001b[0m\u001b[0;34m\u001b[0m\u001b[0;34m\u001b[0m\u001b[0m\n\u001b[0m",
      "\u001b[0;31mNameError\u001b[0m: name 'rates' is not defined"
     ]
    }
   ],
   "source": [
    "log_rates =np.log(rates)"
   ]
  },
  {
   "cell_type": "code",
   "execution_count": 33,
   "id": "sporting-uzbekistan",
   "metadata": {},
   "outputs": [
    {
     "ename": "NameError",
     "evalue": "name 'log_rates' is not defined",
     "output_type": "error",
     "traceback": [
      "\u001b[0;31m---------------------------------------------------------------------------\u001b[0m",
      "\u001b[0;31mNameError\u001b[0m                                 Traceback (most recent call last)",
      "\u001b[0;32m<ipython-input-33-d41c690ce2b3>\u001b[0m in \u001b[0;36m<module>\u001b[0;34m\u001b[0m\n\u001b[0;32m----> 1\u001b[0;31m \u001b[0mdf\u001b[0m \u001b[0;34m=\u001b[0m \u001b[0mpd\u001b[0m\u001b[0;34m.\u001b[0m\u001b[0mDataFrame\u001b[0m\u001b[0;34m(\u001b[0m\u001b[0mnp\u001b[0m\u001b[0;34m.\u001b[0m\u001b[0mstack\u001b[0m\u001b[0;34m(\u001b[0m\u001b[0;34m(\u001b[0m\u001b[0mlog_rates\u001b[0m\u001b[0;34m,\u001b[0m \u001b[0mdims\u001b[0m\u001b[0;34m,\u001b[0m \u001b[0mAUC\u001b[0m\u001b[0;34m)\u001b[0m\u001b[0;34m,\u001b[0m \u001b[0maxis\u001b[0m\u001b[0;34m=\u001b[0m\u001b[0;34m-\u001b[0m\u001b[0;36m1\u001b[0m\u001b[0;34m)\u001b[0m\u001b[0;34m)\u001b[0m\u001b[0;34m\u001b[0m\u001b[0;34m\u001b[0m\u001b[0m\n\u001b[0m",
      "\u001b[0;31mNameError\u001b[0m: name 'log_rates' is not defined"
     ]
    }
   ],
   "source": [
    "df = pd.DataFrame(np.stack((log_rates, dims, AUC), axis=-1))"
   ]
  },
  {
   "cell_type": "code",
   "execution_count": 34,
   "id": "adjustable-minority",
   "metadata": {},
   "outputs": [
    {
     "ename": "NameError",
     "evalue": "name 'df' is not defined",
     "output_type": "error",
     "traceback": [
      "\u001b[0;31m---------------------------------------------------------------------------\u001b[0m",
      "\u001b[0;31mNameError\u001b[0m                                 Traceback (most recent call last)",
      "\u001b[0;32m<ipython-input-34-30caa439652d>\u001b[0m in \u001b[0;36m<module>\u001b[0;34m\u001b[0m\n\u001b[0;32m----> 1\u001b[0;31m \u001b[0mdf\u001b[0m\u001b[0;34m.\u001b[0m\u001b[0mcolumns\u001b[0m \u001b[0;34m=\u001b[0m \u001b[0;34m[\u001b[0m\u001b[0;34m'log_rates'\u001b[0m\u001b[0;34m,\u001b[0m \u001b[0;34m'dims'\u001b[0m\u001b[0;34m,\u001b[0m \u001b[0;34m'auc'\u001b[0m\u001b[0;34m]\u001b[0m\u001b[0;34m\u001b[0m\u001b[0;34m\u001b[0m\u001b[0m\n\u001b[0m",
      "\u001b[0;31mNameError\u001b[0m: name 'df' is not defined"
     ]
    }
   ],
   "source": [
    "df.columns = ['log_rates', 'dims', 'auc']"
   ]
  },
  {
   "cell_type": "code",
   "execution_count": 35,
   "id": "alert-saturn",
   "metadata": {},
   "outputs": [
    {
     "ename": "NameError",
     "evalue": "name 'df' is not defined",
     "output_type": "error",
     "traceback": [
      "\u001b[0;31m---------------------------------------------------------------------------\u001b[0m",
      "\u001b[0;31mNameError\u001b[0m                                 Traceback (most recent call last)",
      "\u001b[0;32m<ipython-input-35-dd88f6ad7e16>\u001b[0m in \u001b[0;36m<module>\u001b[0;34m\u001b[0m\n\u001b[1;32m      1\u001b[0m \u001b[0mfig\u001b[0m\u001b[0;34m,\u001b[0m \u001b[0max2\u001b[0m \u001b[0;34m=\u001b[0m \u001b[0mplt\u001b[0m\u001b[0;34m.\u001b[0m\u001b[0msubplots\u001b[0m\u001b[0;34m(\u001b[0m\u001b[0;36m1\u001b[0m\u001b[0;34m,\u001b[0m\u001b[0;36m1\u001b[0m\u001b[0;34m)\u001b[0m\u001b[0;34m;\u001b[0m\u001b[0;34m\u001b[0m\u001b[0;34m\u001b[0m\u001b[0m\n\u001b[0;32m----> 2\u001b[0;31m \u001b[0mdf\u001b[0m\u001b[0;34m.\u001b[0m\u001b[0mgroupby\u001b[0m\u001b[0;34m(\u001b[0m\u001b[0;34m'dims'\u001b[0m\u001b[0;34m)\u001b[0m\u001b[0;34m.\u001b[0m\u001b[0mplot\u001b[0m\u001b[0;34m(\u001b[0m\u001b[0;34m'log_rates'\u001b[0m\u001b[0;34m,\u001b[0m \u001b[0;34m'auc'\u001b[0m\u001b[0;34m,\u001b[0m \u001b[0max\u001b[0m\u001b[0;34m=\u001b[0m\u001b[0max2\u001b[0m\u001b[0;34m)\u001b[0m\u001b[0;34m\u001b[0m\u001b[0;34m\u001b[0m\u001b[0m\n\u001b[0m\u001b[1;32m      3\u001b[0m \u001b[0mplt\u001b[0m\u001b[0;34m.\u001b[0m\u001b[0mlegend\u001b[0m\u001b[0;34m(\u001b[0m\u001b[0;34m[\u001b[0m\u001b[0mv\u001b[0m\u001b[0;34m[\u001b[0m\u001b[0;36m0\u001b[0m\u001b[0;34m]\u001b[0m \u001b[0;32mfor\u001b[0m \u001b[0mv\u001b[0m \u001b[0;32min\u001b[0m \u001b[0mdf\u001b[0m\u001b[0;34m.\u001b[0m\u001b[0mgroupby\u001b[0m\u001b[0;34m(\u001b[0m\u001b[0;34m'dims'\u001b[0m\u001b[0;34m)\u001b[0m\u001b[0;34m[\u001b[0m\u001b[0;34m'dims'\u001b[0m\u001b[0;34m]\u001b[0m\u001b[0;34m]\u001b[0m\u001b[0;34m)\u001b[0m\u001b[0;34m\u001b[0m\u001b[0;34m\u001b[0m\u001b[0m\n",
      "\u001b[0;31mNameError\u001b[0m: name 'df' is not defined"
     ]
    },
    {
     "data": {
      "image/png": "[encoded data removed]",
      "text/plain": [
       "<Figure size 432x288 with 1 Axes>"
      ]
     },
     "metadata": {
      "needs_background": "light"
     },
     "output_type": "display_data"
    }
   ],
   "source": [
    "fig, ax2 = plt.subplots(1,1);\n",
    "df.groupby('dims').plot('log_rates', 'auc', ax=ax2)\n",
    "plt.legend([v[0] for v in df.groupby('dims')['dims']])"
   ]
  },
  {
   "cell_type": "code",
   "execution_count": 36,
   "id": "driving-canal",
   "metadata": {},
   "outputs": [
    {
     "ename": "NameError",
     "evalue": "name 'alphas' is not defined",
     "output_type": "error",
     "traceback": [
      "\u001b[0;31m---------------------------------------------------------------------------\u001b[0m",
      "\u001b[0;31mNameError\u001b[0m                                 Traceback (most recent call last)",
      "\u001b[0;32m<ipython-input-36-4b3c712e39c8>\u001b[0m in \u001b[0;36m<module>\u001b[0;34m\u001b[0m\n\u001b[0;32m----> 1\u001b[0;31m \u001b[0malphas\u001b[0m \u001b[0;34m=\u001b[0m \u001b[0mnp\u001b[0m\u001b[0;34m.\u001b[0m\u001b[0marray\u001b[0m\u001b[0;34m(\u001b[0m\u001b[0malphas\u001b[0m\u001b[0;34m,\u001b[0m \u001b[0mdtype\u001b[0m\u001b[0;34m=\u001b[0m\u001b[0mnp\u001b[0m\u001b[0;34m.\u001b[0m\u001b[0mfloat\u001b[0m\u001b[0;34m)\u001b[0m\u001b[0;34m\u001b[0m\u001b[0;34m\u001b[0m\u001b[0m\n\u001b[0m\u001b[1;32m      2\u001b[0m \u001b[0mlog_alphas\u001b[0m \u001b[0;34m=\u001b[0m\u001b[0mnp\u001b[0m\u001b[0;34m.\u001b[0m\u001b[0mlog\u001b[0m\u001b[0;34m(\u001b[0m\u001b[0malphas\u001b[0m\u001b[0;34m)\u001b[0m\u001b[0;34m\u001b[0m\u001b[0;34m\u001b[0m\u001b[0m\n\u001b[1;32m      3\u001b[0m \u001b[0mplt\u001b[0m\u001b[0;34m.\u001b[0m\u001b[0mscatter\u001b[0m\u001b[0;34m(\u001b[0m\u001b[0mlog_alphas\u001b[0m\u001b[0;34m,\u001b[0m \u001b[0mAUC\u001b[0m\u001b[0;34m)\u001b[0m\u001b[0;34m\u001b[0m\u001b[0;34m\u001b[0m\u001b[0m\n",
      "\u001b[0;31mNameError\u001b[0m: name 'alphas' is not defined"
     ]
    }
   ],
   "source": [
    "alphas = np.array(alphas, dtype=np.float)\n",
    "log_alphas =np.log(alphas)\n",
    "plt.scatter(log_alphas, AUC)"
   ]
  },
  {
   "cell_type": "code",
   "execution_count": 37,
   "id": "abroad-capacity",
   "metadata": {},
   "outputs": [
    {
     "ename": "NameError",
     "evalue": "name 'log_rates' is not defined",
     "output_type": "error",
     "traceback": [
      "\u001b[0;31m---------------------------------------------------------------------------\u001b[0m",
      "\u001b[0;31mNameError\u001b[0m                                 Traceback (most recent call last)",
      "\u001b[0;32m<ipython-input-37-b63ada7b5f06>\u001b[0m in \u001b[0;36m<module>\u001b[0;34m\u001b[0m\n\u001b[0;32m----> 1\u001b[0;31m \u001b[0mplt\u001b[0m\u001b[0;34m.\u001b[0m\u001b[0mscatter\u001b[0m\u001b[0;34m(\u001b[0m\u001b[0mlog_rates\u001b[0m\u001b[0;34m,\u001b[0m \u001b[0mAUC\u001b[0m\u001b[0;34m)\u001b[0m\u001b[0;34m\u001b[0m\u001b[0;34m\u001b[0m\u001b[0m\n\u001b[0m",
      "\u001b[0;31mNameError\u001b[0m: name 'log_rates' is not defined"
     ]
    }
   ],
   "source": [
    "plt.scatter(log_rates, AUC)"
   ]
  },
  {
   "cell_type": "code",
   "execution_count": 38,
   "id": "metallic-morgan",
   "metadata": {},
   "outputs": [
    {
     "ename": "NameError",
     "evalue": "name 'opts' is not defined",
     "output_type": "error",
     "traceback": [
      "\u001b[0;31m---------------------------------------------------------------------------\u001b[0m",
      "\u001b[0;31mNameError\u001b[0m                                 Traceback (most recent call last)",
      "\u001b[0;32m<ipython-input-38-507b4a97fff6>\u001b[0m in \u001b[0;36m<module>\u001b[0;34m\u001b[0m\n\u001b[0;32m----> 1\u001b[0;31m \u001b[0mplt\u001b[0m\u001b[0;34m.\u001b[0m\u001b[0mscatter\u001b[0m\u001b[0;34m(\u001b[0m\u001b[0mopts\u001b[0m\u001b[0;34m,\u001b[0m \u001b[0mAUC\u001b[0m\u001b[0;34m)\u001b[0m\u001b[0;34m\u001b[0m\u001b[0;34m\u001b[0m\u001b[0m\n\u001b[0m",
      "\u001b[0;31mNameError\u001b[0m: name 'opts' is not defined"
     ]
    }
   ],
   "source": [
    "plt.scatter(opts, AUC)"
   ]
  },
  {
   "cell_type": "code",
   "execution_count": 39,
   "id": "radio-racing",
   "metadata": {},
   "outputs": [
    {
     "name": "stdout",
     "output_type": "stream",
     "text": [
      "Best: 0.497589 using {'clf__learning_rate': 0.01, 'clf__max_iter': 400}\n"
     ]
    }
   ],
   "source": []
  },
  {
   "cell_type": "code",
   "execution_count": null,
   "id": "technical-midwest",
   "metadata": {},
   "outputs": [],
   "source": []
  }
 ],
 "metadata": {
  "kernelspec": {
   "display_name": "bts",
   "language": "python",
   "name": "bts"
  },
  "language_info": {
   "codemirror_mode": {
    "name": "ipython",
    "version": 3
   },
   "file_extension": ".py",
   "mimetype": "text/x-python",
   "name": "python",
   "nbconvert_exporter": "python",
   "pygments_lexer": "ipython3",
   "version": "3.7.10"
  }
 },
 "nbformat": 4,
 "nbformat_minor": 5
}
