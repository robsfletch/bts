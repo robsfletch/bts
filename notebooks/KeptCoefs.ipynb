{
 "cells": [
  {
   "cell_type": "code",
   "execution_count": 18,
   "id": "improving-latitude",
   "metadata": {},
   "outputs": [],
   "source": [
    "# -*- coding: utf-8 -*-\n",
    "import logging\n",
    "from pathlib import Path\n",
    "\n",
    "import pandas as pd\n",
    "import numpy as np\n",
    "\n",
    "import cloudpickle\n",
    "import click\n",
    "\n",
    "import numpy as np\n",
    "\n",
    "import matplotlib.pyplot as plt"
   ]
  },
  {
   "cell_type": "code",
   "execution_count": 19,
   "id": "infinite-teddy",
   "metadata": {},
   "outputs": [],
   "source": [
    "models = '../models'\n",
    "model_file = Path(models) / 'logistic_model.pkl'\n",
    "with open(model_file, 'rb') as fp:\n",
    "    fitted_model = cloudpickle.load(fp)"
   ]
  },
  {
   "cell_type": "code",
   "execution_count": 20,
   "id": "atomic-graph",
   "metadata": {},
   "outputs": [],
   "source": [
    "grid_results = fitted_model.cv_results_\n",
    "AUC = grid_results['mean_test_AUC']\n",
    "alphas = np.ma.getdata(grid_results['param_clf__alpha'])"
   ]
  },
  {
   "cell_type": "code",
   "execution_count": 21,
   "id": "numeric-principal",
   "metadata": {},
   "outputs": [],
   "source": [
    "processed = '../data/processed'\n",
    "main_data = pd.read_pickle(Path(processed) / 'main_data.pkl')\n",
    "x_vars = [\n",
    "    'spot', 'home', 'b_pred_HPPA', 'p_pred_HPAB', 'park_factor', 'year',\n",
    "    'BAT_HAND', 'PIT_HAND', 'b_avg_win', 'own_p_pred_HPAB',\n",
    "    'p_team_HPG', 'p_team_avg_game_score', 'rating_rating_pre',\n",
    "    'rating_rating_prob', 'rating_pitcher_rgs',\n",
    "    'rating_own_rating_pre', 'rating_own_pitcher_rgs'\n",
    "]\n",
    "test = main_data[x_vars]"
   ]
  },
  {
   "cell_type": "code",
   "execution_count": 22,
   "id": "insured-color",
   "metadata": {},
   "outputs": [],
   "source": [
    "b = fitted_model.best_estimator_.named_steps['clf'].coef_"
   ]
  },
  {
   "cell_type": "code",
   "execution_count": 23,
   "id": "swiss-consolidation",
   "metadata": {},
   "outputs": [],
   "source": [
    "a = fitted_model.best_estimator_.named_steps['poly'].get_feature_names(test.columns)"
   ]
  },
  {
   "cell_type": "code",
   "execution_count": 24,
   "id": "challenging-index",
   "metadata": {},
   "outputs": [],
   "source": [
    "c = b.T.tolist()"
   ]
  },
  {
   "cell_type": "code",
   "execution_count": 25,
   "id": "wrong-township",
   "metadata": {},
   "outputs": [],
   "source": [
    "dictionary = dict(zip(a, c))"
   ]
  },
  {
   "cell_type": "code",
   "execution_count": 26,
   "id": "rough-account",
   "metadata": {},
   "outputs": [
    {
     "name": "stdout",
     "output_type": "stream",
     "text": [
      "b_pred_HPPA park_factor -> [0.05201460911494029]\n",
      "b_pred_HPPA b_avg_win -> [0.02647837453632524]\n",
      "p_pred_HPAB b_avg_win -> [0.0389072728154032]\n",
      "park_factor b_avg_win -> [0.01196895136480971]\n"
     ]
    }
   ],
   "source": [
    "for key, value in dictionary.items():\n",
    "    if value[0] > 0 :\n",
    "        print(key, '->', value)\n",
    "        \n",
    "        "
   ]
  },
  {
   "cell_type": "code",
   "execution_count": 27,
   "id": "optional-ethics",
   "metadata": {},
   "outputs": [],
   "source": [
    "# spot rating_pitcher_rgs b_pred_HPPA park_factor b_avg_win p_pred_HPAB"
   ]
  }
 ],
 "metadata": {
  "kernelspec": {
   "display_name": "bts",
   "language": "python",
   "name": "bts"
  },
  "language_info": {
   "codemirror_mode": {
    "name": "ipython",
    "version": 3
   },
   "file_extension": ".py",
   "mimetype": "text/x-python",
   "name": "python",
   "nbconvert_exporter": "python",
   "pygments_lexer": "ipython3",
   "version": "3.7.10"
  }
 },
 "nbformat": 4,
 "nbformat_minor": 5
}
