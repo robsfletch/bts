{
 "cells": [
  {
   "cell_type": "code",
   "execution_count": 339,
   "id": "material-guarantee",
   "metadata": {},
   "outputs": [
    {
     "data": {
      "text/plain": [
       "'/Users/rsfletch/github/bts/notebooks'"
      ]
     },
     "execution_count": 339,
     "metadata": {},
     "output_type": "execute_result"
    }
   ],
   "source": [
    "from numpy import loadtxt\n",
    "from keras.models import Sequential\n",
    "from keras.layers import Dense, Dropout\n",
    "from keras.models import load_model\n",
    "import pandas as pd\n",
    "from pathlib import Path\n",
    "import os\n",
    "import scipy\n",
    "from scipy import stats\n",
    "from sklearn import preprocessing\n",
    "import numpy as np\n",
    "os.getcwd()"
   ]
  },
  {
   "cell_type": "code",
   "execution_count": 340,
   "id": "tough-rebecca",
   "metadata": {},
   "outputs": [],
   "source": [
    "cols = ['Win', 'HPG', 'HPAB_p', 'spot', 'home', 'factor', 'BAT_HAND', 'PIT_HAND']\n",
    "num_cols = len(cols)\n",
    "num_feat = num_cols - 1\n",
    "base = main_data.loc[main_data.year == 2018, cols]*1\n",
    "basenp = base.to_numpy()\n",
    "X = basenp[:,1:num_cols]\n",
    "y = basenp[:,0]"
   ]
  },
  {
   "cell_type": "code",
   "execution_count": 341,
   "id": "desperate-spending",
   "metadata": {},
   "outputs": [],
   "source": [
    "model = Sequential()\n",
    "model.add(Dense(12, input_dim=num_feat, activation='relu'))\n",
    "model.add(Dense(8, activation='relu'))\n",
    "model.add(Dense(8, activation='relu'))\n",
    "model.add(Dense(1, activation='sigmoid'))\n",
    "model.compile(loss='binary_crossentropy', optimizer='adam', metrics=['accuracy'])"
   ]
  },
  {
   "cell_type": "code",
   "execution_count": 342,
   "id": "naughty-roulette",
   "metadata": {},
   "outputs": [
    {
     "name": "stdout",
     "output_type": "stream",
     "text": [
      "Epoch 1/15\n",
      "33628/33628 [==============================] - 1s 41us/step - loss: 0.6634 - accuracy: 0.6195\n",
      "Epoch 2/15\n",
      "33628/33628 [==============================] - 1s 22us/step - loss: 0.6542 - accuracy: 0.6320\n",
      "Epoch 3/15\n",
      "33628/33628 [==============================] - 1s 21us/step - loss: 0.6528 - accuracy: 0.6338\n",
      "Epoch 4/15\n",
      "33628/33628 [==============================] - 1s 21us/step - loss: 0.6523 - accuracy: 0.6332\n",
      "Epoch 5/15\n",
      "33628/33628 [==============================] - 1s 22us/step - loss: 0.6521 - accuracy: 0.6344\n",
      "Epoch 6/15\n",
      "33628/33628 [==============================] - 1s 26us/step - loss: 0.6519 - accuracy: 0.6343\n",
      "Epoch 7/15\n",
      "33628/33628 [==============================] - 1s 24us/step - loss: 0.6515 - accuracy: 0.6349\n",
      "Epoch 8/15\n",
      "33628/33628 [==============================] - 1s 22us/step - loss: 0.6512 - accuracy: 0.6344\n",
      "Epoch 9/15\n",
      "33628/33628 [==============================] - 1s 22us/step - loss: 0.6512 - accuracy: 0.6338\n",
      "Epoch 10/15\n",
      "33628/33628 [==============================] - 1s 20us/step - loss: 0.6508 - accuracy: 0.6349\n",
      "Epoch 11/15\n",
      "33628/33628 [==============================] - 1s 22us/step - loss: 0.6508 - accuracy: 0.6354\n",
      "Epoch 12/15\n",
      "33628/33628 [==============================] - 1s 21us/step - loss: 0.6506 - accuracy: 0.6346\n",
      "Epoch 13/15\n",
      "33628/33628 [==============================] - 1s 21us/step - loss: 0.6502 - accuracy: 0.6354\n",
      "Epoch 14/15\n",
      "33628/33628 [==============================] - 1s 21us/step - loss: 0.6503 - accuracy: 0.6363\n",
      "Epoch 15/15\n",
      "33628/33628 [==============================] - 1s 22us/step - loss: 0.6500 - accuracy: 0.6364\n"
     ]
    },
    {
     "data": {
      "text/plain": [
       "<keras.callbacks.callbacks.History at 0x7fdbd69135d0>"
      ]
     },
     "execution_count": 342,
     "metadata": {},
     "output_type": "execute_result"
    }
   ],
   "source": [
    "model.fit(X, y, epochs=15, batch_size=128)"
   ]
  },
  {
   "cell_type": "code",
   "execution_count": 343,
   "id": "sufficient-interference",
   "metadata": {},
   "outputs": [
    {
     "data": {
      "text/plain": [
       "array([[<AxesSubplot:title={'center':'EstProb'}>]], dtype=object)"
      ]
     },
     "execution_count": 343,
     "metadata": {},
     "output_type": "execute_result"
    },
    {
     "data": {
      "image/png": "[encoded data removed]",
      "text/plain": [
       "<Figure size 432x288 with 1 Axes>"
      ]
     },
     "metadata": {
      "needs_background": "light"
     },
     "output_type": "display_data"
    }
   ],
   "source": [
    "predictions = model.predict(X)\n",
    "pd.DataFrame(predictions, columns=['EstProb']).hist()"
   ]
  },
  {
   "cell_type": "code",
   "execution_count": 344,
   "id": "improving-services",
   "metadata": {},
   "outputs": [],
   "source": [
    "base['EstProb'] = model.predict(X)\n",
    "base['bin'] = pd.qcut(base['EstProb'], 10, labels=[1, 2, 3, 4, 5, 6, 7, 8, 9, 10])"
   ]
  },
  {
   "cell_type": "code",
   "execution_count": 345,
   "id": "identified-missile",
   "metadata": {},
   "outputs": [
    {
     "data": {
      "text/plain": [
       "<AxesSubplot:xlabel='bin', ylabel='EstProb'>"
      ]
     },
     "execution_count": 345,
     "metadata": {},
     "output_type": "execute_result"
    },
    {
     "data": {
      "image/png": "[encoded data removed]",
      "text/plain": [
       "<Figure size 432x288 with 1 Axes>"
      ]
     },
     "metadata": {
      "needs_background": "light"
     },
     "output_type": "display_data"
    }
   ],
   "source": [
    "dots = base.groupby(['bin'])['EstProb'].agg('mean')\n",
    "dots = dots.reset_index()\n",
    "dots.plot.scatter('bin', 'EstProb')"
   ]
  },
  {
   "cell_type": "code",
   "execution_count": null,
   "id": "proved-institute",
   "metadata": {},
   "outputs": [],
   "source": []
  },
  {
   "cell_type": "code",
   "execution_count": null,
   "id": "radical-tokyo",
   "metadata": {},
   "outputs": [],
   "source": []
  },
  {
   "cell_type": "code",
   "execution_count": null,
   "id": "formal-peter",
   "metadata": {},
   "outputs": [],
   "source": []
  },
  {
   "cell_type": "code",
   "execution_count": null,
   "id": "sublime-candle",
   "metadata": {},
   "outputs": [],
   "source": []
  },
  {
   "cell_type": "code",
   "execution_count": null,
   "id": "boring-biodiversity",
   "metadata": {},
   "outputs": [],
   "source": []
  },
  {
   "cell_type": "code",
   "execution_count": null,
   "id": "analyzed-brass",
   "metadata": {},
   "outputs": [],
   "source": []
  },
  {
   "cell_type": "code",
   "execution_count": 326,
   "id": "hidden-spirit",
   "metadata": {},
   "outputs": [],
   "source": [
    "# 'HPG', 'HPAB_p', 'spot', 'home', 'factor', 'BAT_HAND', 'PIT_HAND', 'avg_win', 'year'\n",
    "cols = ['HPG', 'HPAB_p', 'spot', 'home', 'factor', 'BAT_HAND', 'PIT_HAND']\n",
    "num_cols = len(cols)\n",
    "num_feat = num_cols - 1\n",
    "\n",
    "def prep_data(df):\n",
    "    df[['home']] = df[['home']]*1\n",
    "    X = df[cols]*1\n",
    "    Y = df[['Win']]*1\n",
    "    X_train = X[(df.year <= 2014)].to_numpy() # (df.year >= 2000) & \n",
    "    Y_train = Y[(df.year <= 2014)].to_numpy() # (df.year >= 2000) & \n",
    "    X_test = X[df.year >=  2015].to_numpy()\n",
    "    Y_test = Y[df.year >=  2015].to_numpy()\n",
    "\n",
    "    mean = np.mean(X_train, axis=0)\n",
    "    X_train -= mean\n",
    "    X_test -= mean\n",
    "    std = np.std(X_train, axis=0)\n",
    "    print(std)\n",
    "    X_train /= std\n",
    "    X_test /= std\n",
    "    \n",
    "    return X_train, Y_train, X_test, Y_test"
   ]
  },
  {
   "cell_type": "code",
   "execution_count": 327,
   "id": "altered-ballet",
   "metadata": {},
   "outputs": [
    {
     "name": "stdout",
     "output_type": "stream",
     "text": [
      "[0.23995129 0.03665046 2.48583741 0.49919897 0.0553461  0.49683093\n",
      " 0.4528697 ]\n"
     ]
    }
   ],
   "source": [
    "processed = '../data/processed'\n",
    "main_data = pd.read_pickle(Path(processed) / 'main_data.pkl')\n",
    "\n",
    "main_data = main_data.dropna()\n",
    "\n",
    "X_train, Y_train, X_test, Y_test = prep_data(main_data)"
   ]
  },
  {
   "cell_type": "code",
   "execution_count": 328,
   "id": "olympic-mixer",
   "metadata": {},
   "outputs": [
    {
     "name": "stdout",
     "output_type": "stream",
     "text": [
      "Number of positive samples in training data: 81959 (63.73% of total)\n"
     ]
    }
   ],
   "source": [
    "counts = np.bincount(Y_train[:, 0])\n",
    "print(\n",
    "    \"Number of positive samples in training data: {} ({:.2f}% of total)\".format(\n",
    "        counts[1], 100 * float(counts[1]) / len(Y_train)\n",
    "    )\n",
    ")\n",
    "\n",
    "weight_for_0 = 1.0 / counts[0]\n",
    "weight_for_1 = 1.0 / counts[1]"
   ]
  },
  {
   "cell_type": "code",
   "execution_count": 329,
   "id": "light-approach",
   "metadata": {},
   "outputs": [],
   "source": [
    "model = Sequential()\n",
    "model.add(Dense(12, input_dim=7, activation='relu'))\n",
    "model.add(Dense(8, activation='relu'))\n",
    "model.add(Dense(1, activation='sigmoid'))\n",
    "model.compile(loss='binary_crossentropy', optimizer='adam', metrics=['accuracy'])"
   ]
  },
  {
   "cell_type": "code",
   "execution_count": 330,
   "id": "allied-carbon",
   "metadata": {},
   "outputs": [],
   "source": [
    "model.compile(loss='binary_crossentropy', optimizer='adam', metrics=['accuracy'])"
   ]
  },
  {
   "cell_type": "code",
   "execution_count": 331,
   "id": "extreme-venice",
   "metadata": {},
   "outputs": [
    {
     "name": "stdout",
     "output_type": "stream",
     "text": [
      "Epoch 1/10\n",
      "128609/128609 [==============================] - 4s 30us/step - loss: 0.6457 - accuracy: 0.6439\n",
      "Epoch 2/10\n",
      "128609/128609 [==============================] - 3s 26us/step - loss: 0.6418 - accuracy: 0.6486\n",
      "Epoch 3/10\n",
      "128609/128609 [==============================] - 3s 27us/step - loss: 0.6413 - accuracy: 0.6491\n",
      "Epoch 4/10\n",
      "128609/128609 [==============================] - 3s 26us/step - loss: 0.6410 - accuracy: 0.6496\n",
      "Epoch 5/10\n",
      "128609/128609 [==============================] - 3s 25us/step - loss: 0.6408 - accuracy: 0.6494\n",
      "Epoch 6/10\n",
      "128609/128609 [==============================] - 3s 25us/step - loss: 0.6408 - accuracy: 0.6497\n",
      "Epoch 7/10\n",
      "128609/128609 [==============================] - 3s 25us/step - loss: 0.6406 - accuracy: 0.6500\n",
      "Epoch 8/10\n",
      "128609/128609 [==============================] - 3s 25us/step - loss: 0.6405 - accuracy: 0.6502\n",
      "Epoch 9/10\n",
      "128609/128609 [==============================] - 3s 25us/step - loss: 0.6403 - accuracy: 0.6502\n",
      "Epoch 10/10\n",
      "128609/128609 [==============================] - 3s 25us/step - loss: 0.6403 - accuracy: 0.6503\n",
      "done\n"
     ]
    }
   ],
   "source": [
    "model.fit(X_train, Y_train, epochs=10, batch_size=64)\n",
    "print('done')"
   ]
  },
  {
   "cell_type": "code",
   "execution_count": 332,
   "id": "embedded-surrey",
   "metadata": {},
   "outputs": [
    {
     "name": "stdout",
     "output_type": "stream",
     "text": [
      "Model: \"sequential_44\"\n",
      "_________________________________________________________________\n",
      "Layer (type)                 Output Shape              Param #   \n",
      "=================================================================\n",
      "dense_148 (Dense)            (None, 12)                96        \n",
      "_________________________________________________________________\n",
      "dense_149 (Dense)            (None, 8)                 104       \n",
      "_________________________________________________________________\n",
      "dense_150 (Dense)            (None, 1)                 9         \n",
      "=================================================================\n",
      "Total params: 209\n",
      "Trainable params: 209\n",
      "Non-trainable params: 0\n",
      "_________________________________________________________________\n",
      "157842/157842 [==============================] - 3s 17us/step\n",
      "Accuracy: 64.27\n"
     ]
    }
   ],
   "source": [
    "model.summary()\n",
    "_, accuracy = model.evaluate(X_test, Y_test)\n",
    "print('Accuracy: %.2f' % (accuracy*100))"
   ]
  },
  {
   "cell_type": "code",
   "execution_count": 333,
   "id": "prescribed-hartford",
   "metadata": {},
   "outputs": [],
   "source": [
    "predictions = model.predict(X_test)"
   ]
  },
  {
   "cell_type": "code",
   "execution_count": 335,
   "id": "offshore-testing",
   "metadata": {},
   "outputs": [
    {
     "name": "stderr",
     "output_type": "stream",
     "text": [
      "/Users/rsfletch/opt/anaconda3/envs/bts/lib/python3.7/site-packages/ipykernel_launcher.py:2: SettingWithCopyWarning: \n",
      "A value is trying to be set on a copy of a slice from a DataFrame.\n",
      "Try using .loc[row_indexer,col_indexer] = value instead\n",
      "\n",
      "See the caveats in the documentation: https://pandas.pydata.org/pandas-docs/stable/user_guide/indexing.html#returning-a-view-versus-a-copy\n",
      "  \n"
     ]
    }
   ],
   "source": [
    "test_data = main_data[main_data.year >=  2015]\n",
    "test_data['EstProb'] = predictions"
   ]
  },
  {
   "cell_type": "code",
   "execution_count": 336,
   "id": "neural-candidate",
   "metadata": {},
   "outputs": [],
   "source": [
    "test_data = test_data.set_index(['GAME_ID', 'BAT_ID'])"
   ]
  },
  {
   "cell_type": "code",
   "execution_count": 337,
   "id": "stuck-holmes",
   "metadata": {},
   "outputs": [],
   "source": [
    "selection = test_data.groupby('Date')['EstProb'].nlargest(2).to_frame()\n",
    "\n",
    "selection = selection.sort_values(\n",
    "    by=['Date', 'EstProb', 'GAME_ID'], ascending=[True, False, True])\n",
    "\n",
    "selection['pick_order'] = selection.groupby(['Date']).cumcount()+1\n",
    "selection.to_pickle('../data/processed/selection_data.pkl')"
   ]
  },
  {
   "cell_type": "code",
   "execution_count": 338,
   "id": "faced-indonesia",
   "metadata": {},
   "outputs": [],
   "source": [
    "interim = '../data/interim'\n",
    "processed = '../data/processed'\n",
    "\n",
    "hits = pd.read_pickle(Path(interim) / 'hits.pkl')\n",
    "\n",
    "# selection_data = selections.merge(hits, on =['GAME_ID', 'BAT_ID'])\n",
    "selection_data = selection.merge(main_data, on =['GAME_ID', 'BAT_ID'])\n",
    "selection_data = selection_data.set_index(['Date', 'pick_order'])\n",
    "\n",
    "selection_data.to_pickle(Path(processed) / 'selection_data.pkl')"
   ]
  },
  {
   "cell_type": "code",
   "execution_count": null,
   "id": "animal-weekly",
   "metadata": {},
   "outputs": [],
   "source": []
  }
 ],
 "metadata": {
  "kernelspec": {
   "display_name": "bts",
   "language": "python",
   "name": "bts"
  },
  "language_info": {
   "codemirror_mode": {
    "name": "ipython",
    "version": 3
   },
   "file_extension": ".py",
   "mimetype": "text/x-python",
   "name": "python",
   "nbconvert_exporter": "python",
   "pygments_lexer": "ipython3",
   "version": "3.7.10"
  }
 },
 "nbformat": 4,
 "nbformat_minor": 5
}
