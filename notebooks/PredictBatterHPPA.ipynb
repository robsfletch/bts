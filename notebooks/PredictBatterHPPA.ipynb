{
 "cells": [
  {
   "cell_type": "code",
   "execution_count": 32,
   "id": "prepared-nickel",
   "metadata": {},
   "outputs": [],
   "source": [
    "import pandas as pd\n",
    "from pathlib import Path\n",
    "import statsmodels.formula.api as sm\n",
    "import numpy as np\n",
    "\n",
    "from sklearn.preprocessing import StandardScaler\n",
    "\n",
    "from sklearn.preprocessing import PolynomialFeatures\n",
    "from sklearn.compose import ColumnTransformer\n",
    "from sklearn.linear_model import LassoCV\n",
    "from sklearn.pipeline import Pipeline\n",
    "from sklearn.model_selection import cross_val_score\n",
    "\n",
    "from sklearn.experimental import enable_iterative_imputer\n",
    "from sklearn.impute import IterativeImputer, SimpleImputer\n",
    "\n",
    "interim = '../data/interim'\n",
    "br = pd.read_pickle(Path(interim) / 'batting_records.pkl')\n",
    "gl = pd.read_pickle(Path(interim) / 'game_logs.pkl')\n",
    "events = pd.read_pickle(Path(interim) / 'events.pkl')\n",
    "people = pd.read_pickle(Path(interim) / 'people.pkl')"
   ]
  },
  {
   "cell_type": "code",
   "execution_count": 33,
   "id": "bigger-prerequisite",
   "metadata": {},
   "outputs": [],
   "source": [
    "## combine data\n",
    "br = br.reset_index()\n",
    "merged = pd.merge(br, people[['PlayerID', 'birthYear']], left_on = ['BAT_ID'], right_on=['PlayerID'], how='left')\n",
    "merged = merged.set_index(['BAT_ID', 'year']).sort_values(['BAT_ID', 'year'], ascending=[True, True])\n",
    "\n",
    "merged['Age'] = merged.index.get_level_values('year') - merged['birthYear']\n",
    "\n",
    "merged['HPPA'] = merged['HPPA'].astype('float')\n",
    "merged['H'] = merged['H'].astype('int')\n",
    "merged['PA'] = merged['PA'].astype('int')\n",
    "merged['Age'] = merged['Age'].astype('int')\n",
    "\n",
    "merged = merged[~merged.HPPA.isna()]\n",
    "\n",
    "merged = merged.sort_values(['BAT_ID', 'year'])\n",
    "merged['prev_G'] = merged.groupby('BAT_ID')['G'].shift(1)"
   ]
  },
  {
   "cell_type": "code",
   "execution_count": 34,
   "id": "pleased-tampa",
   "metadata": {},
   "outputs": [],
   "source": [
    "group = merged.groupby('BAT_ID')\n",
    "merged['L1_HPPA'] = group['HPPA'].shift(1)\n",
    "merged['L2_HPPA'] = group['HPPA'].shift(2)\n",
    "merged['L3_HPPA'] = group['HPPA'].shift(3)\n",
    "\n",
    "merged['L1_H'] = group['H'].shift(1)\n",
    "merged['L2_H'] = group['H'].shift(2)\n",
    "merged['L3_H'] = group['H'].shift(3)\n",
    "\n",
    "merged['L1_PA'] = group['PA'].shift(1)\n",
    "merged['L2_PA'] = group['PA'].shift(2)\n",
    "merged['L3_PA'] = group['PA'].shift(3)"
   ]
  },
  {
   "cell_type": "code",
   "execution_count": 35,
   "id": "thousand-living",
   "metadata": {},
   "outputs": [
    {
     "name": "stderr",
     "output_type": "stream",
     "text": [
      "/Users/rsfletch/opt/anaconda3/envs/bts/lib/python3.7/site-packages/sklearn/impute/_iterative.py:686: ConvergenceWarning: [IterativeImputer] Early stopping criterion not reached.\n",
      "  \" reached.\", ConvergenceWarning)\n"
     ]
    },
    {
     "data": {
      "text/plain": [
       "<function sklearn.pipeline.Pipeline.predict(self, X, **predict_params)>"
      ]
     },
     "execution_count": 35,
     "metadata": {},
     "output_type": "execute_result"
    }
   ],
   "source": [
    "x_vars = [\n",
    "    'L1_HPPA', 'L2_HPPA', 'L3_HPPA', 'Age',\n",
    "    'L1_H', 'L2_H', 'L3_H', 'L1_PA', 'L2_PA', 'L3_PA'\n",
    "]\n",
    "preprocessor =  ColumnTransformer(\n",
    "    [('spot', 'passthrough', x_vars)],\n",
    "    remainder='drop'\n",
    ")\n",
    "\n",
    "clf = LassoCV(\n",
    "    cv=5, random_state=0, max_iter=10000, n_jobs=-1,\n",
    ")\n",
    "\n",
    "fitted_model = Pipeline([\n",
    "    ('select', preprocessor),\n",
    "    ('impute', IterativeImputer(random_state = 0)),\n",
    "    ('poly', PolynomialFeatures(2, interaction_only=True)),\n",
    "    ('scale', StandardScaler()),\n",
    "    ('clf', clf),\n",
    "])\n",
    "\n",
    "fitted_model.fit(merged, merged['HPPA'].astype('float'))\n",
    "fitted_model.predict"
   ]
  },
  {
   "cell_type": "code",
   "execution_count": 36,
   "id": "useful-brooks",
   "metadata": {},
   "outputs": [],
   "source": [
    "limited = merged[(merged.G >= 50) & (merged.prev_G >= 50)]"
   ]
  },
  {
   "cell_type": "code",
   "execution_count": 37,
   "id": "premier-reporter",
   "metadata": {},
   "outputs": [
    {
     "name": "stdout",
     "output_type": "stream",
     "text": [
      "[0.2792489  0.2901825  0.26987954 0.31563515 0.28629009 0.29525236\n",
      " 0.30450427 0.29853654 0.29970046 0.30453127]\n",
      "Accuracy: 29.438% (1.271%)\n"
     ]
    }
   ],
   "source": [
    "results = cross_val_score(fitted_model, limited, limited['HPPA'].astype('float'), cv=10, n_jobs=-1, scoring='r2')\n",
    "print(results)\n",
    "print(\"Accuracy: %.3f%% (%.3f%%)\" % (results.mean()*100.0, results.std()*100.0))"
   ]
  },
  {
   "cell_type": "code",
   "execution_count": null,
   "id": "social-richardson",
   "metadata": {},
   "outputs": [],
   "source": []
  }
 ],
 "metadata": {
  "kernelspec": {
   "display_name": "bts",
   "language": "python",
   "name": "bts"
  },
  "language_info": {
   "codemirror_mode": {
    "name": "ipython",
    "version": 3
   },
   "file_extension": ".py",
   "mimetype": "text/x-python",
   "name": "python",
   "nbconvert_exporter": "python",
   "pygments_lexer": "ipython3",
   "version": "3.7.10"
  }
 },
 "nbformat": 4,
 "nbformat_minor": 5
}
