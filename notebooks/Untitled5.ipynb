{
 "cells": [
  {
   "cell_type": "code",
   "execution_count": 1,
   "id": "precise-instruction",
   "metadata": {},
   "outputs": [],
   "source": [
    "import numpy as np"
   ]
  },
  {
   "cell_type": "code",
   "execution_count": 29,
   "id": "japanese-arrival",
   "metadata": {},
   "outputs": [
    {
     "data": {
      "text/plain": [
       "array([0.7, 0.8])"
      ]
     },
     "execution_count": 29,
     "metadata": {},
     "output_type": "execute_result"
    }
   ],
   "source": [
    "p_vals = np.arange(.7, .8, .1)\n",
    "p_vals"
   ]
  },
  {
   "cell_type": "code",
   "execution_count": 30,
   "id": "heated-asthma",
   "metadata": {
    "scrolled": true
   },
   "outputs": [
    {
     "data": {
      "text/plain": [
       "array([[0.7, 0.7],\n",
       "       [0.8, 0.8]])"
      ]
     },
     "execution_count": 30,
     "metadata": {},
     "output_type": "execute_result"
    }
   ],
   "source": [
    "p_vals_mat = np.tile(p_vals, (2, 1)).T\n",
    "p_vals_mat"
   ]
  },
  {
   "cell_type": "code",
   "execution_count": 22,
   "id": "suspended-underwear",
   "metadata": {},
   "outputs": [
    {
     "data": {
      "text/plain": [
       "(10, 11)"
      ]
     },
     "execution_count": 22,
     "metadata": {},
     "output_type": "execute_result"
    }
   ],
   "source": [
    "MaxStreak(t) = max(MaxStreak(t-1), CurrentStreak(t))\n",
    "CurrentStreak(t) = CurrentStreak(t-1) + H(t)\n",
    "\n",
    "V(MaxStreak(T), CurrentStreak(T), p(T)) = MaxStreak\n",
    "V(MaxStreak, CurrentStreak, T-1, p(t-1)) = argmax(s , E(V(MaxStreak(T), CurrentStreak(T), p(T))))\n"
   ]
  },
  {
   "cell_type": "code",
   "execution_count": null,
   "id": "complimentary-luxury",
   "metadata": {},
   "outputs": [],
   "source": [
    "v(MaxStreak, CurrentStreak, t, p) = max(MaxStreak, CurrentStreak) + E(V(MaxStreak, CurrentStreak, t+1, H))"
   ]
  },
  {
   "cell_type": "code",
   "execution_count": null,
   "id": "heard-cedar",
   "metadata": {},
   "outputs": [],
   "source": [
    "VT = []"
   ]
  }
 ],
 "metadata": {
  "kernelspec": {
   "display_name": "bts",
   "language": "python",
   "name": "bts"
  },
  "language_info": {
   "codemirror_mode": {
    "name": "ipython",
    "version": 3
   },
   "file_extension": ".py",
   "mimetype": "text/x-python",
   "name": "python",
   "nbconvert_exporter": "python",
   "pygments_lexer": "ipython3",
   "version": "3.7.10"
  }
 },
 "nbformat": 4,
 "nbformat_minor": 5
}
