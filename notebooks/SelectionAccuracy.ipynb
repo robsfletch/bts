{
 "cells": [
  {
   "cell_type": "code",
   "execution_count": 327,
   "id": "absent-bobby",
   "metadata": {},
   "outputs": [],
   "source": [
    "from pathlib import Path\n",
    "import pandas as pd\n",
    "import numpy as np"
   ]
  },
  {
   "cell_type": "code",
   "execution_count": 328,
   "id": "healthy-campbell",
   "metadata": {},
   "outputs": [],
   "source": [
    "processed = Path('../data/processed')\n",
    "selection_data = pd.read_pickle(Path(processed) / 'selection_data.pkl')"
   ]
  },
  {
   "cell_type": "code",
   "execution_count": 329,
   "id": "ongoing-times",
   "metadata": {},
   "outputs": [],
   "source": [
    "selection_data = selection_data[selection_data.year >= 2010]"
   ]
  },
  {
   "cell_type": "code",
   "execution_count": 330,
   "id": "sunset-melbourne",
   "metadata": {},
   "outputs": [
    {
     "data": {
      "text/plain": [
       "spot  home\n",
       "1.0   1.0     1269\n",
       "      0.0      839\n",
       "2.0   1.0      542\n",
       "3.0   1.0      440\n",
       "2.0   0.0      306\n",
       "3.0   0.0      241\n",
       "4.0   1.0       86\n",
       "      0.0       39\n",
       "5.0   1.0       12\n",
       "      0.0        3\n",
       "dtype: int64"
      ]
     },
     "execution_count": 330,
     "metadata": {},
     "output_type": "execute_result"
    }
   ],
   "source": [
    "selection_data[['spot', 'home']].value_counts()"
   ]
  },
  {
   "cell_type": "code",
   "execution_count": 331,
   "id": "minimal-system",
   "metadata": {},
   "outputs": [],
   "source": [
    "def adjust_plot(plt):\n",
    "    plt.xaxis.grid(False)\n",
    "    plt.yaxis.grid(True, linestyle='dashed', color='lightgrey')\n",
    "    plt.set_axisbelow(True)\n",
    "    plt.xaxis.set_ticks_position('none') \n",
    "    plt.yaxis.set_ticks_position('none') \n",
    "\n",
    "    plt.spines['right'].set_visible(False)\n",
    "    plt.spines['top'].set_visible(False)"
   ]
  },
  {
   "cell_type": "code",
   "execution_count": 332,
   "id": "apparent-breast",
   "metadata": {},
   "outputs": [
    {
     "name": "stdout",
     "output_type": "stream",
     "text": [
      "77.0%\n"
     ]
    }
   ],
   "source": [
    "Wins = selection_data.loc[selection_data['Win'] == True, 'Win'].count()\n",
    "Loses = selection_data.loc[selection_data['Win'] == False, 'Win'].count()\n",
    "WinRate = round( (Wins / (Wins + Loses)) *100, 1)\n",
    "print(str(WinRate) + '%')"
   ]
  },
  {
   "cell_type": "code",
   "execution_count": 333,
   "id": "likely-creator",
   "metadata": {},
   "outputs": [],
   "source": [
    "def streak_counter(df):\n",
    "    df['L_Win'] = df['Win'].shift(1)\n",
    "    df['L_year'] = df['year'].shift(1)\n",
    "    df['start_of_streak'] = (df['Win'] != df['L_Win']) | (df['year'] != df['L_year'])\n",
    "    df['streak_id'] = df['start_of_streak'].cumsum()\n",
    "    df['streak_counter'] = df.groupby('streak_id').cumcount() + 1\n",
    "    df.loc[df.Win == 0, 'streak_counter'] = 0\n",
    "    \n",
    "    return df"
   ]
  },
  {
   "cell_type": "code",
   "execution_count": 334,
   "id": "every-scope",
   "metadata": {},
   "outputs": [
    {
     "data": {
      "text/plain": [
       "26"
      ]
     },
     "execution_count": 334,
     "metadata": {},
     "output_type": "execute_result"
    }
   ],
   "source": [
    "selection_data = selection_data.astype({'Win':'int8'})\n",
    "selection_data = streak_counter(selection_data)\n",
    "streaks = selection_data.groupby('streak_id').agg({'streak_counter':'max'})\n",
    "streaks['streak_counter'].max()"
   ]
  },
  {
   "cell_type": "code",
   "execution_count": 335,
   "id": "silent-fifth",
   "metadata": {},
   "outputs": [
    {
     "data": {
      "text/html": [
       "<div>\n",
       "<style scoped>\n",
       "    .dataframe tbody tr th:only-of-type {\n",
       "        vertical-align: middle;\n",
       "    }\n",
       "\n",
       "    .dataframe tbody tr th {\n",
       "        vertical-align: top;\n",
       "    }\n",
       "\n",
       "    .dataframe thead th {\n",
       "        text-align: right;\n",
       "    }\n",
       "</style>\n",
       "<table border=\"1\" class=\"dataframe\">\n",
       "  <thead>\n",
       "    <tr style=\"text-align: right;\">\n",
       "      <th></th>\n",
       "      <th>Win</th>\n",
       "      <th>streak_counter</th>\n",
       "    </tr>\n",
       "    <tr>\n",
       "      <th>year</th>\n",
       "      <th></th>\n",
       "      <th></th>\n",
       "    </tr>\n",
       "  </thead>\n",
       "  <tbody>\n",
       "    <tr>\n",
       "      <th>2010.0</th>\n",
       "      <td>0.769444</td>\n",
       "      <td>18</td>\n",
       "    </tr>\n",
       "    <tr>\n",
       "      <th>2011.0</th>\n",
       "      <td>0.770667</td>\n",
       "      <td>26</td>\n",
       "    </tr>\n",
       "    <tr>\n",
       "      <th>2012.0</th>\n",
       "      <td>0.767507</td>\n",
       "      <td>19</td>\n",
       "    </tr>\n",
       "    <tr>\n",
       "      <th>2013.0</th>\n",
       "      <td>0.780556</td>\n",
       "      <td>19</td>\n",
       "    </tr>\n",
       "    <tr>\n",
       "      <th>2014.0</th>\n",
       "      <td>0.736413</td>\n",
       "      <td>15</td>\n",
       "    </tr>\n",
       "    <tr>\n",
       "      <th>2015.0</th>\n",
       "      <td>0.787709</td>\n",
       "      <td>16</td>\n",
       "    </tr>\n",
       "    <tr>\n",
       "      <th>2016.0</th>\n",
       "      <td>0.759777</td>\n",
       "      <td>16</td>\n",
       "    </tr>\n",
       "    <tr>\n",
       "      <th>2017.0</th>\n",
       "      <td>0.748603</td>\n",
       "      <td>15</td>\n",
       "    </tr>\n",
       "    <tr>\n",
       "      <th>2018.0</th>\n",
       "      <td>0.793734</td>\n",
       "      <td>24</td>\n",
       "    </tr>\n",
       "    <tr>\n",
       "      <th>2019.0</th>\n",
       "      <td>0.786885</td>\n",
       "      <td>15</td>\n",
       "    </tr>\n",
       "    <tr>\n",
       "      <th>2020.0</th>\n",
       "      <td>0.768657</td>\n",
       "      <td>13</td>\n",
       "    </tr>\n",
       "  </tbody>\n",
       "</table>\n",
       "</div>"
      ],
      "text/plain": [
       "             Win  streak_counter\n",
       "year                            \n",
       "2010.0  0.769444              18\n",
       "2011.0  0.770667              26\n",
       "2012.0  0.767507              19\n",
       "2013.0  0.780556              19\n",
       "2014.0  0.736413              15\n",
       "2015.0  0.787709              16\n",
       "2016.0  0.759777              16\n",
       "2017.0  0.748603              15\n",
       "2018.0  0.793734              24\n",
       "2019.0  0.786885              15\n",
       "2020.0  0.768657              13"
      ]
     },
     "execution_count": 335,
     "metadata": {},
     "output_type": "execute_result"
    }
   ],
   "source": [
    "year_results = selection_data.groupby('year').agg({'Win':'mean', 'streak_counter':'max'})\n",
    "year_results"
   ]
  },
  {
   "cell_type": "code",
   "execution_count": 336,
   "id": "decreased-transition",
   "metadata": {},
   "outputs": [
    {
     "data": {
      "text/plain": [
       "count    3777.000000\n",
       "mean        0.759785\n",
       "std         0.016051\n",
       "min         0.685019\n",
       "25%         0.749047\n",
       "50%         0.758323\n",
       "75%         0.769495\n",
       "max         0.826686\n",
       "Name: EstProb, dtype: float64"
      ]
     },
     "execution_count": 336,
     "metadata": {},
     "output_type": "execute_result"
    }
   ],
   "source": [
    "selection_data['EstProb'].describe()"
   ]
  },
  {
   "cell_type": "code",
   "execution_count": 337,
   "id": "composed-prototype",
   "metadata": {},
   "outputs": [
    {
     "data": {
      "text/plain": [
       "<AxesSubplot:xlabel='EstProb', ylabel='Win'>"
      ]
     },
     "execution_count": 337,
     "metadata": {},
     "output_type": "execute_result"
    },
    {
     "data": {
      "image/png": "[encoded data removed]",
      "text/plain": [
       "<Figure size 432x288 with 1 Axes>"
      ]
     },
     "metadata": {
      "needs_background": "light"
     },
     "output_type": "display_data"
    }
   ],
   "source": [
    "selection_data['bin'] = pd.qcut(selection_data['EstProb'], 10)\n",
    "\n",
    "dots = selection_data.groupby(['bin'])[['EstProb', 'Win']].agg('mean')\n",
    "dots = dots.reset_index()\n",
    "dots.plot.scatter('EstProb','Win')"
   ]
  },
  {
   "cell_type": "code",
   "execution_count": 338,
   "id": "established-highlight",
   "metadata": {},
   "outputs": [],
   "source": [
    "# Relief pitchers data\n",
    "\n",
    "# Reduce noise by using rolling windows to calculate moving averages over seasons for park records, batting records, and pitching records.\n",
    "# Improve to weighted averages\n",
    "\n",
    "# Start including data from current season\n",
    "\n",
    "# Relief pitchers data\n",
    "\n",
    "# Game Scores/ELOs\n",
    "\n",
    "# Team ratings\n",
    "\n",
    "# Better Pitcher overall ratings\n",
    "\n",
    "# Merge in 538 ELO ratings\n",
    "\n",
    "\n",
    "# Set up S3 if necessary for size, or for GPUs\n",
    "\n",
    "# Check # training observations for each model fit \n",
    "# and make sure we aren't losing any\n",
    "\n",
    "# Ensemble methods for NN and logistic\n",
    "\n",
    "# Rest days\n",
    "\n",
    "# Adjust Pitcher and Batter stats for park record ( merge it in and divide) - compare adjusted at home and away stats\n",
    "\n",
    "# New pitcher flag?\n",
    "\n",
    "# Find out where they are in the rotation\n",
    "\n",
    "# Fix training so that it doesn't need to specify number of variables\n",
    "\n",
    "# Split up grid search vs. non-grid search training\n",
    "\n",
    "# optimal skip strategy\n",
    "\n",
    "# Why is Win missing? Check merge loss"
   ]
  },
  {
   "cell_type": "code",
   "execution_count": 339,
   "id": "infinite-earthquake",
   "metadata": {},
   "outputs": [],
   "source": [
    "restricted = selection_data.loc[\n",
    "    (selection_data['park_factor'] >= 1),\n",
    "    ['Win', 'year']\n",
    "]"
   ]
  },
  {
   "cell_type": "code",
   "execution_count": 340,
   "id": "fitting-reward",
   "metadata": {},
   "outputs": [
    {
     "data": {
      "text/plain": [
       "28"
      ]
     },
     "execution_count": 340,
     "metadata": {},
     "output_type": "execute_result"
    }
   ],
   "source": [
    "restricted= restricted.astype({'Win':'int8'})\n",
    "restricted = streak_counter(restricted)\n",
    "streaks = restricted.groupby('streak_id').agg({'streak_counter':'max'})\n",
    "streaks['streak_counter'].max()"
   ]
  },
  {
   "cell_type": "code",
   "execution_count": 341,
   "id": "adapted-reporter",
   "metadata": {},
   "outputs": [
    {
     "name": "stdout",
     "output_type": "stream",
     "text": [
      "78.0%\n"
     ]
    }
   ],
   "source": [
    "Wins = restricted.loc[\n",
    "    (restricted['Win'] == True),\n",
    "    'Win'].count()\n",
    "Loses = restricted.loc[\n",
    "    (restricted['Win'] == False),\n",
    "    'Win'].count()\n",
    "WinRate = round( (Wins / (Wins + Loses)) *100, 1)\n",
    "print(str(WinRate) + '%')"
   ]
  },
  {
   "cell_type": "code",
   "execution_count": 342,
   "id": "dress-marketing",
   "metadata": {},
   "outputs": [],
   "source": [
    "selection_data = selection_data.sort_values(['year', 'Date'])"
   ]
  },
  {
   "cell_type": "code",
   "execution_count": 343,
   "id": "compound-precipitation",
   "metadata": {},
   "outputs": [],
   "source": [
    "selection_data['pick_day'] = selection_data.groupby(['year']).cumcount() + 1\n",
    "selection_data['pick_day'] = np.ceil(selection_data['pick_day'] / 2)"
   ]
  },
  {
   "cell_type": "code",
   "execution_count": 344,
   "id": "collective-tournament",
   "metadata": {},
   "outputs": [
    {
     "name": "stdout",
     "output_type": "stream",
     "text": [
      "1.0      22\n",
      "2.0      22\n",
      "3.0      22\n",
      "4.0      22\n",
      "5.0      22\n",
      "6.0      22\n",
      "7.0      22\n",
      "8.0      22\n",
      "9.0      22\n",
      "10.0     22\n",
      "11.0     22\n",
      "12.0     22\n",
      "13.0     22\n",
      "14.0     22\n",
      "15.0     22\n",
      "16.0     22\n",
      "17.0     22\n",
      "18.0     22\n",
      "19.0     22\n",
      "20.0     22\n",
      "21.0     22\n",
      "22.0     22\n",
      "23.0     22\n",
      "24.0     22\n",
      "25.0     22\n",
      "26.0     22\n",
      "27.0     22\n",
      "28.0     22\n",
      "29.0     22\n",
      "30.0     22\n",
      "31.0     22\n",
      "32.0     22\n",
      "33.0     22\n",
      "34.0     22\n",
      "35.0     22\n",
      "36.0     22\n",
      "37.0     22\n",
      "38.0     22\n",
      "39.0     22\n",
      "40.0     22\n",
      "41.0     22\n",
      "42.0     22\n",
      "43.0     22\n",
      "44.0     22\n",
      "45.0     22\n",
      "46.0     22\n",
      "47.0     22\n",
      "48.0     22\n",
      "49.0     22\n",
      "50.0     22\n",
      "51.0     22\n",
      "52.0     22\n",
      "53.0     22\n",
      "54.0     22\n",
      "55.0     22\n",
      "56.0     22\n",
      "57.0     22\n",
      "58.0     22\n",
      "59.0     22\n",
      "60.0     22\n",
      "61.0     22\n",
      "62.0     22\n",
      "63.0     22\n",
      "64.0     22\n",
      "65.0     22\n",
      "66.0     22\n",
      "67.0     22\n",
      "68.0     20\n",
      "69.0     20\n",
      "70.0     20\n",
      "71.0     20\n",
      "72.0     20\n",
      "73.0     20\n",
      "74.0     20\n",
      "75.0     20\n",
      "76.0     20\n",
      "77.0     20\n",
      "78.0     20\n",
      "79.0     20\n",
      "80.0     20\n",
      "81.0     20\n",
      "82.0     20\n",
      "83.0     20\n",
      "84.0     20\n",
      "85.0     20\n",
      "86.0     20\n",
      "87.0     20\n",
      "88.0     20\n",
      "89.0     20\n",
      "90.0     20\n",
      "91.0     20\n",
      "92.0     20\n",
      "93.0     20\n",
      "94.0     20\n",
      "95.0     20\n",
      "96.0     20\n",
      "97.0     20\n",
      "98.0     20\n",
      "99.0     20\n",
      "100.0    20\n",
      "101.0    20\n",
      "102.0    20\n",
      "103.0    20\n",
      "104.0    20\n",
      "105.0    20\n",
      "106.0    20\n",
      "107.0    20\n",
      "108.0    20\n",
      "109.0    20\n",
      "110.0    20\n",
      "111.0    20\n",
      "112.0    20\n",
      "113.0    20\n",
      "114.0    20\n",
      "115.0    20\n",
      "116.0    20\n",
      "117.0    20\n",
      "118.0    20\n",
      "119.0    20\n",
      "120.0    20\n",
      "121.0    20\n",
      "122.0    20\n",
      "123.0    20\n",
      "124.0    20\n",
      "125.0    20\n",
      "126.0    20\n",
      "127.0    20\n",
      "128.0    20\n",
      "129.0    20\n",
      "130.0    20\n",
      "131.0    20\n",
      "132.0    20\n",
      "133.0    20\n",
      "134.0    20\n",
      "135.0    20\n",
      "136.0    20\n",
      "137.0    20\n",
      "138.0    20\n",
      "139.0    20\n",
      "140.0    20\n",
      "141.0    20\n",
      "142.0    20\n",
      "143.0    20\n",
      "144.0    20\n",
      "145.0    20\n",
      "146.0    20\n",
      "147.0    20\n",
      "148.0    20\n",
      "149.0    20\n",
      "150.0    20\n",
      "151.0    20\n",
      "152.0    20\n",
      "153.0    20\n",
      "154.0    20\n",
      "155.0    20\n",
      "156.0    20\n",
      "157.0    20\n",
      "158.0    20\n",
      "159.0    20\n",
      "160.0    20\n",
      "161.0    20\n",
      "162.0    20\n",
      "163.0    20\n",
      "164.0    20\n",
      "165.0    20\n",
      "166.0    20\n",
      "167.0    20\n",
      "168.0    20\n",
      "169.0    20\n",
      "170.0    20\n",
      "171.0    20\n",
      "172.0    20\n",
      "173.0    20\n",
      "174.0    20\n",
      "175.0    20\n",
      "176.0    20\n",
      "177.0    20\n",
      "178.0    20\n",
      "179.0    19\n",
      "180.0    12\n",
      "181.0     8\n",
      "182.0     8\n",
      "183.0     8\n",
      "184.0     6\n",
      "185.0     4\n",
      "186.0     4\n",
      "187.0     4\n",
      "188.0     3\n",
      "189.0     2\n",
      "190.0     2\n",
      "191.0     2\n",
      "192.0     1\n"
     ]
    }
   ],
   "source": [
    "print(selection_data['pick_day'].value_counts().sort_index().to_string())"
   ]
  },
  {
   "cell_type": "code",
   "execution_count": null,
   "id": "graduate-jimmy",
   "metadata": {},
   "outputs": [],
   "source": []
  },
  {
   "cell_type": "code",
   "execution_count": null,
   "id": "indoor-peninsula",
   "metadata": {},
   "outputs": [],
   "source": []
  }
 ],
 "metadata": {
  "kernelspec": {
   "display_name": "bts",
   "language": "python",
   "name": "bts"
  },
  "language_info": {
   "codemirror_mode": {
    "name": "ipython",
    "version": 3
   },
   "file_extension": ".py",
   "mimetype": "text/x-python",
   "name": "python",
   "nbconvert_exporter": "python",
   "pygments_lexer": "ipython3",
   "version": "3.7.10"
  }
 },
 "nbformat": 4,
 "nbformat_minor": 5
}
