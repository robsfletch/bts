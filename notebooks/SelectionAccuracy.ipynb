{
 "cells": [
  {
   "cell_type": "code",
   "execution_count": 641,
   "id": "measured-evanescence",
   "metadata": {},
   "outputs": [],
   "source": [
    "from pathlib import Path\n",
    "import pandas as pd\n",
    "\n",
    "processed = Path('../data/processed')\n",
    "selection_data = pd.read_pickle(Path(processed) / 'selection_data.pkl')"
   ]
  },
  {
   "cell_type": "code",
   "execution_count": 642,
   "id": "unsigned-heavy",
   "metadata": {},
   "outputs": [],
   "source": [
    "selection_data = selection_data[selection_data.year >= 2018]"
   ]
  },
  {
   "cell_type": "code",
   "execution_count": 643,
   "id": "mounted-absolute",
   "metadata": {},
   "outputs": [
    {
     "data": {
      "text/plain": [
       "spot  home \n",
       "1     True     276\n",
       "      False    159\n",
       "2     True     140\n",
       "      False     62\n",
       "3     True      53\n",
       "      False     30\n",
       "4     True      16\n",
       "      False     10\n",
       "5     True       2\n",
       "6     False      2\n",
       "5     False      1\n",
       "7     True       1\n",
       "dtype: int64"
      ]
     },
     "execution_count": 643,
     "metadata": {},
     "output_type": "execute_result"
    }
   ],
   "source": [
    "selection_data[['spot', 'home']].value_counts()"
   ]
  },
  {
   "cell_type": "code",
   "execution_count": 644,
   "id": "fleet-contrary",
   "metadata": {},
   "outputs": [],
   "source": [
    "def adjust_plot(plt):\n",
    "    plt.xaxis.grid(False)\n",
    "    plt.yaxis.grid(True, linestyle='dashed', color='lightgrey')\n",
    "    plt.set_axisbelow(True)\n",
    "    plt.xaxis.set_ticks_position('none') \n",
    "    plt.yaxis.set_ticks_position('none') \n",
    "\n",
    "    plt.spines['right'].set_visible(False)\n",
    "    plt.spines['top'].set_visible(False)"
   ]
  },
  {
   "cell_type": "code",
   "execution_count": 645,
   "id": "graduate-glucose",
   "metadata": {},
   "outputs": [
    {
     "data": {
      "image/png": "[encoded data removed]",
      "text/plain": [
       "<Figure size 432x288 with 1 Axes>"
      ]
     },
     "metadata": {
      "needs_background": "light"
     },
     "output_type": "display_data"
    }
   ],
   "source": [
    "plot = selection_data['spot'].astype(float).hist(\n",
    "    bins=9, range=(0.5,9.5), rwidth=0.9, density=True\n",
    ")\n",
    "adjust_plot(plot)\n"
   ]
  },
  {
   "cell_type": "code",
   "execution_count": 646,
   "id": "animal-sociology",
   "metadata": {},
   "outputs": [
    {
     "data": {
      "image/png": "[encoded data removed]",
      "text/plain": [
       "<Figure size 432x288 with 1 Axes>"
      ]
     },
     "metadata": {
      "needs_background": "light"
     },
     "output_type": "display_data"
    }
   ],
   "source": [
    "plot2 = selection_data['home'].astype(float).hist(density=True, bins=2, range=(-.5, 1.5), rwidth=0.9)\n",
    "adjust_plot(plot2)"
   ]
  },
  {
   "cell_type": "code",
   "execution_count": 647,
   "id": "quarterly-tonight",
   "metadata": {},
   "outputs": [
    {
     "name": "stdout",
     "output_type": "stream",
     "text": [
      "78.5%\n"
     ]
    }
   ],
   "source": [
    "Wins = selection_data.loc[selection_data['Win'] == True, 'Win'].count()\n",
    "Loses = selection_data.loc[selection_data['Win'] == False, 'Win'].count()\n",
    "WinRate = round( (Wins / (Wins + Loses)) *100, 1)\n",
    "print(str(WinRate) + '%')"
   ]
  },
  {
   "cell_type": "code",
   "execution_count": 648,
   "id": "norwegian-shaft",
   "metadata": {},
   "outputs": [],
   "source": [
    "def streak_counter(df):\n",
    "    df['L_Win'] = df['Win'].shift(1)\n",
    "    df['L_year'] = df['year'].shift(1)\n",
    "    df['start_of_streak'] = (df['Win'] != df['L_Win']) | (df['year'] != df['L_year'])\n",
    "    df['streak_id'] = df['start_of_streak'].cumsum()\n",
    "    df['streak_counter'] = df.groupby('streak_id').cumcount() + 1\n",
    "    df.loc[df.Win == False, 'streak_counter'] = 0\n",
    "    \n",
    "    return df"
   ]
  },
  {
   "cell_type": "code",
   "execution_count": 649,
   "id": "sublime-victoria",
   "metadata": {},
   "outputs": [
    {
     "data": {
      "text/plain": [
       "29"
      ]
     },
     "execution_count": 649,
     "metadata": {},
     "output_type": "execute_result"
    }
   ],
   "source": [
    "selection_data = streak_counter(selection_data)\n",
    "streaks = selection_data.groupby('streak_id').agg({'streak_counter':'max'})\n",
    "streaks['streak_counter'].max()"
   ]
  },
  {
   "cell_type": "code",
   "execution_count": 650,
   "id": "egyptian-quick",
   "metadata": {},
   "outputs": [
    {
     "data": {
      "text/plain": [
       "count    752.000000\n",
       "mean       0.757954\n",
       "std        0.025211\n",
       "min        0.702311\n",
       "25%        0.740631\n",
       "50%        0.751984\n",
       "75%        0.771292\n",
       "max        0.871558\n",
       "Name: EstProb, dtype: float64"
      ]
     },
     "execution_count": 650,
     "metadata": {},
     "output_type": "execute_result"
    }
   ],
   "source": [
    "selection_data['EstProb'].describe()"
   ]
  },
  {
   "cell_type": "code",
   "execution_count": 550,
   "id": "passive-qatar",
   "metadata": {},
   "outputs": [],
   "source": [
    "# Reduce noise by using rolling windows to calculate moving averages over seasons for park records, batting records, and pitching records.\n",
    "# Improve to weighted averages\n",
    "\n",
    "# Start including data from current season \n",
    "\n",
    "# Use score from sci kit learn to evaluate models better\n",
    "\n",
    "# Relief pitchers data\n",
    "\n",
    "# Rest days\n",
    "\n",
    "# Game Scores/ELOs\n",
    "\n",
    "# Team ratings\n",
    "\n",
    "# Better Pitcher overall ratings"
   ]
  },
  {
   "cell_type": "code",
   "execution_count": null,
   "id": "marine-rates",
   "metadata": {},
   "outputs": [],
   "source": []
  }
 ],
 "metadata": {
  "kernelspec": {
   "display_name": "bts",
   "language": "python",
   "name": "bts"
  },
  "language_info": {
   "codemirror_mode": {
    "name": "ipython",
    "version": 3
   },
   "file_extension": ".py",
   "mimetype": "text/x-python",
   "name": "python",
   "nbconvert_exporter": "python",
   "pygments_lexer": "ipython3",
   "version": "3.7.10"
  }
 },
 "nbformat": 4,
 "nbformat_minor": 5
}
