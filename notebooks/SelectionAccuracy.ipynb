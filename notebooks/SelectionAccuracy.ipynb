{
 "cells": [
  {
   "cell_type": "code",
   "execution_count": 33,
   "id": "healthy-campbell",
   "metadata": {},
   "outputs": [],
   "source": [
    "from pathlib import Path\n",
    "import pandas as pd\n",
    "\n",
    "processed = Path('../data/processed')\n",
    "selection_data = pd.read_pickle(Path(processed) / 'selection_data.pkl')"
   ]
  },
  {
   "cell_type": "code",
   "execution_count": 34,
   "id": "ongoing-times",
   "metadata": {},
   "outputs": [],
   "source": [
    "selection_data = selection_data[selection_data.year >= 2018]"
   ]
  },
  {
   "cell_type": "code",
   "execution_count": 35,
   "id": "sunset-melbourne",
   "metadata": {},
   "outputs": [
    {
     "data": {
      "text/plain": [
       "spot  home\n",
       "1.0   1.0     347\n",
       "      0.0     207\n",
       "2.0   1.0     167\n",
       "      0.0      63\n",
       "3.0   1.0      56\n",
       "      0.0      30\n",
       "4.0   1.0       9\n",
       "      0.0       6\n",
       "5.0   0.0       1\n",
       "dtype: int64"
      ]
     },
     "execution_count": 35,
     "metadata": {},
     "output_type": "execute_result"
    }
   ],
   "source": [
    "selection_data[['spot', 'home']].value_counts()"
   ]
  },
  {
   "cell_type": "code",
   "execution_count": 36,
   "id": "minimal-system",
   "metadata": {},
   "outputs": [],
   "source": [
    "def adjust_plot(plt):\n",
    "    plt.xaxis.grid(False)\n",
    "    plt.yaxis.grid(True, linestyle='dashed', color='lightgrey')\n",
    "    plt.set_axisbelow(True)\n",
    "    plt.xaxis.set_ticks_position('none') \n",
    "    plt.yaxis.set_ticks_position('none') \n",
    "\n",
    "    plt.spines['right'].set_visible(False)\n",
    "    plt.spines['top'].set_visible(False)"
   ]
  },
  {
   "cell_type": "code",
   "execution_count": 37,
   "id": "narrative-thought",
   "metadata": {},
   "outputs": [
    {
     "data": {
      "image/png": "[encoded data removed]",
      "text/plain": [
       "<Figure size 432x288 with 1 Axes>"
      ]
     },
     "metadata": {
      "needs_background": "light"
     },
     "output_type": "display_data"
    }
   ],
   "source": [
    "plot = selection_data['spot'].astype(float).hist(\n",
    "    bins=9, range=(0.5,9.5), rwidth=0.9, density=True\n",
    ")\n",
    "adjust_plot(plot)\n"
   ]
  },
  {
   "cell_type": "code",
   "execution_count": 38,
   "id": "extra-marble",
   "metadata": {},
   "outputs": [
    {
     "data": {
      "image/png": "[encoded data removed]",
      "text/plain": [
       "<Figure size 432x288 with 1 Axes>"
      ]
     },
     "metadata": {
      "needs_background": "light"
     },
     "output_type": "display_data"
    }
   ],
   "source": [
    "plot2 = selection_data['home'].astype(float).hist(density=True, bins=2, range=(-.5, 1.5), rwidth=0.9)\n",
    "adjust_plot(plot2)"
   ]
  },
  {
   "cell_type": "code",
   "execution_count": 39,
   "id": "apparent-breast",
   "metadata": {},
   "outputs": [
    {
     "name": "stdout",
     "output_type": "stream",
     "text": [
      "79.9%\n"
     ]
    }
   ],
   "source": [
    "Wins = selection_data.loc[selection_data['Win'] == True, 'Win'].count()\n",
    "Loses = selection_data.loc[selection_data['Win'] == False, 'Win'].count()\n",
    "WinRate = round( (Wins / (Wins + Loses)) *100, 1)\n",
    "print(str(WinRate) + '%')"
   ]
  },
  {
   "cell_type": "code",
   "execution_count": 40,
   "id": "likely-creator",
   "metadata": {},
   "outputs": [],
   "source": [
    "def streak_counter(df):\n",
    "    df['L_Win'] = df['Win'].shift(1)\n",
    "    df['start_of_streak'] = (df['Win'] != df['L_Win'])\n",
    "    df['streak_id'] = df['start_of_streak'].cumsum()\n",
    "    df['streak_counter'] = df.groupby('streak_id').cumcount() + 1\n",
    "    df.loc[df.Win == 0, 'streak_counter'] = 0\n",
    "    \n",
    "    return df"
   ]
  },
  {
   "cell_type": "code",
   "execution_count": 41,
   "id": "every-scope",
   "metadata": {},
   "outputs": [
    {
     "data": {
      "text/plain": [
       "31"
      ]
     },
     "execution_count": 41,
     "metadata": {},
     "output_type": "execute_result"
    }
   ],
   "source": [
    "selection_data = selection_data.astype({'Win':'int8'})\n",
    "selection_data = streak_counter(selection_data)\n",
    "streaks = selection_data.groupby('streak_id').agg({'streak_counter':'max'})\n",
    "streaks['streak_counter'].max()"
   ]
  },
  {
   "cell_type": "code",
   "execution_count": 42,
   "id": "decreased-transition",
   "metadata": {},
   "outputs": [
    {
     "data": {
      "text/plain": [
       "count    886.000000\n",
       "mean       0.760091\n",
       "std        0.023478\n",
       "min        0.700167\n",
       "25%        0.743684\n",
       "50%        0.755839\n",
       "75%        0.773846\n",
       "max        0.882463\n",
       "Name: EstProb, dtype: float64"
      ]
     },
     "execution_count": 42,
     "metadata": {},
     "output_type": "execute_result"
    }
   ],
   "source": [
    "selection_data['EstProb'].describe()"
   ]
  },
  {
   "cell_type": "code",
   "execution_count": 22,
   "id": "established-highlight",
   "metadata": {},
   "outputs": [],
   "source": [
    "# Reduce noise by using rolling windows to calculate moving averages over seasons for park records, batting records, and pitching records.\n",
    "# Improve to weighted averages\n",
    "\n",
    "# Start including data from current season \n",
    "\n",
    "# Use score from sci kit learn to evaluate models better\n",
    "\n",
    "# try tensor\n",
    "\n",
    "# Lineup Fixed Effects\n",
    "\n",
    "# Relief pitchers data"
   ]
  },
  {
   "cell_type": "code",
   "execution_count": null,
   "id": "awful-tuition",
   "metadata": {},
   "outputs": [],
   "source": []
  }
 ],
 "metadata": {
  "kernelspec": {
   "display_name": "bts",
   "language": "python",
   "name": "bts"
  },
  "language_info": {
   "codemirror_mode": {
    "name": "ipython",
    "version": 3
   },
   "file_extension": ".py",
   "mimetype": "text/x-python",
   "name": "python",
   "nbconvert_exporter": "python",
   "pygments_lexer": "ipython3",
   "version": "3.7.10"
  }
 },
 "nbformat": 4,
 "nbformat_minor": 5
}
