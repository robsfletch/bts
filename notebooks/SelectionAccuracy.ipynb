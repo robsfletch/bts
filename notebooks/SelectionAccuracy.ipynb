{
 "cells": [
  {
   "cell_type": "code",
   "execution_count": 337,
   "id": "measured-evanescence",
   "metadata": {},
   "outputs": [],
   "source": [
    "from pathlib import Path\n",
    "import pandas as pd\n",
    "\n",
    "processed = Path('../data/processed')\n",
    "selection_data = pd.read_pickle(Path(processed) / 'selection_data.pkl')"
   ]
  },
  {
   "cell_type": "code",
   "execution_count": 338,
   "id": "unsigned-heavy",
   "metadata": {},
   "outputs": [],
   "source": [
    "selection_data = selection_data[selection_data.year >= 2015]"
   ]
  },
  {
   "cell_type": "code",
   "execution_count": 339,
   "id": "mounted-absolute",
   "metadata": {},
   "outputs": [
    {
     "data": {
      "text/plain": [
       "spot  home\n",
       "1     1       823\n",
       "2     1       413\n",
       "1     0       292\n",
       "3     1       186\n",
       "2     0        96\n",
       "3     0        72\n",
       "4     1        56\n",
       "      0        11\n",
       "5     1         5\n",
       "      0         2\n",
       "dtype: int64"
      ]
     },
     "execution_count": 339,
     "metadata": {},
     "output_type": "execute_result"
    }
   ],
   "source": [
    "selection_data[['spot', 'home']].value_counts()"
   ]
  },
  {
   "cell_type": "code",
   "execution_count": 340,
   "id": "fleet-contrary",
   "metadata": {},
   "outputs": [],
   "source": [
    "def adjust_plot(plt):\n",
    "    plt.xaxis.grid(False)\n",
    "    plt.yaxis.grid(True, linestyle='dashed', color='lightgrey')\n",
    "    plt.set_axisbelow(True)\n",
    "    plt.xaxis.set_ticks_position('none') \n",
    "    plt.yaxis.set_ticks_position('none') \n",
    "\n",
    "    plt.spines['right'].set_visible(False)\n",
    "    plt.spines['top'].set_visible(False)"
   ]
  },
  {
   "cell_type": "code",
   "execution_count": 341,
   "id": "graduate-glucose",
   "metadata": {},
   "outputs": [
    {
     "data": {
      "image/png": "[encoded data removed]",
      "text/plain": [
       "<Figure size 432x288 with 1 Axes>"
      ]
     },
     "metadata": {
      "needs_background": "light"
     },
     "output_type": "display_data"
    }
   ],
   "source": [
    "plot = selection_data['spot'].astype(float).hist(\n",
    "    bins=9, range=(0.5,9.5), rwidth=0.9, density=True\n",
    ")\n",
    "adjust_plot(plot)\n"
   ]
  },
  {
   "cell_type": "code",
   "execution_count": 342,
   "id": "animal-sociology",
   "metadata": {},
   "outputs": [
    {
     "data": {
      "image/png": "[encoded data removed]",
      "text/plain": [
       "<Figure size 432x288 with 1 Axes>"
      ]
     },
     "metadata": {
      "needs_background": "light"
     },
     "output_type": "display_data"
    }
   ],
   "source": [
    "plot2 = selection_data['home'].astype(float).hist(density=True, bins=2, range=(-.5, 1.5), rwidth=0.9)\n",
    "adjust_plot(plot2)"
   ]
  },
  {
   "cell_type": "code",
   "execution_count": 343,
   "id": "quarterly-tonight",
   "metadata": {},
   "outputs": [
    {
     "name": "stdout",
     "output_type": "stream",
     "text": [
      "77.5%\n"
     ]
    }
   ],
   "source": [
    "Wins = selection_data.loc[selection_data['Win'] == True, 'Win'].count()\n",
    "Loses = selection_data.loc[selection_data['Win'] == False, 'Win'].count()\n",
    "WinRate = round( (Wins / (Wins + Loses)) *100, 1)\n",
    "print(str(WinRate) + '%')"
   ]
  },
  {
   "cell_type": "code",
   "execution_count": 344,
   "id": "norwegian-shaft",
   "metadata": {},
   "outputs": [],
   "source": [
    "def streak_counter(df):\n",
    "    df['L_Win'] = df['Win'].shift(1)\n",
    "    df['L_year'] = df['year'].shift(1)\n",
    "    df['start_of_streak'] = (df['Win'] != df['L_Win']) | (df['year'] != df['L_year'])\n",
    "    df['streak_id'] = df['start_of_streak'].cumsum()\n",
    "    df['streak_counter'] = df.groupby('streak_id').cumcount() + 1\n",
    "    df.loc[df.Win == False, 'streak_counter'] = 0\n",
    "    \n",
    "    return df"
   ]
  },
  {
   "cell_type": "code",
   "execution_count": 345,
   "id": "sublime-victoria",
   "metadata": {},
   "outputs": [
    {
     "data": {
      "text/plain": [
       "26"
      ]
     },
     "execution_count": 345,
     "metadata": {},
     "output_type": "execute_result"
    }
   ],
   "source": [
    "selection_data = streak_counter(selection_data)\n",
    "streaks = selection_data.groupby('streak_id').agg({'streak_counter':'max'})\n",
    "streaks['streak_counter'].max()"
   ]
  },
  {
   "cell_type": "code",
   "execution_count": 346,
   "id": "egyptian-quick",
   "metadata": {},
   "outputs": [
    {
     "data": {
      "text/plain": [
       "count    1956.000000\n",
       "mean        0.763644\n",
       "std         0.023031\n",
       "min         0.676950\n",
       "25%         0.746098\n",
       "50%         0.760316\n",
       "75%         0.780025\n",
       "max         0.856912\n",
       "Name: EstProb, dtype: float64"
      ]
     },
     "execution_count": 346,
     "metadata": {},
     "output_type": "execute_result"
    }
   ],
   "source": [
    "selection_data['EstProb'].describe()"
   ]
  },
  {
   "cell_type": "code",
   "execution_count": 263,
   "id": "passive-qatar",
   "metadata": {},
   "outputs": [],
   "source": [
    "# Reduce noise by using rolling windows to calculate moving averages over seasons for park records, batting records, and pitching records.\n",
    "# Improve to weighted averages\n",
    "\n",
    "# Start including data from current season \n",
    "\n",
    "# Use score from sci kit learn to evaluate models better\n",
    "\n",
    "# Relief pitchers data\n",
    "\n",
    "# Rest days\n",
    "\n",
    "# Game Scores/ELOs\n",
    "\n",
    "# Team ratings\n",
    "\n",
    "# Better Pitcher overall ratings\n",
    "\n",
    "# Set up S3 if necessary for size\n",
    "\n",
    "# Check # training observations for each model fit \n",
    "# and make sure we aren't losing any\n",
    "\n",
    "# Graphs of all the input variables to check for outliers"
   ]
  },
  {
   "cell_type": "code",
   "execution_count": null,
   "id": "marine-rates",
   "metadata": {},
   "outputs": [],
   "source": []
  }
 ],
 "metadata": {
  "kernelspec": {
   "display_name": "bts",
   "language": "python",
   "name": "bts"
  },
  "language_info": {
   "codemirror_mode": {
    "name": "ipython",
    "version": 3
   },
   "file_extension": ".py",
   "mimetype": "text/x-python",
   "name": "python",
   "nbconvert_exporter": "python",
   "pygments_lexer": "ipython3",
   "version": "3.7.10"
  }
 },
 "nbformat": 4,
 "nbformat_minor": 5
}
