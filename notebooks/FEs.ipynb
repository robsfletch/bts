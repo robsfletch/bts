{
 "cells": [
  {
   "cell_type": "code",
   "execution_count": 1,
   "id": "accompanied-plate",
   "metadata": {},
   "outputs": [],
   "source": [
    "import pandas as pd\n",
    "from pathlib import Path\n",
    "import statsmodels.formula.api as sm\n",
    "import numpy as np\n",
    "import patsy"
   ]
  },
  {
   "cell_type": "code",
   "execution_count": 2,
   "id": "jewish-gospel",
   "metadata": {},
   "outputs": [],
   "source": [
    "interim = '../data/interim'"
   ]
  },
  {
   "cell_type": "code",
   "execution_count": 3,
   "id": "secondary-authority",
   "metadata": {},
   "outputs": [],
   "source": [
    "gl = pd.read_pickle(Path(interim) / 'game_logs.pkl')\n",
    "gl = gl.loc[:, ['GAME_ID', 'HomeH', 'VisitorH', 'ParkID', 'HomeTeam', 'VisitingTeam', 'year']]\n",
    "gl = gl.astype({\n",
    "    'HomeH': 'float', \n",
    "    'VisitorH': 'float', \n",
    "    'ParkID': 'object', \n",
    "    'HomeTeam':'object', \n",
    "    'VisitingTeam': 'object',\n",
    "})\n",
    "gl = gl.rename(columns={\n",
    "    'HomeH': 'H_Home',\n",
    "    'VisitorH': 'H_Visitor',\n",
    "})\n",
    "gl = gl.dropna()\n",
    "\n",
    "gl = pd.wide_to_long(\n",
    "    gl , \n",
    "    ['H'] , \n",
    "    i=['GAME_ID', 'year', 'HomeTeam', 'VisitingTeam'], \n",
    "    j='Home', \n",
    "    sep='_', \n",
    "    suffix=r'\\w+'\n",
    ")\n",
    "\n",
    "gl = gl.reset_index().set_index(['GAME_ID'])\n",
    "gl['BatTeam'] = np.where(\n",
    "    gl['Home'] == 'Home',\n",
    "    gl['HomeTeam'],\n",
    "    gl['VisitingTeam']\n",
    ")\n",
    "gl['FieldTeam'] = np.where(\n",
    "    gl['Home'] == 'Home',\n",
    "    gl['VisitingTeam'],\n",
    "    gl['HomeTeam']\n",
    ")\n",
    "\n",
    "gl = gl[['year', 'ParkID', 'H', 'BatTeam', 'FieldTeam']]\n",
    "\n",
    "# gl['LogH'] = np.log(gl['H'])"
   ]
  },
  {
   "cell_type": "code",
   "execution_count": 4,
   "id": "massive-slovakia",
   "metadata": {},
   "outputs": [],
   "source": [
    "park_factors = pd.DataFrame(columns=['ParkID', 'factor', 'year'])\n",
    "\n",
    "max_year = gl.year.max() + 1\n",
    "min_year = gl.year.min()\n",
    "for year in range(1920, max_year):\n",
    "    gl_year = gl.loc[gl.year == year]\n",
    "\n",
    "    result = sm.ols(formula=\"H ~ C(ParkID) + C(BatTeam) + C(FieldTeam)\", data=gl_year).fit()\n",
    "\n",
    "    test = pd.DataFrame(result.params)\n",
    "    test = test.reset_index()\n",
    "    test.columns = ['ParkID', 'factor']\n",
    "\n",
    "\n",
    "    ParkFactors = test.loc[test.ParkID.str.contains('ParkID'), ['ParkID', 'factor']]\n",
    "\n",
    "    ParkFactors['ParkID'] = ParkFactors.ParkID.str.slice(start=-6, stop=-1)\n",
    "\n",
    "    mat = patsy.dmatrix(\"C(ParkID)\", gl_year)\n",
    "    di = mat.design_info\n",
    "    fi = di.factor_infos\n",
    "    fi2 = fi[list(di.factor_infos.keys())[0]]\n",
    "    omitted = fi2.categories[0]\n",
    "    \n",
    "    ParkFactors = ParkFactors.append({'ParkID':omitted, 'factor':0}, ignore_index=True)\n",
    "    \n",
    "    ParkFactors['year'] = year\n",
    "    \n",
    "    park_factors = park_factors.append(ParkFactors)\n",
    "    \n",
    "    \n",
    "    \n",
    "park_factors = park_factors.sort_values(['ParkID', 'year'])\n",
    "park_factors = park_factors.set_index(['ParkID', 'year'])\n",
    "\n",
    "ObsCount = gl.groupby(['ParkID', 'year'])[['ParkID']].count()\n",
    "ObsCount.columns = ['N']\n",
    "\n",
    "park_factors = pd.merge(park_factors, ObsCount, on=['ParkID', 'year'])"
   ]
  },
  {
   "cell_type": "code",
   "execution_count": 5,
   "id": "representative-iceland",
   "metadata": {},
   "outputs": [],
   "source": [
    "park_factors = park_factors.sort_values(['ParkID', 'year'])"
   ]
  },
  {
   "cell_type": "code",
   "execution_count": 6,
   "id": "minor-heater",
   "metadata": {},
   "outputs": [],
   "source": [
    "park_factors['lag_factor'] = park_factors.groupby('ParkID')['factor'].shift(1)"
   ]
  },
  {
   "cell_type": "code",
   "execution_count": 7,
   "id": "permanent-harvest",
   "metadata": {},
   "outputs": [
    {
     "name": "stdout",
     "output_type": "stream",
     "text": [
      "                            OLS Regression Results                            \n",
      "==============================================================================\n",
      "Dep. Variable:                 factor   R-squared:                       0.195\n",
      "Model:                            OLS   Adj. R-squared:                  0.195\n",
      "Method:                 Least Squares   F-statistic:                     521.6\n",
      "Date:                Mon, 22 Mar 2021   Prob (F-statistic):          1.48e-103\n",
      "Time:                        14:17:37   Log-Likelihood:                -2427.5\n",
      "No. Observations:                2154   AIC:                             4859.\n",
      "Df Residuals:                    2152   BIC:                             4870.\n",
      "Df Model:                           1                                         \n",
      "Covariance Type:            nonrobust                                         \n",
      "==============================================================================\n",
      "                 coef    std err          t      P>|t|      [0.025      0.975]\n",
      "------------------------------------------------------------------------------\n",
      "Intercept      0.0513      0.016      3.160      0.002       0.019       0.083\n",
      "lag_factor     0.4438      0.019     22.839      0.000       0.406       0.482\n",
      "==============================================================================\n",
      "Omnibus:                       41.945   Durbin-Watson:                   2.190\n",
      "Prob(Omnibus):                  0.000   Jarque-Bera (JB):               83.561\n",
      "Skew:                          -0.056   Prob(JB):                     7.16e-19\n",
      "Kurtosis:                       3.958   Cond. No.                         1.25\n",
      "==============================================================================\n",
      "\n",
      "Notes:\n",
      "[1] Standard Errors assume that the covariance matrix of the errors is correctly specified.\n"
     ]
    }
   ],
   "source": [
    "result = sm.ols(formula=\"factor ~ lag_factor\", data=park_factors).fit()\n",
    "print(result.summary())"
   ]
  },
  {
   "cell_type": "code",
   "execution_count": 8,
   "id": "radio-librarian",
   "metadata": {},
   "outputs": [
    {
     "data": {
      "text/plain": [
       "<AxesSubplot:xlabel='lag_factor', ylabel='factor'>"
      ]
     },
     "execution_count": 8,
     "metadata": {},
     "output_type": "execute_result"
    },
    {
     "data": {
      "image/png": "[encoded data removed]",
      "text/plain": [
       "<Figure size 432x288 with 1 Axes>"
      ]
     },
     "metadata": {
      "needs_background": "light"
     },
     "output_type": "display_data"
    }
   ],
   "source": [
    "park_factors.plot.scatter(x='lag_factor', y='factor')"
   ]
  },
  {
   "cell_type": "code",
   "execution_count": null,
   "id": "invalid-patio",
   "metadata": {},
   "outputs": [],
   "source": []
  }
 ],
 "metadata": {
  "kernelspec": {
   "display_name": "bts",
   "language": "python",
   "name": "bts"
  },
  "language_info": {
   "codemirror_mode": {
    "name": "ipython",
    "version": 3
   },
   "file_extension": ".py",
   "mimetype": "text/x-python",
   "name": "python",
   "nbconvert_exporter": "python",
   "pygments_lexer": "ipython3",
   "version": "3.7.10"
  }
 },
 "nbformat": 4,
 "nbformat_minor": 5
}
