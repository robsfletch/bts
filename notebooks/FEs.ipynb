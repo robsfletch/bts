{
 "cells": [
  {
   "cell_type": "code",
   "execution_count": 1,
   "id": "accompanied-plate",
   "metadata": {},
   "outputs": [],
   "source": [
    "import pandas as pd\n",
    "from pathlib import Path\n",
    "import statsmodels.formula.api as sm\n",
    "import numpy as np\n",
    "import patsy"
   ]
  },
  {
   "cell_type": "code",
   "execution_count": 2,
   "id": "jewish-gospel",
   "metadata": {},
   "outputs": [],
   "source": [
    "interim = '../data/interim'"
   ]
  },
  {
   "cell_type": "code",
   "execution_count": 3,
   "id": "secondary-authority",
   "metadata": {},
   "outputs": [],
   "source": [
    "gl = pd.read_pickle(Path(interim) / 'game_logs.pkl')\n",
    "\n",
    "gl['DH_FL'] = gl.filter(regex='.*Batting.Position').isin([10]).max(axis=1).astype('int')\n",
    "gl = gl.loc[:, ['GAME_ID', 'HomeH', 'VisitorH', 'ParkID', 'HomeTeam', 'VisitingTeam', 'year', 'DH_FL']]\n",
    "gl = gl.astype({\n",
    "    'HomeH': 'float',\n",
    "    'VisitorH': 'float',\n",
    "    'ParkID': 'object',\n",
    "    'HomeTeam':'object',\n",
    "    'VisitingTeam': 'object',\n",
    "})\n",
    "gl = gl.rename(columns={\n",
    "    'HomeH': 'H_Home',\n",
    "    'VisitorH': 'H_Visitor',\n",
    "})\n",
    "gl = gl.dropna()\n",
    "\n",
    "gl = pd.wide_to_long(\n",
    "    gl , ['H'] , i=['GAME_ID', 'year', 'HomeTeam', 'VisitingTeam'],\n",
    "    j='Home', sep='_', suffix=r'\\w+'\n",
    ")\n",
    "\n",
    "gl = gl.reset_index().set_index(['GAME_ID'])\n",
    "gl['BatTeam'] = np.where(\n",
    "    gl['Home'] == 'Home',\n",
    "    gl['HomeTeam'],\n",
    "    gl['VisitingTeam']\n",
    ")\n",
    "\n",
    "gl['FieldTeam'] = np.where(\n",
    "    gl['Home'] == 'Home',\n",
    "    gl['VisitingTeam'],\n",
    "    gl['HomeTeam']\n",
    ")\n",
    "\n",
    "gl = gl[['year', 'ParkID', 'H', 'BatTeam', 'FieldTeam', 'DH_FL']]\n",
    "\n",
    "gl['Log_H'] = np.log(gl['H'] + 1)"
   ]
  },
  {
   "cell_type": "code",
   "execution_count": 4,
   "id": "massive-slovakia",
   "metadata": {},
   "outputs": [],
   "source": [
    "park_factors = pd.DataFrame(columns=['ParkID', 'factor_year', 'year'])\n",
    "\n",
    "max_year = gl.year.max() + 1\n",
    "min_year = gl.year.min()\n",
    "for year in range(1920, max_year):\n",
    "    gl_year = gl.loc[gl.year == year]\n",
    "\n",
    "    result = sm.ols(formula=\"Log_H ~ C(ParkID) + C(BatTeam) + C(FieldTeam)\", data=gl_year).fit()\n",
    "\n",
    "    test = pd.DataFrame(result.params)\n",
    "    test = test.reset_index()\n",
    "    test.columns = ['ParkID', 'factor_year']\n",
    "\n",
    "    ParkFactors = test.loc[test.ParkID.str.contains('ParkID'), ['ParkID', 'factor_year']]\n",
    "\n",
    "    ParkFactors['ParkID'] = ParkFactors.ParkID.str.slice(start=-6, stop=-1)\n",
    "\n",
    "    mat = patsy.dmatrix(\"C(ParkID)\", gl_year)\n",
    "    di = mat.design_info\n",
    "    fi = di.factor_infos\n",
    "    fi2 = fi[list(di.factor_infos.keys())[0]]\n",
    "    omitted = fi2.categories[0]\n",
    "    \n",
    "    ParkFactors = ParkFactors.append({'ParkID':omitted, 'factor_year':0}, ignore_index=True)\n",
    "    \n",
    "    ParkFactors['year'] = year\n",
    "    \n",
    "    park_factors = park_factors.append(ParkFactors)\n",
    "    \n",
    "park_factors = park_factors.sort_values(['ParkID', 'year'])\n",
    "park_factors = park_factors.set_index(['ParkID', 'year'])\n",
    "\n",
    "ObsCount = gl.groupby(['ParkID', 'year'])[['ParkID']].count()\n",
    "ObsCount.columns = ['N']\n",
    "\n",
    "park_factors = pd.merge(park_factors, ObsCount, on=['ParkID', 'year'])"
   ]
  },
  {
   "cell_type": "code",
   "execution_count": 5,
   "id": "representative-iceland",
   "metadata": {},
   "outputs": [],
   "source": [
    "park_factors = park_factors.sort_values(['ParkID', 'year'])"
   ]
  },
  {
   "cell_type": "code",
   "execution_count": 6,
   "id": "minor-heater",
   "metadata": {},
   "outputs": [],
   "source": [
    "park_factors['lag_factor_year'] = park_factors.groupby('ParkID')['factor_year'].shift(1)"
   ]
  },
  {
   "cell_type": "code",
   "execution_count": 7,
   "id": "honey-jenny",
   "metadata": {},
   "outputs": [
    {
     "data": {
      "text/plain": [
       "<AxesSubplot:>"
      ]
     },
     "execution_count": 7,
     "metadata": {},
     "output_type": "execute_result"
    },
    {
     "data": {
      "image/png": "[encoded data removed]",
      "text/plain": [
       "<Figure size 432x288 with 1 Axes>"
      ]
     },
     "metadata": {
      "needs_background": "light"
     },
     "output_type": "display_data"
    }
   ],
   "source": [
    "park_factors['factor_year'].hist()"
   ]
  },
  {
   "cell_type": "code",
   "execution_count": 8,
   "id": "permanent-harvest",
   "metadata": {},
   "outputs": [
    {
     "name": "stdout",
     "output_type": "stream",
     "text": [
      "                            OLS Regression Results                            \n",
      "==============================================================================\n",
      "Dep. Variable:            factor_year   R-squared:                       0.241\n",
      "Model:                            OLS   Adj. R-squared:                  0.240\n",
      "Method:                 Least Squares   F-statistic:                     681.7\n",
      "Date:                Tue, 23 Mar 2021   Prob (F-statistic):          8.83e-131\n",
      "Time:                        21:43:11   Log-Likelihood:                 2306.0\n",
      "No. Observations:                2154   AIC:                            -4608.\n",
      "Df Residuals:                    2152   BIC:                            -4597.\n",
      "Df Model:                           1                                         \n",
      "Covariance Type:            nonrobust                                         \n",
      "===================================================================================\n",
      "                      coef    std err          t      P>|t|      [0.025      0.975]\n",
      "-----------------------------------------------------------------------------------\n",
      "Intercept           0.0097      0.002      5.275      0.000       0.006       0.013\n",
      "lag_factor_year     0.4935      0.019     26.110      0.000       0.456       0.531\n",
      "==============================================================================\n",
      "Omnibus:                       29.263   Durbin-Watson:                   2.193\n",
      "Prob(Omnibus):                  0.000   Jarque-Bera (JB):               41.930\n",
      "Skew:                          -0.150   Prob(JB):                     7.85e-10\n",
      "Kurtosis:                       3.614   Cond. No.                         10.6\n",
      "==============================================================================\n",
      "\n",
      "Notes:\n",
      "[1] Standard Errors assume that the covariance matrix of the errors is correctly specified.\n"
     ]
    }
   ],
   "source": [
    "result = sm.ols(formula=\"factor_year ~ lag_factor_year\", data=park_factors).fit()\n",
    "print(result.summary())"
   ]
  },
  {
   "cell_type": "code",
   "execution_count": 9,
   "id": "radio-librarian",
   "metadata": {},
   "outputs": [
    {
     "data": {
      "text/plain": [
       "<AxesSubplot:xlabel='lag_factor_year', ylabel='factor_year'>"
      ]
     },
     "execution_count": 9,
     "metadata": {},
     "output_type": "execute_result"
    },
    {
     "data": {
      "image/png": "[encoded data removed]",
      "text/plain": [
       "<Figure size 432x288 with 1 Axes>"
      ]
     },
     "metadata": {
      "needs_background": "light"
     },
     "output_type": "display_data"
    }
   ],
   "source": [
    "park_factors.plot.scatter(x='lag_factor_year', y='factor_year')"
   ]
  },
  {
   "cell_type": "code",
   "execution_count": 10,
   "id": "invalid-patio",
   "metadata": {},
   "outputs": [],
   "source": [
    "park_factors['factor'] = park_factors.groupby('ParkID')['factor_year'].transform(lambda x: x.rolling(3, 1).mean())"
   ]
  },
  {
   "cell_type": "code",
   "execution_count": 11,
   "id": "outstanding-citizen",
   "metadata": {},
   "outputs": [],
   "source": [
    "# park_factors['L1_factor_year'] = park_factors.groupby('ParkID')['factor_year'].shift(1, fill_value=0)\n",
    "# park_factors['L2_factor_year'] = park_factors.groupby('ParkID')['factor_year'].shift(2, fill_value=0)\n",
    "# park_factors['L3_factor_year'] = park_factors.groupby('ParkID')['factor_year'].shift(3, fill_value=0)\n",
    "# park_factors['L4_factor_year'] = park_factors.groupby('ParkID')['factor_year'].shift(4, fill_value=0)"
   ]
  },
  {
   "cell_type": "code",
   "execution_count": 12,
   "id": "animal-layout",
   "metadata": {},
   "outputs": [],
   "source": [
    "# park_factors['factor'] = (\n",
    "#     5 * park_factors['L1_factor_year'] +\n",
    "#     2 * park_factors['L2_factor_year'] +\n",
    "#     1 * park_factors['L3_factor_year']\n",
    "# )/8"
   ]
  },
  {
   "cell_type": "code",
   "execution_count": 13,
   "id": "associate-april",
   "metadata": {},
   "outputs": [],
   "source": [
    "park_factors['L1_factor'] = park_factors.groupby('ParkID')['factor'].shift(1)"
   ]
  },
  {
   "cell_type": "code",
   "execution_count": 14,
   "id": "laughing-contamination",
   "metadata": {},
   "outputs": [
    {
     "name": "stdout",
     "output_type": "stream",
     "text": [
      "                            OLS Regression Results                            \n",
      "==============================================================================\n",
      "Dep. Variable:            factor_year   R-squared:                       0.297\n",
      "Model:                            OLS   Adj. R-squared:                  0.297\n",
      "Method:                 Least Squares   F-statistic:                     910.4\n",
      "Date:                Tue, 23 Mar 2021   Prob (F-statistic):          4.31e-167\n",
      "Time:                        21:43:11   Log-Likelihood:                 2389.6\n",
      "No. Observations:                2154   AIC:                            -4775.\n",
      "Df Residuals:                    2152   BIC:                            -4764.\n",
      "Df Model:                           1                                         \n",
      "Covariance Type:            nonrobust                                         \n",
      "==============================================================================\n",
      "                 coef    std err          t      P>|t|      [0.025      0.975]\n",
      "------------------------------------------------------------------------------\n",
      "Intercept      0.0056      0.002      3.156      0.002       0.002       0.009\n",
      "L1_factor      0.6694      0.022     30.173      0.000       0.626       0.713\n",
      "==============================================================================\n",
      "Omnibus:                       38.272   Durbin-Watson:                   1.848\n",
      "Prob(Omnibus):                  0.000   Jarque-Bera (JB):               52.545\n",
      "Skew:                          -0.211   Prob(JB):                     3.89e-12\n",
      "Kurtosis:                       3.638   Cond. No.                         12.9\n",
      "==============================================================================\n",
      "\n",
      "Notes:\n",
      "[1] Standard Errors assume that the covariance matrix of the errors is correctly specified.\n"
     ]
    },
    {
     "data": {
      "text/plain": [
       "<AxesSubplot:xlabel='L1_factor', ylabel='factor_year'>"
      ]
     },
     "execution_count": 14,
     "metadata": {},
     "output_type": "execute_result"
    },
    {
     "data": {
      "image/png": "[encoded data removed]",
      "text/plain": [
       "<Figure size 432x288 with 1 Axes>"
      ]
     },
     "metadata": {
      "needs_background": "light"
     },
     "output_type": "display_data"
    }
   ],
   "source": [
    "result = sm.ols(formula=\"factor_year ~ L1_factor\", data=park_factors).fit()\n",
    "print(result.summary())\n",
    "\n",
    "park_factors.plot.scatter(x='L1_factor', y='factor_year')"
   ]
  },
  {
   "cell_type": "code",
   "execution_count": 15,
   "id": "changed-copper",
   "metadata": {},
   "outputs": [],
   "source": [
    "# result = sm.ols(formula=\"factor_year ~ L1_factor_year + L2_factor_year + L3_factor_year + L4_factor_year\", data=park_factors).fit()\n",
    "# print(result.summary())"
   ]
  },
  {
   "cell_type": "code",
   "execution_count": null,
   "id": "necessary-payroll",
   "metadata": {},
   "outputs": [],
   "source": []
  }
 ],
 "metadata": {
  "kernelspec": {
   "display_name": "bts",
   "language": "python",
   "name": "bts"
  },
  "language_info": {
   "codemirror_mode": {
    "name": "ipython",
    "version": 3
   },
   "file_extension": ".py",
   "mimetype": "text/x-python",
   "name": "python",
   "nbconvert_exporter": "python",
   "pygments_lexer": "ipython3",
   "version": "3.7.10"
  }
 },
 "nbformat": 4,
 "nbformat_minor": 5
}
