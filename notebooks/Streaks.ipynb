{
 "cells": [
  {
   "cell_type": "code",
   "execution_count": 10,
   "id": "confirmed-listening",
   "metadata": {},
   "outputs": [],
   "source": [
    "import pandas as pd\n",
    "import os\n",
    "from pathlib import Path\n",
    "\n",
    "cwd = os.getcwd()\n",
    "project_dir = Path(cwd).resolve().parents[0]\n",
    "interim_data_dir = os.path.join(project_dir, 'data/interim/')\n",
    "processed_data_dir = os.path.join(project_dir, 'data/processed/')"
   ]
  },
  {
   "cell_type": "code",
   "execution_count": 11,
   "id": "amended-second",
   "metadata": {},
   "outputs": [],
   "source": [
    "clean_game_log = os.path.join(interim_data_dir, 'game_logs.pkl')\n",
    "clean_hits = os.path.join(interim_data_dir, 'hits.pkl')\n",
    "clean_selection = os.path.join(processed_data_dir, 'selection_data.pkl')\n",
    "game_log = pd.read_pickle(clean_game_log)\n",
    "events = pd.read_pickle(clean_hits)\n",
    "selections = pd.read_pickle(clean_selection)"
   ]
  },
  {
   "cell_type": "code",
   "execution_count": 12,
   "id": "stainless-destiny",
   "metadata": {},
   "outputs": [],
   "source": [
    "def streak_counter(df):\n",
    "    df['L_Win'] = df['Win'].shift(1)\n",
    "    df['start_of_streak'] = (df['Win'] != df['L_Win'])\n",
    "    df['streak_id'] = df['start_of_streak'].cumsum()\n",
    "    df['streak_counter'] = df.groupby('streak_id').cumcount() + 1\n",
    "    df.loc[df.Win == False, 'streak_counter'] = 0\n",
    "    \n",
    "    return df"
   ]
  },
  {
   "cell_type": "code",
   "execution_count": 13,
   "id": "greenhouse-health",
   "metadata": {},
   "outputs": [],
   "source": []
  },
  {
   "cell_type": "code",
   "execution_count": 15,
   "id": "nominated-carbon",
   "metadata": {},
   "outputs": [],
   "source": []
  },
  {
   "cell_type": "code",
   "execution_count": 16,
   "id": "assisted-bible",
   "metadata": {},
   "outputs": [
    {
     "data": {
      "text/plain": [
       "17"
      ]
     },
     "execution_count": 16,
     "metadata": {},
     "output_type": "execute_result"
    }
   ],
   "source": []
  },
  {
   "cell_type": "code",
   "execution_count": null,
   "id": "dated-quest",
   "metadata": {},
   "outputs": [],
   "source": []
  }
 ],
 "metadata": {
  "kernelspec": {
   "display_name": "bts",
   "language": "python",
   "name": "bts"
  },
  "language_info": {
   "codemirror_mode": {
    "name": "ipython",
    "version": 3
   },
   "file_extension": ".py",
   "mimetype": "text/x-python",
   "name": "python",
   "nbconvert_exporter": "python",
   "pygments_lexer": "ipython3",
   "version": "3.9.2"
  }
 },
 "nbformat": 4,
 "nbformat_minor": 5
}
