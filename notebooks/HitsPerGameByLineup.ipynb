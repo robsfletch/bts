{
 "cells": [
  {
   "cell_type": "code",
   "execution_count": 15,
   "id": "successful-celtic",
   "metadata": {},
   "outputs": [],
   "source": [
    "import pandas as pd\n",
    "import os\n",
    "from pathlib import Path\n",
    "\n",
    "from sklearn.model_selection import train_test_split\n",
    "from sklearn.linear_model import LogisticRegression\n",
    "from sklearn.linear_model import Lasso\n",
    "import numpy as np \n",
    "import matplotlib\n",
    "\n",
    "cwd = os.getcwd()\n",
    "project_dir = Path(cwd).resolve().parents[0]\n",
    "interim_data_dir = os.path.join(project_dir, 'data/interim/')\n",
    "processed_data_dir = os.path.join(project_dir, 'data/processed/')\n",
    "main_data = pd.read_pickle(Path(processed_data_dir) / 'main_data.pkl')"
   ]
  },
  {
   "cell_type": "code",
   "execution_count": 16,
   "id": "external-parameter",
   "metadata": {},
   "outputs": [],
   "source": [
    "df = main_data.groupby(['spot', 'home'])['Win'].mean()"
   ]
  },
  {
   "cell_type": "code",
   "execution_count": 17,
   "id": "consistent-horizon",
   "metadata": {},
   "outputs": [
    {
     "data": {
      "text/plain": [
       "spot  home \n",
       "9     True     0.391266\n",
       "      False    0.396535\n",
       "8     True     0.570063\n",
       "      False    0.576017\n",
       "7     True     0.606069\n",
       "      False    0.610532\n",
       "6     True     0.628721\n",
       "      False    0.630285\n",
       "5     True     0.650362\n",
       "      False    0.651616\n",
       "4     True     0.667147\n",
       "      False    0.668958\n",
       "3     False    0.684367\n",
       "2     False    0.685517\n",
       "      True     0.685684\n",
       "3     True     0.688251\n",
       "1     False    0.695588\n",
       "      True     0.701206\n",
       "Name: Win, dtype: float64"
      ]
     },
     "execution_count": 17,
     "metadata": {},
     "output_type": "execute_result"
    }
   ],
   "source": [
    "df.sort_values()"
   ]
  },
  {
   "cell_type": "code",
   "execution_count": 18,
   "id": "voluntary-radical",
   "metadata": {},
   "outputs": [],
   "source": [
    "df2 = main_data.groupby(['spot'])['Win'].mean()"
   ]
  },
  {
   "cell_type": "code",
   "execution_count": 19,
   "id": "economic-toyota",
   "metadata": {},
   "outputs": [
    {
     "data": {
      "text/plain": [
       "spot\n",
       "9    0.393910\n",
       "8    0.573041\n",
       "7    0.608301\n",
       "6    0.629503\n",
       "5    0.650989\n",
       "4    0.668053\n",
       "2    0.685600\n",
       "3    0.686309\n",
       "1    0.698397\n",
       "Name: Win, dtype: float64"
      ]
     },
     "execution_count": 19,
     "metadata": {},
     "output_type": "execute_result"
    }
   ],
   "source": [
    "df2.sort_values()"
   ]
  },
  {
   "cell_type": "code",
   "execution_count": 20,
   "id": "aging-hartford",
   "metadata": {},
   "outputs": [],
   "source": [
    "df3 = main_data.groupby(['home'])['Win'].mean()"
   ]
  },
  {
   "cell_type": "code",
   "execution_count": 21,
   "id": "unsigned-diversity",
   "metadata": {},
   "outputs": [
    {
     "data": {
      "text/plain": [
       "home\n",
       "True     0.621336\n",
       "False    0.622336\n",
       "Name: Win, dtype: float64"
      ]
     },
     "execution_count": 21,
     "metadata": {},
     "output_type": "execute_result"
    }
   ],
   "source": [
    "df3.sort_values()"
   ]
  },
  {
   "cell_type": "code",
   "execution_count": null,
   "id": "specialized-perspective",
   "metadata": {},
   "outputs": [],
   "source": []
  }
 ],
 "metadata": {
  "kernelspec": {
   "display_name": "bts",
   "language": "python",
   "name": "bts"
  },
  "language_info": {
   "codemirror_mode": {
    "name": "ipython",
    "version": 3
   },
   "file_extension": ".py",
   "mimetype": "text/x-python",
   "name": "python",
   "nbconvert_exporter": "python",
   "pygments_lexer": "ipython3",
   "version": "3.9.2"
  }
 },
 "nbformat": 4,
 "nbformat_minor": 5
}
