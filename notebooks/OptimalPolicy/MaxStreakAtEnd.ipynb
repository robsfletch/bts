{
 "cells": [
  {
   "cell_type": "code",
   "execution_count": 1,
   "metadata": {},
   "outputs": [],
   "source": [
    "import numpy as np\n",
    "import matplotlib.pyplot as plt"
   ]
  },
  {
   "cell_type": "code",
   "execution_count": 54,
   "metadata": {},
   "outputs": [],
   "source": [
    "max_period = 50\n",
    "num_choices = 2\n",
    "\n",
    "min_prob = .72\n",
    "max_prob = .82\n",
    "num_probs = 200\n",
    "\n",
    "max_streak = max_period\n",
    "num_states = max_streak + 1\n",
    "\n",
    "## Get array of choices and possible states\n",
    "streaks = np.array(range(0, num_states))\n",
    "choices = np.array(range(0, num_choices))\n",
    "probs = np.linspace(min_prob, max_prob, num_probs)\n",
    "probs_plus_1 = np.concatenate((probs , np.array([1])))"
   ]
  },
  {
   "cell_type": "code",
   "execution_count": 55,
   "metadata": {},
   "outputs": [],
   "source": [
    "## Calculate matrices\n",
    "choices_mat, streaks_mat ,probs_mat = np.meshgrid(choices, streaks,  probs)\n",
    "\n",
    "## Streak Updating\n",
    "# If don't make pick\n",
    "streaks_stay_mat = streaks_mat[:, 0, :]\n",
    "\n",
    "# If make pick and win\n",
    "streaks_win_mat = np.minimum(streaks_mat[:, 1, :] + 1, max_period)\n",
    "\n",
    "# If make pick and lose\n",
    "streaks_lose_mat = np.zeros((num_states, num_probs), dtype='int')\n",
    "\n",
    "\n",
    "#### Probs updating\n",
    "probs_space = np.tile(range(0, num_probs), (num_states, 1))\n",
    "\n",
    "Opts = {}\n",
    "V_funcs = {}\n",
    "G_funcs = {}\n",
    "Cutoffs = {}\n",
    "\n",
    "## Value function in Last peripd is just the streak state\n",
    "V_funcs['V' + str(max_period)] = streaks_mat[:, 0, :]"
   ]
  },
  {
   "cell_type": "code",
   "execution_count": 56,
   "metadata": {},
   "outputs": [],
   "source": [
    "for period in range(max_period-1, -1, -1):\n",
    "    next = period + 1\n",
    "    next_V = V_funcs['V' + str(next)]\n",
    "    \n",
    "    Exp = np.zeros((num_states, num_choices, num_probs))\n",
    "    \n",
    "    Exp_V_stay = np.mean(next_V[streaks_stay_mat, probs_space], axis=1)\n",
    "    Exp[:, 0, :] = np.tile(Exp_V_stay, (num_probs, 1)).T\n",
    "    \n",
    "    Exp_V_win = np.mean(next_V[streaks_win_mat, probs_space], axis=1)\n",
    "    Exp_V_lose = np.mean(next_V[streaks_lose_mat, probs_space], axis=1)\n",
    "    \n",
    "    Exp[:, 1, :] = (\n",
    "        np.outer(Exp_V_win, probs_mat[0, 1, :]) + \n",
    "        np.outer(Exp_V_lose, (1-probs_mat[0, 1, :]))\n",
    "    )\n",
    "    \n",
    "    G_funcs['G' + str(period)] = np.array(np.argmax(Exp, axis=1), dtype=float)\n",
    "    G_funcs['G' + str(period)][next:, :] = np.nan\n",
    "    V_funcs['V' + str(period)] = np.array(np.amax(Exp, axis=1), dtype=float)\n",
    "    V_funcs['V' + str(period)][next:, :] = np.nan\n",
    "    \n",
    "    cutoff_idx = np.array(num_probs - np.sum(G_funcs['G' + str(period)], axis=1))\n",
    "    opt_streaks = streaks[~np.isnan(cutoff_idx)]\n",
    "    cutoff_idx = cutoff_idx[~np.isnan(cutoff_idx)]\n",
    "    cutoff_idx = np.array(cutoff_idx, dtype=int)\n",
    "    opt_probs = probs_plus_1[cutoff_idx]\n",
    "\n",
    "    cutoff = np.vstack((opt_streaks, opt_probs))\n",
    "    Cutoffs['C' + str(period)] = cutoff"
   ]
  },
  {
   "cell_type": "code",
   "execution_count": 57,
   "metadata": {},
   "outputs": [
    {
     "data": {
      "image/png": "[encoded data removed]",
      "text/plain": [
       "<Figure size 432x288 with 1 Axes>"
      ]
     },
     "metadata": {
      "needs_background": "light"
     },
     "output_type": "display_data"
    }
   ],
   "source": [
    "for p in range(0, max_period, 24):\n",
    "    plt.plot(Cutoffs['C' + str(p)][0,:], Cutoffs['C' + str(p)][1,:])\n",
    "plt.show()"
   ]
  },
  {
   "cell_type": "code",
   "execution_count": 58,
   "metadata": {},
   "outputs": [
    {
     "name": "stdout",
     "output_type": "stream",
     "text": [
      "7.577052730376568\n"
     ]
    }
   ],
   "source": [
    "est_val = V_funcs['V0'][0, 0]\n",
    "print(est_val)"
   ]
  },
  {
   "cell_type": "code",
   "execution_count": 59,
   "metadata": {},
   "outputs": [
    {
     "data": {
      "text/plain": [
       "array([[ 0.        ,  1.        ,  2.        ,  3.        ,  4.        ,\n",
       "         5.        ,  6.        ,  7.        ,  8.        ,  9.        ,\n",
       "        10.        , 11.        , 12.        , 13.        , 14.        ,\n",
       "        15.        , 16.        , 17.        , 18.        , 19.        ,\n",
       "        20.        , 21.        , 22.        , 23.        , 24.        ,\n",
       "        25.        , 26.        , 27.        , 28.        , 29.        ,\n",
       "        30.        , 31.        , 32.        , 33.        , 34.        ,\n",
       "        35.        , 36.        , 37.        , 38.        , 39.        ,\n",
       "        40.        , 41.        , 42.        , 43.        , 44.        ,\n",
       "        45.        , 46.        , 47.        , 48.        ],\n",
       "       [ 0.72      ,  0.72      ,  0.72      ,  0.72      ,  0.76623116,\n",
       "         0.80894472,  1.        ,  1.        ,  1.        ,  1.        ,\n",
       "         1.        ,  1.        ,  1.        ,  1.        ,  1.        ,\n",
       "         1.        ,  1.        ,  1.        ,  1.        ,  1.        ,\n",
       "         1.        ,  1.        ,  1.        ,  1.        ,  1.        ,\n",
       "         1.        ,  1.        ,  1.        ,  1.        ,  1.        ,\n",
       "         1.        ,  1.        ,  1.        ,  1.        ,  1.        ,\n",
       "         1.        ,  1.        ,  1.        ,  1.        ,  1.        ,\n",
       "         1.        ,  1.        ,  1.        ,  1.        ,  1.        ,\n",
       "         1.        ,  1.        ,  1.        ,  1.        ]])"
      ]
     },
     "execution_count": 59,
     "metadata": {},
     "output_type": "execute_result"
    }
   ],
   "source": [
    "Cutoffs['C' + str(p)]"
   ]
  },
  {
   "cell_type": "code",
   "execution_count": 8,
   "metadata": {},
   "outputs": [],
   "source": [
    "# MaxStreak(t) = max(MaxStreak(t-1), CurrentStreak(t))\n",
    "# CurrentStreak(t) = CurrentStreak(t-1) + H(t)\n",
    "\n",
    "# V(MaxStreak(T), CurrentStreak(T), p(T)) = MaxStreak\n",
    "# V(MaxStreak, CurrentStreak, T-1, p(t-1)) = argmax(s , E(V(MaxStreak(T), CurrentStreak(T), p(T))))\n",
    "\n",
    "# v(MaxStreak, CurrentStreak, t, p) = max(MaxStreak, CurrentStreak) + E(V(MaxStreak, CurrentStreak, t+1, H))"
   ]
  }
 ],
 "metadata": {
  "kernelspec": {
   "display_name": "bts",
   "language": "python",
   "name": "bts"
  },
  "language_info": {
   "codemirror_mode": {
    "name": "ipython",
    "version": 3
   },
   "file_extension": ".py",
   "mimetype": "text/x-python",
   "name": "python",
   "nbconvert_exporter": "python",
   "pygments_lexer": "ipython3",
   "version": "3.7.10"
  }
 },
 "nbformat": 4,
 "nbformat_minor": 5
}
