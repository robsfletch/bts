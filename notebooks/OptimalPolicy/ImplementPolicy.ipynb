{
 "cells": [
  {
   "cell_type": "code",
   "execution_count": 1,
   "metadata": {},
   "outputs": [],
   "source": [
    "import numpy as np\n",
    "import matplotlib.pyplot as plt\n",
    "from pathlib import Path\n",
    "import pandas as pd\n",
    "from numba import jit"
   ]
  },
  {
   "cell_type": "code",
   "execution_count": 2,
   "metadata": {},
   "outputs": [],
   "source": [
    "def generate_policy(prob_dist, max_period):\n",
    "    num_choices = 2\n",
    "    \n",
    "    probs = prob_dist[:,0]\n",
    "    weights = prob_dist[:,1]\n",
    "    num_probs = len(probs)\n",
    "\n",
    "    max_streak = max_period\n",
    "    num_states = max_streak + 1\n",
    "\n",
    "    ## Get array of choices and possible states\n",
    "    max_streaks = np.arange(0, num_states)\n",
    "    streaks = np.arange(0, num_states)\n",
    "    choices = np.arange(0, num_choices)\n",
    "    probs_plus_1 = np.concatenate((probs , np.array([1])))\n",
    "\n",
    "    ## Calculate matrices\n",
    "    choices_mat, streaks_mat, max_streaks_mat, probs_mat = np.meshgrid(choices, streaks, max_streaks, probs)\n",
    "\n",
    "    ##### Current Streak Updating\n",
    "    ## If choice is to skip, then states are just the same as what they were\n",
    "    streaks_stay_mat = streaks_mat[:, 0, :, :]\n",
    "\n",
    "    ## If choice is to take the risk, then potential state update is current streak increases by 1\n",
    "    streaks_win_mat = np.minimum(streaks_mat[:, 1, :, :] + 1, max_period)\n",
    "\n",
    "    ## The risk though is current streak goes to zero\n",
    "    streaks_lose_mat = np.zeros((num_states, num_states, num_probs), dtype='int')\n",
    "\n",
    "\n",
    "    ###### Max streak Updating\n",
    "    ## If choice is to skip, then states are just the same as what they were\n",
    "    max_of_max_current = np.maximum(max_streaks_mat[:, 0, :, :], streaks_mat[:, 0, :, :])\n",
    "    max_streaks_stay_mat = max_of_max_current\n",
    "    max_streaks_lose_mat = max_of_max_current\n",
    "\n",
    "    ## If choice is to take the risk, then potential state update is increased if current streak == max streak\n",
    "    max_of_max_winstreak = np.maximum(max_streaks_mat[:, 1, :, :], streaks_mat[:, 1, :, :] + 1)\n",
    "    max_streaks_win_mat = np.minimum(max_of_max_winstreak , max_period)\n",
    "\n",
    "\n",
    "    #### Probs updating\n",
    "    probs_new_mat = np.tile(range(0, num_probs), (num_states, num_states, 1))\n",
    "\n",
    "    V_funcs = {}\n",
    "    G_funcs = {}\n",
    "\n",
    "    V_funcs['V' + str(max_period)] = max_of_max_current\n",
    "\n",
    "    for period in range(max_period-1, -1, -1):\n",
    "        next = period + 1\n",
    "        next_V = V_funcs['V' + str(next)]\n",
    "\n",
    "        Exp_V_stay = np.average(next_V[streaks_stay_mat, max_streaks_stay_mat, probs_new_mat], axis=2, weights = weights)\n",
    "        Exp_V_win = np.average(next_V[streaks_win_mat, max_streaks_win_mat, probs_new_mat], axis=2, weights = weights)\n",
    "        Exp_V_lose = np.average(next_V[streaks_lose_mat, max_streaks_lose_mat, probs_new_mat], axis=2, weights = weights)\n",
    "\n",
    "        Exp = np.zeros((num_states, num_choices, num_states, num_probs))\n",
    "        Exp[:, 0, :, :] = np.tile(Exp_V_stay, (num_probs, 1, 1)).transpose([1, 2, 0])\n",
    "        Exp[:, 1, :, :] = (\n",
    "            np.einsum(\"ij,k->ijk\", Exp_V_win, probs_mat[0, 1, 0, :]) + \n",
    "            np.einsum(\"ij,k->ijk\", Exp_V_lose, (1 - probs_mat[0, 1, 0, :]))\n",
    "        )\n",
    "\n",
    "        G_funcs['G' + str(period)] = np.array(np.argmax(Exp, axis=1), dtype=float)\n",
    "        G_funcs['G' + str(period)][next:, :, :] = np.nan\n",
    "        G_funcs['G' + str(period)][:, next:, :] = np.nan\n",
    "        V_funcs['V' + str(period)] = np.array(np.amax(Exp, axis=1), dtype=float)\n",
    "        V_funcs['V' + str(period)][next:, :] = np.nan\n",
    "        V_funcs['V' + str(period)][:, next:, :] = np.nan\n",
    "      \n",
    "    return V_funcs, G_funcs"
   ]
  },
  {
   "cell_type": "code",
   "execution_count": 3,
   "metadata": {},
   "outputs": [],
   "source": [
    "processed = Path('../data/processed')\n",
    "selection_data = pd.read_pickle(Path(processed) / 'selection_data.pkl')"
   ]
  },
  {
   "cell_type": "code",
   "execution_count": 4,
   "metadata": {},
   "outputs": [],
   "source": [
    "prep_data = selection_data[(selection_data.year >= 1960) & (selection_data.year <= 1999)]\n",
    "selection_data = selection_data.loc[selection_data.year >= 2000]"
   ]
  },
  {
   "cell_type": "code",
   "execution_count": 5,
   "metadata": {},
   "outputs": [
    {
     "data": {
      "image/png": "[encoded data removed]",
      "text/plain": [
       "<Figure size 432x288 with 1 Axes>"
      ]
     },
     "metadata": {
      "needs_background": "light"
     },
     "output_type": "display_data"
    }
   ],
   "source": [
    "g_step = .005\n",
    "ax = prep_data['EstProb'].plot.density(ind=np.arange(.7, .9, g_step))\n",
    "prob_dist = ax.get_lines()[0].get_xydata()"
   ]
  },
  {
   "cell_type": "code",
   "execution_count": 6,
   "metadata": {},
   "outputs": [],
   "source": [
    "max_periods = selection_data.groupby('year')['BAT_ID'].count().reset_index()\n",
    "max_periods.columns = ['year', 'max_periods']\n",
    "\n",
    "m_list = max_periods['max_periods'].unique()\n",
    "max_m = m_list.max()\n",
    "\n",
    "V, G = generate_policy(prob_dist, max_m)"
   ]
  },
  {
   "cell_type": "code",
   "execution_count": 7,
   "metadata": {},
   "outputs": [
    {
     "name": "stdout",
     "output_type": "stream",
     "text": [
      "2000 : 18\n",
      "2001 : 12\n",
      "2002 : 23\n",
      "2003 : 26\n",
      "2004 : 21\n",
      "2005 : 21\n",
      "2006 : 15\n",
      "2007 : 23\n",
      "2008 : 17\n",
      "2009 : 17\n",
      "2010 : 14\n",
      "2011 : 15\n",
      "2012 : 13\n",
      "2013 : 16\n",
      "2014 : 12\n",
      "2015 : 19\n",
      "2016 : 10\n",
      "2017 : 24\n",
      "2018 : 26\n",
      "2019 : 12\n",
      "2020 : 15\n"
     ]
    }
   ],
   "source": [
    "num_years = len(max_periods)\n",
    "results = np.zeros((num_years, 2))\n",
    "    \n",
    "counter = 0\n",
    "for year in range(2000, 2021):\n",
    "    m = max_periods[max_periods.year==year].iat[0, 1]\n",
    "    dif = max_m-m\n",
    "    \n",
    "    test = selection_data.loc[selection_data.year == year, ['EstProb', 'Win']]\n",
    "    test = test.sort_values(['Date'])\n",
    "    test['Period'] = np.arange(len(test)) + 1\n",
    "\n",
    "    test['Period'] = test.groupby(['Date'])['Period'].transform('min')\n",
    "    test['Day'] = test.groupby(['Date']).ngroup()\n",
    "    test = test.reset_index()\n",
    "\n",
    "    max_day = test.Day.max()\n",
    "\n",
    "    streak = 0\n",
    "    max_streak = 0\n",
    "\n",
    "    for day in range(0, max_day):\n",
    "        temp = test.loc[test.Day == day].copy()  \n",
    "        cutoff = min(prob_dist[G['G' + str(day + dif)][streak, max_streak, :].astype(bool), 0]) - .01\n",
    "\n",
    "        if cutoff < min(prob_dist[:,0]):\n",
    "            cutoff = 0\n",
    "            \n",
    "#         cutoff = 0\n",
    "\n",
    "        temp['Play'] = (temp['EstProb'] > cutoff)*1\n",
    "\n",
    "        temp['WinPlay'] = temp['Win'] * temp['Play']\n",
    "        temp['LosePlay'] = (1 - temp['Win']) * temp['Play']\n",
    "        total_win = temp['WinPlay'].sum()\n",
    "        total_loss = temp['LosePlay'].sum()\n",
    "\n",
    "        if total_loss > 0 :\n",
    "            streak = 0\n",
    "        else:\n",
    "            streak = streak + total_win\n",
    "\n",
    "        if streak > max_streak:\n",
    "            max_streak = streak\n",
    "        else:\n",
    "            pass\n",
    "        \n",
    "\n",
    "    results[counter, 0] = year\n",
    "    results[counter, 1] = max_streak\n",
    "    counter = counter + 1\n",
    "    print(year, \":\", max_streak)"
   ]
  },
  {
   "cell_type": "code",
   "execution_count": 8,
   "metadata": {},
   "outputs": [
    {
     "data": {
      "text/plain": [
       "array([42210.,   369.])"
      ]
     },
     "execution_count": 8,
     "metadata": {},
     "output_type": "execute_result"
    }
   ],
   "source": [
    "results.sum(axis=0)"
   ]
  },
  {
   "cell_type": "code",
   "execution_count": 9,
   "metadata": {},
   "outputs": [
    {
     "data": {
      "text/plain": [
       "397"
      ]
     },
     "execution_count": 9,
     "metadata": {},
     "output_type": "execute_result"
    }
   ],
   "source": [
    " 20 + 14 + 21 + 26 + 22 + 17 + 17 + 29 + 19 + 22 + 14 + 13 + 14 + 14 + 28 + 20 + 15 + 18 + 28 + 14 + 12"
   ]
  },
  {
   "cell_type": "code",
   "execution_count": 10,
   "metadata": {},
   "outputs": [
    {
     "data": {
      "text/plain": [
       "365"
      ]
     },
     "execution_count": 10,
     "metadata": {},
     "output_type": "execute_result"
    }
   ],
   "source": [
    "20 + 14 + 20 + 16 + 21 + 16 + 16 + 23 + 19 + 21 + 14 + 12 + 13 + 15 + 15 + 19 + 14 + 17 + 22 + 18 + 20"
   ]
  },
  {
   "cell_type": "code",
   "execution_count": 11,
   "metadata": {},
   "outputs": [
    {
     "data": {
      "text/plain": [
       "0.45"
      ]
     },
     "execution_count": 11,
     "metadata": {},
     "output_type": "execute_result"
    }
   ],
   "source": [
    "(397 - 388)/20"
   ]
  },
  {
   "cell_type": "code",
   "execution_count": 12,
   "metadata": {},
   "outputs": [],
   "source": [
    "# updating prior distribution\n",
    "# generate value functions ahead of time and save them all for easy reference\n",
    "# weighted averaging instead of repeated probabilities in mesh grid\n",
    "# calculate for 370 and then just adjust for seasons with fewer game days by starting after 0 on later days for shorter seasons"
   ]
  },
  {
   "cell_type": "code",
   "execution_count": 13,
   "metadata": {},
   "outputs": [],
   "source": [
    "# prob_dist = np.array([[.5, 1], [.75, 1], [1, 1]])\n",
    "# Yalt, Galt = generate_policy(prob_dist, 3)\n",
    "# Galt['G2'][1, :, :]"
   ]
  },
  {
   "cell_type": "code",
   "execution_count": null,
   "metadata": {},
   "outputs": [],
   "source": []
  }
 ],
 "metadata": {
  "kernelspec": {
   "display_name": "bts",
   "language": "python",
   "name": "bts"
  },
  "language_info": {
   "codemirror_mode": {
    "name": "ipython",
    "version": 3
   },
   "file_extension": ".py",
   "mimetype": "text/x-python",
   "name": "python",
   "nbconvert_exporter": "python",
   "pygments_lexer": "ipython3",
   "version": "3.7.10"
  }
 },
 "nbformat": 4,
 "nbformat_minor": 4
}
