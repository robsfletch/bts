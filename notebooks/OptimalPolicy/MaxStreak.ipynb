{
 "cells": [
  {
   "cell_type": "code",
   "execution_count": 54,
   "metadata": {},
   "outputs": [],
   "source": [
    "import numpy as np\n",
    "import matplotlib.pyplot as plt"
   ]
  },
  {
   "cell_type": "code",
   "execution_count": 55,
   "metadata": {},
   "outputs": [],
   "source": [
    "def generate_policy(probs, max_period):\n",
    "    num_choices = 2\n",
    "\n",
    "    max_streak = max_period\n",
    "    num_states = max_streak + 1\n",
    "\n",
    "    ## Get array of choices and possible states\n",
    "    max_streaks = np.array(range(0, num_states))\n",
    "    streaks = np.array(range(0, num_states))\n",
    "    choices = np.array(range(0, num_choices))\n",
    "\n",
    "    ## Calculate matrices\n",
    "    choices_mat, streaks_mat, max_streaks_mat, probs_mat = np.meshgrid(choices, streaks, max_streaks, probs)\n",
    "\n",
    "    max_less_than_current = (max_streaks_mat < streaks_mat)\n",
    "\n",
    "    ##### Current Streak Updating\n",
    "    ## If choice is to skip, then states are just the same as what they were\n",
    "    streaks_stay_mat = streaks_mat[:, 0, :, :]\n",
    "\n",
    "    ## If choice is to take the risk, then potential state update is current streak increases by 1\n",
    "    streaks_win_mat = np.minimum(streaks_mat[:, 1, :, :] + 1, max_period)\n",
    "\n",
    "    ## The risk though is current streak goes to zero\n",
    "    streaks_lose_mat = np.zeros((num_states, num_states, num_probs), dtype='int')\n",
    "\n",
    "\n",
    "    ###### Max streak Updating\n",
    "    ## If choice is to skip, then states are just the same as what they were\n",
    "    max_of_max_current = np.maximum(max_streaks_mat[:, 0, :, :], streaks_mat[:, 0, :, :])\n",
    "    max_streaks_stay_mat = max_of_max_current\n",
    "\n",
    "    ## If choice is to take the risk, then potential state update is increased if current streak == max streak\n",
    "    max_of_max_winstreak = np.maximum(max_streaks_mat[:, 1, :, :], streaks_mat[:, 1, :, :] + 1)\n",
    "    max_streaks_win_mat = np.minimum(max_of_max_winstreak , max_period)\n",
    "\n",
    "    max_streaks_lose_mat = max_of_max_current\n",
    "\n",
    "    #### Probs updating\n",
    "    probs_new_mat = np.tile(range(0, num_probs), (num_states, num_states, 1))\n",
    "\n",
    "    Opts = {}\n",
    "    V_funcs = {}\n",
    "    G_funcs = {}\n",
    "    Cutoffs = {}\n",
    "\n",
    "    V_funcs['V' + str(max_period)] = max_of_max_current\n",
    "\n",
    "    for period in range(max_period-1, -1, -1):\n",
    "        next = period + 1\n",
    "        next_V = V_funcs['V' + str(next)]\n",
    "\n",
    "        Exp = np.zeros((num_states, num_choices, num_states, num_probs))\n",
    "\n",
    "        Exp_V_stay = np.mean(next_V[streaks_stay_mat, max_streaks_stay_mat, probs_new_mat], axis=2)\n",
    "        Exp_V_win = np.mean(next_V[streaks_win_mat, max_streaks_win_mat, probs_new_mat], axis=2)\n",
    "        Exp_V_lose = np.mean(next_V[streaks_lose_mat, max_streaks_lose_mat, probs_new_mat], axis=2)\n",
    "\n",
    "        Exp[:, 0, :, :] = np.tile(Exp_V_stay, (num_probs, 1, 1)).transpose([1, 2, 0])\n",
    "        Exp[:, 1, :, :] = (\n",
    "            np.einsum(\"ij,k->ijk\", Exp_V_win, probs_mat[0, 1, 0, :]) + \n",
    "            np.einsum(\"ij,k->ijk\", Exp_V_lose, (1 - probs_mat[0, 1, 0, :]))\n",
    "        )\n",
    "\n",
    "        G_funcs['G' + str(period)] = np.array(np.argmax(Exp, axis=1), dtype=float)\n",
    "        G_funcs['G' + str(period)][next:, :, :] = np.nan\n",
    "        G_funcs['G' + str(period)][:, next:, :] = np.nan\n",
    "        V_funcs['V' + str(period)] = np.array(np.amax(Exp, axis=1), dtype=float)\n",
    "        V_funcs['V' + str(period)][next:, :] = np.nan\n",
    "        V_funcs['V' + str(period)][:, next:, :] = np.nan\n",
    "      \n",
    "    return V_funcs, G_funcs"
   ]
  },
  {
   "cell_type": "code",
   "execution_count": 56,
   "metadata": {},
   "outputs": [],
   "source": [
    "#         cutoff_idx = np.array(num_probs - np.sum(G_funcs['G' + str(period)], axis=1))\n",
    "#         opt_streaks = streaks[~np.isnan(cutoff_idx)]\n",
    "#         cutoff_idx = cutoff_idx[~np.isnan(cutoff_idx)]\n",
    "#         cutoff_idx = np.array(cutoff_idx, dtype=int)\n",
    "#         opt_probs = probs_plus_1[cutoff_idx]\n",
    "\n",
    "#         cutoff = np.vstack((opt_streaks, opt_probs))\n",
    "#         Cutoffs['C' + str(period)] = cutoff"
   ]
  },
  {
   "cell_type": "code",
   "execution_count": 57,
   "metadata": {},
   "outputs": [],
   "source": [
    "# plt.plot(Cutoffs['C0'][0,:], Cutoffs['C0'][1,:])\n",
    "# for p in range(0, 100, 20):\n",
    "#     plt.plot(Cutoffs['C' + str(p)][0,:], Cutoffs['C' + str(p)][1,:])\n",
    "# plt.show()"
   ]
  },
  {
   "cell_type": "code",
   "execution_count": 51,
   "metadata": {},
   "outputs": [],
   "source": [
    "max_period = 356\n",
    "\n",
    "min_prob = .75\n",
    "max_prob = .85\n",
    "num_probs = 10\n",
    "probs = np.linspace(min_prob, max_prob, num_probs)\n",
    "\n",
    "V, G = generate_policy(probs, max_period)"
   ]
  },
  {
   "cell_type": "code",
   "execution_count": 52,
   "metadata": {},
   "outputs": [
    {
     "name": "stdout",
     "output_type": "stream",
     "text": [
      "23.369160038367497\n"
     ]
    }
   ],
   "source": [
    "est_val = V['V0'][0, 0, 9]\n",
    "print(est_val)"
   ]
  },
  {
   "cell_type": "code",
   "execution_count": null,
   "metadata": {},
   "outputs": [],
   "source": []
  },
  {
   "cell_type": "code",
   "execution_count": 53,
   "metadata": {},
   "outputs": [
    {
     "data": {
      "text/plain": [
       "0.7944444444444444"
      ]
     },
     "execution_count": 53,
     "metadata": {},
     "output_type": "execute_result"
    }
   ],
   "source": [
    "cutoffs = \n",
    "\n",
    "min(probs[G['G10'][10, 10, :].astype(bool)])"
   ]
  },
  {
   "cell_type": "code",
   "execution_count": null,
   "metadata": {},
   "outputs": [],
   "source": []
  }
 ],
 "metadata": {
  "kernelspec": {
   "display_name": "bts",
   "language": "python",
   "name": "bts"
  },
  "language_info": {
   "codemirror_mode": {
    "name": "ipython",
    "version": 3
   },
   "file_extension": ".py",
   "mimetype": "text/x-python",
   "name": "python",
   "nbconvert_exporter": "python",
   "pygments_lexer": "ipython3",
   "version": "3.7.10"
  }
 },
 "nbformat": 4,
 "nbformat_minor": 5
}
