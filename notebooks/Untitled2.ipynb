{
 "cells": [
  {
   "cell_type": "code",
   "execution_count": null,
   "id": "quick-inquiry",
   "metadata": {},
   "outputs": [],
   "source": [
    "import pandas as pd\n",
    "from pathlib import Path\n",
    "import os \n",
    "os.getcwd()"
   ]
  },
  {
   "cell_type": "code",
   "execution_count": null,
   "id": "disciplinary-appliance",
   "metadata": {},
   "outputs": [],
   "source": [
    "raw = Path('../data/raw')"
   ]
  },
  {
   "cell_type": "code",
   "execution_count": null,
   "id": "numerous-accent",
   "metadata": {},
   "outputs": [],
   "source": [
    "df = pd.read_csv(raw / 'BaseballReference' / 'war_daily_bat.txt')"
   ]
  },
  {
   "cell_type": "code",
   "execution_count": null,
   "id": "faced-programming",
   "metadata": {},
   "outputs": [],
   "source": [
    "df[['player_ID', 'year_ID', 'team_ID', 'PA', 'G']]"
   ]
  },
  {
   "cell_type": "code",
   "execution_count": null,
   "id": "chicken-nelson",
   "metadata": {},
   "outputs": [],
   "source": [
    "df.dtypes"
   ]
  },
  {
   "cell_type": "code",
   "execution_count": null,
   "id": "practical-promotion",
   "metadata": {},
   "outputs": [],
   "source": [
    "df['player_ID', 'year_ID', 'team_ID', 'PA', 'H', 'G']"
   ]
  },
  {
   "cell_type": "code",
   "execution_count": null,
   "id": "higher-flour",
   "metadata": {},
   "outputs": [],
   "source": [
    "\"https://www.baseball-reference.com/data/war_archive-2021-04-11.zip\""
   ]
  }
 ],
 "metadata": {
  "kernelspec": {
   "display_name": "bts",
   "language": "python",
   "name": "bts"
  },
  "language_info": {
   "codemirror_mode": {
    "name": "ipython",
    "version": 3
   },
   "file_extension": ".py",
   "mimetype": "text/x-python",
   "name": "python",
   "nbconvert_exporter": "python",
   "pygments_lexer": "ipython3"
  }
 },
 "nbformat": 4,
 "nbformat_minor": 5
}
