{
 "cells": [
  {
   "cell_type": "markdown",
   "metadata": {},
   "source": [
    "## Setup"
   ]
  },
  {
   "cell_type": "code",
   "execution_count": 128,
   "metadata": {},
   "outputs": [],
   "source": [
    "import pandas as pd\n",
    "from pathlib import Path\n",
    "import statsmodels.formula.api as sm\n",
    "import numpy as np\n",
    "\n",
    "from sklearn.preprocessing import StandardScaler\n",
    "\n",
    "from sklearn.preprocessing import PolynomialFeatures\n",
    "from sklearn.compose import ColumnTransformer\n",
    "from sklearn.linear_model import (\n",
    "    LassoCV,\n",
    "    LinearRegression\n",
    ")\n",
    "from sklearn.pipeline import Pipeline\n",
    "from sklearn.model_selection import (\n",
    "    cross_val_score,\n",
    "    StratifiedKFold,\n",
    "    TimeSeriesSplit\n",
    ")\n",
    "\n",
    "from xgboost import XGBRegressor\n",
    "\n",
    "import matplotlib.pyplot as plt"
   ]
  },
  {
   "cell_type": "code",
   "execution_count": 138,
   "metadata": {},
   "outputs": [],
   "source": [
    "interim = '../../data/interim'\n",
    "br = pd.read_pickle(Path(interim) / 'batting_records.pkl')\n",
    "gl = pd.read_pickle(Path(interim) / 'game_logs.pkl')\n",
    "events = pd.read_pickle(Path(interim) / 'events.pkl')\n",
    "people = pd.read_pickle(Path(interim) / 'people.pkl')\n",
    "\n",
    "## League DAta\n",
    "League = events[events.BAT_FLD_CD != 1].groupby('year')[['HR', 'H', 'PA']].sum()\n",
    "League.columns = ['League_HR', 'League_H', 'League_PA']\n",
    "League['League_HPPA'] = (100*(League['League_H'] / League['League_PA'])).astype('float')"
   ]
  },
  {
   "cell_type": "markdown",
   "metadata": {},
   "source": [
    "## Featurize"
   ]
  },
  {
   "cell_type": "code",
   "execution_count": 139,
   "metadata": {},
   "outputs": [],
   "source": [
    "League = League.reset_index()\n",
    "\n",
    "League['L1_League_HPPA'] = League['League_HPPA'].shift(1) \n",
    "League['L2_League_HPPA'] = League['League_HPPA'].shift(2)\n",
    "League['L3_League_HPPA'] = League['League_HPPA'].shift(3)\n",
    "\n",
    "League = League.dropna()"
   ]
  },
  {
   "cell_type": "markdown",
   "metadata": {},
   "source": [
    "## Setup training"
   ]
  },
  {
   "cell_type": "code",
   "execution_count": 140,
   "metadata": {},
   "outputs": [],
   "source": [
    "x_vars = ['L1_League_HPPA', 'L2_League_HPPA', 'L3_League_HPPA']\n",
    "y_var = ['League_HPPA']"
   ]
  },
  {
   "cell_type": "code",
   "execution_count": 141,
   "metadata": {},
   "outputs": [],
   "source": [
    "def gen_pipeline(clf):\n",
    "    x_vars = [\n",
    "        'L1_League_HPPA', 'L2_League_HPPA', 'L3_League_HPPA'\n",
    "    ]\n",
    "    preprocessor =  ColumnTransformer(\n",
    "        [('spot', 'passthrough', x_vars)],\n",
    "        remainder='drop'\n",
    "    )\n",
    "\n",
    "    fitted_model = Pipeline([\n",
    "        ('select', preprocessor),\n",
    "        ('poly', PolynomialFeatures(2, interaction_only=True)),\n",
    "        ('scale', StandardScaler()),\n",
    "        ('clf', clf),\n",
    "    ])\n",
    "    \n",
    "    return fitted_model"
   ]
  },
  {
   "cell_type": "markdown",
   "metadata": {},
   "source": [
    "## Training"
   ]
  },
  {
   "cell_type": "code",
   "execution_count": 142,
   "metadata": {},
   "outputs": [],
   "source": [
    "LR = gen_pipeline(LinearRegression())\n",
    "Lasso = gen_pipeline(LassoCV(cv=5, random_state=0))\n",
    "XGBR = XGBRegressor(\n",
    "    tree_method='hist',\n",
    "    verbosity = 0,\n",
    "    random_state = 0,\n",
    "    max_depth = 4,\n",
    "    early_stopping_rounds=5,\n",
    "    n_estimators = 500,\n",
    "    use_label_encoder=False,\n",
    "    verbose=True,\n",
    ")\n",
    "\n",
    "XGB = gen_pipeline(XGBR)"
   ]
  },
  {
   "cell_type": "code",
   "execution_count": 166,
   "metadata": {},
   "outputs": [],
   "source": [
    "def moving_average(x, w):\n",
    "    return np.convolve(x, np.ones(w), 'valid') / w"
   ]
  },
  {
   "cell_type": "code",
   "execution_count": 164,
   "metadata": {},
   "outputs": [],
   "source": [
    "# tscv = TimeSeriesSplit(test_size=2, n_splits = int(np.round(League.shape[0]/2))-10)\n",
    "tscv = TimeSeriesSplit(test_size=1, n_splits = League.shape[0]-10)"
   ]
  },
  {
   "cell_type": "code",
   "execution_count": 179,
   "metadata": {},
   "outputs": [
    {
     "name": "stdout",
     "output_type": "stream",
     "text": [
      "Accuracy: -44698.386 (51510.824)\n"
     ]
    },
    {
     "data": {
      "text/plain": [
       "[<matplotlib.lines.Line2D at 0x7fc1597e6710>]"
      ]
     },
     "execution_count": 179,
     "metadata": {},
     "output_type": "execute_result"
    },
    {
     "data": {
      "image/png": "[encoded data removed]",
      "text/plain": [
       "<Figure size 432x288 with 1 Axes>"
      ]
     },
     "metadata": {
      "needs_background": "light"
     },
     "output_type": "display_data"
    }
   ],
   "source": [
    "results = cross_val_score(LR, League[x_vars], League[y_var], cv=tscv, n_jobs=-1, scoring='neg_root_mean_squared_error')\n",
    "print(\"Accuracy: %.3f (%.3f)\" % (results.mean()*1e5, results.std()*1e5))\n",
    "plt.plot(np.arange(0, len(results)-20) , moving_average(results, 21))"
   ]
  },
  {
   "cell_type": "code",
   "execution_count": 180,
   "metadata": {},
   "outputs": [
    {
     "name": "stdout",
     "output_type": "stream",
     "text": [
      "Accuracy: -37237.425 (32329.860)\n"
     ]
    },
    {
     "data": {
      "text/plain": [
       "[<matplotlib.lines.Line2D at 0x7fc1597de9d0>]"
      ]
     },
     "execution_count": 180,
     "metadata": {},
     "output_type": "execute_result"
    },
    {
     "data": {
      "image/png": "[encoded data removed]",
      "text/plain": [
       "<Figure size 432x288 with 1 Axes>"
      ]
     },
     "metadata": {
      "needs_background": "light"
     },
     "output_type": "display_data"
    }
   ],
   "source": [
    "results = cross_val_score(Lasso, League[x_vars], League[y_var], cv=tscv, n_jobs=-1, scoring='neg_root_mean_squared_error')\n",
    "print(\"Accuracy: %.3f (%.3f)\" % (results.mean()*1e5, results.std()*1e5))\n",
    "plt.plot(np.arange(0, len(results)-20) , moving_average(results, 21))"
   ]
  },
  {
   "cell_type": "code",
   "execution_count": 181,
   "metadata": {},
   "outputs": [
    {
     "name": "stdout",
     "output_type": "stream",
     "text": [
      "Accuracy: -41265.274 (33594.274)\n"
     ]
    },
    {
     "data": {
      "text/plain": [
       "[<matplotlib.lines.Line2D at 0x7fc17e8f1e10>]"
      ]
     },
     "execution_count": 181,
     "metadata": {},
     "output_type": "execute_result"
    },
    {
     "data": {
      "image/png": "[encoded data removed]",
      "text/plain": [
       "<Figure size 432x288 with 1 Axes>"
      ]
     },
     "metadata": {
      "needs_background": "light"
     },
     "output_type": "display_data"
    }
   ],
   "source": [
    "results = cross_val_score(XGB, League[x_vars], League[y_var], cv=tscv, n_jobs=-1, scoring='neg_root_mean_squared_error')\n",
    "print(\"Accuracy: %.3f (%.3f)\" % (results.mean()*1e5, results.std()*1e5))\n",
    "plt.plot(np.arange(0, len(results)-20) , moving_average(results, 21))"
   ]
  },
  {
   "cell_type": "code",
   "execution_count": null,
   "metadata": {},
   "outputs": [],
   "source": [
    "# Plot error rate over time for the different ones to see how much they improve as data increases"
   ]
  },
  {
   "cell_type": "code",
   "execution_count": 119,
   "metadata": {},
   "outputs": [
    {
     "data": {
      "text/plain": [
       "XGBRegressor(base_score=0.5, booster='gbtree', colsample_bylevel=1,\n",
       "             colsample_bynode=1, colsample_bytree=1, early_stopping_rounds=5,\n",
       "             gamma=0, gpu_id=-1, importance_type='gain',\n",
       "             interaction_constraints='', learning_rate=0.300000012,\n",
       "             max_delta_step=0, max_depth=1, min_child_weight=1, missing=nan,\n",
       "             monotone_constraints='()', n_estimators=1000, n_jobs=8,\n",
       "             num_parallel_tree=1, random_state=0, reg_alpha=0, reg_lambda=1,\n",
       "             scale_pos_weight=1, subsample=1, tree_method='hist',\n",
       "             use_label_encoder=False, validate_parameters=1, verbose=True,\n",
       "             verbosity=0)"
      ]
     },
     "execution_count": 119,
     "metadata": {},
     "output_type": "execute_result"
    }
   ],
   "source": [
    "XGB.fit(League[x_vars], League[y_var])"
   ]
  },
  {
   "cell_type": "markdown",
   "metadata": {},
   "source": [
    "## Visualize"
   ]
  },
  {
   "cell_type": "code",
   "execution_count": 24,
   "metadata": {},
   "outputs": [
    {
     "name": "stdout",
     "output_type": "stream",
     "text": [
      "                            OLS Regression Results                            \n",
      "==============================================================================\n",
      "Dep. Variable:            League_HPPA   R-squared:                       0.829\n",
      "Model:                            OLS   Adj. R-squared:                  0.824\n",
      "Method:                 Least Squares   F-statistic:                     152.0\n",
      "Date:                Tue, 30 Mar 2021   Prob (F-statistic):           6.13e-36\n",
      "Time:                        14:11:35   Log-Likelihood:                 392.53\n",
      "No. Observations:                  98   AIC:                            -777.1\n",
      "Df Residuals:                      94   BIC:                            -766.7\n",
      "Df Model:                           3                                         \n",
      "Covariance Type:            nonrobust                                         \n",
      "==================================================================================\n",
      "                     coef    std err          t      P>|t|      [0.025      0.975]\n",
      "----------------------------------------------------------------------------------\n",
      "Intercept          0.0184      0.010      1.762      0.081      -0.002       0.039\n",
      "L1_League_HPPA     0.5754      0.104      5.550      0.000       0.370       0.781\n",
      "L2_League_HPPA     0.1549      0.118      1.315      0.192      -0.079       0.389\n",
      "L3_League_HPPA     0.1903      0.098      1.944      0.055      -0.004       0.385\n",
      "==============================================================================\n",
      "Omnibus:                        0.125   Durbin-Watson:                   1.949\n",
      "Prob(Omnibus):                  0.939   Jarque-Bera (JB):                0.010\n",
      "Skew:                           0.024   Prob(JB):                        0.995\n",
      "Kurtosis:                       3.006   Cond. No.                         346.\n",
      "==============================================================================\n",
      "\n",
      "Notes:\n",
      "[1] Standard Errors assume that the covariance matrix of the errors is correctly specified.\n"
     ]
    }
   ],
   "source": [
    "# limited = merged[(merged.G >= 50)  & (merged.prev_G >= 50)]\n",
    "result = sm.ols(formula=\"League_HPPA ~ L1_League_HPPA + L2_League_HPPA + L3_League_HPPA\", data=League).fit()\n",
    "print(result.summary())\n",
    "coef_const = result.params[0]\n",
    "coef_L1_PA = result.params[1]\n",
    "coef_L2_PA = result.params[2]"
   ]
  },
  {
   "cell_type": "code",
   "execution_count": 5,
   "metadata": {},
   "outputs": [
    {
     "data": {
      "text/plain": [
       "<AxesSubplot:xlabel='year', ylabel='League_HPPA'>"
      ]
     },
     "execution_count": 5,
     "metadata": {},
     "output_type": "execute_result"
    },
    {
     "data": {
      "image/png": "[encoded data removed]",
      "text/plain": [
       "<Figure size 432x288 with 1 Axes>"
      ]
     },
     "metadata": {
      "needs_background": "light"
     },
     "output_type": "display_data"
    }
   ],
   "source": [
    "League[League.year >= 1960].plot.scatter('year', 'League_HPPA')"
   ]
  },
  {
   "cell_type": "code",
   "execution_count": null,
   "metadata": {},
   "outputs": [],
   "source": []
  }
 ],
 "metadata": {
  "kernelspec": {
   "display_name": "bts",
   "language": "python",
   "name": "bts"
  },
  "language_info": {
   "codemirror_mode": {
    "name": "ipython",
    "version": 3
   },
   "file_extension": ".py",
   "mimetype": "text/x-python",
   "name": "python",
   "nbconvert_exporter": "python",
   "pygments_lexer": "ipython3",
   "version": "3.7.10"
  }
 },
 "nbformat": 4,
 "nbformat_minor": 5
}
