{
 "cells": [
  {
   "cell_type": "markdown",
   "id": "auburn-spokesman",
   "metadata": {},
   "source": [
    "## Setup"
   ]
  },
  {
   "cell_type": "code",
   "execution_count": 1,
   "id": "operating-ability",
   "metadata": {},
   "outputs": [],
   "source": [
    "import pandas as pd\n",
    "from pathlib import Path\n",
    "import statsmodels.formula.api as sm\n",
    "import numpy as np\n",
    "\n",
    "from sklearn.preprocessing import StandardScaler\n",
    "\n",
    "from sklearn.preprocessing import PolynomialFeatures\n",
    "from sklearn.compose import ColumnTransformer\n",
    "from sklearn.linear_model import (\n",
    "    LassoCV,\n",
    "    LinearRegression\n",
    ")\n",
    "from sklearn.pipeline import Pipeline\n",
    "from sklearn.model_selection import (\n",
    "    cross_val_score,\n",
    "    StratifiedKFold,\n",
    "    TimeSeriesSplit\n",
    ")\n",
    "\n",
    "from xgboost import XGBRegressor\n",
    "\n",
    "import matplotlib.pyplot as plt"
   ]
  },
  {
   "cell_type": "code",
   "execution_count": 2,
   "id": "coral-interval",
   "metadata": {},
   "outputs": [],
   "source": [
    "interim = '../../data/interim'\n",
    "br = pd.read_pickle(Path(interim) / 'batting_records.pkl')\n",
    "gl = pd.read_pickle(Path(interim) / 'game_logs.pkl')\n",
    "events = pd.read_pickle(Path(interim) / 'events.pkl')\n",
    "people = pd.read_pickle(Path(interim) / 'people.pkl')\n",
    "\n",
    "## League DAta\n",
    "League = events[events.BAT_FLD_CD != 1].groupby('year')[['HR', 'H', 'PA']].sum()\n",
    "League.columns = ['League_HR', 'League_H', 'League_PA']\n",
    "League['League_HPPA'] = (100*(League['League_H'] / League['League_PA'])).astype('float')"
   ]
  },
  {
   "cell_type": "markdown",
   "id": "shared-still",
   "metadata": {},
   "source": [
    "## Featurize"
   ]
  },
  {
   "cell_type": "code",
   "execution_count": 3,
   "id": "abstract-mapping",
   "metadata": {},
   "outputs": [],
   "source": [
    "League = League.reset_index()\n",
    "\n",
    "League['L1_League_HPPA'] = League['League_HPPA'].shift(1) \n",
    "League['L2_League_HPPA'] = League['League_HPPA'].shift(2)\n",
    "League['L3_League_HPPA'] = League['League_HPPA'].shift(3)\n",
    "\n",
    "League = League.dropna()"
   ]
  },
  {
   "cell_type": "markdown",
   "id": "endangered-abortion",
   "metadata": {},
   "source": [
    "## Setup training"
   ]
  },
  {
   "cell_type": "code",
   "execution_count": 4,
   "id": "altered-symbol",
   "metadata": {},
   "outputs": [],
   "source": [
    "x_vars = ['L1_League_HPPA', 'L2_League_HPPA', 'L3_League_HPPA']\n",
    "y_var = ['League_HPPA']"
   ]
  },
  {
   "cell_type": "code",
   "execution_count": 5,
   "id": "sitting-chart",
   "metadata": {},
   "outputs": [],
   "source": [
    "def gen_pipeline(clf):\n",
    "    x_vars = [\n",
    "        'L1_League_HPPA', 'L2_League_HPPA', 'L3_League_HPPA'\n",
    "    ]\n",
    "    preprocessor =  ColumnTransformer(\n",
    "        [('spot', 'passthrough', x_vars)],\n",
    "        remainder='drop'\n",
    "    )\n",
    "\n",
    "    fitted_model = Pipeline([\n",
    "        ('select', preprocessor),\n",
    "        ('poly', PolynomialFeatures(2, interaction_only=True)),\n",
    "        ('scale', StandardScaler()),\n",
    "        ('clf', clf),\n",
    "    ])\n",
    "    \n",
    "    return fitted_model"
   ]
  },
  {
   "cell_type": "markdown",
   "id": "celtic-evidence",
   "metadata": {},
   "source": [
    "## Training"
   ]
  },
  {
   "cell_type": "code",
   "execution_count": 6,
   "id": "outside-topic",
   "metadata": {},
   "outputs": [],
   "source": [
    "LR = gen_pipeline(LinearRegression())\n",
    "Lasso = gen_pipeline(LassoCV(cv=5, random_state=0))\n",
    "XGBR = XGBRegressor(\n",
    "    tree_method='hist',\n",
    "    verbosity = 0,\n",
    "    random_state = 0,\n",
    "    max_depth = 4,\n",
    "    early_stopping_rounds=5,\n",
    "    n_estimators = 500,\n",
    "    use_label_encoder=False,\n",
    "    verbose=True,\n",
    ")\n",
    "\n",
    "XGB = gen_pipeline(XGBR)"
   ]
  },
  {
   "cell_type": "code",
   "execution_count": 7,
   "id": "considerable-sword",
   "metadata": {},
   "outputs": [],
   "source": [
    "def moving_average(x, w):\n",
    "    return np.convolve(x, np.ones(w), 'valid') / w"
   ]
  },
  {
   "cell_type": "code",
   "execution_count": 8,
   "id": "extensive-halloween",
   "metadata": {},
   "outputs": [],
   "source": [
    "# tscv = TimeSeriesSplit(test_size=2, n_splits = int(np.round(League.shape[0]/2))-10)\n",
    "tscv = TimeSeriesSplit(test_size=1, n_splits = League.shape[0]-10)"
   ]
  },
  {
   "cell_type": "code",
   "execution_count": 9,
   "id": "varied-sheriff",
   "metadata": {},
   "outputs": [
    {
     "name": "stdout",
     "output_type": "stream",
     "text": [
      "Accuracy: -46933.757 (56341.198)\n"
     ]
    },
    {
     "data": {
      "text/plain": [
       "[<matplotlib.lines.Line2D at 0x7fd34223c150>]"
      ]
     },
     "execution_count": 9,
     "metadata": {},
     "output_type": "execute_result"
    },
    {
     "data": {
      "image/png": "[encoded data removed]",
      "text/plain": [
       "<Figure size 432x288 with 1 Axes>"
      ]
     },
     "metadata": {
      "needs_background": "light"
     },
     "output_type": "display_data"
    }
   ],
   "source": [
    "results = cross_val_score(LR, League[x_vars], League[y_var], cv=tscv, n_jobs=-1, scoring='neg_root_mean_squared_error')\n",
    "print(\"Accuracy: %.3f (%.3f)\" % (results.mean()*1e5, results.std()*1e5))\n",
    "plt.plot(np.arange(0, len(results)-20) , moving_average(results, 21))"
   ]
  },
  {
   "cell_type": "code",
   "execution_count": 10,
   "id": "sexual-italy",
   "metadata": {},
   "outputs": [
    {
     "name": "stdout",
     "output_type": "stream",
     "text": [
      "Accuracy: -40377.053 (39743.107)\n"
     ]
    },
    {
     "data": {
      "text/plain": [
       "[<matplotlib.lines.Line2D at 0x7fd357b0e090>]"
      ]
     },
     "execution_count": 10,
     "metadata": {},
     "output_type": "execute_result"
    },
    {
     "data": {
      "image/png": "[encoded data removed]",
      "text/plain": [
       "<Figure size 432x288 with 1 Axes>"
      ]
     },
     "metadata": {
      "needs_background": "light"
     },
     "output_type": "display_data"
    }
   ],
   "source": [
    "results = cross_val_score(Lasso, League[x_vars], League[y_var], cv=tscv, n_jobs=-1, scoring='neg_root_mean_squared_error')\n",
    "print(\"Accuracy: %.3f (%.3f)\" % (results.mean()*1e5, results.std()*1e5))\n",
    "plt.plot(np.arange(0, len(results)-20) , moving_average(results, 21))"
   ]
  },
  {
   "cell_type": "code",
   "execution_count": 11,
   "id": "apparent-serial",
   "metadata": {},
   "outputs": [
    {
     "name": "stdout",
     "output_type": "stream",
     "text": [
      "Accuracy: -41833.276 (33813.335)\n"
     ]
    },
    {
     "data": {
      "text/plain": [
       "[<matplotlib.lines.Line2D at 0x7fd342234590>]"
      ]
     },
     "execution_count": 11,
     "metadata": {},
     "output_type": "execute_result"
    },
    {
     "data": {
      "image/png": "[encoded data removed]",
      "text/plain": [
       "<Figure size 432x288 with 1 Axes>"
      ]
     },
     "metadata": {
      "needs_background": "light"
     },
     "output_type": "display_data"
    }
   ],
   "source": [
    "results = cross_val_score(XGB, League[x_vars], League[y_var], cv=tscv, n_jobs=-1, scoring='neg_root_mean_squared_error')\n",
    "print(\"Accuracy: %.3f (%.3f)\" % (results.mean()*1e5, results.std()*1e5))\n",
    "plt.plot(np.arange(0, len(results)-20) , moving_average(results, 21))"
   ]
  },
  {
   "cell_type": "code",
   "execution_count": 12,
   "id": "nominated-macro",
   "metadata": {},
   "outputs": [],
   "source": [
    "# Plot error rate over time for the different ones to see how much they improve as data increases"
   ]
  },
  {
   "cell_type": "code",
   "execution_count": 13,
   "id": "missing-assignment",
   "metadata": {},
   "outputs": [
    {
     "data": {
      "text/plain": [
       "Pipeline(steps=[('select',\n",
       "                 ColumnTransformer(transformers=[('spot', 'passthrough',\n",
       "                                                  ['L1_League_HPPA',\n",
       "                                                   'L2_League_HPPA',\n",
       "                                                   'L3_League_HPPA'])])),\n",
       "                ('poly', PolynomialFeatures(interaction_only=True)),\n",
       "                ('scale', StandardScaler()),\n",
       "                ('clf',\n",
       "                 XGBRegressor(early_stopping_rounds=5, max_depth=4,\n",
       "                              n_estimators=500, tree_method='hist',\n",
       "                              use_label_encoder=False, verbose=True,\n",
       "                              verbosity=0))])"
      ]
     },
     "execution_count": 13,
     "metadata": {},
     "output_type": "execute_result"
    }
   ],
   "source": [
    "XGB.fit(League[x_vars], League[y_var])"
   ]
  },
  {
   "cell_type": "markdown",
   "id": "upset-keeping",
   "metadata": {},
   "source": [
    "## Visualize"
   ]
  },
  {
   "cell_type": "code",
   "execution_count": 14,
   "id": "joint-mumbai",
   "metadata": {},
   "outputs": [
    {
     "name": "stdout",
     "output_type": "stream",
     "text": [
      "                            OLS Regression Results                            \n",
      "==============================================================================\n",
      "Dep. Variable:            League_HPPA   R-squared:                       0.799\n",
      "Model:                            OLS   Adj. R-squared:                  0.793\n",
      "Method:                 Least Squares   F-statistic:                     124.8\n",
      "Date:                Fri, 09 Apr 2021   Prob (F-statistic):           1.17e-32\n",
      "Time:                        20:37:51   Log-Likelihood:                -60.951\n",
      "No. Observations:                  98   AIC:                             129.9\n",
      "Df Residuals:                      94   BIC:                             140.2\n",
      "Df Model:                           3                                         \n",
      "Covariance Type:            nonrobust                                         \n",
      "==================================================================================\n",
      "                     coef    std err          t      P>|t|      [0.025      0.975]\n",
      "----------------------------------------------------------------------------------\n",
      "Intercept          2.0157      1.135      1.776      0.079      -0.237       4.269\n",
      "L1_League_HPPA     0.5703      0.104      5.493      0.000       0.364       0.776\n",
      "L2_League_HPPA     0.1688      0.118      1.436      0.154      -0.065       0.402\n",
      "L3_League_HPPA     0.1739      0.099      1.765      0.081      -0.022       0.369\n",
      "==============================================================================\n",
      "Omnibus:                        0.255   Durbin-Watson:                   1.959\n",
      "Prob(Omnibus):                  0.880   Jarque-Bera (JB):                0.049\n",
      "Skew:                           0.043   Prob(JB):                        0.976\n",
      "Kurtosis:                       3.068   Cond. No.                     1.01e+03\n",
      "==============================================================================\n",
      "\n",
      "Notes:\n",
      "[1] Standard Errors assume that the covariance matrix of the errors is correctly specified.\n",
      "[2] The condition number is large, 1.01e+03. This might indicate that there are\n",
      "strong multicollinearity or other numerical problems.\n"
     ]
    }
   ],
   "source": [
    "# limited = merged[(merged.G >= 50)  & (merged.prev_G >= 50)]\n",
    "result = sm.ols(formula=\"League_HPPA ~ L1_League_HPPA + L2_League_HPPA + L3_League_HPPA\", data=League).fit()\n",
    "print(result.summary())\n",
    "coef_const = result.params[0]\n",
    "coef_L1_PA = result.params[1]\n",
    "coef_L2_PA = result.params[2]"
   ]
  },
  {
   "cell_type": "code",
   "execution_count": 15,
   "id": "psychological-atlas",
   "metadata": {},
   "outputs": [
    {
     "data": {
      "text/plain": [
       "<AxesSubplot:xlabel='year', ylabel='League_HPPA'>"
      ]
     },
     "execution_count": 15,
     "metadata": {},
     "output_type": "execute_result"
    },
    {
     "data": {
      "image/png": "[encoded data removed]",
      "text/plain": [
       "<Figure size 432x288 with 1 Axes>"
      ]
     },
     "metadata": {
      "needs_background": "light"
     },
     "output_type": "display_data"
    }
   ],
   "source": [
    "League[League.year >= 1960].plot.scatter('year', 'League_HPPA')"
   ]
  },
  {
   "cell_type": "code",
   "execution_count": null,
   "id": "lyric-vitamin",
   "metadata": {},
   "outputs": [],
   "source": []
  }
 ],
 "metadata": {
  "kernelspec": {
   "display_name": "bts",
   "language": "python",
   "name": "bts"
  },
  "language_info": {
   "codemirror_mode": {
    "name": "ipython",
    "version": 3
   },
   "file_extension": ".py",
   "mimetype": "text/x-python",
   "name": "python",
   "nbconvert_exporter": "python",
   "pygments_lexer": "ipython3",
   "version": "3.7.10"
  }
 },
 "nbformat": 4,
 "nbformat_minor": 5
}
