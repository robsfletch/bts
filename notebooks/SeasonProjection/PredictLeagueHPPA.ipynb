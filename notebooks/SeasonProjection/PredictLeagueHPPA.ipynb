{
 "cells": [
  {
   "cell_type": "code",
   "execution_count": 57,
   "id": "minimal-exclusion",
   "metadata": {},
   "outputs": [],
   "source": [
    "import pandas as pd\n",
    "from pathlib import Path\n",
    "import statsmodels.formula.api as sm\n",
    "import numpy as np\n",
    "\n",
    "from sklearn.preprocessing import StandardScaler\n",
    "\n",
    "from sklearn.preprocessing import PolynomialFeatures\n",
    "from sklearn.compose import ColumnTransformer\n",
    "from sklearn.linear_model import LassoCV\n",
    "from sklearn.pipeline import Pipeline\n",
    "from sklearn.model_selection import cross_val_score\n",
    "\n",
    "interim = '../data/interim'\n",
    "br = pd.read_pickle(Path(interim) / 'batting_records.pkl')\n",
    "gl = pd.read_pickle(Path(interim) / 'game_logs.pkl')\n",
    "events = pd.read_pickle(Path(interim) / 'events.pkl')\n",
    "people = pd.read_pickle(Path(interim) / 'people.pkl')\n",
    "\n",
    "## League DAta\n",
    "League = events[events.BAT_FLD_CD != 1].groupby('year')[['HR', 'H', 'PA']].sum()\n",
    "League.columns = ['League_HR', 'League_H', 'League_PA']\n",
    "League['League_HPPA'] = (League['League_H'] / League['League_PA']).astype('float')"
   ]
  },
  {
   "cell_type": "code",
   "execution_count": 58,
   "id": "acting-identity",
   "metadata": {},
   "outputs": [],
   "source": [
    "League = League.reset_index()\n",
    "\n",
    "League['L1_League_HPPA'] = League['League_HPPA'].shift(1) \n",
    "League['L2_League_HPPA'] = League['League_HPPA'].shift(2)\n",
    "League['L3_League_HPPA'] = League['League_HPPA'].shift(3)"
   ]
  },
  {
   "cell_type": "code",
   "execution_count": 59,
   "id": "sufficient-painting",
   "metadata": {},
   "outputs": [
    {
     "data": {
      "text/plain": [
       "<AxesSubplot:xlabel='year', ylabel='League_HPPA'>"
      ]
     },
     "execution_count": 59,
     "metadata": {},
     "output_type": "execute_result"
    },
    {
     "data": {
      "image/png": "[encoded data removed]",
      "text/plain": [
       "<Figure size 432x288 with 1 Axes>"
      ]
     },
     "metadata": {
      "needs_background": "light"
     },
     "output_type": "display_data"
    }
   ],
   "source": [
    "League[League.year >= 1960].plot.scatter('year', 'League_HPPA')"
   ]
  },
  {
   "cell_type": "code",
   "execution_count": 60,
   "id": "pressed-democracy",
   "metadata": {},
   "outputs": [
    {
     "name": "stdout",
     "output_type": "stream",
     "text": [
      "                            OLS Regression Results                            \n",
      "==============================================================================\n",
      "Dep. Variable:            League_HPPA   R-squared:                       0.799\n",
      "Model:                            OLS   Adj. R-squared:                  0.793\n",
      "Method:                 Least Squares   F-statistic:                     124.8\n",
      "Date:                Sun, 21 Mar 2021   Prob (F-statistic):           1.17e-32\n",
      "Time:                        20:45:05   Log-Likelihood:                 390.36\n",
      "No. Observations:                  98   AIC:                            -772.7\n",
      "Df Residuals:                      94   BIC:                            -762.4\n",
      "Df Model:                           3                                         \n",
      "Covariance Type:            nonrobust                                         \n",
      "==================================================================================\n",
      "                     coef    std err          t      P>|t|      [0.025      0.975]\n",
      "----------------------------------------------------------------------------------\n",
      "Intercept          0.0202      0.011      1.776      0.079      -0.002       0.043\n",
      "L1_League_HPPA     0.5703      0.104      5.493      0.000       0.364       0.776\n",
      "L2_League_HPPA     0.1688      0.118      1.436      0.154      -0.065       0.402\n",
      "L3_League_HPPA     0.1739      0.099      1.765      0.081      -0.022       0.369\n",
      "==============================================================================\n",
      "Omnibus:                        0.255   Durbin-Watson:                   1.959\n",
      "Prob(Omnibus):                  0.880   Jarque-Bera (JB):                0.049\n",
      "Skew:                           0.043   Prob(JB):                        0.976\n",
      "Kurtosis:                       3.068   Cond. No.                         337.\n",
      "==============================================================================\n",
      "\n",
      "Notes:\n",
      "[1] Standard Errors assume that the covariance matrix of the errors is correctly specified.\n"
     ]
    }
   ],
   "source": [
    "# limited = merged[(merged.G >= 50)  & (merged.prev_G >= 50)]\n",
    "result = sm.ols(formula=\"League_HPPA ~ L1_League_HPPA + L2_League_HPPA + L3_League_HPPA\", data=League).fit()\n",
    "print(result.summary())\n",
    "coef_const = result.params[0]\n",
    "coef_L1_PA = result.params[1]\n",
    "coef_L2_PA = result.params[2]"
   ]
  },
  {
   "cell_type": "code",
   "execution_count": 71,
   "id": "interracial-myanmar",
   "metadata": {},
   "outputs": [
    {
     "data": {
      "text/plain": [
       "Pipeline(steps=[('select',\n",
       "                 ColumnTransformer(transformers=[('spot', 'passthrough',\n",
       "                                                  ['L1_League_HPPA',\n",
       "                                                   'L2_League_HPPA',\n",
       "                                                   'L3_League_HPPA'])])),\n",
       "                ('poly', PolynomialFeatures(interaction_only=True)),\n",
       "                ('scale', StandardScaler()),\n",
       "                ('clf',\n",
       "                 LassoCV(cv=5, max_iter=10000, n_jobs=-1, random_state=0))])"
      ]
     },
     "execution_count": 71,
     "metadata": {},
     "output_type": "execute_result"
    }
   ],
   "source": [
    "x_vars = [\n",
    "    'L1_League_HPPA', 'L2_League_HPPA', 'L3_League_HPPA'\n",
    "]\n",
    "preprocessor =  ColumnTransformer(\n",
    "    [('spot', 'passthrough', x_vars)],\n",
    "    remainder='drop'\n",
    ")\n",
    "\n",
    "clf = LassoCV(\n",
    "    cv=5, random_state=0, max_iter=10000, n_jobs=-1,\n",
    ")\n",
    "\n",
    "fitted_model = Pipeline([\n",
    "    ('select', preprocessor),\n",
    "    ('poly', PolynomialFeatures(2, interaction_only=True)),\n",
    "    ('scale', StandardScaler()),\n",
    "    ('clf', clf),\n",
    "])\n",
    "\n",
    "League = League.dropna()\n",
    "fitted_model.fit(League, League['League_HPPA'].astype('float'))"
   ]
  },
  {
   "cell_type": "code",
   "execution_count": 72,
   "id": "endless-merchant",
   "metadata": {},
   "outputs": [],
   "source": [
    "League['pred'] = fitted_model.predict(League)"
   ]
  },
  {
   "cell_type": "code",
   "execution_count": 73,
   "id": "solar-tampa",
   "metadata": {},
   "outputs": [
    {
     "data": {
      "text/plain": [
       "3      0.258765\n",
       "4      0.258781\n",
       "5      0.258848\n",
       "6      0.261076\n",
       "7      0.253762\n",
       "         ...   \n",
       "96     0.231938\n",
       "97     0.232019\n",
       "98     0.231835\n",
       "99     0.228089\n",
       "100    0.228888\n",
       "Name: pred, Length: 98, dtype: float64"
      ]
     },
     "execution_count": 73,
     "metadata": {},
     "output_type": "execute_result"
    }
   ],
   "source": [
    "League['pred']"
   ]
  },
  {
   "cell_type": "code",
   "execution_count": 74,
   "id": "trained-purchase",
   "metadata": {},
   "outputs": [],
   "source": [
    "results = cross_val_score(fitted_model, League, League['League_HPPA'].astype('float'), cv=5, n_jobs=-1)"
   ]
  },
  {
   "cell_type": "code",
   "execution_count": 75,
   "id": "reported-trace",
   "metadata": {},
   "outputs": [
    {
     "data": {
      "text/plain": [
       "array([ 0.40417779, -0.76946357,  0.10564638,  0.42228819,  0.55293119])"
      ]
     },
     "execution_count": 75,
     "metadata": {},
     "output_type": "execute_result"
    }
   ],
   "source": [
    "results"
   ]
  },
  {
   "cell_type": "code",
   "execution_count": null,
   "id": "spare-heating",
   "metadata": {},
   "outputs": [],
   "source": []
  }
 ],
 "metadata": {
  "kernelspec": {
   "display_name": "bts",
   "language": "python",
   "name": "bts"
  },
  "language_info": {
   "codemirror_mode": {
    "name": "ipython",
    "version": 3
   },
   "file_extension": ".py",
   "mimetype": "text/x-python",
   "name": "python",
   "nbconvert_exporter": "python",
   "pygments_lexer": "ipython3",
   "version": "3.7.10"
  }
 },
 "nbformat": 4,
 "nbformat_minor": 5
}
