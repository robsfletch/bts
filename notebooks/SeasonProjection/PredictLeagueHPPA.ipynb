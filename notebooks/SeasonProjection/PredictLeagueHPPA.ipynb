{
 "cells": [
  {
   "cell_type": "markdown",
   "metadata": {},
   "source": [
    "## Setup"
   ]
  },
  {
   "cell_type": "code",
   "execution_count": null,
   "metadata": {},
   "outputs": [],
   "source": [
    "import pandas as pd\n",
    "from pathlib import Path\n",
    "import statsmodels.formula.api as sm\n",
    "import numpy as np\n",
    "\n",
    "from sklearn.preprocessing import StandardScaler\n",
    "\n",
    "from sklearn.preprocessing import PolynomialFeatures\n",
    "from sklearn.compose import ColumnTransformer\n",
    "from sklearn.linear_model import (\n",
    "    LassoCV,\n",
    "    LinearRegression\n",
    ")\n",
    "from sklearn.pipeline import Pipeline\n",
    "from sklearn.model_selection import (\n",
    "    cross_val_score,\n",
    "    StratifiedKFold,\n",
    "    TimeSeriesSplit\n",
    ")\n",
    "\n",
    "from xgboost import XGBRegressor\n",
    "\n",
    "import matplotlib.pyplot as plt"
   ]
  },
  {
   "cell_type": "code",
   "execution_count": null,
   "metadata": {},
   "outputs": [],
   "source": [
    "interim = '../../data/interim'\n",
    "br = pd.read_pickle(Path(interim) / 'batting_records.pkl')\n",
    "gl = pd.read_pickle(Path(interim) / 'game_logs.pkl')\n",
    "events = pd.read_pickle(Path(interim) / 'events.pkl')\n",
    "people = pd.read_pickle(Path(interim) / 'people.pkl')\n",
    "\n",
    "## League DAta\n",
    "League = events[events.BAT_FLD_CD != 1].groupby('year')[['HR', 'H', 'PA']].sum()\n",
    "League.columns = ['League_HR', 'League_H', 'League_PA']\n",
    "League['League_HPPA'] = (100*(League['League_H'] / League['League_PA'])).astype('float')"
   ]
  },
  {
   "cell_type": "markdown",
   "metadata": {},
   "source": [
    "## Featurize"
   ]
  },
  {
   "cell_type": "code",
   "execution_count": null,
   "metadata": {},
   "outputs": [],
   "source": [
    "League = League.reset_index()\n",
    "\n",
    "League['L1_League_HPPA'] = League['League_HPPA'].shift(1) \n",
    "League['L2_League_HPPA'] = League['League_HPPA'].shift(2)\n",
    "League['L3_League_HPPA'] = League['League_HPPA'].shift(3)\n",
    "\n",
    "League = League.dropna()"
   ]
  },
  {
   "cell_type": "markdown",
   "metadata": {},
   "source": [
    "## Setup training"
   ]
  },
  {
   "cell_type": "code",
   "execution_count": null,
   "metadata": {},
   "outputs": [],
   "source": [
    "x_vars = ['L1_League_HPPA', 'L2_League_HPPA', 'L3_League_HPPA']\n",
    "y_var = ['League_HPPA']"
   ]
  },
  {
   "cell_type": "code",
   "execution_count": null,
   "metadata": {},
   "outputs": [],
   "source": [
    "def gen_pipeline(clf):\n",
    "    x_vars = [\n",
    "        'L1_League_HPPA', 'L2_League_HPPA', 'L3_League_HPPA'\n",
    "    ]\n",
    "    preprocessor =  ColumnTransformer(\n",
    "        [('spot', 'passthrough', x_vars)],\n",
    "        remainder='drop'\n",
    "    )\n",
    "\n",
    "    fitted_model = Pipeline([\n",
    "        ('select', preprocessor),\n",
    "        ('poly', PolynomialFeatures(2, interaction_only=True)),\n",
    "        ('scale', StandardScaler()),\n",
    "        ('clf', clf),\n",
    "    ])\n",
    "    \n",
    "    return fitted_model"
   ]
  },
  {
   "cell_type": "markdown",
   "metadata": {},
   "source": [
    "## Training"
   ]
  },
  {
   "cell_type": "code",
   "execution_count": null,
   "metadata": {},
   "outputs": [],
   "source": [
    "LR = gen_pipeline(LinearRegression())\n",
    "Lasso = gen_pipeline(LassoCV(cv=5, random_state=0))\n",
    "XGBR = XGBRegressor(\n",
    "    tree_method='hist',\n",
    "    verbosity = 0,\n",
    "    random_state = 0,\n",
    "    max_depth = 4,\n",
    "    early_stopping_rounds=5,\n",
    "    n_estimators = 500,\n",
    "    use_label_encoder=False,\n",
    "    verbose=True,\n",
    ")\n",
    "\n",
    "XGB = gen_pipeline(XGBR)"
   ]
  },
  {
   "cell_type": "code",
   "execution_count": null,
   "metadata": {},
   "outputs": [],
   "source": [
    "def moving_average(x, w):\n",
    "    return np.convolve(x, np.ones(w), 'valid') / w"
   ]
  },
  {
   "cell_type": "code",
   "execution_count": null,
   "metadata": {},
   "outputs": [],
   "source": [
    "# tscv = TimeSeriesSplit(test_size=2, n_splits = int(np.round(League.shape[0]/2))-10)\n",
    "tscv = TimeSeriesSplit(test_size=1, n_splits = League.shape[0]-10)"
   ]
  },
  {
   "cell_type": "code",
   "execution_count": null,
   "metadata": {},
   "outputs": [],
   "source": [
    "results = cross_val_score(LR, League[x_vars], League[y_var], cv=tscv, n_jobs=-1, scoring='neg_root_mean_squared_error')\n",
    "print(\"Accuracy: %.3f (%.3f)\" % (results.mean()*1e5, results.std()*1e5))\n",
    "plt.plot(np.arange(0, len(results)-20) , moving_average(results, 21))"
   ]
  },
  {
   "cell_type": "code",
   "execution_count": null,
   "metadata": {},
   "outputs": [],
   "source": [
    "results = cross_val_score(Lasso, League[x_vars], League[y_var], cv=tscv, n_jobs=-1, scoring='neg_root_mean_squared_error')\n",
    "print(\"Accuracy: %.3f (%.3f)\" % (results.mean()*1e5, results.std()*1e5))\n",
    "plt.plot(np.arange(0, len(results)-20) , moving_average(results, 21))"
   ]
  },
  {
   "cell_type": "code",
   "execution_count": null,
   "metadata": {},
   "outputs": [],
   "source": [
    "results = cross_val_score(XGB, League[x_vars], League[y_var], cv=tscv, n_jobs=-1, scoring='neg_root_mean_squared_error')\n",
    "print(\"Accuracy: %.3f (%.3f)\" % (results.mean()*1e5, results.std()*1e5))\n",
    "plt.plot(np.arange(0, len(results)-20) , moving_average(results, 21))"
   ]
  },
  {
   "cell_type": "code",
   "execution_count": null,
   "metadata": {},
   "outputs": [],
   "source": [
    "# Plot error rate over time for the different ones to see how much they improve as data increases"
   ]
  },
  {
   "cell_type": "code",
   "execution_count": null,
   "metadata": {},
   "outputs": [],
   "source": [
    "XGB.fit(League[x_vars], League[y_var])"
   ]
  },
  {
   "cell_type": "markdown",
   "metadata": {},
   "source": [
    "## Visualize"
   ]
  },
  {
   "cell_type": "code",
   "execution_count": null,
   "metadata": {},
   "outputs": [],
   "source": [
    "# limited = merged[(merged.G >= 50)  & (merged.prev_G >= 50)]\n",
    "result = sm.ols(formula=\"League_HPPA ~ L1_League_HPPA + L2_League_HPPA + L3_League_HPPA\", data=League).fit()\n",
    "print(result.summary())\n",
    "coef_const = result.params[0]\n",
    "coef_L1_PA = result.params[1]\n",
    "coef_L2_PA = result.params[2]"
   ]
  },
  {
   "cell_type": "code",
   "execution_count": null,
   "metadata": {},
   "outputs": [],
   "source": [
    "League[League.year >= 1960].plot.scatter('year', 'League_HPPA')"
   ]
  },
  {
   "cell_type": "code",
   "execution_count": null,
   "metadata": {},
   "outputs": [],
   "source": []
  }
 ],
 "metadata": {
  "kernelspec": {
   "display_name": "bts",
   "language": "python",
   "name": "bts"
  },
  "language_info": {
   "codemirror_mode": {
    "name": "ipython",
    "version": 3
   },
   "file_extension": ".py",
   "mimetype": "text/x-python",
   "name": "python",
   "nbconvert_exporter": "python",
   "pygments_lexer": "ipython3"
  }
 },
 "nbformat": 4,
 "nbformat_minor": 5
}
