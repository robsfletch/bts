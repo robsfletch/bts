{
 "cells": [
  {
   "cell_type": "markdown",
   "metadata": {},
   "source": [
    "## Setup"
   ]
  },
  {
   "cell_type": "code",
   "execution_count": 4,
   "metadata": {},
   "outputs": [],
   "source": [
    "import pandas as pd\n",
    "from pathlib import Path\n",
    "import statsmodels.formula.api as sm\n",
    "import numpy as np\n",
    "\n",
    "from sklearn.preprocessing import StandardScaler\n",
    "\n",
    "from sklearn.preprocessing import PolynomialFeatures\n",
    "from sklearn.compose import ColumnTransformer\n",
    "from sklearn.linear_model import LassoCV\n",
    "from sklearn.pipeline import Pipeline\n",
    "from sklearn.model_selection import cross_val_score\n",
    "\n",
    "from sklearn.experimental import enable_iterative_imputer\n",
    "from sklearn.impute import IterativeImputer, SimpleImputer\n",
    "\n",
    "interim = '../../data/interim'\n",
    "br = pd.read_pickle(Path(interim) / 'batting_records.pkl')\n",
    "gl = pd.read_pickle(Path(interim) / 'game_logs.pkl')\n",
    "events = pd.read_pickle(Path(interim) / 'events.pkl')\n",
    "people = pd.read_pickle(Path(interim) / 'people.pkl')"
   ]
  },
  {
   "cell_type": "markdown",
   "metadata": {},
   "source": [
    "## Merge Data"
   ]
  },
  {
   "cell_type": "code",
   "execution_count": 2,
   "metadata": {},
   "outputs": [],
   "source": [
    "## combine data\n",
    "br = br.reset_index()\n",
    "merged = pd.merge(br, people[['PlayerID', 'birthYear']], left_on = ['BAT_ID'], right_on=['PlayerID'], how='left')\n",
    "merged = merged.set_index(['BAT_ID', 'year']).sort_values(['BAT_ID', 'year'], ascending=[True, True])\n",
    "\n",
    "merged['Age'] = merged.index.get_level_values('year') - merged['birthYear']\n",
    "\n",
    "merged['HPPA'] = merged['HPPA'].astype('float')\n",
    "merged['H'] = merged['H'].astype('int')\n",
    "merged['PA'] = merged['PA'].astype('int')\n",
    "merged['Age'] = merged['Age'].astype('int')\n",
    "\n",
    "merged = merged[~merged.HPPA.isna()]\n",
    "\n",
    "merged = merged.sort_values(['BAT_ID', 'year'])\n",
    "merged['prev_G'] = merged.groupby('BAT_ID')['G'].shift(1)"
   ]
  },
  {
   "cell_type": "markdown",
   "metadata": {},
   "source": [
    "## Featurize"
   ]
  },
  {
   "cell_type": "code",
   "execution_count": 3,
   "metadata": {},
   "outputs": [],
   "source": [
    "group = merged.groupby('BAT_ID')\n",
    "merged['L1_HPPA'] = group['HPPA'].shift(1)\n",
    "merged['L2_HPPA'] = group['HPPA'].shift(2)\n",
    "merged['L3_HPPA'] = group['HPPA'].shift(3)\n",
    "\n",
    "merged['L1_H'] = group['H'].shift(1)\n",
    "merged['L2_H'] = group['H'].shift(2)\n",
    "merged['L3_H'] = group['H'].shift(3)\n",
    "\n",
    "merged['L1_PA'] = group['PA'].shift(1)\n",
    "merged['L2_PA'] = group['PA'].shift(2)\n",
    "merged['L3_PA'] = group['PA'].shift(3)"
   ]
  },
  {
   "cell_type": "markdown",
   "metadata": {},
   "source": [
    "## Set up Training"
   ]
  },
  {
   "cell_type": "code",
   "execution_count": null,
   "metadata": {},
   "outputs": [],
   "source": []
  },
  {
   "cell_type": "markdown",
   "metadata": {},
   "source": [
    "## Train Model"
   ]
  },
  {
   "cell_type": "code",
   "execution_count": null,
   "metadata": {},
   "outputs": [
    {
     "name": "stderr",
     "output_type": "stream",
     "text": [
      "/Users/rsfletch/opt/anaconda3/envs/bts/lib/python3.7/site-packages/sklearn/impute/_iterative.py:686: ConvergenceWarning: [IterativeImputer] Early stopping criterion not reached.\n",
      "  \" reached.\", ConvergenceWarning)\n"
     ]
    }
   ],
   "source": [
    "x_vars = [\n",
    "    'L1_HPPA', 'L2_HPPA', 'L3_HPPA', 'Age',\n",
    "    'L1_H', 'L2_H', 'L3_H', 'L1_PA', 'L2_PA', 'L3_PA'\n",
    "]\n",
    "preprocessor =  ColumnTransformer(\n",
    "    [('spot', 'passthrough', x_vars)],\n",
    "    remainder='drop'\n",
    ")\n",
    "\n",
    "clf = LassoCV(\n",
    "    cv=5, random_state=0, max_iter=10000, n_jobs=-1,\n",
    ")\n",
    "\n",
    "fitted_model = Pipeline([\n",
    "    ('select', preprocessor),\n",
    "    ('impute', IterativeImputer(random_state = 0)),\n",
    "    ('poly', PolynomialFeatures(2, interaction_only=True)),\n",
    "    ('scale', StandardScaler()),\n",
    "    ('clf', clf),\n",
    "])\n",
    "\n",
    "fitted_model.fit(merged, merged['HPPA'].astype('float'))\n",
    "merged['pred_HPPA'] = fitted_model.predict(merged)"
   ]
  },
  {
   "cell_type": "markdown",
   "metadata": {},
   "source": [
    "## Evaluate Results"
   ]
  },
  {
   "cell_type": "code",
   "execution_count": 13,
   "metadata": {},
   "outputs": [],
   "source": [
    "limited = merged[(merged.G >= 50) & (merged.prev_G >= 50)]"
   ]
  },
  {
   "cell_type": "code",
   "execution_count": 14,
   "metadata": {},
   "outputs": [
    {
     "name": "stdout",
     "output_type": "stream",
     "text": [
      "                            OLS Regression Results                            \n",
      "==============================================================================\n",
      "Dep. Variable:                   HPPA   R-squared:                       0.246\n",
      "Model:                            OLS   Adj. R-squared:                  0.246\n",
      "Method:                 Least Squares   F-statistic:                     7108.\n",
      "Date:                Tue, 23 Mar 2021   Prob (F-statistic):               0.00\n",
      "Time:                        22:34:12   Log-Likelihood:                 46582.\n",
      "No. Observations:               21755   AIC:                        -9.316e+04\n",
      "Df Residuals:                   21753   BIC:                        -9.314e+04\n",
      "Df Model:                           1                                         \n",
      "Covariance Type:            nonrobust                                         \n",
      "==============================================================================\n",
      "                 coef    std err          t      P>|t|      [0.025      0.975]\n",
      "------------------------------------------------------------------------------\n",
      "Intercept      0.0726      0.002     37.217      0.000       0.069       0.076\n",
      "pred_HPPA      0.7068      0.008     84.310      0.000       0.690       0.723\n",
      "==============================================================================\n",
      "Omnibus:                      170.503   Durbin-Watson:                   1.958\n",
      "Prob(Omnibus):                  0.000   Jarque-Bera (JB):              259.384\n",
      "Skew:                          -0.056   Prob(JB):                     4.74e-57\n",
      "Kurtosis:                       3.523   Cond. No.                         45.8\n",
      "==============================================================================\n",
      "\n",
      "Notes:\n",
      "[1] Standard Errors assume that the covariance matrix of the errors is correctly specified.\n"
     ]
    }
   ],
   "source": [
    "result = sm.ols(formula=\"HPPA ~ pred_HPPA\", data=limited).fit()\n",
    "print(result.summary())"
   ]
  },
  {
   "cell_type": "code",
   "execution_count": 36,
   "metadata": {},
   "outputs": [],
   "source": []
  },
  {
   "cell_type": "code",
   "execution_count": 37,
   "metadata": {},
   "outputs": [
    {
     "name": "stdout",
     "output_type": "stream",
     "text": [
      "[0.2792489  0.2901825  0.26987954 0.31563515 0.28629009 0.29525236\n",
      " 0.30450427 0.29853654 0.29970046 0.30453127]\n",
      "Accuracy: 29.438% (1.271%)\n"
     ]
    }
   ],
   "source": [
    "results = cross_val_score(fitted_model, limited, limited['HPPA'].astype('float'), cv=10, n_jobs=-1, scoring='r2')\n",
    "print(results)\n",
    "print(\"Accuracy: %.3f%% (%.3f%%)\" % (results.mean()*100.0, results.std()*100.0))"
   ]
  },
  {
   "cell_type": "code",
   "execution_count": null,
   "metadata": {},
   "outputs": [],
   "source": []
  }
 ],
 "metadata": {
  "kernelspec": {
   "display_name": "bts",
   "language": "python",
   "name": "bts"
  },
  "language_info": {
   "codemirror_mode": {
    "name": "ipython",
    "version": 3
   },
   "file_extension": ".py",
   "mimetype": "text/x-python",
   "name": "python",
   "nbconvert_exporter": "python",
   "pygments_lexer": "ipython3",
   "version": "3.7.10"
  }
 },
 "nbformat": 4,
 "nbformat_minor": 5
}
