{
 "cells": [
  {
   "cell_type": "code",
   "execution_count": null,
   "id": "competent-membership",
   "metadata": {},
   "outputs": [],
   "source": [
    "import pandas as pd\n",
    "from pathlib import Path"
   ]
  },
  {
   "cell_type": "code",
   "execution_count": null,
   "id": "typical-price",
   "metadata": {},
   "outputs": [],
   "source": [
    "def gen_history(df, id, metric, base):\n",
    "    history = df.loc[:, [metric, base]]\n",
    "    group = history.groupby([id])\n",
    "\n",
    "    for lag in range(1, 4):\n",
    "        lag_name = 'L' + str(lag) + '_' + metric\n",
    "        history[lag_name] = group[metric].shift(lag)\n",
    "        history[lag_name] = history[lag_name].fillna(0).astype('int')\n",
    "\n",
    "        lag_name = 'L' + str(lag) + '_' + base\n",
    "        history[lag_name] = group[base].shift(lag)\n",
    "        history[lag_name] = history[lag_name].fillna(0).astype('int')\n",
    "\n",
    "    del history[base]\n",
    "    del history[metric]\n",
    "\n",
    "    return history"
   ]
  },
  {
   "cell_type": "code",
   "execution_count": null,
   "id": "sacred-session",
   "metadata": {},
   "outputs": [],
   "source": [
    "def gen_game_log(events, id, metric, base):\n",
    "    bg = events.groupby(['GAME_ID', id]).agg({\n",
    "        metric: 'sum',\n",
    "        'Date': 'first',\n",
    "        'year': 'first',\n",
    "    })\n",
    "    \n",
    "    bg[base] = 1\n",
    "\n",
    "    bg = bg.sort_values([id, 'year', 'Date'])\n",
    "\n",
    "    bg[metric + '_cum'] = bg.groupby([id, 'year'])[metric].cumsum()\n",
    "    bg[base + '_cum'] = bg.groupby([id, 'year'])[base].cumsum()\n",
    "\n",
    "    bg[metric + '_cum'] = bg[metric + '_cum'] - bg[metric]\n",
    "    bg[base + '_cum'] = bg[base + '_cum'] - bg[base]\n",
    "\n",
    "    return bg"
   ]
  },
  {
   "cell_type": "code",
   "execution_count": null,
   "id": "cubic-aquatic",
   "metadata": {},
   "outputs": [],
   "source": [
    "def est_naive_rate(df, w, metric, base):\n",
    "    sum_metric = w[0]*df[metric + '_cum'] + w[1]*df['L1_' + metric] + w[2]*df['L2_' + metric] + w[3]*df['L3_' + metric]\n",
    "    sum_base = w[0]*df[base + '_cum'] + w[1]*df['L1_' + base] + w[2]*df['L2_' + base] + w[3]*df['L3_' + base]\n",
    "    naive_rate = sum_metric / sum_base\n",
    "\n",
    "    return naive_rate"
   ]
  },
  {
   "cell_type": "code",
   "execution_count": null,
   "id": "purple-resort",
   "metadata": {},
   "outputs": [],
   "source": [
    "def gen_league(events, w, metric, base):\n",
    "    League = events.groupby('year').agg({metric: 'sum', 'GAME_ID': 'nunique'})\n",
    "    League.columns = ['L_count', 'L_base']\n",
    "\n",
    "    League = League.sort_values('year')\n",
    "    League['L_rate'] = League['L_count'] / (League['L_base'] * 2)\n",
    "    League['L1_L_rate'] = League['L_rate'].shift(1)\n",
    "    League['L2_L_rate'] = League['L_rate'].shift(2)\n",
    "    League['L3_L_rate'] = League['L_rate'].shift(3)\n",
    "    League['L_avg_rate'] = (w[1]*League['L1_L_rate'] + w[2]*League['L2_L_rate'] + w[3]*League['L3_L_rate']) / sum(w[1:4])\n",
    "\n",
    "    del League['L_count']\n",
    "    del League['L_base']\n",
    "\n",
    "    return League"
   ]
  },
  {
   "cell_type": "code",
   "execution_count": null,
   "id": "underlying-outreach",
   "metadata": {},
   "outputs": [],
   "source": [
    "def reg_to_league_mean(df, w, metric, base):\n",
    "    League_base_weighted_sum = (\n",
    "        w[1]*df['L1_L_rate']*df['L1_' + base] +\n",
    "        w[2]*df['L2_L_rate']*df['L2_' + base] +\n",
    "        w[3]*df['L3_L_rate']*df['L3_' + base]\n",
    "    )\n",
    "\n",
    "    sum_base = w[1]*df['L1_' + base] + w[2]*df['L2_' + base] + w[3]*df['L3_' + base]\n",
    "\n",
    "    League_mean_rate = League_base_weighted_sum / sum_base\n",
    "    League_mean_rate = League_mean_rate.where(sum_base > 0, df['L_avg_rate'])\n",
    "\n",
    "    reliability = sum_base / (160 + sum_base)\n",
    "\n",
    "    adj_rate = League_mean_rate * (1 - reliability) + df['naive_rate'] * reliability\n",
    "    adj_rate = adj_rate.where(sum_base > 0, df['L_avg_rate'])\n",
    "\n",
    "    return adj_rate"
   ]
  },
  {
   "cell_type": "code",
   "execution_count": null,
   "id": "impaired-composer",
   "metadata": {},
   "outputs": [],
   "source": [
    "def main_marcel(records, events, w, team_id, metric, base):\n",
    "    history = gen_history(ptr, team_id, metric, base)\n",
    "\n",
    "    team_game_logs = gen_game_log(events, team_id, metric, base)\n",
    "    league_record = gen_league(events, w, metric, base)\n",
    "\n",
    "    result = pd.merge(\n",
    "        team_game_logs.reset_index(),\n",
    "        history.reset_index(),\n",
    "        on=[team_id, 'year'],\n",
    "        how='left'\n",
    "    )\n",
    "    result = pd.merge(result, league_record, on=['year'], how='left')\n",
    "\n",
    "    result['naive_rate'] = est_naive_rate(result, w, metric, base)\n",
    "    predict = reg_to_league_mean(result, w, metric, base)\n",
    "\n",
    "    return predict"
   ]
  },
  {
   "cell_type": "code",
   "execution_count": null,
   "id": "sought-posting",
   "metadata": {},
   "outputs": [],
   "source": [
    "metric1 = 'AdjH'\n",
    "metric2 = 'DefEff'\n",
    "base = 'G'\n",
    "team_id = 'PIT_TEAM_ID'\n",
    "w = [7, 5, 4, 3]\n",
    "\n",
    "interim = '../../data/interim'\n",
    "ptr = pd.read_pickle(Path(interim) / 'pitching_team_records.pkl')\n",
    "events = pd.read_pickle(Path(interim) / 'adj_events.pkl')\n",
    "\n",
    "events['PIT_TEAM_ID'] = events['HOME_TEAM_ID']\n",
    "events.loc[events.BAT_HOME_ID == 1, 'PIT_TEAM_ID'] = events['AWAY_TEAM_ID']\n",
    "\n",
    "pred_ptr = ptr.loc[:, [metric1, metric2, base]]\n",
    "pred_ptr['pred_AdjHPG'] = main_marcel(ptr, events, w, team_id, metric1, base)\n",
    "# pred_ptr['pred_DefEff'] = main_marcel(ptr, events, w, team_id, metric2, base)"
   ]
  },
  {
   "cell_type": "code",
   "execution_count": null,
   "id": "wrapped-revelation",
   "metadata": {},
   "outputs": [],
   "source": [
    "team_game_logs = gen_game_log(events, team_id, metric, base)\n",
    "league_record = gen_league(events, w, metric, base)\n",
    "\n",
    "result = pd.merge(\n",
    "    team_game_logs.reset_index(),\n",
    "    history.reset_index(),\n",
    "    on=[team_id, 'year'],\n",
    "    how='left'\n",
    ")\n",
    "result = pd.merge(result, league_record, on=['year'], how='left')\n",
    "\n",
    "result['naive_rate'] = est_naive_rate(result, w, metric, base)\n",
    "predict = reg_to_league_mean(result, w, metric, base)\n",
    "\n",
    "return predict"
   ]
  },
  {
   "cell_type": "code",
   "execution_count": null,
   "id": "promotional-expert",
   "metadata": {},
   "outputs": [],
   "source": [
    "def gen_game_log(events, id, metric, base):\n",
    "    bg = events.groupby(['GAME_ID', id]).agg({\n",
    "        metric: 'sum',\n",
    "        'Date': 'first',\n",
    "        'year': 'first',\n",
    "    })\n",
    "    \n",
    "    bg[base] = 1\n",
    "\n",
    "    bg = bg.sort_values([id, 'year', 'Date'])\n",
    "\n",
    "    bg[metric + '_cum'] = bg.groupby([id, 'year'])[metric].cumsum()\n",
    "    bg[base + '_cum'] = bg.groupby([id, 'year'])[base].cumsum()\n",
    "\n",
    "    bg[metric + '_cum'] = bg[metric + '_cum'] - bg[metric]\n",
    "    bg[base + '_cum'] = bg[base + '_cum'] - bg[base]\n",
    "\n",
    "    return bg"
   ]
  }
 ],
 "metadata": {
  "kernelspec": {
   "display_name": "bts",
   "language": "python",
   "name": "bts"
  },
  "language_info": {
   "codemirror_mode": {
    "name": "ipython",
    "version": 3
   },
   "file_extension": ".py",
   "mimetype": "text/x-python",
   "name": "python",
   "nbconvert_exporter": "python",
   "pygments_lexer": "ipython3"
  }
 },
 "nbformat": 4,
 "nbformat_minor": 5
}
