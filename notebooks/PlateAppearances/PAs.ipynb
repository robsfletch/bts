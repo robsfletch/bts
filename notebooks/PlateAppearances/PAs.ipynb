{
 "cells": [
  {
   "cell_type": "code",
   "execution_count": null,
   "metadata": {},
   "outputs": [],
   "source": [
    "import pandas as pd\n",
    "import numpy as np\n",
    "from pathlib import Path\n",
    "from sklearn.linear_model import LassoCV\n",
    "from sklearn.compose import ColumnTransformer\n",
    "from sklearn.pipeline import Pipeline\n",
    "from sklearn.preprocessing import StandardScaler\n",
    "from sklearn.model_selection import cross_val_score\n",
    "import statsmodels.formula.api as sm"
   ]
  },
  {
   "cell_type": "code",
   "execution_count": null,
   "metadata": {},
   "outputs": [],
   "source": [
    "processed = '../../data/processed'\n",
    "main_data = pd.read_pickle(Path(processed) / 'main_data.pkl')"
   ]
  },
  {
   "cell_type": "code",
   "execution_count": null,
   "metadata": {},
   "outputs": [],
   "source": [
    "main_data.dtypes"
   ]
  },
  {
   "cell_type": "code",
   "execution_count": null,
   "metadata": {},
   "outputs": [],
   "source": [
    "## Figure out what's up with people leaving before 3 PAs (identify early exit)"
   ]
  },
  {
   "cell_type": "code",
   "execution_count": null,
   "metadata": {},
   "outputs": [],
   "source": [
    "PA_data = main_data.loc[main_data.spot <= 5, ['b_PA_in_G', 'spot', 'home', 'rating_pitcher_rgs']]\n",
    "PA_data = PA_data.astype({\n",
    "    'b_PA_in_G': 'int'\n",
    "})"
   ]
  },
  {
   "cell_type": "code",
   "execution_count": null,
   "metadata": {},
   "outputs": [],
   "source": [
    "# PA_data.b_PA_in_G.value_counts(normalize=True).sort_index()"
   ]
  },
  {
   "cell_type": "code",
   "execution_count": null,
   "metadata": {},
   "outputs": [],
   "source": [
    "# PA_data[PA_data.home == 1].b_PA_in_G.value_counts(normalize=True).sort_index()"
   ]
  },
  {
   "cell_type": "code",
   "execution_count": null,
   "metadata": {},
   "outputs": [],
   "source": [
    "# PA_data[(PA_data.home == 0)].b_PA_in_G.value_counts(normalize=True).sort_index()"
   ]
  },
  {
   "cell_type": "code",
   "execution_count": null,
   "metadata": {},
   "outputs": [],
   "source": [
    "pd.crosstab(\n",
    "    PA_data[(PA_data.home == 0)].b_PA_in_G, \n",
    "    PA_data[(PA_data.home == 0)].spot, \n",
    "    normalize = 'columns'\n",
    ")"
   ]
  },
  {
   "cell_type": "code",
   "execution_count": null,
   "metadata": {},
   "outputs": [],
   "source": [
    "pd.crosstab(\n",
    "    PA_data[(PA_data.home == 1)].b_PA_in_G, \n",
    "    PA_data[(PA_data.home == 1)].spot, \n",
    "    normalize = 'columns'\n",
    ")"
   ]
  },
  {
   "cell_type": "code",
   "execution_count": null,
   "metadata": {},
   "outputs": [],
   "source": [
    "x_vars = [\n",
    "    'spot', 'home'\n",
    "]\n",
    "preprocessor =  ColumnTransformer(\n",
    "    [('spot', 'passthrough', x_vars)],\n",
    "    remainder='drop'\n",
    ")\n",
    "\n",
    "clf = LassoCV(\n",
    "    cv=5, random_state=0, max_iter=10000, n_jobs=-1,\n",
    ")\n",
    "\n",
    "fitted_model = Pipeline([\n",
    "    ('select', preprocessor),\n",
    "    ('scale', StandardScaler()),\n",
    "    ('clf', clf),\n",
    "])\n",
    "\n",
    "fitted_model.fit(PA_data, PA_data['b_PA_in_G'].astype('float'))\n",
    "PA_data['pred_HPPA'] = fitted_model.predict(PA_data)"
   ]
  },
  {
   "cell_type": "code",
   "execution_count": null,
   "metadata": {},
   "outputs": [],
   "source": [
    "def adjust_plot(plt):\n",
    "    plt.xaxis.grid(False)\n",
    "    plt.yaxis.grid(True, linestyle='dashed', color='lightgrey')\n",
    "    plt.set_axisbelow(True)\n",
    "    plt.xaxis.set_ticks_position('none') \n",
    "    plt.yaxis.set_ticks_position('none') \n",
    "\n",
    "    plt.spines['left'].set_visible(False)\n",
    "    plt.spines['right'].set_visible(False)\n",
    "    plt.spines['top'].set_visible(False)"
   ]
  },
  {
   "cell_type": "code",
   "execution_count": null,
   "metadata": {},
   "outputs": [],
   "source": [
    "plt1 = PA_data.b_PA_in_G.hist(rwidth = .9, bins = np.arange(.5, 12.5, 1))\n",
    "adjust_plot(plt1)"
   ]
  },
  {
   "cell_type": "code",
   "execution_count": null,
   "metadata": {},
   "outputs": [],
   "source": [
    "result = sm.ols(formula=\"b_PA_in_G ~ C(spot):C(home) + rating_pitcher_rgs\", data=PA_data).fit()\n",
    "print(result.summary())"
   ]
  },
  {
   "cell_type": "code",
   "execution_count": null,
   "metadata": {},
   "outputs": [],
   "source": [
    "results = cross_val_score(fitted_model, PA_data, PA_data['b_PA_in_G'], cv=10, n_jobs=-1, scoring='r2')\n",
    "print(results)\n",
    "print(\"Accuracy: %.3f%% (%.3f%%)\" % (results.mean()*100.0, results.std()*100.0))"
   ]
  },
  {
   "cell_type": "code",
   "execution_count": null,
   "metadata": {},
   "outputs": [],
   "source": [
    "x = .3\n",
    "y = 1 - (1- x)**(4/5)\n",
    "\n",
    "p(H = 1)\n",
    "p(H = 0)\n",
    "p(pa = x)\n",
    "\n",
    "Exp(H | p(H=1), p(pa=1), p(pa=2), p(pa=3), p(pa=4), p(pa=5))\n"
   ]
  }
 ],
 "metadata": {
  "kernelspec": {
   "display_name": "Python 3",
   "language": "python",
   "name": "python3"
  },
  "language_info": {
   "codemirror_mode": {
    "name": "ipython",
    "version": 3
   },
   "file_extension": ".py",
   "mimetype": "text/x-python",
   "name": "python",
   "nbconvert_exporter": "python",
   "pygments_lexer": "ipython3"
  }
 },
 "nbformat": 4,
 "nbformat_minor": 5
}
