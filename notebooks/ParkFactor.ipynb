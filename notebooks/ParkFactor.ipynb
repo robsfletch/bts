{
 "cells": [
  {
   "cell_type": "code",
   "execution_count": 1,
   "id": "alpine-anxiety",
   "metadata": {},
   "outputs": [],
   "source": [
    "from pathlib import Path\n",
    "import pandas as pd\n",
    "import numpy as np\n",
    "import statsmodels.formula.api as sm\n",
    "\n",
    "interim = Path('../data/interim')\n",
    "processed = Path('../data/processed')\n",
    "events = pd.read_pickle(Path(interim) / 'events.pkl')\n",
    "game_logs = pd.read_pickle(Path(interim) / 'game_logs.pkl')"
   ]
  },
  {
   "cell_type": "code",
   "execution_count": 2,
   "id": "powered-startup",
   "metadata": {},
   "outputs": [],
   "source": [
    "base = game_logs.loc[:, ['GAME_ID', 'HomeTeam', 'VisitingTeam', 'ParkID', 'HomeH', 'VisitorH']]\n",
    "base['year'] = base['GAME_ID'].str.slice(3, 7)"
   ]
  },
  {
   "cell_type": "code",
   "execution_count": 3,
   "id": "royal-youth",
   "metadata": {},
   "outputs": [],
   "source": [
    "Home = base.groupby(['HomeTeam', 'year', 'ParkID']).agg({'HomeH':'sum', 'VisitorH':'sum', 'GAME_ID':'nunique'})\n",
    "Home.columns = ['home_hs', 'home_ha', 'home_g']\n",
    "Home['home_factor'] = (Home['home_hs'] + Home['home_ha']) / Home['home_g']\n",
    "Home = Home.rename_axis(['team', 'year', 'ParkID'])"
   ]
  },
  {
   "cell_type": "code",
   "execution_count": 4,
   "id": "suspected-turning",
   "metadata": {},
   "outputs": [],
   "source": [
    "Road = base.groupby(['VisitingTeam', 'year']).agg({'HomeH':'sum', 'VisitorH':'sum', 'GAME_ID':'nunique'})\n",
    "Road.columns = ['road_ha', 'road_hs', 'road_g']\n",
    "Road['road_factor'] = (Road['road_hs'] + Road['road_ha']) / Road['road_g']\n",
    "Road = Road.rename_axis(['team', 'year'])"
   ]
  },
  {
   "cell_type": "code",
   "execution_count": 5,
   "id": "distinct-documentary",
   "metadata": {},
   "outputs": [],
   "source": [
    "park_factors = pd.merge(Home, Road, left_index=True, right_index=True)\n",
    "park_factors['factor'] = (park_factors['home_factor'] / park_factors['road_factor']).astype('float')\n",
    "park_factors = park_factors.reset_index().set_index(['ParkID', 'year'])\n",
    "park_factors = park_factors.sort_values(['team', 'year'])\n",
    "# park_factors.loc[park_factors['factor'] > 1.3, 'factor'] = np.NaN\n",
    "# park_factors.loc[park_factors['factor'] < .8, 'factor'] = np.NaN\n",
    "park_factors['lag_factor'] = park_factors.groupby('ParkID')['factor'].shift(1)"
   ]
  },
  {
   "cell_type": "code",
   "execution_count": 6,
   "id": "marine-hunter",
   "metadata": {},
   "outputs": [
    {
     "name": "stdout",
     "output_type": "stream",
     "text": [
      "                            OLS Regression Results                            \n",
      "==============================================================================\n",
      "Dep. Variable:                 factor   R-squared:                       0.185\n",
      "Model:                            OLS   Adj. R-squared:                  0.184\n",
      "Method:                 Least Squares   F-statistic:                     581.8\n",
      "Date:                Mon, 22 Mar 2021   Prob (F-statistic):          4.92e-116\n",
      "Time:                        13:02:50   Log-Likelihood:                 3096.6\n",
      "No. Observations:                2571   AIC:                            -6189.\n",
      "Df Residuals:                    2569   BIC:                            -6178.\n",
      "Df Model:                           1                                         \n",
      "Covariance Type:            nonrobust                                         \n",
      "==============================================================================\n",
      "                 coef    std err          t      P>|t|      [0.025      0.975]\n",
      "------------------------------------------------------------------------------\n",
      "Intercept      0.5779      0.018     32.875      0.000       0.543       0.612\n",
      "lag_factor     0.4222      0.018     24.120      0.000       0.388       0.457\n",
      "==============================================================================\n",
      "Omnibus:                      305.021   Durbin-Watson:                   1.997\n",
      "Prob(Omnibus):                  0.000   Jarque-Bera (JB):             2999.185\n",
      "Skew:                           0.083   Prob(JB):                         0.00\n",
      "Kurtosis:                       8.289   Cond. No.                         24.5\n",
      "==============================================================================\n",
      "\n",
      "Notes:\n",
      "[1] Standard Errors assume that the covariance matrix of the errors is correctly specified.\n"
     ]
    }
   ],
   "source": [
    "result = sm.ols(formula=\"factor ~ lag_factor\", data=park_factors).fit()\n",
    "print(result.summary())"
   ]
  },
  {
   "cell_type": "code",
   "execution_count": 7,
   "id": "editorial-rally",
   "metadata": {},
   "outputs": [
    {
     "data": {
      "text/plain": [
       "<AxesSubplot:xlabel='lag_factor', ylabel='factor'>"
      ]
     },
     "execution_count": 7,
     "metadata": {},
     "output_type": "execute_result"
    },
    {
     "data": {
      "image/png": "[encoded data removed]",
      "text/plain": [
       "<Figure size 432x288 with 1 Axes>"
      ]
     },
     "metadata": {
      "needs_background": "light"
     },
     "output_type": "display_data"
    }
   ],
   "source": [
    "park_factors.plot.scatter(x='lag_factor', y='factor')"
   ]
  },
  {
   "cell_type": "code",
   "execution_count": 8,
   "id": "joint-paraguay",
   "metadata": {},
   "outputs": [
    {
     "data": {
      "text/plain": [
       "<AxesSubplot:>"
      ]
     },
     "execution_count": 8,
     "metadata": {},
     "output_type": "execute_result"
    },
    {
     "data": {
      "image/png": "[encoded data removed]",
      "text/plain": [
       "<Figure size 432x288 with 1 Axes>"
      ]
     },
     "metadata": {
      "needs_background": "light"
     },
     "output_type": "display_data"
    }
   ],
   "source": [
    "park_factors['factor'].hist()"
   ]
  },
  {
   "cell_type": "code",
   "execution_count": null,
   "id": "fixed-malaysia",
   "metadata": {},
   "outputs": [],
   "source": []
  }
 ],
 "metadata": {
  "kernelspec": {
   "display_name": "bts",
   "language": "python",
   "name": "bts"
  },
  "language_info": {
   "codemirror_mode": {
    "name": "ipython",
    "version": 3
   },
   "file_extension": ".py",
   "mimetype": "text/x-python",
   "name": "python",
   "nbconvert_exporter": "python",
   "pygments_lexer": "ipython3",
   "version": "3.7.10"
  }
 },
 "nbformat": 4,
 "nbformat_minor": 5
}
