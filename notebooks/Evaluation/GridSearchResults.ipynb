{
 "cells": [
  {
   "cell_type": "code",
   "execution_count": null,
   "id": "alternative-wages",
   "metadata": {},
   "outputs": [],
   "source": [
    "import os\n",
    "import sys"
   ]
  },
  {
   "cell_type": "code",
   "execution_count": null,
   "id": "important-network",
   "metadata": {},
   "outputs": [],
   "source": [
    "sys.path.append(\"../..\")\n",
    "sys.path.append(\"../../src/models\")"
   ]
  },
  {
   "cell_type": "code",
   "execution_count": null,
   "id": "hindu-vacation",
   "metadata": {},
   "outputs": [],
   "source": [
    "os.getcwd()"
   ]
  },
  {
   "cell_type": "code",
   "execution_count": null,
   "id": "announced-benefit",
   "metadata": {},
   "outputs": [],
   "source": [
    "from src.models import top_k_win"
   ]
  },
  {
   "cell_type": "code",
   "execution_count": null,
   "id": "auburn-exploration",
   "metadata": {},
   "outputs": [],
   "source": [
    "# -*- coding: utf-8 -*-\n",
    "import logging\n",
    "from pathlib import Path\n",
    "\n",
    "import pandas as pd\n",
    "import numpy as np\n",
    "\n",
    "import cloudpickle\n",
    "import click\n",
    "\n",
    "import numpy as np\n",
    "\n",
    "import matplotlib.pyplot as plt"
   ]
  },
  {
   "cell_type": "code",
   "execution_count": null,
   "id": "generous-stephen",
   "metadata": {},
   "outputs": [],
   "source": [
    "models = '../../models'"
   ]
  },
  {
   "cell_type": "code",
   "execution_count": null,
   "id": "assisted-judge",
   "metadata": {},
   "outputs": [],
   "source": [
    "model_file = Path(models) / 'logistic_model.pkl'\n",
    "with open(model_file, 'rb') as fp:\n",
    "    fitted_model = cloudpickle.load(fp)"
   ]
  },
  {
   "cell_type": "code",
   "execution_count": null,
   "id": "corrected-gregory",
   "metadata": {},
   "outputs": [],
   "source": [
    "grid_results = fitted_model.cv_results_"
   ]
  },
  {
   "cell_type": "code",
   "execution_count": null,
   "id": "weird-saudi",
   "metadata": {},
   "outputs": [],
   "source": [
    "grid_results"
   ]
  },
  {
   "cell_type": "code",
   "execution_count": null,
   "id": "injured-discovery",
   "metadata": {},
   "outputs": [],
   "source": [
    "AUC = grid_results['mean_test_score']"
   ]
  },
  {
   "cell_type": "code",
   "execution_count": null,
   "id": "exact-shock",
   "metadata": {},
   "outputs": [],
   "source": [
    "param_dict = {}\n",
    "for key, value in grid_results.items():\n",
    "    if 'param_clf__' in key:\n",
    "        name = key.replace('param_clf__', '')\n",
    "        new = np.array(np.ma.getdata(grid_results[key]), dtype=np.float)\n",
    "        param_dict[name] = new\n",
    "        print(name)\n",
    "        plt.figure()\n",
    "        plt.scatter(new, AUC)\n",
    "        plt.show()\n",
    "    elif 'poly__' in key:\n",
    "        name = key.replace('poly__', '')\n",
    "        new = np.array(np.ma.getdata(grid_results[key]), dtype=np.float)\n",
    "        param_dict[name] = new\n",
    "        print(name)\n",
    "        plt.figure()\n",
    "        plt.scatter(new, AUC)\n",
    "        plt.show()\n",
    "\n",
    "param_dict"
   ]
  },
  {
   "cell_type": "code",
   "execution_count": null,
   "id": "qualified-whole",
   "metadata": {},
   "outputs": [],
   "source": [
    "print(\"Best: %f using %s\" % (fitted_model.best_score_, \n",
    "    fitted_model.best_params_))"
   ]
  },
  {
   "cell_type": "code",
   "execution_count": null,
   "id": "developing-friendship",
   "metadata": {},
   "outputs": [],
   "source": [
    "fitted_model.cv_results_"
   ]
  },
  {
   "cell_type": "code",
   "execution_count": null,
   "id": "reserved-wales",
   "metadata": {},
   "outputs": [],
   "source": [
    "learning_rates = np.ma.getdata(grid_results['param_clf__learning_rate'])\n",
    "learning_rates = np.ma.getdata(grid_results['param_clf__learning_rate'])\n",
    "# alphas = np.ma.getdata(grid_results['param_clf__alpha'])\n",
    "# rates = np.ma.getdata(grid_results['param_clf__optimizer__learning_rate'])\n",
    "# dims = np.ma.getdata(grid_results['param_clf__hidden_layer_dim'])\n",
    "# b_size = np.ma.getdata(grid_results['param_clf__batch_size'])\n",
    "# opts = np.ma.getdata(grid_results['param_clf__optimizer'])"
   ]
  },
  {
   "cell_type": "code",
   "execution_count": null,
   "id": "instructional-rocket",
   "metadata": {},
   "outputs": [],
   "source": [
    "log_rates =np.log(rates)"
   ]
  },
  {
   "cell_type": "code",
   "execution_count": null,
   "id": "normal-baseball",
   "metadata": {},
   "outputs": [],
   "source": [
    "df = pd.DataFrame(np.stack((log_rates, dims, AUC), axis=-1))"
   ]
  },
  {
   "cell_type": "code",
   "execution_count": null,
   "id": "hawaiian-decision",
   "metadata": {},
   "outputs": [],
   "source": [
    "df.columns = ['log_rates', 'dims', 'auc']"
   ]
  },
  {
   "cell_type": "code",
   "execution_count": null,
   "id": "vertical-practice",
   "metadata": {},
   "outputs": [],
   "source": [
    "fig, ax2 = plt.subplots(1,1);\n",
    "df.groupby('dims').plot('log_rates', 'auc', ax=ax2)\n",
    "plt.legend([v[0] for v in df.groupby('dims')['dims']])"
   ]
  },
  {
   "cell_type": "code",
   "execution_count": null,
   "id": "silver-referral",
   "metadata": {},
   "outputs": [],
   "source": [
    "alphas = np.array(alphas, dtype=np.float)\n",
    "log_alphas =np.log(alphas)\n",
    "plt.scatter(log_alphas, AUC)"
   ]
  },
  {
   "cell_type": "code",
   "execution_count": null,
   "id": "voluntary-principal",
   "metadata": {},
   "outputs": [],
   "source": [
    "plt.scatter(log_rates, AUC)"
   ]
  },
  {
   "cell_type": "code",
   "execution_count": null,
   "id": "banner-yukon",
   "metadata": {},
   "outputs": [],
   "source": [
    "plt.scatter(opts, AUC)"
   ]
  },
  {
   "cell_type": "code",
   "execution_count": null,
   "id": "legendary-latex",
   "metadata": {},
   "outputs": [],
   "source": []
  },
  {
   "cell_type": "code",
   "execution_count": null,
   "id": "thousand-radio",
   "metadata": {},
   "outputs": [],
   "source": []
  }
 ],
 "metadata": {
  "kernelspec": {
   "display_name": "bts",
   "language": "python",
   "name": "bts"
  },
  "language_info": {
   "codemirror_mode": {
    "name": "ipython",
    "version": 3
   },
   "file_extension": ".py",
   "mimetype": "text/x-python",
   "name": "python",
   "nbconvert_exporter": "python",
   "pygments_lexer": "ipython3"
  }
 },
 "nbformat": 4,
 "nbformat_minor": 5
}
