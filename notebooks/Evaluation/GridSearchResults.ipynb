{
 "cells": [
  {
   "cell_type": "code",
   "execution_count": 1,
   "id": "auburn-exploration",
   "metadata": {},
   "outputs": [],
   "source": [
    "# -*- coding: utf-8 -*-\n",
    "import logging\n",
    "from pathlib import Path\n",
    "\n",
    "import pandas as pd\n",
    "import numpy as np\n",
    "\n",
    "import cloudpickle\n",
    "import click\n",
    "\n",
    "import numpy as np\n",
    "\n",
    "import matplotlib.pyplot as plt"
   ]
  },
  {
   "cell_type": "code",
   "execution_count": 2,
   "id": "generous-stephen",
   "metadata": {},
   "outputs": [],
   "source": [
    "models = '../../models'"
   ]
  },
  {
   "cell_type": "code",
   "execution_count": 3,
   "id": "assisted-judge",
   "metadata": {},
   "outputs": [],
   "source": [
    "model_file = Path(models) / 'logistic_model.pkl'\n",
    "with open(model_file, 'rb') as fp:\n",
    "    fitted_model = cloudpickle.load(fp)"
   ]
  },
  {
   "cell_type": "code",
   "execution_count": 4,
   "id": "corrected-gregory",
   "metadata": {},
   "outputs": [],
   "source": [
    "grid_results = fitted_model.cv_results_"
   ]
  },
  {
   "cell_type": "code",
   "execution_count": 5,
   "id": "weird-saudi",
   "metadata": {},
   "outputs": [
    {
     "data": {
      "text/plain": [
       "{'mean_fit_time': array([242.5252408 , 279.68306551, 352.78456216, 285.91091461,\n",
       "        301.42264256, 308.67977605, 228.98114982, 229.82982955,\n",
       "        218.77256241]),\n",
       " 'std_fit_time': array([ 4.53662625, 20.41390568,  1.35571112,  7.95668988, 22.28632082,\n",
       "         6.52555176, 10.11794991,  7.36670674, 18.15691612]),\n",
       " 'mean_score_time': array([ 7.63462996, 10.69622364, 26.58181229,  7.90773678, 10.41849942,\n",
       "        21.815516  ,  4.53748612,  5.15568471,  8.63598275]),\n",
       " 'std_score_time': array([0.16006889, 0.82618107, 6.28696678, 1.46602527, 0.4376042 ,\n",
       "        3.90853947, 1.48428077, 0.84746813, 2.15071833]),\n",
       " 'param_clf__learning_rate': masked_array(data=[0.1, 0.1, 0.1, 0.01, 0.01, 0.01, 0.001, 0.001, 0.001],\n",
       "              mask=[False, False, False, False, False, False, False, False,\n",
       "                    False],\n",
       "        fill_value='?',\n",
       "             dtype=object),\n",
       " 'param_clf__max_depth': masked_array(data=[1, 2, 4, 1, 2, 4, 1, 2, 4],\n",
       "              mask=[False, False, False, False, False, False, False, False,\n",
       "                    False],\n",
       "        fill_value='?',\n",
       "             dtype=object),\n",
       " 'params': [{'clf__learning_rate': 0.1, 'clf__max_depth': 1},\n",
       "  {'clf__learning_rate': 0.1, 'clf__max_depth': 2},\n",
       "  {'clf__learning_rate': 0.1, 'clf__max_depth': 4},\n",
       "  {'clf__learning_rate': 0.01, 'clf__max_depth': 1},\n",
       "  {'clf__learning_rate': 0.01, 'clf__max_depth': 2},\n",
       "  {'clf__learning_rate': 0.01, 'clf__max_depth': 4},\n",
       "  {'clf__learning_rate': 0.001, 'clf__max_depth': 1},\n",
       "  {'clf__learning_rate': 0.001, 'clf__max_depth': 2},\n",
       "  {'clf__learning_rate': 0.001, 'clf__max_depth': 4}],\n",
       " 'split0_test_score': array([0.5698655 , 0.57034214, 0.57078413, 0.56793445, 0.56929974,\n",
       "        0.56998943, 0.56114658, 0.56398944, 0.56643678]),\n",
       " 'split1_test_score': array([0.56755599, 0.56821965, 0.5688948 , 0.56589857, 0.56715028,\n",
       "        0.56782714, 0.55943323, 0.5614045 , 0.56446385]),\n",
       " 'split2_test_score': array([0.56705033, 0.56728119, 0.56694151, 0.56530293, 0.56644761,\n",
       "        0.5668844 , 0.5595914 , 0.56128936, 0.56385324]),\n",
       " 'split3_test_score': array([0.56974204, 0.57026602, 0.56977833, 0.56819796, 0.56935275,\n",
       "        0.56983689, 0.56144829, 0.56382198, 0.5668954 ]),\n",
       " 'split4_test_score': array([0.56839367, 0.56909956, 0.56949496, 0.56700479, 0.56806776,\n",
       "        0.56857158, 0.56086712, 0.56329502, 0.5659054 ]),\n",
       " 'mean_test_score': array([0.5685215 , 0.56904171, 0.56917875, 0.56686774, 0.56806363,\n",
       "        0.56862189, 0.56049732, 0.56276006, 0.56551094]),\n",
       " 'std_test_score': array([0.00113216, 0.00118056, 0.00127457, 0.00112375, 0.001152  ,\n",
       "        0.00118317, 0.00082651, 0.00117693, 0.00116395]),\n",
       " 'rank_test_score': array([4, 2, 1, 6, 5, 3, 9, 8, 7], dtype=int32)}"
      ]
     },
     "execution_count": 5,
     "metadata": {},
     "output_type": "execute_result"
    }
   ],
   "source": [
    "grid_results"
   ]
  },
  {
   "cell_type": "code",
   "execution_count": 6,
   "id": "injured-discovery",
   "metadata": {},
   "outputs": [],
   "source": [
    "AUC = grid_results['mean_test_score']"
   ]
  },
  {
   "cell_type": "code",
   "execution_count": 7,
   "id": "exact-shock",
   "metadata": {},
   "outputs": [
    {
     "name": "stdout",
     "output_type": "stream",
     "text": [
      "learning_rate\n"
     ]
    },
    {
     "data": {
      "image/png": "[encoded data removed]",
      "text/plain": [
       "<Figure size 432x288 with 1 Axes>"
      ]
     },
     "metadata": {
      "needs_background": "light"
     },
     "output_type": "display_data"
    },
    {
     "name": "stdout",
     "output_type": "stream",
     "text": [
      "max_depth\n"
     ]
    },
    {
     "data": {
      "image/png": "[encoded data removed]",
      "text/plain": [
       "<Figure size 432x288 with 1 Axes>"
      ]
     },
     "metadata": {
      "needs_background": "light"
     },
     "output_type": "display_data"
    },
    {
     "data": {
      "text/plain": [
       "{'learning_rate': array([0.1  , 0.1  , 0.1  , 0.01 , 0.01 , 0.01 , 0.001, 0.001, 0.001]),\n",
       " 'max_depth': array([1., 2., 4., 1., 2., 4., 1., 2., 4.])}"
      ]
     },
     "execution_count": 7,
     "metadata": {},
     "output_type": "execute_result"
    }
   ],
   "source": [
    "param_dict = {}\n",
    "for key, value in grid_results.items():\n",
    "    if 'param_clf__' in key:\n",
    "        name = key.replace('param_clf__', '')\n",
    "        new = np.array(np.ma.getdata(grid_results[key]), dtype=np.float)\n",
    "        param_dict[name] = new\n",
    "        print(name)\n",
    "        plt.figure()\n",
    "        plt.scatter(new, AUC)\n",
    "        plt.show()\n",
    "    elif 'poly__' in key:\n",
    "        name = key.replace('poly__', '')\n",
    "        new = np.array(np.ma.getdata(grid_results[key]), dtype=np.float)\n",
    "        param_dict[name] = new\n",
    "        print(name)\n",
    "        plt.figure()\n",
    "        plt.scatter(new, AUC)\n",
    "        plt.show()\n",
    "\n",
    "param_dict"
   ]
  },
  {
   "cell_type": "code",
   "execution_count": 8,
   "id": "qualified-whole",
   "metadata": {},
   "outputs": [
    {
     "name": "stdout",
     "output_type": "stream",
     "text": [
      "Best: 0.569179 using {'clf__learning_rate': 0.1, 'clf__max_depth': 4}\n"
     ]
    }
   ],
   "source": [
    "print(\"Best: %f using %s\" % (fitted_model.best_score_, \n",
    "    fitted_model.best_params_))"
   ]
  },
  {
   "cell_type": "code",
   "execution_count": 68,
   "id": "developing-friendship",
   "metadata": {},
   "outputs": [
    {
     "data": {
      "text/plain": [
       "{'mean_fit_time': array([136.45275722]),\n",
       " 'std_fit_time': array([1.02516811]),\n",
       " 'mean_score_time': array([5.06718493]),\n",
       " 'std_score_time': array([0.20019957]),\n",
       " 'param_clf__learning_rate': masked_array(data=[0.01],\n",
       "              mask=[False],\n",
       "        fill_value='?',\n",
       "             dtype=object),\n",
       " 'param_clf__max_depth': masked_array(data=[2],\n",
       "              mask=[False],\n",
       "        fill_value='?',\n",
       "             dtype=object),\n",
       " 'params': [{'clf__learning_rate': 0.01, 'clf__max_depth': 2}],\n",
       " 'split0_test_score': array([0.56930559]),\n",
       " 'split1_test_score': array([0.5671583]),\n",
       " 'split2_test_score': array([0.56646904]),\n",
       " 'split3_test_score': array([0.56936017]),\n",
       " 'split4_test_score': array([0.5680666]),\n",
       " 'mean_test_score': array([0.56807194]),\n",
       " 'std_test_score': array([0.00114765]),\n",
       " 'rank_test_score': array([1], dtype=int32)}"
      ]
     },
     "execution_count": 68,
     "metadata": {},
     "output_type": "execute_result"
    }
   ],
   "source": [
    "fitted_model.cv_results_"
   ]
  },
  {
   "cell_type": "code",
   "execution_count": 59,
   "id": "reserved-wales",
   "metadata": {},
   "outputs": [],
   "source": [
    "learning_rates = np.ma.getdata(grid_results['param_clf__learning_rate'])\n",
    "learning_rates = np.ma.getdata(grid_results['param_clf__learning_rate'])\n",
    "# alphas = np.ma.getdata(grid_results['param_clf__alpha'])\n",
    "# rates = np.ma.getdata(grid_results['param_clf__optimizer__learning_rate'])\n",
    "# dims = np.ma.getdata(grid_results['param_clf__hidden_layer_dim'])\n",
    "# b_size = np.ma.getdata(grid_results['param_clf__batch_size'])\n",
    "# opts = np.ma.getdata(grid_results['param_clf__optimizer'])"
   ]
  },
  {
   "cell_type": "code",
   "execution_count": 11,
   "id": "instructional-rocket",
   "metadata": {},
   "outputs": [
    {
     "ename": "NameError",
     "evalue": "name 'rates' is not defined",
     "output_type": "error",
     "traceback": [
      "\u001b[0;31m---------------------------------------------------------------------------\u001b[0m",
      "\u001b[0;31mNameError\u001b[0m                                 Traceback (most recent call last)",
      "\u001b[0;32m<ipython-input-11-7f33b18d8c1c>\u001b[0m in \u001b[0;36m<module>\u001b[0;34m\u001b[0m\n\u001b[0;32m----> 1\u001b[0;31m \u001b[0mlog_rates\u001b[0m \u001b[0;34m=\u001b[0m\u001b[0mnp\u001b[0m\u001b[0;34m.\u001b[0m\u001b[0mlog\u001b[0m\u001b[0;34m(\u001b[0m\u001b[0mrates\u001b[0m\u001b[0;34m)\u001b[0m\u001b[0;34m\u001b[0m\u001b[0;34m\u001b[0m\u001b[0m\n\u001b[0m",
      "\u001b[0;31mNameError\u001b[0m: name 'rates' is not defined"
     ]
    }
   ],
   "source": [
    "log_rates =np.log(rates)"
   ]
  },
  {
   "cell_type": "code",
   "execution_count": 12,
   "id": "normal-baseball",
   "metadata": {},
   "outputs": [
    {
     "ename": "NameError",
     "evalue": "name 'log_rates' is not defined",
     "output_type": "error",
     "traceback": [
      "\u001b[0;31m---------------------------------------------------------------------------\u001b[0m",
      "\u001b[0;31mNameError\u001b[0m                                 Traceback (most recent call last)",
      "\u001b[0;32m<ipython-input-12-d41c690ce2b3>\u001b[0m in \u001b[0;36m<module>\u001b[0;34m\u001b[0m\n\u001b[0;32m----> 1\u001b[0;31m \u001b[0mdf\u001b[0m \u001b[0;34m=\u001b[0m \u001b[0mpd\u001b[0m\u001b[0;34m.\u001b[0m\u001b[0mDataFrame\u001b[0m\u001b[0;34m(\u001b[0m\u001b[0mnp\u001b[0m\u001b[0;34m.\u001b[0m\u001b[0mstack\u001b[0m\u001b[0;34m(\u001b[0m\u001b[0;34m(\u001b[0m\u001b[0mlog_rates\u001b[0m\u001b[0;34m,\u001b[0m \u001b[0mdims\u001b[0m\u001b[0;34m,\u001b[0m \u001b[0mAUC\u001b[0m\u001b[0;34m)\u001b[0m\u001b[0;34m,\u001b[0m \u001b[0maxis\u001b[0m\u001b[0;34m=\u001b[0m\u001b[0;34m-\u001b[0m\u001b[0;36m1\u001b[0m\u001b[0;34m)\u001b[0m\u001b[0;34m)\u001b[0m\u001b[0;34m\u001b[0m\u001b[0;34m\u001b[0m\u001b[0m\n\u001b[0m",
      "\u001b[0;31mNameError\u001b[0m: name 'log_rates' is not defined"
     ]
    }
   ],
   "source": [
    "df = pd.DataFrame(np.stack((log_rates, dims, AUC), axis=-1))"
   ]
  },
  {
   "cell_type": "code",
   "execution_count": 13,
   "id": "hawaiian-decision",
   "metadata": {},
   "outputs": [
    {
     "ename": "NameError",
     "evalue": "name 'df' is not defined",
     "output_type": "error",
     "traceback": [
      "\u001b[0;31m---------------------------------------------------------------------------\u001b[0m",
      "\u001b[0;31mNameError\u001b[0m                                 Traceback (most recent call last)",
      "\u001b[0;32m<ipython-input-13-30caa439652d>\u001b[0m in \u001b[0;36m<module>\u001b[0;34m\u001b[0m\n\u001b[0;32m----> 1\u001b[0;31m \u001b[0mdf\u001b[0m\u001b[0;34m.\u001b[0m\u001b[0mcolumns\u001b[0m \u001b[0;34m=\u001b[0m \u001b[0;34m[\u001b[0m\u001b[0;34m'log_rates'\u001b[0m\u001b[0;34m,\u001b[0m \u001b[0;34m'dims'\u001b[0m\u001b[0;34m,\u001b[0m \u001b[0;34m'auc'\u001b[0m\u001b[0;34m]\u001b[0m\u001b[0;34m\u001b[0m\u001b[0;34m\u001b[0m\u001b[0m\n\u001b[0m",
      "\u001b[0;31mNameError\u001b[0m: name 'df' is not defined"
     ]
    }
   ],
   "source": [
    "df.columns = ['log_rates', 'dims', 'auc']"
   ]
  },
  {
   "cell_type": "code",
   "execution_count": 14,
   "id": "vertical-practice",
   "metadata": {},
   "outputs": [
    {
     "ename": "NameError",
     "evalue": "name 'df' is not defined",
     "output_type": "error",
     "traceback": [
      "\u001b[0;31m---------------------------------------------------------------------------\u001b[0m",
      "\u001b[0;31mNameError\u001b[0m                                 Traceback (most recent call last)",
      "\u001b[0;32m<ipython-input-14-dd88f6ad7e16>\u001b[0m in \u001b[0;36m<module>\u001b[0;34m\u001b[0m\n\u001b[1;32m      1\u001b[0m \u001b[0mfig\u001b[0m\u001b[0;34m,\u001b[0m \u001b[0max2\u001b[0m \u001b[0;34m=\u001b[0m \u001b[0mplt\u001b[0m\u001b[0;34m.\u001b[0m\u001b[0msubplots\u001b[0m\u001b[0;34m(\u001b[0m\u001b[0;36m1\u001b[0m\u001b[0;34m,\u001b[0m\u001b[0;36m1\u001b[0m\u001b[0;34m)\u001b[0m\u001b[0;34m;\u001b[0m\u001b[0;34m\u001b[0m\u001b[0;34m\u001b[0m\u001b[0m\n\u001b[0;32m----> 2\u001b[0;31m \u001b[0mdf\u001b[0m\u001b[0;34m.\u001b[0m\u001b[0mgroupby\u001b[0m\u001b[0;34m(\u001b[0m\u001b[0;34m'dims'\u001b[0m\u001b[0;34m)\u001b[0m\u001b[0;34m.\u001b[0m\u001b[0mplot\u001b[0m\u001b[0;34m(\u001b[0m\u001b[0;34m'log_rates'\u001b[0m\u001b[0;34m,\u001b[0m \u001b[0;34m'auc'\u001b[0m\u001b[0;34m,\u001b[0m \u001b[0max\u001b[0m\u001b[0;34m=\u001b[0m\u001b[0max2\u001b[0m\u001b[0;34m)\u001b[0m\u001b[0;34m\u001b[0m\u001b[0;34m\u001b[0m\u001b[0m\n\u001b[0m\u001b[1;32m      3\u001b[0m \u001b[0mplt\u001b[0m\u001b[0;34m.\u001b[0m\u001b[0mlegend\u001b[0m\u001b[0;34m(\u001b[0m\u001b[0;34m[\u001b[0m\u001b[0mv\u001b[0m\u001b[0;34m[\u001b[0m\u001b[0;36m0\u001b[0m\u001b[0;34m]\u001b[0m \u001b[0;32mfor\u001b[0m \u001b[0mv\u001b[0m \u001b[0;32min\u001b[0m \u001b[0mdf\u001b[0m\u001b[0;34m.\u001b[0m\u001b[0mgroupby\u001b[0m\u001b[0;34m(\u001b[0m\u001b[0;34m'dims'\u001b[0m\u001b[0;34m)\u001b[0m\u001b[0;34m[\u001b[0m\u001b[0;34m'dims'\u001b[0m\u001b[0;34m]\u001b[0m\u001b[0;34m]\u001b[0m\u001b[0;34m)\u001b[0m\u001b[0;34m\u001b[0m\u001b[0;34m\u001b[0m\u001b[0m\n",
      "\u001b[0;31mNameError\u001b[0m: name 'df' is not defined"
     ]
    },
    {
     "data": {
      "image/png": "[encoded data removed]",
      "text/plain": [
       "<Figure size 432x288 with 1 Axes>"
      ]
     },
     "metadata": {
      "needs_background": "light"
     },
     "output_type": "display_data"
    }
   ],
   "source": [
    "fig, ax2 = plt.subplots(1,1);\n",
    "df.groupby('dims').plot('log_rates', 'auc', ax=ax2)\n",
    "plt.legend([v[0] for v in df.groupby('dims')['dims']])"
   ]
  },
  {
   "cell_type": "code",
   "execution_count": 15,
   "id": "silver-referral",
   "metadata": {},
   "outputs": [
    {
     "ename": "NameError",
     "evalue": "name 'alphas' is not defined",
     "output_type": "error",
     "traceback": [
      "\u001b[0;31m---------------------------------------------------------------------------\u001b[0m",
      "\u001b[0;31mNameError\u001b[0m                                 Traceback (most recent call last)",
      "\u001b[0;32m<ipython-input-15-4b3c712e39c8>\u001b[0m in \u001b[0;36m<module>\u001b[0;34m\u001b[0m\n\u001b[0;32m----> 1\u001b[0;31m \u001b[0malphas\u001b[0m \u001b[0;34m=\u001b[0m \u001b[0mnp\u001b[0m\u001b[0;34m.\u001b[0m\u001b[0marray\u001b[0m\u001b[0;34m(\u001b[0m\u001b[0malphas\u001b[0m\u001b[0;34m,\u001b[0m \u001b[0mdtype\u001b[0m\u001b[0;34m=\u001b[0m\u001b[0mnp\u001b[0m\u001b[0;34m.\u001b[0m\u001b[0mfloat\u001b[0m\u001b[0;34m)\u001b[0m\u001b[0;34m\u001b[0m\u001b[0;34m\u001b[0m\u001b[0m\n\u001b[0m\u001b[1;32m      2\u001b[0m \u001b[0mlog_alphas\u001b[0m \u001b[0;34m=\u001b[0m\u001b[0mnp\u001b[0m\u001b[0;34m.\u001b[0m\u001b[0mlog\u001b[0m\u001b[0;34m(\u001b[0m\u001b[0malphas\u001b[0m\u001b[0;34m)\u001b[0m\u001b[0;34m\u001b[0m\u001b[0;34m\u001b[0m\u001b[0m\n\u001b[1;32m      3\u001b[0m \u001b[0mplt\u001b[0m\u001b[0;34m.\u001b[0m\u001b[0mscatter\u001b[0m\u001b[0;34m(\u001b[0m\u001b[0mlog_alphas\u001b[0m\u001b[0;34m,\u001b[0m \u001b[0mAUC\u001b[0m\u001b[0;34m)\u001b[0m\u001b[0;34m\u001b[0m\u001b[0;34m\u001b[0m\u001b[0m\n",
      "\u001b[0;31mNameError\u001b[0m: name 'alphas' is not defined"
     ]
    }
   ],
   "source": [
    "alphas = np.array(alphas, dtype=np.float)\n",
    "log_alphas =np.log(alphas)\n",
    "plt.scatter(log_alphas, AUC)"
   ]
  },
  {
   "cell_type": "code",
   "execution_count": 16,
   "id": "voluntary-principal",
   "metadata": {},
   "outputs": [
    {
     "ename": "NameError",
     "evalue": "name 'log_rates' is not defined",
     "output_type": "error",
     "traceback": [
      "\u001b[0;31m---------------------------------------------------------------------------\u001b[0m",
      "\u001b[0;31mNameError\u001b[0m                                 Traceback (most recent call last)",
      "\u001b[0;32m<ipython-input-16-b63ada7b5f06>\u001b[0m in \u001b[0;36m<module>\u001b[0;34m\u001b[0m\n\u001b[0;32m----> 1\u001b[0;31m \u001b[0mplt\u001b[0m\u001b[0;34m.\u001b[0m\u001b[0mscatter\u001b[0m\u001b[0;34m(\u001b[0m\u001b[0mlog_rates\u001b[0m\u001b[0;34m,\u001b[0m \u001b[0mAUC\u001b[0m\u001b[0;34m)\u001b[0m\u001b[0;34m\u001b[0m\u001b[0;34m\u001b[0m\u001b[0m\n\u001b[0m",
      "\u001b[0;31mNameError\u001b[0m: name 'log_rates' is not defined"
     ]
    }
   ],
   "source": [
    "plt.scatter(log_rates, AUC)"
   ]
  },
  {
   "cell_type": "code",
   "execution_count": 17,
   "id": "banner-yukon",
   "metadata": {},
   "outputs": [
    {
     "ename": "NameError",
     "evalue": "name 'opts' is not defined",
     "output_type": "error",
     "traceback": [
      "\u001b[0;31m---------------------------------------------------------------------------\u001b[0m",
      "\u001b[0;31mNameError\u001b[0m                                 Traceback (most recent call last)",
      "\u001b[0;32m<ipython-input-17-507b4a97fff6>\u001b[0m in \u001b[0;36m<module>\u001b[0;34m\u001b[0m\n\u001b[0;32m----> 1\u001b[0;31m \u001b[0mplt\u001b[0m\u001b[0;34m.\u001b[0m\u001b[0mscatter\u001b[0m\u001b[0;34m(\u001b[0m\u001b[0mopts\u001b[0m\u001b[0;34m,\u001b[0m \u001b[0mAUC\u001b[0m\u001b[0;34m)\u001b[0m\u001b[0;34m\u001b[0m\u001b[0;34m\u001b[0m\u001b[0m\n\u001b[0m",
      "\u001b[0;31mNameError\u001b[0m: name 'opts' is not defined"
     ]
    }
   ],
   "source": [
    "plt.scatter(opts, AUC)"
   ]
  },
  {
   "cell_type": "code",
   "execution_count": null,
   "id": "legendary-latex",
   "metadata": {},
   "outputs": [],
   "source": []
  },
  {
   "cell_type": "code",
   "execution_count": null,
   "id": "thousand-radio",
   "metadata": {},
   "outputs": [],
   "source": []
  }
 ],
 "metadata": {
  "kernelspec": {
   "display_name": "bts",
   "language": "python",
   "name": "bts"
  },
  "language_info": {
   "codemirror_mode": {
    "name": "ipython",
    "version": 3
   },
   "file_extension": ".py",
   "mimetype": "text/x-python",
   "name": "python",
   "nbconvert_exporter": "python",
   "pygments_lexer": "ipython3",
   "version": "3.7.10"
  }
 },
 "nbformat": 4,
 "nbformat_minor": 5
}
