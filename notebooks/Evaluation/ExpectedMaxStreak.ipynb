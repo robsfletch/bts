{
 "cells": [
  {
   "cell_type": "code",
   "execution_count": 4,
   "metadata": {},
   "outputs": [],
   "source": [
    "import numpy"
   ]
  },
  {
   "cell_type": "code",
   "execution_count": 16,
   "metadata": {},
   "outputs": [
    {
     "data": {
      "text/plain": [
       "21.2333"
      ]
     },
     "execution_count": 16,
     "metadata": {},
     "output_type": "execute_result"
    }
   ],
   "source": [
    "def oneTrial(p, noOfCoinFlips):\n",
    "    s = numpy.random.binomial(1, p, noOfCoinFlips)\n",
    "    maxCount = 0\n",
    "    count = 0\n",
    "    for x in s:\n",
    "        if x == 1:\n",
    "            count += 1\n",
    "        if x == 0:\n",
    "            count = 0\n",
    "        maxCount = max(maxCount, count)\n",
    "    return maxCount\n",
    "\n",
    "\n",
    "numpy.mean([oneTrial(.8, 356) for x in range(10000)])"
   ]
  },
  {
   "cell_type": "code",
   "execution_count": null,
   "metadata": {},
   "outputs": [],
   "source": []
  }
 ],
 "metadata": {
  "kernelspec": {
   "display_name": "bts",
   "language": "python",
   "name": "bts"
  },
  "language_info": {
   "codemirror_mode": {
    "name": "ipython",
    "version": 3
   },
   "file_extension": ".py",
   "mimetype": "text/x-python",
   "name": "python",
   "nbconvert_exporter": "python",
   "pygments_lexer": "ipython3",
   "version": "3.7.10"
  }
 },
 "nbformat": 4,
 "nbformat_minor": 4
}
