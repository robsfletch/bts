{
 "cells": [
  {
   "cell_type": "code",
   "execution_count": 1,
   "metadata": {},
   "outputs": [],
   "source": [
    "import numpy"
   ]
  },
  {
   "cell_type": "code",
   "execution_count": 6,
   "metadata": {},
   "outputs": [
    {
     "name": "stdout",
     "output_type": "stream",
     "text": [
      "Mean 18.9642 With standard deviation 4.854659448406243\n"
     ]
    }
   ],
   "source": [
    "def oneTrial(p, noOfCoinFlips):\n",
    "    s = numpy.random.binomial(1, p, noOfCoinFlips)\n",
    "    maxCount = 0\n",
    "    count = 0\n",
    "    for x in s:\n",
    "        if x == 1:\n",
    "            count += 1\n",
    "        if x == 0:\n",
    "            count = 0\n",
    "        maxCount = max(maxCount, count)\n",
    "    return maxCount\n",
    "\n",
    "trials = [oneTrial(.775, 356) for x in range(10000)]\n",
    "mean = numpy.mean(trials)\n",
    "std = numpy.std(trials)\n",
    "print(f'Mean {mean} With standard deviation {std}')"
   ]
  },
  {
   "cell_type": "code",
   "execution_count": null,
   "metadata": {},
   "outputs": [],
   "source": []
  }
 ],
 "metadata": {
  "kernelspec": {
   "display_name": "bts",
   "language": "python",
   "name": "bts"
  },
  "language_info": {
   "codemirror_mode": {
    "name": "ipython",
    "version": 3
   },
   "file_extension": ".py",
   "mimetype": "text/x-python",
   "name": "python",
   "nbconvert_exporter": "python",
   "pygments_lexer": "ipython3",
   "version": "3.7.10"
  }
 },
 "nbformat": 4,
 "nbformat_minor": 4
}
