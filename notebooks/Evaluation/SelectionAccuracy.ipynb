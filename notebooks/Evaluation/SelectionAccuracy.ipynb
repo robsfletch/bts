{
 "cells": [
  {
   "cell_type": "code",
   "execution_count": null,
   "id": "important-astronomy",
   "metadata": {},
   "outputs": [],
   "source": [
    "from pathlib import Path\n",
    "import pandas as pd\n",
    "import numpy as np"
   ]
  },
  {
   "cell_type": "code",
   "execution_count": null,
   "id": "exterior-maria",
   "metadata": {},
   "outputs": [],
   "source": [
    "processed = Path('../../data/processed')\n",
    "selection_data = pd.read_pickle(Path(processed) / 'selection_data.pkl')"
   ]
  },
  {
   "cell_type": "code",
   "execution_count": null,
   "id": "ahead-cambridge",
   "metadata": {},
   "outputs": [],
   "source": [
    "selection_data.ChooseTeam.value_counts()"
   ]
  },
  {
   "cell_type": "code",
   "execution_count": null,
   "id": "passive-moscow",
   "metadata": {},
   "outputs": [],
   "source": [
    "selection_data = selection_data[selection_data.year >= 2000]\n",
    "# selection_data = selection_data[(selection_data.year < 2000) & (selection_data.year >= 1960)]"
   ]
  },
  {
   "cell_type": "code",
   "execution_count": null,
   "id": "reverse-market",
   "metadata": {},
   "outputs": [],
   "source": [
    "selection_data.b_PA_in_G.value_counts().sort_index()"
   ]
  },
  {
   "cell_type": "code",
   "execution_count": null,
   "id": "appropriate-allocation",
   "metadata": {},
   "outputs": [],
   "source": [
    "selection_data[['spot', 'home']].value_counts()"
   ]
  },
  {
   "cell_type": "code",
   "execution_count": null,
   "id": "occupational-circus",
   "metadata": {},
   "outputs": [],
   "source": [
    "def adjust_plot(plt):\n",
    "    plt.xaxis.grid(False)\n",
    "    plt.yaxis.grid(True, linestyle='dashed', color='lightgrey')\n",
    "    plt.set_axisbelow(True)\n",
    "    plt.xaxis.set_ticks_position('none') \n",
    "    plt.yaxis.set_ticks_position('none') \n",
    "\n",
    "    plt.spines['right'].set_visible(False)\n",
    "    plt.spines['top'].set_visible(False)"
   ]
  },
  {
   "cell_type": "code",
   "execution_count": null,
   "id": "irish-canyon",
   "metadata": {},
   "outputs": [],
   "source": [
    "Wins = selection_data.loc[selection_data['Win'] == True, 'Win'].count()\n",
    "Loses = selection_data.loc[selection_data['Win'] == False, 'Win'].count()\n",
    "WinRate = round( (Wins / (Wins + Loses)) *100, 1)\n",
    "print('Win pick rate: ' + str(WinRate) + '%')"
   ]
  },
  {
   "cell_type": "code",
   "execution_count": null,
   "id": "regional-exercise",
   "metadata": {},
   "outputs": [],
   "source": [
    "day_wins = selection_data.groupby('date')['Win'].prod()\n",
    "print('Win both picks rate: ' + str(round(day_wins.mean()*100, 1)) + '%')"
   ]
  },
  {
   "cell_type": "code",
   "execution_count": null,
   "id": "shared-chinese",
   "metadata": {},
   "outputs": [],
   "source": [
    "def streak_counter(df):\n",
    "    df['L_Win'] = df['Win'].shift(1)\n",
    "    df['L_year'] = df['year'].shift(1)\n",
    "    df['start_of_streak'] = (df['Win'] != df['L_Win']) | (df['year'] != df['L_year'])\n",
    "    df['streak_id'] = df['start_of_streak'].cumsum()\n",
    "    df['streak_counter'] = df.groupby('streak_id').cumcount() + 1\n",
    "    df.loc[df.Win == 0, 'streak_counter'] = 0\n",
    "    \n",
    "    return df"
   ]
  },
  {
   "cell_type": "code",
   "execution_count": null,
   "id": "residential-revelation",
   "metadata": {},
   "outputs": [],
   "source": [
    "selection_data = selection_data.astype({'Win':'int8'})\n",
    "selection_data = streak_counter(selection_data)\n",
    "streaks = selection_data.groupby('streak_id').agg({'streak_counter':'max'})\n",
    "streaks['streak_counter'].max()"
   ]
  },
  {
   "cell_type": "code",
   "execution_count": null,
   "id": "educational-demand",
   "metadata": {},
   "outputs": [],
   "source": [
    "year_results = selection_data.groupby('year').agg({'Win':'mean', 'streak_counter':'max'})\n",
    "year_results"
   ]
  },
  {
   "cell_type": "code",
   "execution_count": null,
   "id": "decimal-cable",
   "metadata": {},
   "outputs": [],
   "source": [
    "selection_data['EstProb'].describe()"
   ]
  },
  {
   "cell_type": "code",
   "execution_count": null,
   "id": "popular-canada",
   "metadata": {},
   "outputs": [],
   "source": [
    "selection_data['bin'] = pd.qcut(selection_data['EstProb'], 10, duplicates='drop')\n",
    "\n",
    "dots = selection_data.groupby(['bin'])[['EstProb', 'Win']].agg('mean')\n",
    "dots = dots.reset_index()\n",
    "dots.plot.scatter('EstProb','Win')"
   ]
  },
  {
   "cell_type": "code",
   "execution_count": null,
   "id": "involved-concentrate",
   "metadata": {},
   "outputs": [],
   "source": [
    "selection_data[['EstProb', 'Win']].mean()"
   ]
  },
  {
   "cell_type": "code",
   "execution_count": null,
   "id": "integrated-victoria",
   "metadata": {},
   "outputs": [],
   "source": [
    "# Start including data from current season\n",
    "\n",
    "# Relief pitchers data\n",
    "\n",
    "# Set up S3 if necessary for size, or for GPUs\n",
    "\n",
    "# Check # training observations for each model fit \n",
    "# and make sure we aren't losing any\n",
    "\n",
    "# Ensemble methods for NN and logistic\n",
    "\n",
    "# Rest days\n",
    "\n",
    "# Adjust Pitcher and Batter stats for park record ( merge it in and divide) - compare adjusted at home and away stats\n",
    "\n",
    "# New pitcher flag?\n",
    "\n",
    "# Find out where they are in the rotation\n",
    "\n",
    "# Fix training so that it doesn't need to specify number of variables\n",
    "\n",
    "# Split up grid search vs. non-grid search training\n",
    "\n",
    "# Why is Win missing? Check merge loss\n",
    "\n",
    "# Time-series CV\n",
    "\n",
    "# Come up with potential guesses remaining counter (get schedule from retrosheet)\n",
    "\n",
    "# Predict closer from roster and then use their rgs to construct estimated closing rgs (or just rgs for closing team)\n",
    "\n",
    "# predicting game length\n",
    "\n",
    "# Calculate streaks by aggregating predictions by day and not counting if any pick loses.\n",
    "\n",
    "# add league dummy to model\n",
    "\n",
    "# Average multiple prediction methods\n",
    "\n",
    "# Come up with pitcher vs. Batter metrics\n",
    "\n",
    "# check out distribution of PAs for selections. See if we can find a way to cut off the left tail.\n",
    "\n",
    "# Park Factors by handedness\n",
    "\n",
    "# Park Factors by hitter distribution (L vs. R, 1 v 2 v 3 v HR)\n",
    "\n",
    "# Come up with Batter vs. Pitcher Stats and graph distribution to see tails.\n",
    "\n",
    "# Add temperature and froce of win from or to"
   ]
  },
  {
   "cell_type": "code",
   "execution_count": null,
   "id": "unexpected-ending",
   "metadata": {},
   "outputs": [],
   "source": [
    "restricted = selection_data.loc[\n",
    "#     (selection_data['EstProb'] >= .74) &\n",
    "#     (selection_data['park_factor'] >= 1) &\n",
    "    (selection_data['spot'] <= 4),\n",
    "    ['Win', 'year']\n",
    "]"
   ]
  },
  {
   "cell_type": "code",
   "execution_count": null,
   "id": "transsexual-harvey",
   "metadata": {},
   "outputs": [],
   "source": [
    "restricted= restricted.astype({'Win':'int8'})\n",
    "restricted = streak_counter(restricted)\n",
    "streaks = restricted.groupby('streak_id').agg({'streak_counter':'max'})\n",
    "streaks['streak_counter'].max()"
   ]
  },
  {
   "cell_type": "code",
   "execution_count": null,
   "id": "excited-sierra",
   "metadata": {},
   "outputs": [],
   "source": [
    "Wins = restricted.loc[\n",
    "    (restricted['Win'] == True),\n",
    "    'Win'].count()\n",
    "Loses = restricted.loc[\n",
    "    (restricted['Win'] == False),\n",
    "    'Win'].count()\n",
    "WinRate = round( (Wins / (Wins + Loses)) *100, 1)\n",
    "print(str(WinRate) + '%')"
   ]
  },
  {
   "cell_type": "code",
   "execution_count": null,
   "id": "senior-cinema",
   "metadata": {},
   "outputs": [],
   "source": [
    "year_results = restricted.groupby('year').agg({'Win':'mean', 'streak_counter':'max'})\n",
    "year_results"
   ]
  },
  {
   "cell_type": "code",
   "execution_count": null,
   "id": "higher-frederick",
   "metadata": {},
   "outputs": [],
   "source": [
    "year_results['streak_counter'].sum()"
   ]
  },
  {
   "cell_type": "code",
   "execution_count": null,
   "id": "rotary-algebra",
   "metadata": {},
   "outputs": [],
   "source": [
    "selection_data = selection_data.sort_values(['year', 'Date'])"
   ]
  },
  {
   "cell_type": "code",
   "execution_count": null,
   "id": "crucial-macro",
   "metadata": {},
   "outputs": [],
   "source": [
    "selection_data['pick_day'] = selection_data.groupby(['year']).cumcount() + 1\n",
    "selection_data['pick_day'] = np.ceil(selection_data['pick_day'] / 2)"
   ]
  },
  {
   "cell_type": "code",
   "execution_count": null,
   "id": "disabled-investigator",
   "metadata": {},
   "outputs": [],
   "source": [
    "year_results.sort_values(['Win'], ascending=[False])"
   ]
  },
  {
   "cell_type": "code",
   "execution_count": null,
   "id": "flush-dealing",
   "metadata": {},
   "outputs": [],
   "source": []
  },
  {
   "cell_type": "code",
   "execution_count": null,
   "id": "infectious-nudist",
   "metadata": {},
   "outputs": [],
   "source": []
  },
  {
   "cell_type": "code",
   "execution_count": null,
   "id": "integral-worst",
   "metadata": {},
   "outputs": [],
   "source": []
  }
 ],
 "metadata": {
  "kernelspec": {
   "display_name": "bts",
   "language": "python",
   "name": "bts"
  },
  "language_info": {
   "codemirror_mode": {
    "name": "ipython",
    "version": 3
   },
   "file_extension": ".py",
   "mimetype": "text/x-python",
   "name": "python",
   "nbconvert_exporter": "python",
   "pygments_lexer": "ipython3"
  }
 },
 "nbformat": 4,
 "nbformat_minor": 5
}
