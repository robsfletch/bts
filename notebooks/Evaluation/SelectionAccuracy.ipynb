{
 "cells": [
  {
   "cell_type": "code",
   "execution_count": 66,
   "id": "important-astronomy",
   "metadata": {},
   "outputs": [],
   "source": [
    "from pathlib import Path\n",
    "import pandas as pd\n",
    "import numpy as np"
   ]
  },
  {
   "cell_type": "code",
   "execution_count": 67,
   "id": "exterior-maria",
   "metadata": {},
   "outputs": [],
   "source": [
    "processed = Path('../../data/processed')\n",
    "selection_data = pd.read_pickle(Path(processed) / 'selection_data.pkl')"
   ]
  },
  {
   "cell_type": "code",
   "execution_count": 68,
   "id": "ahead-cambridge",
   "metadata": {},
   "outputs": [
    {
     "data": {
      "text/plain": [
       "False    22019\n",
       "True     11470\n",
       "Name: ChooseTeam, dtype: int64"
      ]
     },
     "execution_count": 68,
     "metadata": {},
     "output_type": "execute_result"
    }
   ],
   "source": [
    "selection_data.ChooseTeam.value_counts()"
   ]
  },
  {
   "cell_type": "code",
   "execution_count": 69,
   "id": "passive-moscow",
   "metadata": {},
   "outputs": [],
   "source": [
    "selection_data = selection_data[selection_data.year >= 2000]\n",
    "# selection_data = selection_data[(selection_data.year < 2000) & (selection_data.year >= 1960)]"
   ]
  },
  {
   "cell_type": "code",
   "execution_count": 70,
   "id": "reverse-market",
   "metadata": {},
   "outputs": [
    {
     "data": {
      "text/plain": [
       "1      24\n",
       "2      41\n",
       "3     175\n",
       "4    2985\n",
       "5    3574\n",
       "6     484\n",
       "7      45\n",
       "8       8\n",
       "9       2\n",
       "Name: b_PA_in_G, dtype: Int64"
      ]
     },
     "execution_count": 70,
     "metadata": {},
     "output_type": "execute_result"
    }
   ],
   "source": [
    "selection_data.b_PA_in_G.value_counts().sort_index()"
   ]
  },
  {
   "cell_type": "code",
   "execution_count": 71,
   "id": "appropriate-allocation",
   "metadata": {},
   "outputs": [
    {
     "data": {
      "text/plain": [
       "spot  home\n",
       "1.0   0.0     2246\n",
       "      1.0     1622\n",
       "2.0   0.0     1043\n",
       "3.0   0.0      846\n",
       "2.0   1.0      668\n",
       "3.0   1.0      540\n",
       "4.0   0.0      186\n",
       "      1.0      102\n",
       "5.0   0.0       46\n",
       "      1.0       23\n",
       "6.0   0.0       11\n",
       "7.0   0.0        4\n",
       "6.0   1.0        1\n",
       "dtype: int64"
      ]
     },
     "execution_count": 71,
     "metadata": {},
     "output_type": "execute_result"
    }
   ],
   "source": [
    "selection_data[['spot', 'home']].value_counts()"
   ]
  },
  {
   "cell_type": "code",
   "execution_count": 72,
   "id": "occupational-circus",
   "metadata": {},
   "outputs": [],
   "source": [
    "def adjust_plot(plt):\n",
    "    plt.xaxis.grid(False)\n",
    "    plt.yaxis.grid(True, linestyle='dashed', color='lightgrey')\n",
    "    plt.set_axisbelow(True)\n",
    "    plt.xaxis.set_ticks_position('none') \n",
    "    plt.yaxis.set_ticks_position('none') \n",
    "\n",
    "    plt.spines['right'].set_visible(False)\n",
    "    plt.spines['top'].set_visible(False)"
   ]
  },
  {
   "cell_type": "code",
   "execution_count": 73,
   "id": "irish-canyon",
   "metadata": {},
   "outputs": [
    {
     "name": "stdout",
     "output_type": "stream",
     "text": [
      "Win pick rate: 76.4%\n"
     ]
    }
   ],
   "source": [
    "Wins = selection_data.loc[selection_data['Win'] == True, 'Win'].count()\n",
    "Loses = selection_data.loc[selection_data['Win'] == False, 'Win'].count()\n",
    "WinRate = round( (Wins / (Wins + Loses)) *100, 1)\n",
    "print('Win pick rate: ' + str(WinRate) + '%')"
   ]
  },
  {
   "cell_type": "code",
   "execution_count": 74,
   "id": "regional-exercise",
   "metadata": {},
   "outputs": [
    {
     "name": "stdout",
     "output_type": "stream",
     "text": [
      "Win both picks rate: 58.1%\n"
     ]
    }
   ],
   "source": [
    "day_wins = selection_data.groupby('date')['Win'].prod()\n",
    "print('Win both picks rate: ' + str(round(day_wins.mean()*100, 1)) + '%')"
   ]
  },
  {
   "cell_type": "code",
   "execution_count": 53,
   "id": "shared-chinese",
   "metadata": {},
   "outputs": [],
   "source": [
    "def streak_counter(df):\n",
    "    df['L_Win'] = df['Win'].shift(1)\n",
    "    df['L_year'] = df['year'].shift(1)\n",
    "    df['start_of_streak'] = (df['Win'] != df['L_Win']) | (df['year'] != df['L_year'])\n",
    "    df['streak_id'] = df['start_of_streak'].cumsum()\n",
    "    df['streak_counter'] = df.groupby('streak_id').cumcount() + 1\n",
    "    df.loc[df.Win == 0, 'streak_counter'] = 0\n",
    "    \n",
    "    return df"
   ]
  },
  {
   "cell_type": "code",
   "execution_count": 54,
   "id": "residential-revelation",
   "metadata": {},
   "outputs": [
    {
     "data": {
      "text/plain": [
       "31"
      ]
     },
     "execution_count": 54,
     "metadata": {},
     "output_type": "execute_result"
    }
   ],
   "source": [
    "selection_data = selection_data.astype({'Win':'int8'})\n",
    "selection_data = streak_counter(selection_data)\n",
    "streaks = selection_data.groupby('streak_id').agg({'streak_counter':'max'})\n",
    "streaks['streak_counter'].max()"
   ]
  },
  {
   "cell_type": "code",
   "execution_count": 55,
   "id": "educational-demand",
   "metadata": {
    "scrolled": true
   },
   "outputs": [
    {
     "data": {
      "text/html": [
       "<div>\n",
       "<style scoped>\n",
       "    .dataframe tbody tr th:only-of-type {\n",
       "        vertical-align: middle;\n",
       "    }\n",
       "\n",
       "    .dataframe tbody tr th {\n",
       "        vertical-align: top;\n",
       "    }\n",
       "\n",
       "    .dataframe thead th {\n",
       "        text-align: right;\n",
       "    }\n",
       "</style>\n",
       "<table border=\"1\" class=\"dataframe\">\n",
       "  <thead>\n",
       "    <tr style=\"text-align: right;\">\n",
       "      <th></th>\n",
       "      <th>Win</th>\n",
       "      <th>streak_counter</th>\n",
       "    </tr>\n",
       "    <tr>\n",
       "      <th>year</th>\n",
       "      <th></th>\n",
       "      <th></th>\n",
       "    </tr>\n",
       "  </thead>\n",
       "  <tbody>\n",
       "    <tr>\n",
       "      <th>2000.0</th>\n",
       "      <td>0.768156</td>\n",
       "      <td>25</td>\n",
       "    </tr>\n",
       "    <tr>\n",
       "      <th>2001.0</th>\n",
       "      <td>0.775000</td>\n",
       "      <td>31</td>\n",
       "    </tr>\n",
       "    <tr>\n",
       "      <th>2002.0</th>\n",
       "      <td>0.808333</td>\n",
       "      <td>19</td>\n",
       "    </tr>\n",
       "    <tr>\n",
       "      <th>2003.0</th>\n",
       "      <td>0.750000</td>\n",
       "      <td>22</td>\n",
       "    </tr>\n",
       "    <tr>\n",
       "      <th>2004.0</th>\n",
       "      <td>0.747222</td>\n",
       "      <td>22</td>\n",
       "    </tr>\n",
       "    <tr>\n",
       "      <th>2005.0</th>\n",
       "      <td>0.780556</td>\n",
       "      <td>17</td>\n",
       "    </tr>\n",
       "    <tr>\n",
       "      <th>2006.0</th>\n",
       "      <td>0.752778</td>\n",
       "      <td>17</td>\n",
       "    </tr>\n",
       "    <tr>\n",
       "      <th>2007.0</th>\n",
       "      <td>0.787293</td>\n",
       "      <td>22</td>\n",
       "    </tr>\n",
       "    <tr>\n",
       "      <th>2008.0</th>\n",
       "      <td>0.765193</td>\n",
       "      <td>16</td>\n",
       "    </tr>\n",
       "    <tr>\n",
       "      <th>2009.0</th>\n",
       "      <td>0.759669</td>\n",
       "      <td>22</td>\n",
       "    </tr>\n",
       "    <tr>\n",
       "      <th>2010.0</th>\n",
       "      <td>0.750000</td>\n",
       "      <td>15</td>\n",
       "    </tr>\n",
       "    <tr>\n",
       "      <th>2011.0</th>\n",
       "      <td>0.759777</td>\n",
       "      <td>16</td>\n",
       "    </tr>\n",
       "    <tr>\n",
       "      <th>2012.0</th>\n",
       "      <td>0.741573</td>\n",
       "      <td>17</td>\n",
       "    </tr>\n",
       "    <tr>\n",
       "      <th>2013.0</th>\n",
       "      <td>0.769444</td>\n",
       "      <td>16</td>\n",
       "    </tr>\n",
       "    <tr>\n",
       "      <th>2014.0</th>\n",
       "      <td>0.717877</td>\n",
       "      <td>12</td>\n",
       "    </tr>\n",
       "    <tr>\n",
       "      <th>2015.0</th>\n",
       "      <td>0.801676</td>\n",
       "      <td>18</td>\n",
       "    </tr>\n",
       "    <tr>\n",
       "      <th>2016.0</th>\n",
       "      <td>0.731844</td>\n",
       "      <td>18</td>\n",
       "    </tr>\n",
       "    <tr>\n",
       "      <th>2017.0</th>\n",
       "      <td>0.756983</td>\n",
       "      <td>17</td>\n",
       "    </tr>\n",
       "    <tr>\n",
       "      <th>2018.0</th>\n",
       "      <td>0.777174</td>\n",
       "      <td>21</td>\n",
       "    </tr>\n",
       "    <tr>\n",
       "      <th>2019.0</th>\n",
       "      <td>0.789617</td>\n",
       "      <td>17</td>\n",
       "    </tr>\n",
       "    <tr>\n",
       "      <th>2020.0</th>\n",
       "      <td>0.746269</td>\n",
       "      <td>22</td>\n",
       "    </tr>\n",
       "  </tbody>\n",
       "</table>\n",
       "</div>"
      ],
      "text/plain": [
       "             Win  streak_counter\n",
       "year                            \n",
       "2000.0  0.768156              25\n",
       "2001.0  0.775000              31\n",
       "2002.0  0.808333              19\n",
       "2003.0  0.750000              22\n",
       "2004.0  0.747222              22\n",
       "2005.0  0.780556              17\n",
       "2006.0  0.752778              17\n",
       "2007.0  0.787293              22\n",
       "2008.0  0.765193              16\n",
       "2009.0  0.759669              22\n",
       "2010.0  0.750000              15\n",
       "2011.0  0.759777              16\n",
       "2012.0  0.741573              17\n",
       "2013.0  0.769444              16\n",
       "2014.0  0.717877              12\n",
       "2015.0  0.801676              18\n",
       "2016.0  0.731844              18\n",
       "2017.0  0.756983              17\n",
       "2018.0  0.777174              21\n",
       "2019.0  0.789617              17\n",
       "2020.0  0.746269              22"
      ]
     },
     "execution_count": 55,
     "metadata": {},
     "output_type": "execute_result"
    }
   ],
   "source": [
    "year_results = selection_data.groupby('year').agg({'Win':'mean', 'streak_counter':'max'})\n",
    "year_results"
   ]
  },
  {
   "cell_type": "code",
   "execution_count": 56,
   "id": "decimal-cable",
   "metadata": {},
   "outputs": [
    {
     "data": {
      "text/plain": [
       "count    7338.000000\n",
       "mean        0.782287\n",
       "std         0.026800\n",
       "min         0.693127\n",
       "25%         0.762989\n",
       "50%         0.780313\n",
       "75%         0.793304\n",
       "max         0.955244\n",
       "Name: EstProb, dtype: float64"
      ]
     },
     "execution_count": 56,
     "metadata": {},
     "output_type": "execute_result"
    }
   ],
   "source": [
    "selection_data['EstProb'].describe()"
   ]
  },
  {
   "cell_type": "code",
   "execution_count": 57,
   "id": "popular-canada",
   "metadata": {},
   "outputs": [
    {
     "data": {
      "text/plain": [
       "<AxesSubplot:xlabel='EstProb', ylabel='Win'>"
      ]
     },
     "execution_count": 57,
     "metadata": {},
     "output_type": "execute_result"
    },
    {
     "data": {
      "image/png": "[encoded data removed]",
      "text/plain": [
       "<Figure size 432x288 with 1 Axes>"
      ]
     },
     "metadata": {
      "needs_background": "light"
     },
     "output_type": "display_data"
    }
   ],
   "source": [
    "selection_data['bin'] = pd.qcut(selection_data['EstProb'], 10, duplicates='drop')\n",
    "\n",
    "dots = selection_data.groupby(['bin'])[['EstProb', 'Win']].agg('mean')\n",
    "dots = dots.reset_index()\n",
    "dots.plot.scatter('EstProb','Win')"
   ]
  },
  {
   "cell_type": "code",
   "execution_count": 58,
   "id": "involved-concentrate",
   "metadata": {},
   "outputs": [
    {
     "data": {
      "text/plain": [
       "EstProb    0.782287\n",
       "Win        0.764241\n",
       "dtype: float64"
      ]
     },
     "execution_count": 58,
     "metadata": {},
     "output_type": "execute_result"
    }
   ],
   "source": [
    "selection_data[['EstProb', 'Win']].mean()"
   ]
  },
  {
   "cell_type": "code",
   "execution_count": 59,
   "id": "integrated-victoria",
   "metadata": {},
   "outputs": [],
   "source": [
    "# Start including data from current season\n",
    "\n",
    "# Relief pitchers data\n",
    "\n",
    "# Set up S3 if necessary for size, or for GPUs\n",
    "\n",
    "# Check # training observations for each model fit \n",
    "# and make sure we aren't losing any\n",
    "\n",
    "# Ensemble methods for NN and logistic\n",
    "\n",
    "# Rest days\n",
    "\n",
    "# Adjust Pitcher and Batter stats for park record ( merge it in and divide) - compare adjusted at home and away stats\n",
    "\n",
    "# New pitcher flag?\n",
    "\n",
    "# Find out where they are in the rotation\n",
    "\n",
    "# Fix training so that it doesn't need to specify number of variables\n",
    "\n",
    "# Split up grid search vs. non-grid search training\n",
    "\n",
    "# Why is Win missing? Check merge loss\n",
    "\n",
    "# Time-series CV\n",
    "\n",
    "# Come up with potential guesses remaining counter (get schedule from retrosheet)\n",
    "\n",
    "# Predict closer from roster and then use their rgs to construct estimated closing rgs (or just rgs for closing team)\n",
    "\n",
    "# predicting game length\n",
    "\n",
    "# Calculate streaks by aggregating predictions by day and not counting if any pick loses.\n",
    "\n",
    "# add league dummy to model\n",
    "\n",
    "# Average multiple prediction methods\n",
    "\n",
    "# Come up with pitcher vs. Batter metrics\n",
    "\n",
    "# check out distribution of PAs for selections. See if we can find a way to cut off the left tail.\n",
    "\n",
    "# Park Factors by handedness\n",
    "\n",
    "# Park Factors by hitter distribution (L vs. R, 1 v 2 v 3 v HR)\n",
    "\n",
    "# Come up with Batter vs. Pitcher Stats and graph distribution to see tails.\n",
    "\n",
    "# Add temperature and froce of win from or to"
   ]
  },
  {
   "cell_type": "code",
   "execution_count": 60,
   "id": "unexpected-ending",
   "metadata": {},
   "outputs": [],
   "source": [
    "restricted = selection_data.loc[\n",
    "#     (selection_data['EstProb'] >= .74) &\n",
    "#     (selection_data['park_factor'] >= 1) &\n",
    "    (selection_data['spot'] <= 4),\n",
    "    ['Win', 'year']\n",
    "]"
   ]
  },
  {
   "cell_type": "code",
   "execution_count": 61,
   "id": "transsexual-harvey",
   "metadata": {},
   "outputs": [
    {
     "data": {
      "text/plain": [
       "31"
      ]
     },
     "execution_count": 61,
     "metadata": {},
     "output_type": "execute_result"
    }
   ],
   "source": [
    "restricted= restricted.astype({'Win':'int8'})\n",
    "restricted = streak_counter(restricted)\n",
    "streaks = restricted.groupby('streak_id').agg({'streak_counter':'max'})\n",
    "streaks['streak_counter'].max()"
   ]
  },
  {
   "cell_type": "code",
   "execution_count": 62,
   "id": "excited-sierra",
   "metadata": {},
   "outputs": [
    {
     "name": "stdout",
     "output_type": "stream",
     "text": [
      "76.5%\n"
     ]
    }
   ],
   "source": [
    "Wins = restricted.loc[\n",
    "    (restricted['Win'] == True),\n",
    "    'Win'].count()\n",
    "Loses = restricted.loc[\n",
    "    (restricted['Win'] == False),\n",
    "    'Win'].count()\n",
    "WinRate = round( (Wins / (Wins + Loses)) *100, 1)\n",
    "print(str(WinRate) + '%')"
   ]
  },
  {
   "cell_type": "code",
   "execution_count": 63,
   "id": "senior-cinema",
   "metadata": {
    "scrolled": true
   },
   "outputs": [
    {
     "data": {
      "text/html": [
       "<div>\n",
       "<style scoped>\n",
       "    .dataframe tbody tr th:only-of-type {\n",
       "        vertical-align: middle;\n",
       "    }\n",
       "\n",
       "    .dataframe tbody tr th {\n",
       "        vertical-align: top;\n",
       "    }\n",
       "\n",
       "    .dataframe thead th {\n",
       "        text-align: right;\n",
       "    }\n",
       "</style>\n",
       "<table border=\"1\" class=\"dataframe\">\n",
       "  <thead>\n",
       "    <tr style=\"text-align: right;\">\n",
       "      <th></th>\n",
       "      <th>Win</th>\n",
       "      <th>streak_counter</th>\n",
       "    </tr>\n",
       "    <tr>\n",
       "      <th>year</th>\n",
       "      <th></th>\n",
       "      <th></th>\n",
       "    </tr>\n",
       "  </thead>\n",
       "  <tbody>\n",
       "    <tr>\n",
       "      <th>2000.0</th>\n",
       "      <td>0.764873</td>\n",
       "      <td>25</td>\n",
       "    </tr>\n",
       "    <tr>\n",
       "      <th>2001.0</th>\n",
       "      <td>0.774929</td>\n",
       "      <td>31</td>\n",
       "    </tr>\n",
       "    <tr>\n",
       "      <th>2002.0</th>\n",
       "      <td>0.809524</td>\n",
       "      <td>19</td>\n",
       "    </tr>\n",
       "    <tr>\n",
       "      <th>2003.0</th>\n",
       "      <td>0.753501</td>\n",
       "      <td>21</td>\n",
       "    </tr>\n",
       "    <tr>\n",
       "      <th>2004.0</th>\n",
       "      <td>0.756374</td>\n",
       "      <td>22</td>\n",
       "    </tr>\n",
       "    <tr>\n",
       "      <th>2005.0</th>\n",
       "      <td>0.778090</td>\n",
       "      <td>17</td>\n",
       "    </tr>\n",
       "    <tr>\n",
       "      <th>2006.0</th>\n",
       "      <td>0.750000</td>\n",
       "      <td>17</td>\n",
       "    </tr>\n",
       "    <tr>\n",
       "      <th>2007.0</th>\n",
       "      <td>0.788732</td>\n",
       "      <td>22</td>\n",
       "    </tr>\n",
       "    <tr>\n",
       "      <th>2008.0</th>\n",
       "      <td>0.763380</td>\n",
       "      <td>17</td>\n",
       "    </tr>\n",
       "    <tr>\n",
       "      <th>2009.0</th>\n",
       "      <td>0.765363</td>\n",
       "      <td>22</td>\n",
       "    </tr>\n",
       "    <tr>\n",
       "      <th>2010.0</th>\n",
       "      <td>0.751412</td>\n",
       "      <td>17</td>\n",
       "    </tr>\n",
       "    <tr>\n",
       "      <th>2011.0</th>\n",
       "      <td>0.758427</td>\n",
       "      <td>16</td>\n",
       "    </tr>\n",
       "    <tr>\n",
       "      <th>2012.0</th>\n",
       "      <td>0.742857</td>\n",
       "      <td>17</td>\n",
       "    </tr>\n",
       "    <tr>\n",
       "      <th>2013.0</th>\n",
       "      <td>0.771831</td>\n",
       "      <td>16</td>\n",
       "    </tr>\n",
       "    <tr>\n",
       "      <th>2014.0</th>\n",
       "      <td>0.715493</td>\n",
       "      <td>12</td>\n",
       "    </tr>\n",
       "    <tr>\n",
       "      <th>2015.0</th>\n",
       "      <td>0.801676</td>\n",
       "      <td>18</td>\n",
       "    </tr>\n",
       "    <tr>\n",
       "      <th>2016.0</th>\n",
       "      <td>0.733894</td>\n",
       "      <td>18</td>\n",
       "    </tr>\n",
       "    <tr>\n",
       "      <th>2017.0</th>\n",
       "      <td>0.756983</td>\n",
       "      <td>17</td>\n",
       "    </tr>\n",
       "    <tr>\n",
       "      <th>2018.0</th>\n",
       "      <td>0.777174</td>\n",
       "      <td>21</td>\n",
       "    </tr>\n",
       "    <tr>\n",
       "      <th>2019.0</th>\n",
       "      <td>0.787115</td>\n",
       "      <td>17</td>\n",
       "    </tr>\n",
       "    <tr>\n",
       "      <th>2020.0</th>\n",
       "      <td>0.746269</td>\n",
       "      <td>22</td>\n",
       "    </tr>\n",
       "  </tbody>\n",
       "</table>\n",
       "</div>"
      ],
      "text/plain": [
       "             Win  streak_counter\n",
       "year                            \n",
       "2000.0  0.764873              25\n",
       "2001.0  0.774929              31\n",
       "2002.0  0.809524              19\n",
       "2003.0  0.753501              21\n",
       "2004.0  0.756374              22\n",
       "2005.0  0.778090              17\n",
       "2006.0  0.750000              17\n",
       "2007.0  0.788732              22\n",
       "2008.0  0.763380              17\n",
       "2009.0  0.765363              22\n",
       "2010.0  0.751412              17\n",
       "2011.0  0.758427              16\n",
       "2012.0  0.742857              17\n",
       "2013.0  0.771831              16\n",
       "2014.0  0.715493              12\n",
       "2015.0  0.801676              18\n",
       "2016.0  0.733894              18\n",
       "2017.0  0.756983              17\n",
       "2018.0  0.777174              21\n",
       "2019.0  0.787115              17\n",
       "2020.0  0.746269              22"
      ]
     },
     "execution_count": 63,
     "metadata": {},
     "output_type": "execute_result"
    }
   ],
   "source": [
    "year_results = restricted.groupby('year').agg({'Win':'mean', 'streak_counter':'max'})\n",
    "year_results"
   ]
  },
  {
   "cell_type": "code",
   "execution_count": 64,
   "id": "higher-frederick",
   "metadata": {},
   "outputs": [
    {
     "data": {
      "text/plain": [
       "404"
      ]
     },
     "execution_count": 64,
     "metadata": {},
     "output_type": "execute_result"
    }
   ],
   "source": [
    "year_results['streak_counter'].sum()"
   ]
  },
  {
   "cell_type": "code",
   "execution_count": 65,
   "id": "rotary-algebra",
   "metadata": {},
   "outputs": [
    {
     "ename": "KeyError",
     "evalue": "'Date'",
     "output_type": "error",
     "traceback": [
      "\u001b[0;31m---------------------------------------------------------------------------\u001b[0m",
      "\u001b[0;31mKeyError\u001b[0m                                  Traceback (most recent call last)",
      "\u001b[0;32m<ipython-input-65-2fe1fdce9f22>\u001b[0m in \u001b[0;36m<module>\u001b[0;34m\u001b[0m\n\u001b[0;32m----> 1\u001b[0;31m \u001b[0mselection_data\u001b[0m \u001b[0;34m=\u001b[0m \u001b[0mselection_data\u001b[0m\u001b[0;34m.\u001b[0m\u001b[0msort_values\u001b[0m\u001b[0;34m(\u001b[0m\u001b[0;34m[\u001b[0m\u001b[0;34m'year'\u001b[0m\u001b[0;34m,\u001b[0m \u001b[0;34m'Date'\u001b[0m\u001b[0;34m]\u001b[0m\u001b[0;34m)\u001b[0m\u001b[0;34m\u001b[0m\u001b[0;34m\u001b[0m\u001b[0m\n\u001b[0m",
      "\u001b[0;32m~/opt/anaconda3/envs/bts/lib/python3.7/site-packages/pandas/core/frame.py\u001b[0m in \u001b[0;36msort_values\u001b[0;34m(self, by, axis, ascending, inplace, kind, na_position, ignore_index, key)\u001b[0m\n\u001b[1;32m   5440\u001b[0m         \u001b[0;32mif\u001b[0m \u001b[0mlen\u001b[0m\u001b[0;34m(\u001b[0m\u001b[0mby\u001b[0m\u001b[0;34m)\u001b[0m \u001b[0;34m>\u001b[0m \u001b[0;36m1\u001b[0m\u001b[0;34m:\u001b[0m\u001b[0;34m\u001b[0m\u001b[0;34m\u001b[0m\u001b[0m\n\u001b[1;32m   5441\u001b[0m \u001b[0;34m\u001b[0m\u001b[0m\n\u001b[0;32m-> 5442\u001b[0;31m             \u001b[0mkeys\u001b[0m \u001b[0;34m=\u001b[0m \u001b[0;34m[\u001b[0m\u001b[0mself\u001b[0m\u001b[0;34m.\u001b[0m\u001b[0m_get_label_or_level_values\u001b[0m\u001b[0;34m(\u001b[0m\u001b[0mx\u001b[0m\u001b[0;34m,\u001b[0m \u001b[0maxis\u001b[0m\u001b[0;34m=\u001b[0m\u001b[0maxis\u001b[0m\u001b[0;34m)\u001b[0m \u001b[0;32mfor\u001b[0m \u001b[0mx\u001b[0m \u001b[0;32min\u001b[0m \u001b[0mby\u001b[0m\u001b[0;34m]\u001b[0m\u001b[0;34m\u001b[0m\u001b[0;34m\u001b[0m\u001b[0m\n\u001b[0m\u001b[1;32m   5443\u001b[0m \u001b[0;34m\u001b[0m\u001b[0m\n\u001b[1;32m   5444\u001b[0m             \u001b[0;31m# need to rewrap columns in Series to apply key function\u001b[0m\u001b[0;34m\u001b[0m\u001b[0;34m\u001b[0m\u001b[0;34m\u001b[0m\u001b[0m\n",
      "\u001b[0;32m~/opt/anaconda3/envs/bts/lib/python3.7/site-packages/pandas/core/frame.py\u001b[0m in \u001b[0;36m<listcomp>\u001b[0;34m(.0)\u001b[0m\n\u001b[1;32m   5440\u001b[0m         \u001b[0;32mif\u001b[0m \u001b[0mlen\u001b[0m\u001b[0;34m(\u001b[0m\u001b[0mby\u001b[0m\u001b[0;34m)\u001b[0m \u001b[0;34m>\u001b[0m \u001b[0;36m1\u001b[0m\u001b[0;34m:\u001b[0m\u001b[0;34m\u001b[0m\u001b[0;34m\u001b[0m\u001b[0m\n\u001b[1;32m   5441\u001b[0m \u001b[0;34m\u001b[0m\u001b[0m\n\u001b[0;32m-> 5442\u001b[0;31m             \u001b[0mkeys\u001b[0m \u001b[0;34m=\u001b[0m \u001b[0;34m[\u001b[0m\u001b[0mself\u001b[0m\u001b[0;34m.\u001b[0m\u001b[0m_get_label_or_level_values\u001b[0m\u001b[0;34m(\u001b[0m\u001b[0mx\u001b[0m\u001b[0;34m,\u001b[0m \u001b[0maxis\u001b[0m\u001b[0;34m=\u001b[0m\u001b[0maxis\u001b[0m\u001b[0;34m)\u001b[0m \u001b[0;32mfor\u001b[0m \u001b[0mx\u001b[0m \u001b[0;32min\u001b[0m \u001b[0mby\u001b[0m\u001b[0;34m]\u001b[0m\u001b[0;34m\u001b[0m\u001b[0;34m\u001b[0m\u001b[0m\n\u001b[0m\u001b[1;32m   5443\u001b[0m \u001b[0;34m\u001b[0m\u001b[0m\n\u001b[1;32m   5444\u001b[0m             \u001b[0;31m# need to rewrap columns in Series to apply key function\u001b[0m\u001b[0;34m\u001b[0m\u001b[0;34m\u001b[0m\u001b[0;34m\u001b[0m\u001b[0m\n",
      "\u001b[0;32m~/opt/anaconda3/envs/bts/lib/python3.7/site-packages/pandas/core/generic.py\u001b[0m in \u001b[0;36m_get_label_or_level_values\u001b[0;34m(self, key, axis)\u001b[0m\n\u001b[1;32m   1682\u001b[0m             \u001b[0mvalues\u001b[0m \u001b[0;34m=\u001b[0m \u001b[0mself\u001b[0m\u001b[0;34m.\u001b[0m\u001b[0maxes\u001b[0m\u001b[0;34m[\u001b[0m\u001b[0maxis\u001b[0m\u001b[0;34m]\u001b[0m\u001b[0;34m.\u001b[0m\u001b[0mget_level_values\u001b[0m\u001b[0;34m(\u001b[0m\u001b[0mkey\u001b[0m\u001b[0;34m)\u001b[0m\u001b[0;34m.\u001b[0m\u001b[0m_values\u001b[0m\u001b[0;34m\u001b[0m\u001b[0;34m\u001b[0m\u001b[0m\n\u001b[1;32m   1683\u001b[0m         \u001b[0;32melse\u001b[0m\u001b[0;34m:\u001b[0m\u001b[0;34m\u001b[0m\u001b[0;34m\u001b[0m\u001b[0m\n\u001b[0;32m-> 1684\u001b[0;31m             \u001b[0;32mraise\u001b[0m \u001b[0mKeyError\u001b[0m\u001b[0;34m(\u001b[0m\u001b[0mkey\u001b[0m\u001b[0;34m)\u001b[0m\u001b[0;34m\u001b[0m\u001b[0;34m\u001b[0m\u001b[0m\n\u001b[0m\u001b[1;32m   1685\u001b[0m \u001b[0;34m\u001b[0m\u001b[0m\n\u001b[1;32m   1686\u001b[0m         \u001b[0;31m# Check for duplicates\u001b[0m\u001b[0;34m\u001b[0m\u001b[0;34m\u001b[0m\u001b[0;34m\u001b[0m\u001b[0m\n",
      "\u001b[0;31mKeyError\u001b[0m: 'Date'"
     ]
    }
   ],
   "source": [
    "selection_data = selection_data.sort_values(['year', 'Date'])"
   ]
  },
  {
   "cell_type": "code",
   "execution_count": 23,
   "id": "crucial-macro",
   "metadata": {},
   "outputs": [],
   "source": [
    "selection_data['pick_day'] = selection_data.groupby(['year']).cumcount() + 1\n",
    "selection_data['pick_day'] = np.ceil(selection_data['pick_day'] / 2)"
   ]
  },
  {
   "cell_type": "code",
   "execution_count": 24,
   "id": "disabled-investigator",
   "metadata": {
    "scrolled": true
   },
   "outputs": [
    {
     "data": {
      "text/html": [
       "<div>\n",
       "<style scoped>\n",
       "    .dataframe tbody tr th:only-of-type {\n",
       "        vertical-align: middle;\n",
       "    }\n",
       "\n",
       "    .dataframe tbody tr th {\n",
       "        vertical-align: top;\n",
       "    }\n",
       "\n",
       "    .dataframe thead th {\n",
       "        text-align: right;\n",
       "    }\n",
       "</style>\n",
       "<table border=\"1\" class=\"dataframe\">\n",
       "  <thead>\n",
       "    <tr style=\"text-align: right;\">\n",
       "      <th></th>\n",
       "      <th>Win</th>\n",
       "      <th>streak_counter</th>\n",
       "    </tr>\n",
       "    <tr>\n",
       "      <th>year</th>\n",
       "      <th></th>\n",
       "      <th></th>\n",
       "    </tr>\n",
       "  </thead>\n",
       "  <tbody>\n",
       "    <tr>\n",
       "      <th>2002.0</th>\n",
       "      <td>0.837535</td>\n",
       "      <td>19</td>\n",
       "    </tr>\n",
       "    <tr>\n",
       "      <th>2007.0</th>\n",
       "      <td>0.795455</td>\n",
       "      <td>15</td>\n",
       "    </tr>\n",
       "    <tr>\n",
       "      <th>2015.0</th>\n",
       "      <td>0.793785</td>\n",
       "      <td>18</td>\n",
       "    </tr>\n",
       "    <tr>\n",
       "      <th>2008.0</th>\n",
       "      <td>0.789773</td>\n",
       "      <td>16</td>\n",
       "    </tr>\n",
       "    <tr>\n",
       "      <th>2005.0</th>\n",
       "      <td>0.788732</td>\n",
       "      <td>17</td>\n",
       "    </tr>\n",
       "    <tr>\n",
       "      <th>2009.0</th>\n",
       "      <td>0.784314</td>\n",
       "      <td>22</td>\n",
       "    </tr>\n",
       "    <tr>\n",
       "      <th>2004.0</th>\n",
       "      <td>0.783476</td>\n",
       "      <td>24</td>\n",
       "    </tr>\n",
       "    <tr>\n",
       "      <th>2019.0</th>\n",
       "      <td>0.783099</td>\n",
       "      <td>17</td>\n",
       "    </tr>\n",
       "    <tr>\n",
       "      <th>2013.0</th>\n",
       "      <td>0.781870</td>\n",
       "      <td>20</td>\n",
       "    </tr>\n",
       "    <tr>\n",
       "      <th>2003.0</th>\n",
       "      <td>0.780282</td>\n",
       "      <td>25</td>\n",
       "    </tr>\n",
       "    <tr>\n",
       "      <th>2018.0</th>\n",
       "      <td>0.779891</td>\n",
       "      <td>23</td>\n",
       "    </tr>\n",
       "    <tr>\n",
       "      <th>2000.0</th>\n",
       "      <td>0.776836</td>\n",
       "      <td>16</td>\n",
       "    </tr>\n",
       "    <tr>\n",
       "      <th>2001.0</th>\n",
       "      <td>0.765043</td>\n",
       "      <td>25</td>\n",
       "    </tr>\n",
       "    <tr>\n",
       "      <th>2012.0</th>\n",
       "      <td>0.761494</td>\n",
       "      <td>17</td>\n",
       "    </tr>\n",
       "    <tr>\n",
       "      <th>2017.0</th>\n",
       "      <td>0.760563</td>\n",
       "      <td>14</td>\n",
       "    </tr>\n",
       "    <tr>\n",
       "      <th>2011.0</th>\n",
       "      <td>0.758427</td>\n",
       "      <td>14</td>\n",
       "    </tr>\n",
       "    <tr>\n",
       "      <th>2020.0</th>\n",
       "      <td>0.751880</td>\n",
       "      <td>22</td>\n",
       "    </tr>\n",
       "    <tr>\n",
       "      <th>2010.0</th>\n",
       "      <td>0.747875</td>\n",
       "      <td>17</td>\n",
       "    </tr>\n",
       "    <tr>\n",
       "      <th>2016.0</th>\n",
       "      <td>0.730337</td>\n",
       "      <td>18</td>\n",
       "    </tr>\n",
       "    <tr>\n",
       "      <th>2014.0</th>\n",
       "      <td>0.721127</td>\n",
       "      <td>13</td>\n",
       "    </tr>\n",
       "    <tr>\n",
       "      <th>2006.0</th>\n",
       "      <td>0.720670</td>\n",
       "      <td>21</td>\n",
       "    </tr>\n",
       "  </tbody>\n",
       "</table>\n",
       "</div>"
      ],
      "text/plain": [
       "             Win  streak_counter\n",
       "year                            \n",
       "2002.0  0.837535              19\n",
       "2007.0  0.795455              15\n",
       "2015.0  0.793785              18\n",
       "2008.0  0.789773              16\n",
       "2005.0  0.788732              17\n",
       "2009.0  0.784314              22\n",
       "2004.0  0.783476              24\n",
       "2019.0  0.783099              17\n",
       "2013.0  0.781870              20\n",
       "2003.0  0.780282              25\n",
       "2018.0  0.779891              23\n",
       "2000.0  0.776836              16\n",
       "2001.0  0.765043              25\n",
       "2012.0  0.761494              17\n",
       "2017.0  0.760563              14\n",
       "2011.0  0.758427              14\n",
       "2020.0  0.751880              22\n",
       "2010.0  0.747875              17\n",
       "2016.0  0.730337              18\n",
       "2014.0  0.721127              13\n",
       "2006.0  0.720670              21"
      ]
     },
     "execution_count": 24,
     "metadata": {},
     "output_type": "execute_result"
    }
   ],
   "source": [
    "year_results.sort_values(['Win'], ascending=[False])"
   ]
  },
  {
   "cell_type": "code",
   "execution_count": null,
   "id": "flush-dealing",
   "metadata": {},
   "outputs": [],
   "source": []
  },
  {
   "cell_type": "code",
   "execution_count": null,
   "id": "infectious-nudist",
   "metadata": {},
   "outputs": [],
   "source": []
  },
  {
   "cell_type": "code",
   "execution_count": null,
   "id": "integral-worst",
   "metadata": {},
   "outputs": [],
   "source": []
  }
 ],
 "metadata": {
  "kernelspec": {
   "display_name": "bts",
   "language": "python",
   "name": "bts"
  },
  "language_info": {
   "codemirror_mode": {
    "name": "ipython",
    "version": 3
   },
   "file_extension": ".py",
   "mimetype": "text/x-python",
   "name": "python",
   "nbconvert_exporter": "python",
   "pygments_lexer": "ipython3",
   "version": "3.7.10"
  }
 },
 "nbformat": 4,
 "nbformat_minor": 5
}
