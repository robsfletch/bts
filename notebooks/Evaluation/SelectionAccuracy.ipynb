{
 "cells": [
  {
   "cell_type": "code",
   "execution_count": 108,
   "id": "important-astronomy",
   "metadata": {},
   "outputs": [],
   "source": [
    "from pathlib import Path\n",
    "import pandas as pd\n",
    "import numpy as np"
   ]
  },
  {
   "cell_type": "code",
   "execution_count": 109,
   "id": "exterior-maria",
   "metadata": {},
   "outputs": [],
   "source": [
    "processed = Path('../../data/processed')\n",
    "selection_data = pd.read_pickle(Path(processed) / 'selection_data.pkl')"
   ]
  },
  {
   "cell_type": "code",
   "execution_count": 110,
   "id": "ahead-cambridge",
   "metadata": {},
   "outputs": [
    {
     "data": {
      "text/plain": [
       "False    21686\n",
       "True     13066\n",
       "Name: ChooseTeam, dtype: int64"
      ]
     },
     "execution_count": 110,
     "metadata": {},
     "output_type": "execute_result"
    }
   ],
   "source": [
    "selection_data.ChooseTeam.value_counts()"
   ]
  },
  {
   "cell_type": "code",
   "execution_count": 111,
   "id": "passive-moscow",
   "metadata": {},
   "outputs": [],
   "source": [
    "selection_data = selection_data[selection_data.year >= 2000]\n",
    "# selection_data = selection_data[(selection_data.year < 2000) & (selection_data.year >= 1960)]"
   ]
  },
  {
   "cell_type": "code",
   "execution_count": 112,
   "id": "appropriate-allocation",
   "metadata": {},
   "outputs": [
    {
     "data": {
      "text/plain": [
       "spot  home\n",
       "1.0   0.0     2124\n",
       "      1.0     1546\n",
       "2.0   0.0     1018\n",
       "3.0   0.0      892\n",
       "2.0   1.0      657\n",
       "3.0   1.0      627\n",
       "4.0   0.0      215\n",
       "      1.0      150\n",
       "5.0   0.0       60\n",
       "      1.0       28\n",
       "6.0   0.0       16\n",
       "7.0   0.0        4\n",
       "6.0   1.0        1\n",
       "dtype: int64"
      ]
     },
     "execution_count": 112,
     "metadata": {},
     "output_type": "execute_result"
    }
   ],
   "source": [
    "selection_data[['spot', 'home']].value_counts()"
   ]
  },
  {
   "cell_type": "code",
   "execution_count": 113,
   "id": "occupational-circus",
   "metadata": {},
   "outputs": [],
   "source": [
    "def adjust_plot(plt):\n",
    "    plt.xaxis.grid(False)\n",
    "    plt.yaxis.grid(True, linestyle='dashed', color='lightgrey')\n",
    "    plt.set_axisbelow(True)\n",
    "    plt.xaxis.set_ticks_position('none') \n",
    "    plt.yaxis.set_ticks_position('none') \n",
    "\n",
    "    plt.spines['right'].set_visible(False)\n",
    "    plt.spines['top'].set_visible(False)"
   ]
  },
  {
   "cell_type": "code",
   "execution_count": 114,
   "id": "irish-canyon",
   "metadata": {},
   "outputs": [
    {
     "name": "stdout",
     "output_type": "stream",
     "text": [
      "Win pick rate: 77.2%\n"
     ]
    }
   ],
   "source": [
    "Wins = selection_data.loc[selection_data['Win'] == True, 'Win'].count()\n",
    "Loses = selection_data.loc[selection_data['Win'] == False, 'Win'].count()\n",
    "WinRate = round( (Wins / (Wins + Loses)) *100, 1)\n",
    "print('Win pick rate: ' + str(WinRate) + '%')"
   ]
  },
  {
   "cell_type": "code",
   "execution_count": 115,
   "id": "regional-exercise",
   "metadata": {},
   "outputs": [
    {
     "name": "stdout",
     "output_type": "stream",
     "text": [
      "Win both picks rate: 60.0%\n"
     ]
    }
   ],
   "source": [
    "day_wins = selection_data.groupby('Date')['Win'].prod()\n",
    "print('Win both picks rate: ' + str(round(day_wins.mean()*100, 1)) + '%')"
   ]
  },
  {
   "cell_type": "code",
   "execution_count": 116,
   "id": "shared-chinese",
   "metadata": {},
   "outputs": [],
   "source": [
    "def streak_counter(df):\n",
    "    df['L_Win'] = df['Win'].shift(1)\n",
    "    df['L_year'] = df['year'].shift(1)\n",
    "    df['start_of_streak'] = (df['Win'] != df['L_Win']) | (df['year'] != df['L_year'])\n",
    "    df['streak_id'] = df['start_of_streak'].cumsum()\n",
    "    df['streak_counter'] = df.groupby('streak_id').cumcount() + 1\n",
    "    df.loc[df.Win == 0, 'streak_counter'] = 0\n",
    "    \n",
    "    return df"
   ]
  },
  {
   "cell_type": "code",
   "execution_count": 117,
   "id": "residential-revelation",
   "metadata": {},
   "outputs": [
    {
     "data": {
      "text/plain": [
       "34"
      ]
     },
     "execution_count": 117,
     "metadata": {},
     "output_type": "execute_result"
    }
   ],
   "source": [
    "selection_data = selection_data.astype({'Win':'int8'})\n",
    "selection_data = streak_counter(selection_data)\n",
    "streaks = selection_data.groupby('streak_id').agg({'streak_counter':'max'})\n",
    "streaks['streak_counter'].max()"
   ]
  },
  {
   "cell_type": "code",
   "execution_count": 118,
   "id": "educational-demand",
   "metadata": {
    "scrolled": true
   },
   "outputs": [
    {
     "data": {
      "text/html": [
       "<div>\n",
       "<style scoped>\n",
       "    .dataframe tbody tr th:only-of-type {\n",
       "        vertical-align: middle;\n",
       "    }\n",
       "\n",
       "    .dataframe tbody tr th {\n",
       "        vertical-align: top;\n",
       "    }\n",
       "\n",
       "    .dataframe thead th {\n",
       "        text-align: right;\n",
       "    }\n",
       "</style>\n",
       "<table border=\"1\" class=\"dataframe\">\n",
       "  <thead>\n",
       "    <tr style=\"text-align: right;\">\n",
       "      <th></th>\n",
       "      <th>Win</th>\n",
       "      <th>streak_counter</th>\n",
       "    </tr>\n",
       "    <tr>\n",
       "      <th>year</th>\n",
       "      <th></th>\n",
       "      <th></th>\n",
       "    </tr>\n",
       "  </thead>\n",
       "  <tbody>\n",
       "    <tr>\n",
       "      <th>2000.0</th>\n",
       "      <td>0.773743</td>\n",
       "      <td>16</td>\n",
       "    </tr>\n",
       "    <tr>\n",
       "      <th>2001.0</th>\n",
       "      <td>0.783333</td>\n",
       "      <td>17</td>\n",
       "    </tr>\n",
       "    <tr>\n",
       "      <th>2002.0</th>\n",
       "      <td>0.841667</td>\n",
       "      <td>29</td>\n",
       "    </tr>\n",
       "    <tr>\n",
       "      <th>2003.0</th>\n",
       "      <td>0.758333</td>\n",
       "      <td>20</td>\n",
       "    </tr>\n",
       "    <tr>\n",
       "      <th>2004.0</th>\n",
       "      <td>0.772222</td>\n",
       "      <td>27</td>\n",
       "    </tr>\n",
       "    <tr>\n",
       "      <th>2005.0</th>\n",
       "      <td>0.783333</td>\n",
       "      <td>17</td>\n",
       "    </tr>\n",
       "    <tr>\n",
       "      <th>2006.0</th>\n",
       "      <td>0.727778</td>\n",
       "      <td>18</td>\n",
       "    </tr>\n",
       "    <tr>\n",
       "      <th>2007.0</th>\n",
       "      <td>0.784530</td>\n",
       "      <td>22</td>\n",
       "    </tr>\n",
       "    <tr>\n",
       "      <th>2008.0</th>\n",
       "      <td>0.779006</td>\n",
       "      <td>15</td>\n",
       "    </tr>\n",
       "    <tr>\n",
       "      <th>2009.0</th>\n",
       "      <td>0.779006</td>\n",
       "      <td>34</td>\n",
       "    </tr>\n",
       "    <tr>\n",
       "      <th>2010.0</th>\n",
       "      <td>0.747222</td>\n",
       "      <td>15</td>\n",
       "    </tr>\n",
       "    <tr>\n",
       "      <th>2011.0</th>\n",
       "      <td>0.762570</td>\n",
       "      <td>17</td>\n",
       "    </tr>\n",
       "    <tr>\n",
       "      <th>2012.0</th>\n",
       "      <td>0.758427</td>\n",
       "      <td>20</td>\n",
       "    </tr>\n",
       "    <tr>\n",
       "      <th>2013.0</th>\n",
       "      <td>0.766667</td>\n",
       "      <td>18</td>\n",
       "    </tr>\n",
       "    <tr>\n",
       "      <th>2014.0</th>\n",
       "      <td>0.740223</td>\n",
       "      <td>14</td>\n",
       "    </tr>\n",
       "    <tr>\n",
       "      <th>2015.0</th>\n",
       "      <td>0.784916</td>\n",
       "      <td>15</td>\n",
       "    </tr>\n",
       "    <tr>\n",
       "      <th>2016.0</th>\n",
       "      <td>0.745810</td>\n",
       "      <td>18</td>\n",
       "    </tr>\n",
       "    <tr>\n",
       "      <th>2017.0</th>\n",
       "      <td>0.759777</td>\n",
       "      <td>15</td>\n",
       "    </tr>\n",
       "    <tr>\n",
       "      <th>2018.0</th>\n",
       "      <td>0.788043</td>\n",
       "      <td>23</td>\n",
       "    </tr>\n",
       "    <tr>\n",
       "      <th>2019.0</th>\n",
       "      <td>0.800546</td>\n",
       "      <td>17</td>\n",
       "    </tr>\n",
       "    <tr>\n",
       "      <th>2020.0</th>\n",
       "      <td>0.798507</td>\n",
       "      <td>25</td>\n",
       "    </tr>\n",
       "  </tbody>\n",
       "</table>\n",
       "</div>"
      ],
      "text/plain": [
       "             Win  streak_counter\n",
       "year                            \n",
       "2000.0  0.773743              16\n",
       "2001.0  0.783333              17\n",
       "2002.0  0.841667              29\n",
       "2003.0  0.758333              20\n",
       "2004.0  0.772222              27\n",
       "2005.0  0.783333              17\n",
       "2006.0  0.727778              18\n",
       "2007.0  0.784530              22\n",
       "2008.0  0.779006              15\n",
       "2009.0  0.779006              34\n",
       "2010.0  0.747222              15\n",
       "2011.0  0.762570              17\n",
       "2012.0  0.758427              20\n",
       "2013.0  0.766667              18\n",
       "2014.0  0.740223              14\n",
       "2015.0  0.784916              15\n",
       "2016.0  0.745810              18\n",
       "2017.0  0.759777              15\n",
       "2018.0  0.788043              23\n",
       "2019.0  0.800546              17\n",
       "2020.0  0.798507              25"
      ]
     },
     "execution_count": 118,
     "metadata": {},
     "output_type": "execute_result"
    }
   ],
   "source": [
    "year_results = selection_data.groupby('year').agg({'Win':'mean', 'streak_counter':'max'})\n",
    "year_results"
   ]
  },
  {
   "cell_type": "code",
   "execution_count": 119,
   "id": "decimal-cable",
   "metadata": {},
   "outputs": [
    {
     "data": {
      "text/plain": [
       "count    7338.000000\n",
       "mean        0.779335\n",
       "std         0.028354\n",
       "min         0.685196\n",
       "25%         0.759444\n",
       "50%         0.777896\n",
       "75%         0.796260\n",
       "max         0.941176\n",
       "Name: EstProb, dtype: float64"
      ]
     },
     "execution_count": 119,
     "metadata": {},
     "output_type": "execute_result"
    }
   ],
   "source": [
    "selection_data['EstProb'].describe()"
   ]
  },
  {
   "cell_type": "code",
   "execution_count": 120,
   "id": "popular-canada",
   "metadata": {},
   "outputs": [
    {
     "data": {
      "text/plain": [
       "<AxesSubplot:xlabel='EstProb', ylabel='Win'>"
      ]
     },
     "execution_count": 120,
     "metadata": {},
     "output_type": "execute_result"
    },
    {
     "data": {
      "image/png": "[encoded data removed]",
      "text/plain": [
       "<Figure size 432x288 with 1 Axes>"
      ]
     },
     "metadata": {
      "needs_background": "light"
     },
     "output_type": "display_data"
    }
   ],
   "source": [
    "selection_data['bin'] = pd.qcut(selection_data['EstProb'], 10, duplicates='drop')\n",
    "\n",
    "dots = selection_data.groupby(['bin'])[['EstProb', 'Win']].agg('mean')\n",
    "dots = dots.reset_index()\n",
    "dots.plot.scatter('EstProb','Win')"
   ]
  },
  {
   "cell_type": "code",
   "execution_count": 121,
   "id": "involved-concentrate",
   "metadata": {},
   "outputs": [
    {
     "data": {
      "text/plain": [
       "EstProb    0.779335\n",
       "Win        0.772418\n",
       "dtype: float64"
      ]
     },
     "execution_count": 121,
     "metadata": {},
     "output_type": "execute_result"
    }
   ],
   "source": [
    "selection_data[['EstProb', 'Win']].mean()"
   ]
  },
  {
   "cell_type": "code",
   "execution_count": 122,
   "id": "integrated-victoria",
   "metadata": {},
   "outputs": [],
   "source": [
    "# Relief pitchers data\n",
    "\n",
    "# Reduce noise by using rolling windows to calculate moving averages over seasons for park records, batting records, and pitching records.\n",
    "# Improve to weighted averages\n",
    "\n",
    "# Start including data from current season\n",
    "\n",
    "# Relief pitchers data\n",
    "\n",
    "# Game Scores/ELOs\n",
    "\n",
    "# Team ratings\n",
    "\n",
    "# Better Pitcher overall ratings\n",
    "\n",
    "# Merge in 538 ELO ratings\n",
    "\n",
    "\n",
    "# Set up S3 if necessary for size, or for GPUs\n",
    "\n",
    "# Check # training observations for each model fit \n",
    "# and make sure we aren't losing any\n",
    "\n",
    "# Ensemble methods for NN and logistic\n",
    "\n",
    "# Rest days\n",
    "\n",
    "# Adjust Pitcher and Batter stats for park record ( merge it in and divide) - compare adjusted at home and away stats\n",
    "\n",
    "# New pitcher flag?\n",
    "\n",
    "# Find out where they are in the rotation\n",
    "\n",
    "# Fix training so that it doesn't need to specify number of variables\n",
    "\n",
    "# Split up grid search vs. non-grid search training\n",
    "\n",
    "# optimal skip strategy\n",
    "\n",
    "# Why is Win missing? Check merge loss\n",
    "\n",
    "# Time-series CV\n",
    "\n",
    "# Come up with potential guesses remaining counter (get schedule?)\n",
    "\n",
    "# Clean up program to select paramaters from sgd and feed them into NN\n",
    "\n",
    "# add random state var to imputer and anything else random for repeatability\n",
    "\n",
    "# Predict closer from roster and then use their rgs to construct estimated closing rgs (or just rgs for closing team)\n",
    "\n",
    "# why is g d boost AUC ROC so low? check on test set\n",
    "\n",
    "# predicting game length\n",
    "\n",
    "# Calculate streaks by aggregating predictions by day and not counting if any pick loses.\n",
    "\n",
    "# add league dummy to model"
   ]
  },
  {
   "cell_type": "code",
   "execution_count": 123,
   "id": "unexpected-ending",
   "metadata": {},
   "outputs": [],
   "source": [
    "restricted = selection_data.loc[\n",
    "#     (selection_data['EstProb'] >= .74) &\n",
    "#     (selection_data['park_factor'] >= 1) &\n",
    "    (selection_data['spot'] <= 4),\n",
    "    ['Win', 'year']\n",
    "]"
   ]
  },
  {
   "cell_type": "code",
   "execution_count": 124,
   "id": "transsexual-harvey",
   "metadata": {},
   "outputs": [
    {
     "data": {
      "text/plain": [
       "34"
      ]
     },
     "execution_count": 124,
     "metadata": {},
     "output_type": "execute_result"
    }
   ],
   "source": [
    "restricted= restricted.astype({'Win':'int8'})\n",
    "restricted = streak_counter(restricted)\n",
    "streaks = restricted.groupby('streak_id').agg({'streak_counter':'max'})\n",
    "streaks['streak_counter'].max()"
   ]
  },
  {
   "cell_type": "code",
   "execution_count": 125,
   "id": "excited-sierra",
   "metadata": {},
   "outputs": [
    {
     "name": "stdout",
     "output_type": "stream",
     "text": [
      "77.2%\n"
     ]
    }
   ],
   "source": [
    "Wins = restricted.loc[\n",
    "    (restricted['Win'] == True),\n",
    "    'Win'].count()\n",
    "Loses = restricted.loc[\n",
    "    (restricted['Win'] == False),\n",
    "    'Win'].count()\n",
    "WinRate = round( (Wins / (Wins + Loses)) *100, 1)\n",
    "print(str(WinRate) + '%')"
   ]
  },
  {
   "cell_type": "code",
   "execution_count": 126,
   "id": "senior-cinema",
   "metadata": {
    "scrolled": true
   },
   "outputs": [
    {
     "data": {
      "text/html": [
       "<div>\n",
       "<style scoped>\n",
       "    .dataframe tbody tr th:only-of-type {\n",
       "        vertical-align: middle;\n",
       "    }\n",
       "\n",
       "    .dataframe tbody tr th {\n",
       "        vertical-align: top;\n",
       "    }\n",
       "\n",
       "    .dataframe thead th {\n",
       "        text-align: right;\n",
       "    }\n",
       "</style>\n",
       "<table border=\"1\" class=\"dataframe\">\n",
       "  <thead>\n",
       "    <tr style=\"text-align: right;\">\n",
       "      <th></th>\n",
       "      <th>Win</th>\n",
       "      <th>streak_counter</th>\n",
       "    </tr>\n",
       "    <tr>\n",
       "      <th>year</th>\n",
       "      <th></th>\n",
       "      <th></th>\n",
       "    </tr>\n",
       "  </thead>\n",
       "  <tbody>\n",
       "    <tr>\n",
       "      <th>2000.0</th>\n",
       "      <td>0.769231</td>\n",
       "      <td>16</td>\n",
       "    </tr>\n",
       "    <tr>\n",
       "      <th>2001.0</th>\n",
       "      <td>0.781609</td>\n",
       "      <td>17</td>\n",
       "    </tr>\n",
       "    <tr>\n",
       "      <th>2002.0</th>\n",
       "      <td>0.842254</td>\n",
       "      <td>29</td>\n",
       "    </tr>\n",
       "    <tr>\n",
       "      <th>2003.0</th>\n",
       "      <td>0.759887</td>\n",
       "      <td>20</td>\n",
       "    </tr>\n",
       "    <tr>\n",
       "      <th>2004.0</th>\n",
       "      <td>0.780627</td>\n",
       "      <td>25</td>\n",
       "    </tr>\n",
       "    <tr>\n",
       "      <th>2005.0</th>\n",
       "      <td>0.780899</td>\n",
       "      <td>17</td>\n",
       "    </tr>\n",
       "    <tr>\n",
       "      <th>2006.0</th>\n",
       "      <td>0.726257</td>\n",
       "      <td>18</td>\n",
       "    </tr>\n",
       "    <tr>\n",
       "      <th>2007.0</th>\n",
       "      <td>0.785915</td>\n",
       "      <td>22</td>\n",
       "    </tr>\n",
       "    <tr>\n",
       "      <th>2008.0</th>\n",
       "      <td>0.774929</td>\n",
       "      <td>16</td>\n",
       "    </tr>\n",
       "    <tr>\n",
       "      <th>2009.0</th>\n",
       "      <td>0.782123</td>\n",
       "      <td>34</td>\n",
       "    </tr>\n",
       "    <tr>\n",
       "      <th>2010.0</th>\n",
       "      <td>0.745763</td>\n",
       "      <td>17</td>\n",
       "    </tr>\n",
       "    <tr>\n",
       "      <th>2011.0</th>\n",
       "      <td>0.761236</td>\n",
       "      <td>17</td>\n",
       "    </tr>\n",
       "    <tr>\n",
       "      <th>2012.0</th>\n",
       "      <td>0.759312</td>\n",
       "      <td>20</td>\n",
       "    </tr>\n",
       "    <tr>\n",
       "      <th>2013.0</th>\n",
       "      <td>0.771186</td>\n",
       "      <td>18</td>\n",
       "    </tr>\n",
       "    <tr>\n",
       "      <th>2014.0</th>\n",
       "      <td>0.737288</td>\n",
       "      <td>14</td>\n",
       "    </tr>\n",
       "    <tr>\n",
       "      <th>2015.0</th>\n",
       "      <td>0.789326</td>\n",
       "      <td>15</td>\n",
       "    </tr>\n",
       "    <tr>\n",
       "      <th>2016.0</th>\n",
       "      <td>0.747191</td>\n",
       "      <td>18</td>\n",
       "    </tr>\n",
       "    <tr>\n",
       "      <th>2017.0</th>\n",
       "      <td>0.759104</td>\n",
       "      <td>15</td>\n",
       "    </tr>\n",
       "    <tr>\n",
       "      <th>2018.0</th>\n",
       "      <td>0.788043</td>\n",
       "      <td>23</td>\n",
       "    </tr>\n",
       "    <tr>\n",
       "      <th>2019.0</th>\n",
       "      <td>0.796610</td>\n",
       "      <td>17</td>\n",
       "    </tr>\n",
       "    <tr>\n",
       "      <th>2020.0</th>\n",
       "      <td>0.798507</td>\n",
       "      <td>25</td>\n",
       "    </tr>\n",
       "  </tbody>\n",
       "</table>\n",
       "</div>"
      ],
      "text/plain": [
       "             Win  streak_counter\n",
       "year                            \n",
       "2000.0  0.769231              16\n",
       "2001.0  0.781609              17\n",
       "2002.0  0.842254              29\n",
       "2003.0  0.759887              20\n",
       "2004.0  0.780627              25\n",
       "2005.0  0.780899              17\n",
       "2006.0  0.726257              18\n",
       "2007.0  0.785915              22\n",
       "2008.0  0.774929              16\n",
       "2009.0  0.782123              34\n",
       "2010.0  0.745763              17\n",
       "2011.0  0.761236              17\n",
       "2012.0  0.759312              20\n",
       "2013.0  0.771186              18\n",
       "2014.0  0.737288              14\n",
       "2015.0  0.789326              15\n",
       "2016.0  0.747191              18\n",
       "2017.0  0.759104              15\n",
       "2018.0  0.788043              23\n",
       "2019.0  0.796610              17\n",
       "2020.0  0.798507              25"
      ]
     },
     "execution_count": 126,
     "metadata": {},
     "output_type": "execute_result"
    }
   ],
   "source": [
    "year_results = restricted.groupby('year').agg({'Win':'mean', 'streak_counter':'max'})\n",
    "year_results"
   ]
  },
  {
   "cell_type": "code",
   "execution_count": 127,
   "id": "higher-frederick",
   "metadata": {},
   "outputs": [
    {
     "data": {
      "text/plain": [
       "413"
      ]
     },
     "execution_count": 127,
     "metadata": {},
     "output_type": "execute_result"
    }
   ],
   "source": [
    "year_results['streak_counter'].sum()"
   ]
  },
  {
   "cell_type": "code",
   "execution_count": 128,
   "id": "rotary-algebra",
   "metadata": {},
   "outputs": [],
   "source": [
    "selection_data = selection_data.sort_values(['year', 'Date'])"
   ]
  },
  {
   "cell_type": "code",
   "execution_count": 76,
   "id": "crucial-macro",
   "metadata": {},
   "outputs": [],
   "source": [
    "selection_data['pick_day'] = selection_data.groupby(['year']).cumcount() + 1\n",
    "selection_data['pick_day'] = np.ceil(selection_data['pick_day'] / 2)"
   ]
  },
  {
   "cell_type": "code",
   "execution_count": 77,
   "id": "disabled-investigator",
   "metadata": {
    "scrolled": true
   },
   "outputs": [
    {
     "data": {
      "text/html": [
       "<div>\n",
       "<style scoped>\n",
       "    .dataframe tbody tr th:only-of-type {\n",
       "        vertical-align: middle;\n",
       "    }\n",
       "\n",
       "    .dataframe tbody tr th {\n",
       "        vertical-align: top;\n",
       "    }\n",
       "\n",
       "    .dataframe thead th {\n",
       "        text-align: right;\n",
       "    }\n",
       "</style>\n",
       "<table border=\"1\" class=\"dataframe\">\n",
       "  <thead>\n",
       "    <tr style=\"text-align: right;\">\n",
       "      <th></th>\n",
       "      <th>Win</th>\n",
       "      <th>streak_counter</th>\n",
       "    </tr>\n",
       "    <tr>\n",
       "      <th>year</th>\n",
       "      <th></th>\n",
       "      <th></th>\n",
       "    </tr>\n",
       "  </thead>\n",
       "  <tbody>\n",
       "    <tr>\n",
       "      <th>2002.0</th>\n",
       "      <td>0.842254</td>\n",
       "      <td>29</td>\n",
       "    </tr>\n",
       "    <tr>\n",
       "      <th>2020.0</th>\n",
       "      <td>0.798507</td>\n",
       "      <td>25</td>\n",
       "    </tr>\n",
       "    <tr>\n",
       "      <th>2019.0</th>\n",
       "      <td>0.796610</td>\n",
       "      <td>17</td>\n",
       "    </tr>\n",
       "    <tr>\n",
       "      <th>2015.0</th>\n",
       "      <td>0.789326</td>\n",
       "      <td>15</td>\n",
       "    </tr>\n",
       "    <tr>\n",
       "      <th>2018.0</th>\n",
       "      <td>0.788043</td>\n",
       "      <td>23</td>\n",
       "    </tr>\n",
       "    <tr>\n",
       "      <th>2007.0</th>\n",
       "      <td>0.785915</td>\n",
       "      <td>22</td>\n",
       "    </tr>\n",
       "    <tr>\n",
       "      <th>2009.0</th>\n",
       "      <td>0.782123</td>\n",
       "      <td>34</td>\n",
       "    </tr>\n",
       "    <tr>\n",
       "      <th>2001.0</th>\n",
       "      <td>0.781609</td>\n",
       "      <td>17</td>\n",
       "    </tr>\n",
       "    <tr>\n",
       "      <th>2005.0</th>\n",
       "      <td>0.780899</td>\n",
       "      <td>17</td>\n",
       "    </tr>\n",
       "    <tr>\n",
       "      <th>2004.0</th>\n",
       "      <td>0.780627</td>\n",
       "      <td>25</td>\n",
       "    </tr>\n",
       "    <tr>\n",
       "      <th>2008.0</th>\n",
       "      <td>0.774929</td>\n",
       "      <td>16</td>\n",
       "    </tr>\n",
       "    <tr>\n",
       "      <th>2013.0</th>\n",
       "      <td>0.771186</td>\n",
       "      <td>18</td>\n",
       "    </tr>\n",
       "    <tr>\n",
       "      <th>2000.0</th>\n",
       "      <td>0.769231</td>\n",
       "      <td>16</td>\n",
       "    </tr>\n",
       "    <tr>\n",
       "      <th>2011.0</th>\n",
       "      <td>0.761236</td>\n",
       "      <td>17</td>\n",
       "    </tr>\n",
       "    <tr>\n",
       "      <th>2003.0</th>\n",
       "      <td>0.759887</td>\n",
       "      <td>20</td>\n",
       "    </tr>\n",
       "    <tr>\n",
       "      <th>2012.0</th>\n",
       "      <td>0.759312</td>\n",
       "      <td>20</td>\n",
       "    </tr>\n",
       "    <tr>\n",
       "      <th>2017.0</th>\n",
       "      <td>0.759104</td>\n",
       "      <td>15</td>\n",
       "    </tr>\n",
       "    <tr>\n",
       "      <th>2016.0</th>\n",
       "      <td>0.747191</td>\n",
       "      <td>18</td>\n",
       "    </tr>\n",
       "    <tr>\n",
       "      <th>2010.0</th>\n",
       "      <td>0.745763</td>\n",
       "      <td>17</td>\n",
       "    </tr>\n",
       "    <tr>\n",
       "      <th>2014.0</th>\n",
       "      <td>0.737288</td>\n",
       "      <td>14</td>\n",
       "    </tr>\n",
       "    <tr>\n",
       "      <th>2006.0</th>\n",
       "      <td>0.726257</td>\n",
       "      <td>18</td>\n",
       "    </tr>\n",
       "  </tbody>\n",
       "</table>\n",
       "</div>"
      ],
      "text/plain": [
       "             Win  streak_counter\n",
       "year                            \n",
       "2002.0  0.842254              29\n",
       "2020.0  0.798507              25\n",
       "2019.0  0.796610              17\n",
       "2015.0  0.789326              15\n",
       "2018.0  0.788043              23\n",
       "2007.0  0.785915              22\n",
       "2009.0  0.782123              34\n",
       "2001.0  0.781609              17\n",
       "2005.0  0.780899              17\n",
       "2004.0  0.780627              25\n",
       "2008.0  0.774929              16\n",
       "2013.0  0.771186              18\n",
       "2000.0  0.769231              16\n",
       "2011.0  0.761236              17\n",
       "2003.0  0.759887              20\n",
       "2012.0  0.759312              20\n",
       "2017.0  0.759104              15\n",
       "2016.0  0.747191              18\n",
       "2010.0  0.745763              17\n",
       "2014.0  0.737288              14\n",
       "2006.0  0.726257              18"
      ]
     },
     "execution_count": 77,
     "metadata": {},
     "output_type": "execute_result"
    }
   ],
   "source": [
    "year_results.sort_values(['Win'], ascending=[False])"
   ]
  },
  {
   "cell_type": "code",
   "execution_count": null,
   "id": "flush-dealing",
   "metadata": {},
   "outputs": [],
   "source": []
  },
  {
   "cell_type": "code",
   "execution_count": null,
   "id": "infectious-nudist",
   "metadata": {},
   "outputs": [],
   "source": []
  },
  {
   "cell_type": "code",
   "execution_count": null,
   "id": "integral-worst",
   "metadata": {},
   "outputs": [],
   "source": []
  }
 ],
 "metadata": {
  "kernelspec": {
   "display_name": "bts",
   "language": "python",
   "name": "bts"
  },
  "language_info": {
   "codemirror_mode": {
    "name": "ipython",
    "version": 3
   },
   "file_extension": ".py",
   "mimetype": "text/x-python",
   "name": "python",
   "nbconvert_exporter": "python",
   "pygments_lexer": "ipython3",
   "version": "3.7.10"
  }
 },
 "nbformat": 4,
 "nbformat_minor": 5
}
