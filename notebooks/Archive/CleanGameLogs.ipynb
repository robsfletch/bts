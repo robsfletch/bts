{
 "cells": [
  {
   "cell_type": "code",
   "execution_count": 1,
   "id": "angry-monitor",
   "metadata": {},
   "outputs": [],
   "source": [
    "import pandas as pd\n",
    "import os\n",
    "import glob\n",
    "from pathlib import Path"
   ]
  },
  {
   "cell_type": "code",
   "execution_count": 2,
   "id": "spare-princeton",
   "metadata": {},
   "outputs": [],
   "source": [
    "cwd = os.getcwd()\n",
    "project_dir = Path(cwd).resolve().parents[0]\n",
    "raw_data_dir = os.path.join(project_dir, 'data/raw/')\n",
    "interim_data_dir = os.path.join(project_dir, 'data/interim/')\n",
    "game_logs = os.path.join(raw_data_dir, 'gl1871_2020/')\n",
    "all_files = glob.glob(game_logs + \"/GL201*.TXT\")"
   ]
  },
  {
   "cell_type": "code",
   "execution_count": 3,
   "id": "continued-arbitration",
   "metadata": {},
   "outputs": [],
   "source": [
    "header_file = os.path.join(raw_data_dir, 'game_log_header.csv')"
   ]
  },
  {
   "cell_type": "code",
   "execution_count": 4,
   "id": "automated-variation",
   "metadata": {},
   "outputs": [],
   "source": [
    "fields = pd.read_csv(header_file)"
   ]
  },
  {
   "cell_type": "code",
   "execution_count": 5,
   "id": "invalid-register",
   "metadata": {},
   "outputs": [],
   "source": [
    "li = []\n",
    "\n",
    "for filename in all_files:\n",
    "    df = pd.read_csv(filename, header=None, names=fields.columns)\n",
    "    li.append(df)\n",
    "    \n",
    "df = pd.concat(li, axis=0, ignore_index=True)"
   ]
  },
  {
   "cell_type": "code",
   "execution_count": 6,
   "id": "periodic-fields",
   "metadata": {},
   "outputs": [],
   "source": [
    "df['id'] = df['HomeTeam'] + df['Date'].map(str) + df['DoubleHeader'].map(str)"
   ]
  },
  {
   "cell_type": "code",
   "execution_count": 7,
   "id": "rational-union",
   "metadata": {},
   "outputs": [],
   "source": [
    "clean_game_log = os.path.join(interim_data_dir, 'game_log.pkl')"
   ]
  },
  {
   "cell_type": "code",
   "execution_count": 8,
   "id": "amino-supplier",
   "metadata": {},
   "outputs": [],
   "source": [
    "df.to_pickle(clean_game_log)"
   ]
  }
 ],
 "metadata": {
  "kernelspec": {
   "display_name": "venv",
   "language": "python",
   "name": "venv"
  },
  "language_info": {
   "codemirror_mode": {
    "name": "ipython",
    "version": 3
   },
   "file_extension": ".py",
   "mimetype": "text/x-python",
   "name": "python",
   "nbconvert_exporter": "python",
   "pygments_lexer": "ipython3",
   "version": "3.9.1"
  }
 },
 "nbformat": 4,
 "nbformat_minor": 5
}
