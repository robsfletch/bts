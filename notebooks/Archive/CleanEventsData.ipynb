{
 "cells": [
  {
   "cell_type": "code",
   "execution_count": 2,
   "id": "supreme-findings",
   "metadata": {},
   "outputs": [],
   "source": [
    "import pandas as pd\n",
    "import os\n",
    "import glob\n",
    "from pathlib import Path"
   ]
  },
  {
   "cell_type": "code",
   "execution_count": 5,
   "id": "lined-indie",
   "metadata": {},
   "outputs": [],
   "source": [
    "cwd = os.getcwd()\n",
    "project_dir = Path(cwd).resolve().parents[1]\n",
    "raw_data_dir = os.path.join(project_dir, 'data/raw/')\n",
    "interim_data_dir = os.path.join(project_dir, 'data/interim/')"
   ]
  },
  {
   "cell_type": "code",
   "execution_count": 6,
   "id": "casual-marble",
   "metadata": {},
   "outputs": [],
   "source": [
    "header_file = os.path.join(raw_data_dir, 'fields.csv')\n",
    "all_files = glob.glob(raw_data_dir + \"/Event201*.txt\")\n",
    "\n",
    "fields = pd.read_csv(header_file)\n",
    "\n",
    "header = fields['Header'].to_numpy()\n",
    "\n",
    "li = []"
   ]
  },
  {
   "cell_type": "code",
   "execution_count": 12,
   "id": "negative-disabled",
   "metadata": {},
   "outputs": [
    {
     "data": {
      "text/plain": [
       "'2018'"
      ]
     },
     "execution_count": 12,
     "metadata": {},
     "output_type": "execute_result"
    }
   ],
   "source": [
    "all_files[0][-8:-4]"
   ]
  },
  {
   "cell_type": "code",
   "execution_count": 3,
   "id": "permanent-inside",
   "metadata": {},
   "outputs": [],
   "source": [
    "for filename in all_files:\n",
    "    df = pd.read_csv(filename, header=None, names=header)\n",
    "    li.append(df)\n",
    "    \n",
    "df = pd.concat(li, axis=0, ignore_index=True)\n",
    "\n",
    "hits = df.groupby(['GAME_ID', 'BAT_ID']).agg({'H_FL': 'max', 'BAT_LINEUP_ID': 'first'})\n",
    "hits['Win'] = hits['H_FL'] > 0\n",
    "\n",
    "clean_events = os.path.join(interim_data_dir, 'events.pkl')\n",
    "\n",
    "df.to_pickle(clean_events)\n",
    "\n",
    "clean_hits = os.path.join(interim_data_dir, 'hits.pkl')"
   ]
  },
  {
   "cell_type": "code",
   "execution_count": 10,
   "id": "universal-liverpool",
   "metadata": {},
   "outputs": [],
   "source": [
    "hits.to_pickle(clean_hits)"
   ]
  },
  {
   "cell_type": "code",
   "execution_count": null,
   "id": "brazilian-company",
   "metadata": {},
   "outputs": [],
   "source": []
  }
 ],
 "metadata": {
  "kernelspec": {
   "display_name": "Python 3",
   "language": "python",
   "name": "python3"
  },
  "language_info": {
   "codemirror_mode": {
    "name": "ipython",
    "version": 3
   },
   "file_extension": ".py",
   "mimetype": "text/x-python",
   "name": "python",
   "nbconvert_exporter": "python",
   "pygments_lexer": "ipython3",
   "version": "3.9.1"
  }
 },
 "nbformat": 4,
 "nbformat_minor": 5
}
