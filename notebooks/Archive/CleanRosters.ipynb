{
 "cells": [
  {
   "cell_type": "code",
   "execution_count": 1,
   "id": "incomplete-microwave",
   "metadata": {},
   "outputs": [],
   "source": [
    "import pandas as pd\n",
    "import os\n",
    "import glob\n",
    "from pathlib import Path\n",
    "\n",
    "cwd = os.getcwd()\n",
    "project_dir = Path(cwd).resolve().parents[0]\n",
    "raw_data_dir = os.path.join(project_dir, 'data/raw/')\n",
    "interim_data_dir = os.path.join(project_dir, 'data/interim/')"
   ]
  },
  {
   "cell_type": "code",
   "execution_count": 2,
   "id": "stupid-knitting",
   "metadata": {},
   "outputs": [],
   "source": [
    "all_files = glob.glob(raw_data_dir + \"/2010seve/*.ROS\")\n",
    "\n",
    "li = []\n",
    "\n",
    "for filename in all_files:\n",
    "    year = filename[-8:-4]\n",
    "    df = pd.read_csv(filename, header=None)\n",
    "    df['year'] = year\n",
    "    li.append(df)\n",
    "    \n",
    "rosters = pd.concat(li, axis=0, ignore_index=True)\n",
    "\n",
    "rosters.columns = ['PLAYER_ID', 'LastName', 'FirstName', 'Hand', 'Hand2', 'TEAM', 'Pos', 'Year']\n",
    "\n",
    "rosters['LastName'] = rosters['LastName'].str.replace('.', '', regex=False)\n",
    "rosters['FirstName'] = rosters['FirstName'].str.replace('.', '', regex=False)\n",
    "\n",
    "clean_rosters = os.path.join(interim_data_dir, 'rosters.pkl')\n",
    "rosters.to_pickle(clean_rosters)"
   ]
  },
  {
   "cell_type": "code",
   "execution_count": null,
   "id": "curious-default",
   "metadata": {},
   "outputs": [],
   "source": []
  }
 ],
 "metadata": {
  "kernelspec": {
   "display_name": "venv",
   "language": "python",
   "name": "venv"
  },
  "language_info": {
   "codemirror_mode": {
    "name": "ipython",
    "version": 3
   },
   "file_extension": ".py",
   "mimetype": "text/x-python",
   "name": "python",
   "nbconvert_exporter": "python",
   "pygments_lexer": "ipython3",
   "version": "3.9.1"
  }
 },
 "nbformat": 4,
 "nbformat_minor": 5
}
