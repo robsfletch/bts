{
 "cells": [
  {
   "cell_type": "code",
   "execution_count": null,
   "id": "patent-assets",
   "metadata": {},
   "outputs": [],
   "source": [
    "import pandas as pd\n",
    "import numpy as np\n",
    "from pathlib import Path\n",
    "import click\n",
    "import logging\n",
    "import statsmodels.formula.api as sm\n",
    "import patsy"
   ]
  },
  {
   "cell_type": "code",
   "execution_count": null,
   "id": "improving-compression",
   "metadata": {},
   "outputs": [],
   "source": [
    "interim = Path('../../data/interim')\n",
    "events = pd.read_pickle(Path(interim) / 'events.pkl')"
   ]
  },
  {
   "cell_type": "code",
   "execution_count": null,
   "id": "commercial-nigeria",
   "metadata": {},
   "outputs": [],
   "source": [
    "events.HOME_TEAM_ID"
   ]
  },
  {
   "cell_type": "code",
   "execution_count": null,
   "id": "textile-exercise",
   "metadata": {},
   "outputs": [],
   "source": [
    "print(events.dtypes.to_string())"
   ]
  },
  {
   "cell_type": "code",
   "execution_count": null,
   "id": "smaller-mailing",
   "metadata": {},
   "outputs": [],
   "source": [
    "base = events.groupby([\n",
    "    'GAME_ID', 'HOME_TEAM_ID', 'AWAY_TEAM_ID', 'BAT_HAND_CD', 'year'\n",
    "])[['H', 'EVENT_OUTS_CT']].sum()"
   ]
  },
  {
   "cell_type": "code",
   "execution_count": null,
   "id": "essential-samoa",
   "metadata": {},
   "outputs": [],
   "source": [
    "base_with_park = pd.merge(base.reset_index(), game_logs[['GAME_ID', 'ParkID']], on=['GAME_ID'], how='left')"
   ]
  },
  {
   "cell_type": "code",
   "execution_count": null,
   "id": "green-panama",
   "metadata": {},
   "outputs": [],
   "source": [
    "base_with_park"
   ]
  },
  {
   "cell_type": "code",
   "execution_count": null,
   "id": "inside-portable",
   "metadata": {},
   "outputs": [],
   "source": [
    "Home = base_with_park.groupby(['HOME_TEAM_ID', 'year', 'ParkID', 'BAT_HAND_CD']).agg({\n",
    "    'H': 'sum',\n",
    "    'EVENT_OUTS_CT': 'sum',\n",
    "    'GAME_ID': 'nunique', \n",
    "})\n",
    "\n",
    "Home = Home.reset_index()\n",
    "Home.rename(columns={'EVENT_OUTS_CT': 'outs', 'HOME_TEAM_ID': 'TEAM_ID', 'GAME_ID': 'home_G'}, inplace=True)\n",
    "Home = Home.set_index(['TEAM_ID', 'year', 'BAT_HAND_CD'])\n",
    "\n",
    "Home['home_HPO'] = Home['H'] / Home['outs']"
   ]
  },
  {
   "cell_type": "code",
   "execution_count": null,
   "id": "isolated-blank",
   "metadata": {},
   "outputs": [],
   "source": [
    "Road = base_with_park.groupby(['AWAY_TEAM_ID', 'year', 'BAT_HAND_CD']).agg({\n",
    "    'H': 'sum',\n",
    "    'EVENT_OUTS_CT': 'sum',\n",
    "})\n",
    "\n",
    "Road = Road.reset_index()\n",
    "Road.rename(columns={'EVENT_OUTS_CT': 'outs', 'AWAY_TEAM_ID': 'TEAM_ID'}, inplace=True)\n",
    "Road = Road.set_index(['TEAM_ID', 'year', 'BAT_HAND_CD'])\n",
    "\n",
    "Road['road_HPO'] = Road['H'] / Road['outs']"
   ]
  },
  {
   "cell_type": "code",
   "execution_count": null,
   "id": "parental-quantum",
   "metadata": {},
   "outputs": [],
   "source": [
    "compare = pd.merge(Home[['ParkID', 'home_G', 'home_HPO']], Road[['road_HPO']], on=['TEAM_ID', 'year', 'BAT_HAND_CD'])"
   ]
  },
  {
   "cell_type": "code",
   "execution_count": null,
   "id": "annoying-compensation",
   "metadata": {},
   "outputs": [],
   "source": [
    "compare['factor'] = compare['home_HPO'] / compare['road_HPO']"
   ]
  },
  {
   "cell_type": "code",
   "execution_count": null,
   "id": "spare-tomato",
   "metadata": {},
   "outputs": [],
   "source": [
    "compare.groupby(['ParkID', 'year', 'BAT_HAND_CD']).size()"
   ]
  },
  {
   "cell_type": "code",
   "execution_count": null,
   "id": "approximate-shadow",
   "metadata": {},
   "outputs": [],
   "source": [
    "compare[compare['home_G'] > 28]"
   ]
  },
  {
   "cell_type": "code",
   "execution_count": null,
   "id": "judicial-choir",
   "metadata": {},
   "outputs": [],
   "source": [
    "compare[compare['home_G'] > 30].sort_values('factor').tail(50)"
   ]
  },
  {
   "cell_type": "code",
   "execution_count": null,
   "id": "opposite-cache",
   "metadata": {},
   "outputs": [],
   "source": [
    "park_factors['factor_h_year'] = park_factors['home_h_factor'] / park_factors['road_h_factor']\n",
    "park_factors['factor_pa_year'] = park_factors['home_pa_factor'] / park_factors['road_pa_factor']\n",
    "park_factors['factor_hppa_year'] = park_factors['factor_h_year'] / park_factors['factor_pa_year']\n",
    "park_factors = park_factors.reset_index().set_index(['ParkID', 'year'])\n",
    "park_factors = park_factors.sort_values(['ParkID', 'year'])\n",
    "\n",
    "park_factors['h_factor'] = park_factors.groupby('ParkID')[['factor_h_year']].transform(lambda x: x.rolling(10, 1).mean())\n",
    "park_factors['pa_factor'] = park_factors.groupby('ParkID')[['factor_pa_year']].transform(lambda x: x.rolling(10, 1).mean())\n",
    "park_factors['hppa_factor'] = park_factors.groupby('ParkID')[['factor_hppa_year']].transform(lambda x: x.rolling(10, 1).mean())\n",
    "\n",
    "park_factors['h_factor'] = park_factors['h_factor'].clip(.8, 1.25)\n",
    "\n",
    "idx = park_factors.groupby(['ParkID', 'year'])['home_g'].transform(max) == park_factors['home_g']\n",
    "park_factors = park_factors.loc[idx]\n",
    "park_factors = park_factors.loc[park_factors.home_g >= 20]\n",
    "\n",
    "return park_factors"
   ]
  }
 ],
 "metadata": {
  "kernelspec": {
   "display_name": "bts",
   "language": "python",
   "name": "bts"
  },
  "language_info": {
   "codemirror_mode": {
    "name": "ipython",
    "version": 3
   },
   "file_extension": ".py",
   "mimetype": "text/x-python",
   "name": "python",
   "nbconvert_exporter": "python",
   "pygments_lexer": "ipython3"
  }
 },
 "nbformat": 4,
 "nbformat_minor": 5
}
