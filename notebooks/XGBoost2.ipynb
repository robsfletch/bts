{
 "cells": [
  {
   "cell_type": "code",
   "execution_count": 1,
   "id": "bridal-blackberry",
   "metadata": {},
   "outputs": [],
   "source": [
    "import pandas as pd\n",
    "from pathlib import Path\n",
    "import matplotlib.pyplot as plt\n",
    "import numpy as np\n",
    "\n",
    "from sklearn.experimental import enable_hist_gradient_boosting\n",
    "from sklearn.ensemble import (\n",
    "    HistGradientBoostingClassifier,\n",
    "    GradientBoostingClassifier\n",
    ")\n",
    "\n",
    "from sklearn.linear_model import (SGDClassifier)\n",
    "\n",
    "from sklearn.model_selection import cross_val_score, TimeSeriesSplit\n",
    "\n",
    "from xgboost import XGBClassifier\n",
    "\n",
    "from sklearn.model_selection import RepeatedStratifiedKFold, StratifiedKFold\n",
    "from sklearn.ensemble import RandomForestClassifier\n",
    "from sklearn.compose import ColumnTransformer\n",
    "from sklearn.preprocessing import PolynomialFeatures\n",
    "\n",
    "from sklearn.pipeline import make_pipeline, Pipeline\n",
    "from sklearn.feature_selection import SelectFromModel\n",
    "from sklearn.preprocessing import StandardScaler\n",
    "\n",
    "from sklearn.metrics import roc_auc_score, roc_curve\n",
    "import matplotlib.pyplot as plt\n",
    "\n",
    "from sklearn.model_selection import GridSearchCV\n",
    "from sklearn.experimental import enable_halving_search_cv\n",
    "from sklearn.model_selection import HalvingGridSearchCV"
   ]
  },
  {
   "cell_type": "code",
   "execution_count": 2,
   "id": "overall-canal",
   "metadata": {},
   "outputs": [],
   "source": [
    "processed = '../data/processed'\n",
    "main_data = pd.read_pickle(Path(processed) / 'main_data.pkl')"
   ]
  },
  {
   "cell_type": "code",
   "execution_count": 3,
   "id": "abroad-affect",
   "metadata": {},
   "outputs": [],
   "source": [
    "main_data = main_data[(main_data.b_prev_G > 50)]\n",
    "\n",
    "x_vars = [\n",
    "    'spot', 'home', 'b_pred_HPPA', 'p_pred_HPAB', 'park_factor', 'year',\n",
    "    'BAT_HAND', 'PIT_HAND', 'b_avg_win', 'own_p_pred_HPAB',\n",
    "    'p_team_HPG', 'p_team_avg_game_score', 'rating_rating_pre',\n",
    "    'rating_rating_prob', 'rating_pitcher_rgs',\n",
    "    'rating_own_rating_pre', 'rating_own_pitcher_rgs'\n",
    "]\n",
    "y_var = ['Win']\n",
    "vars = x_vars + y_var\n",
    "\n",
    "main_data = main_data.loc[:, vars]\n",
    "main_data = main_data.dropna()\n",
    "\n",
    "train = main_data[(main_data.year < 2000) & (main_data.year >= 1960)]\n",
    "test = main_data[(main_data.year >= 2000)]\n",
    "\n",
    "train_x = train[x_vars]\n",
    "train_y = train['Win'].astype('int')\n",
    "test_x = test[x_vars]\n",
    "test_y = test['Win'].astype('int')"
   ]
  },
  {
   "cell_type": "code",
   "execution_count": 4,
   "id": "allied-assurance",
   "metadata": {},
   "outputs": [],
   "source": [
    "preprocessor =  ColumnTransformer(\n",
    "    [('spot', 'passthrough', x_vars)],\n",
    "    remainder='drop'\n",
    ")\n",
    "\n",
    "sgd = SGDClassifier(\n",
    "    loss='log',\n",
    "    penalty='l1',\n",
    "    random_state=0,\n",
    "    max_iter = 1000,\n",
    "    alpha = .0005, \n",
    ")\n",
    "\n",
    "clf = XGBClassifier(\n",
    "    tree_method='hist',\n",
    "    verbosity = 0,\n",
    "    random_state = 0,\n",
    "    eval_metric = 'auc',\n",
    "    max_depth = 5,\n",
    "    learning_rate = .03,\n",
    "    early_stopping_rounds=5,\n",
    "    n_estimators = 200,\n",
    "    subsample=0.9,\n",
    "    colsample_bynode=0.33,\n",
    "    use_label_encoder=False,\n",
    ")\n",
    "\n",
    "fitted_model = Pipeline([\n",
    "    ('select', preprocessor),\n",
    "    ('poly', PolynomialFeatures(2, interaction_only=True)),\n",
    "    ('scale', StandardScaler()),\n",
    "    ('feature_selection', SelectFromModel(sgd)),\n",
    "    ('clf', clf),\n",
    "])\n",
    "\n",
    "params = {\n",
    "    'clf__max_depth': [3, 4],\n",
    "    \"clf__learning_rate\": [.03, .02, .01, .001],\n",
    "    \"feature_selection__estimator__alpha\": [.0001, .0003, .00001, .000001],\n",
    "}\n",
    "\n",
    "inner_cv = StratifiedKFold(shuffle = True, random_state=1)\n",
    "gs = HalvingGridSearchCV(\n",
    "    fitted_model, params, refit='AUC', cv=inner_cv,\n",
    "    scoring='roc_auc',\n",
    ")"
   ]
  },
  {
   "cell_type": "code",
   "execution_count": 5,
   "id": "crucial-finder",
   "metadata": {},
   "outputs": [
    {
     "name": "stdout",
     "output_type": "stream",
     "text": [
      "[0.56741903 0.56797789 0.56838845 0.56988215 0.56855196]\n",
      "Accuracy: 56.844% (0.082%)\n"
     ]
    }
   ],
   "source": [
    "# cv = RepeatedStratifiedKFold(n_splits=5, n_repeats=3, random_state=1)\n",
    "outer_cv = StratifiedKFold(shuffle=True, random_state=1)\n",
    "results = cross_val_score(gs, train, train['Win'].astype('int'), cv=outer_cv, n_jobs=-1, scoring='roc_auc')\n",
    "print(results)\n",
    "print(\"Accuracy: %.3f%% (%.3f%%)\" % (results.mean()*100.0, results.std()*100.0))"
   ]
  },
  {
   "cell_type": "code",
   "execution_count": 6,
   "id": "satisfactory-claim",
   "metadata": {},
   "outputs": [
    {
     "data": {
      "text/plain": [
       "HalvingGridSearchCV(cv=StratifiedKFold(n_splits=5, random_state=1, shuffle=True),\n",
       "                    estimator=Pipeline(steps=[('select',\n",
       "                                               ColumnTransformer(transformers=[('spot',\n",
       "                                                                                'passthrough',\n",
       "                                                                                ['spot',\n",
       "                                                                                 'home',\n",
       "                                                                                 'b_pred_HPPA',\n",
       "                                                                                 'p_pred_HPAB',\n",
       "                                                                                 'park_factor',\n",
       "                                                                                 'year',\n",
       "                                                                                 'BAT_HAND',\n",
       "                                                                                 'PIT_HAND',\n",
       "                                                                                 'b_avg_win',\n",
       "                                                                                 'own_p_pred_HPAB',\n",
       "                                                                                 'p_team_HPG',\n",
       "                                                                                 'p_team_avg_game_score',\n",
       "                                                                                 'rating_rating_pre',\n",
       "                                                                                 'rating_...\n",
       "                                                             reg_lambda=None,\n",
       "                                                             scale_pos_weight=None,\n",
       "                                                             subsample=0.9,\n",
       "                                                             tree_method='hist',\n",
       "                                                             use_label_encoder=False,\n",
       "                                                             validate_parameters=None,\n",
       "                                                             verbosity=0))]),\n",
       "                    n_jobs=-1,\n",
       "                    param_grid={'clf__learning_rate': [0.03, 0.02, 0.01, 0.001],\n",
       "                                'clf__max_depth': [3, 4],\n",
       "                                'feature_selection__estimator__alpha': [0.0001,\n",
       "                                                                        0.0003,\n",
       "                                                                        1e-05,\n",
       "                                                                        1e-06]},\n",
       "                    refit=<function _refit_callable at 0x7fa4e8e91c20>,\n",
       "                    scoring='roc_auc')"
      ]
     },
     "execution_count": 6,
     "metadata": {},
     "output_type": "execute_result"
    }
   ],
   "source": [
    "gs = HalvingGridSearchCV(\n",
    "    fitted_model, params, refit='AUC', cv=inner_cv,\n",
    "    scoring='roc_auc', n_jobs=-1\n",
    ")\n",
    "gs.fit(train, train['Win'].astype('int'))"
   ]
  },
  {
   "cell_type": "code",
   "execution_count": 7,
   "id": "superior-qualification",
   "metadata": {},
   "outputs": [
    {
     "name": "stdout",
     "output_type": "stream",
     "text": [
      "0.5661121282552662\n"
     ]
    }
   ],
   "source": [
    "y_pred = gs.predict_proba(test)[:, 1]\n",
    "y_true = test['Win'].astype('int')\n",
    "print(roc_auc_score(y_true, y_pred))"
   ]
  },
  {
   "cell_type": "code",
   "execution_count": 8,
   "id": "nutritional-character",
   "metadata": {},
   "outputs": [],
   "source": [
    "fpr, tpr, thresholds = roc_curve(y_true, y_pred, pos_label=1)"
   ]
  },
  {
   "cell_type": "code",
   "execution_count": 9,
   "id": "adult-fence",
   "metadata": {},
   "outputs": [
    {
     "data": {
      "text/plain": [
       "[<matplotlib.lines.Line2D at 0x7fa4d0082210>,\n",
       " <matplotlib.lines.Line2D at 0x7fa4d0082090>]"
      ]
     },
     "execution_count": 9,
     "metadata": {},
     "output_type": "execute_result"
    },
    {
     "data": {
      "image/png": "[encoded data removed]",
      "text/plain": [
       "<Figure size 432x288 with 1 Axes>"
      ]
     },
     "metadata": {
      "needs_background": "light"
     },
     "output_type": "display_data"
    }
   ],
   "source": [
    "plt.plot(fpr, tpr, tpr, tpr)"
   ]
  },
  {
   "cell_type": "code",
   "execution_count": 10,
   "id": "official-payment",
   "metadata": {},
   "outputs": [],
   "source": [
    "# mask = gs.named_steps['feature_selection'].get_support()\n",
    "\n",
    "# new_features = []\n",
    "# for bool, feature in zip(mask, x_vars):\n",
    "#     if bool:\n",
    "#         new_features.append(feature)\n",
    "  \n",
    "\n",
    "# print(new_features)\n",
    "# import numpy as np\n",
    "# perc = round(np.sqrt(len(new_features)) / len(new_features), 2)\n",
    "# print(str(perc*100) + '%')"
   ]
  },
  {
   "cell_type": "code",
   "execution_count": 11,
   "id": "fatty-description",
   "metadata": {},
   "outputs": [],
   "source": [
    "grid_results = gs.cv_results_"
   ]
  },
  {
   "cell_type": "code",
   "execution_count": 12,
   "id": "latter-reasoning",
   "metadata": {},
   "outputs": [
    {
     "data": {
      "text/plain": [
       "array([0.56149502, 0.56226265, 0.56230906, 0.56183772, 0.55947145,\n",
       "       0.56012545, 0.55918477, 0.56021065, 0.56231091, 0.56354195,\n",
       "       0.56272055, 0.56265225, 0.56101054, 0.5620342 , 0.56101894,\n",
       "       0.56055543, 0.56301049, 0.56337083, 0.56305435, 0.56262117,\n",
       "       0.56195363, 0.56308309, 0.562498  , 0.56173124, 0.56209792,\n",
       "       0.56305725, 0.56130984, 0.56103743, 0.56249142, 0.56320809,\n",
       "       0.56135832, 0.5611587 , 0.56783257, 0.56745278, 0.56814136,\n",
       "       0.56830422, 0.56568994, 0.56766403, 0.56472548, 0.56654294,\n",
       "       0.56563526, 0.56622209, 0.56700633, 0.5681054 , 0.56855766,\n",
       "       0.56919309, 0.56905892, 0.56834045, 0.56866099])"
      ]
     },
     "execution_count": 12,
     "metadata": {},
     "output_type": "execute_result"
    }
   ],
   "source": [
    "AUC = grid_results['mean_test_score']\n",
    "AUC"
   ]
  },
  {
   "cell_type": "code",
   "execution_count": 13,
   "id": "compressed-courage",
   "metadata": {},
   "outputs": [
    {
     "name": "stdout",
     "output_type": "stream",
     "text": [
      "learning_rate\n"
     ]
    },
    {
     "data": {
      "image/png": "[encoded data removed]",
      "text/plain": [
       "<Figure size 432x288 with 1 Axes>"
      ]
     },
     "metadata": {
      "needs_background": "light"
     },
     "output_type": "display_data"
    },
    {
     "name": "stdout",
     "output_type": "stream",
     "text": [
      "max_depth\n"
     ]
    },
    {
     "data": {
      "image/png": "[encoded data removed]",
      "text/plain": [
       "<Figure size 432x288 with 1 Axes>"
      ]
     },
     "metadata": {
      "needs_background": "light"
     },
     "output_type": "display_data"
    },
    {
     "name": "stdout",
     "output_type": "stream",
     "text": [
      "param_feature_selection__estimator__alpha\n"
     ]
    },
    {
     "data": {
      "image/png": "[encoded data removed]",
      "text/plain": [
       "<Figure size 432x288 with 1 Axes>"
      ]
     },
     "metadata": {
      "needs_background": "light"
     },
     "output_type": "display_data"
    },
    {
     "data": {
      "text/plain": [
       "{'learning_rate': array([0.03 , 0.03 , 0.03 , 0.03 , 0.03 , 0.03 , 0.03 , 0.03 , 0.02 ,\n",
       "        0.02 , 0.02 , 0.02 , 0.02 , 0.02 , 0.02 , 0.02 , 0.01 , 0.01 ,\n",
       "        0.01 , 0.01 , 0.01 , 0.01 , 0.01 , 0.01 , 0.001, 0.001, 0.001,\n",
       "        0.001, 0.001, 0.001, 0.001, 0.001, 0.01 , 0.01 , 0.02 , 0.02 ,\n",
       "        0.01 , 0.01 , 0.001, 0.01 , 0.001, 0.01 , 0.02 , 0.01 , 0.01 ,\n",
       "        0.02 , 0.02 , 0.02 , 0.02 ]),\n",
       " 'max_depth': array([3., 3., 3., 3., 4., 4., 4., 4., 3., 3., 3., 3., 4., 4., 4., 4., 3.,\n",
       "        3., 3., 3., 4., 4., 4., 4., 3., 3., 3., 3., 4., 4., 4., 4., 4., 3.,\n",
       "        3., 3., 3., 3., 3., 4., 4., 3., 3., 3., 4., 3., 3., 3., 3.]),\n",
       " 'param_feature_selection__estimator__alpha': array([1.e-04, 3.e-04, 1.e-05, 1.e-06, 1.e-04, 3.e-04, 1.e-05, 1.e-06,\n",
       "        1.e-04, 3.e-04, 1.e-05, 1.e-06, 1.e-04, 3.e-04, 1.e-05, 1.e-06,\n",
       "        1.e-04, 3.e-04, 1.e-05, 1.e-06, 1.e-04, 3.e-04, 1.e-05, 1.e-06,\n",
       "        1.e-04, 3.e-04, 1.e-05, 1.e-06, 1.e-04, 3.e-04, 1.e-05, 1.e-06,\n",
       "        1.e-05, 1.e-06, 1.e-06, 1.e-05, 1.e-04, 1.e-05, 3.e-04, 3.e-04,\n",
       "        3.e-04, 3.e-04, 3.e-04, 1.e-05, 1.e-05, 1.e-06, 1.e-05, 1.e-05,\n",
       "        1.e-06])}"
      ]
     },
     "execution_count": 13,
     "metadata": {},
     "output_type": "execute_result"
    }
   ],
   "source": [
    "param_dict = {}\n",
    "for key, value in grid_results.items():\n",
    "    if 'param_clf__' in key:\n",
    "        name = key.replace('param_clf__', '')\n",
    "        new = np.array(np.ma.getdata(grid_results[key]), dtype=np.float)\n",
    "        param_dict[name] = new\n",
    "        print(name)\n",
    "        plt.figure()\n",
    "        plt.scatter(new, AUC)\n",
    "        plt.show()\n",
    "\n",
    "    if 'param_feature_selection__' in key:\n",
    "        name = key.replace('param_clf__', '')\n",
    "        new = np.array(np.ma.getdata(grid_results[key]), dtype=np.float)\n",
    "        param_dict[name] = new\n",
    "        print(name)\n",
    "        plt.figure()\n",
    "        plt.scatter(new, AUC)\n",
    "        plt.show()\n",
    "\n",
    "param_dict"
   ]
  },
  {
   "cell_type": "code",
   "execution_count": 14,
   "id": "civilian-oasis",
   "metadata": {},
   "outputs": [
    {
     "name": "stdout",
     "output_type": "stream",
     "text": [
      "Best: 0.568661 using {'clf__learning_rate': 0.02, 'clf__max_depth': 3, 'feature_selection__estimator__alpha': 1e-06}\n"
     ]
    }
   ],
   "source": [
    "print(\"Best: %f using %s\" % (gs.best_score_, \n",
    "    gs.best_params_))"
   ]
  },
  {
   "cell_type": "code",
   "execution_count": null,
   "id": "resident-millennium",
   "metadata": {},
   "outputs": [],
   "source": []
  }
 ],
 "metadata": {
  "kernelspec": {
   "display_name": "bts",
   "language": "python",
   "name": "bts"
  },
  "language_info": {
   "codemirror_mode": {
    "name": "ipython",
    "version": 3
   },
   "file_extension": ".py",
   "mimetype": "text/x-python",
   "name": "python",
   "nbconvert_exporter": "python",
   "pygments_lexer": "ipython3",
   "version": "3.7.10"
  }
 },
 "nbformat": 4,
 "nbformat_minor": 5
}
