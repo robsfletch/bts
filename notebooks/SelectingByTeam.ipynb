{
 "cells": [
  {
   "cell_type": "code",
   "execution_count": 252,
   "id": "removable-allowance",
   "metadata": {},
   "outputs": [],
   "source": [
    "from pathlib import Path\n",
    "import pandas as pd\n",
    "import numpy as np\n",
    "import statsmodels.formula.api as sm"
   ]
  },
  {
   "cell_type": "markdown",
   "id": "civic-suffering",
   "metadata": {},
   "source": [
    "## Comparing selections by team vs. selections by pure max"
   ]
  },
  {
   "cell_type": "code",
   "execution_count": 260,
   "id": "occupied-salmon",
   "metadata": {},
   "outputs": [],
   "source": [
    "processed = Path('../data/processed')\n",
    "predictions = pd.read_pickle(Path(processed) / 'main_predictions.pkl')\n",
    "predictions = predictions.loc[:, ['Win', 'EstProb', 'BAT_TEAM_ID', 'year', 'Date']].copy()\n",
    "predictions = predictions.astype({\n",
    "    'Win': 'int',\n",
    "    'EstProb': 'float',\n",
    "    'year': 'int',\n",
    "})"
   ]
  },
  {
   "cell_type": "code",
   "execution_count": 269,
   "id": "swedish-context",
   "metadata": {},
   "outputs": [],
   "source": [
    "selections1 = predictions.sort_values(['Date', 'EstProb'], ascending=[True, False])\n",
    "selections1['pick_order'] = selections1.groupby(['Date']).cumcount() + 1\n",
    "selections1 = selections1[selections1.pick_order <= 2]\n",
    "\n",
    "selections1['Points'] = selections1.groupby('Date')['Win'].transform('prod')\n",
    "selections1['ExpPoints'] = selections1.groupby('Date')['EstProb'].transform('prod')\n",
    "selections1 = selections1.reset_index().set_index(['Date', 'pick_order'])\n",
    "\n",
    "top_by_team = predictions.sort_values(['Date', 'GAME_ID', 'BAT_TEAM_ID', 'EstProb'], ascending=[True, True, True, False])\n",
    "top_by_team['id'] = top_by_team.groupby(['GAME_ID', 'BAT_TEAM_ID']).ngroup()\n",
    "top_by_team['pick_order'] = top_by_team.groupby(['GAME_ID', 'BAT_TEAM_ID']).cumcount() + 1\n",
    "top_by_team = top_by_team.loc[top_by_team.pick_order <= 2].copy()\n",
    "top_by_team['num_pick'] = top_by_team.groupby(['GAME_ID', 'BAT_TEAM_ID'])['pick_order'].transform('max')\n",
    "top_by_team = top_by_team.loc[top_by_team.num_pick == 2].copy()\n",
    "\n",
    "top_by_team['Points'] = top_by_team.groupby('id')['Win'].transform('prod')\n",
    "top_by_team['ExpPointsPre'] = top_by_team.groupby('id')['EstProb'].transform('prod')\n",
    "top_by_team['ExpPoints'] = top_by_team['ExpPointsPre'] + (.0164 - .0157) + (.9891 - .9728)*top_by_team['ExpPointsPre']\n",
    "\n",
    "top_by_team = top_by_team.sort_values(\n",
    "    ['Date', 'ExpPoints', 'GAME_ID', 'BAT_TEAM_ID', 'EstProb'],\n",
    "    ascending=[True, False, True, True, False]\n",
    ")\n",
    "top_by_team['group_pick_order'] = top_by_team.groupby(['Date']).cumcount() + 1\n",
    "\n",
    "selections2 = top_by_team.loc[top_by_team.group_pick_order <= 2].copy()\n",
    "selections2 = selections2.reset_index().set_index(['Date', 'pick_order'])\n",
    "del selections2['group_pick_order']\n",
    "del selections2['id']\n",
    "del selections2['ExpPointsPre']\n",
    "del selections2['num_pick']\n",
    "\n",
    "temp1 = selections1.groupby('Date')[['ExpPoints']].first()\n",
    "temp2 = selections2.groupby('Date')[['ExpPoints']].first()\n",
    "temp2.columns = ['ExpPoints2']\n",
    "\n",
    "compare = pd.merge(temp1, temp2, on=['Date'], how='left')\n",
    "compare['ChooseTeam'] = compare['ExpPoints2'] > compare['ExpPoints']\n",
    "\n",
    "selections1 = pd.merge(selections1, compare['ChooseTeam'], on=['Date'], how='left')\n",
    "selections2 = pd.merge(selections2, compare['ChooseTeam'], on=['Date'], how='left')\n",
    "\n",
    "select1 = selections1[selections1.ChooseTeam == False]\n",
    "select2 = selections2[selections2.ChooseTeam == True]\n",
    "selections = select1.append(select2)\n",
    "\n",
    "selections = selections.sort_values('Date')\n",
    "selections['pick_order'] = selections.groupby(['Date']).cumcount()+1\n",
    "selections = selections[['GAME_ID', 'BAT_ID', 'EstProb', 'ExpPoints', 'pick_order', 'ChooseTeam']]"
   ]
  },
  {
   "cell_type": "code",
   "execution_count": 270,
   "id": "adopted-correlation",
   "metadata": {},
   "outputs": [
    {
     "data": {
      "text/plain": [
       "False    20296\n",
       "True     13656\n",
       "Name: ChooseTeam, dtype: int64"
      ]
     },
     "execution_count": 270,
     "metadata": {},
     "output_type": "execute_result"
    }
   ],
   "source": [
    "selections.ChooseTeam.value_counts()"
   ]
  },
  {
   "cell_type": "code",
   "execution_count": null,
   "id": "alpine-origin",
   "metadata": {},
   "outputs": [],
   "source": []
  },
  {
   "cell_type": "code",
   "execution_count": null,
   "id": "failing-pierre",
   "metadata": {},
   "outputs": [],
   "source": []
  },
  {
   "cell_type": "code",
   "execution_count": 20,
   "id": "referenced-albania",
   "metadata": {},
   "outputs": [
    {
     "name": "stdout",
     "output_type": "stream",
     "text": [
      "                            OLS Regression Results                            \n",
      "==============================================================================\n",
      "Dep. Variable:              PointsDif   R-squared:                       0.001\n",
      "Model:                            OLS   Adj. R-squared:                  0.001\n",
      "Method:                 Least Squares   F-statistic:                     21.85\n",
      "Date:                Mon, 05 Apr 2021   Prob (F-statistic):           2.96e-06\n",
      "Time:                        09:19:00   Log-Likelihood:                -25710.\n",
      "No. Observations:               33952   AIC:                         5.142e+04\n",
      "Df Residuals:                   33950   BIC:                         5.144e+04\n",
      "Df Model:                           1                                         \n",
      "Covariance Type:            nonrobust                                         \n",
      "================================================================================\n",
      "                   coef    std err          t      P>|t|      [0.025      0.975]\n",
      "--------------------------------------------------------------------------------\n",
      "Intercept       -0.0094      0.004     -2.519      0.012      -0.017      -0.002\n",
      "ExpPointsDif     0.6596      0.141      4.674      0.000       0.383       0.936\n",
      "==============================================================================\n",
      "Omnibus:                      436.855   Durbin-Watson:                   1.007\n",
      "Prob(Omnibus):                  0.000   Jarque-Bera (JB):              802.847\n",
      "Skew:                          -0.009   Prob(JB):                    4.61e-175\n",
      "Kurtosis:                       3.753   Cond. No.                         50.4\n",
      "==============================================================================\n",
      "\n",
      "Notes:\n",
      "[1] Standard Errors assume that the covariance matrix of the errors is correctly specified.\n"
     ]
    },
    {
     "data": {
      "image/png": "[encoded data removed]",
      "text/plain": [
       "<Figure size 432x288 with 1 Axes>"
      ]
     },
     "metadata": {
      "needs_background": "light"
     },
     "output_type": "display_data"
    }
   ],
   "source": [
    "temp3['bin'] = pd.qcut(temp3['ExpPointsDif'], 15, duplicates='drop')\n",
    "\n",
    "dots = temp3.groupby(['bin'])[['ExpPointsDif', 'PointsDif']].agg('mean')\n",
    "dots = dots.reset_index()\n",
    "dots.plot.scatter('ExpPointsDif', 'PointsDif')\n",
    "\n",
    "model = sm.ols('PointsDif ~ ExpPointsDif', data=temp3)\n",
    "results = model.fit()\n",
    "temp3['pred'] = results.predict()\n",
    "\n",
    "print(results.summary())"
   ]
  },
  {
   "cell_type": "code",
   "execution_count": 10,
   "id": "artistic-subcommittee",
   "metadata": {},
   "outputs": [],
   "source": [
    "temp3['ChooseTeam'] = temp3['pred'] < 0"
   ]
  },
  {
   "cell_type": "code",
   "execution_count": 11,
   "id": "sized-organization",
   "metadata": {},
   "outputs": [
    {
     "data": {
      "text/plain": [
       "True     17032\n",
       "False    16920\n",
       "Name: ChooseTeam, dtype: int64"
      ]
     },
     "execution_count": 11,
     "metadata": {},
     "output_type": "execute_result"
    }
   ],
   "source": [
    "temp3.ChooseTeam.value_counts()"
   ]
  },
  {
   "cell_type": "code",
   "execution_count": 12,
   "id": "fossil-presentation",
   "metadata": {},
   "outputs": [],
   "source": [
    "choose_team = temp3.groupby('Date')['ChooseTeam'].first()"
   ]
  },
  {
   "cell_type": "code",
   "execution_count": 13,
   "id": "instructional-homework",
   "metadata": {},
   "outputs": [],
   "source": [
    "s = pd.merge(selections1, selections2, on=['Date', 'pick_order'], how='left')"
   ]
  },
  {
   "cell_type": "code",
   "execution_count": 14,
   "id": "failing-infrastructure",
   "metadata": {},
   "outputs": [],
   "source": [
    "abc = pd.merge(s, choose_team, on=['Date'], how='left')"
   ]
  },
  {
   "cell_type": "code",
   "execution_count": 15,
   "id": "sunrise-philadelphia",
   "metadata": {},
   "outputs": [],
   "source": [
    "abc['Win'] = np.where(\n",
    "    abc['ChooseTeam'] == 1,\n",
    "    abc['Win_x'],\n",
    "    abc['Win_y']\n",
    ")"
   ]
  },
  {
   "cell_type": "code",
   "execution_count": 16,
   "id": "coastal-poverty",
   "metadata": {},
   "outputs": [
    {
     "data": {
      "text/plain": [
       "Date\n",
       "1921-04-13    1.0\n",
       "1921-04-13    1.0\n",
       "1921-04-14    1.0\n",
       "1921-04-14    1.0\n",
       "1921-04-15    1.0\n",
       "             ... \n",
       "2020-09-25    1.0\n",
       "2020-09-26    0.0\n",
       "2020-09-26    0.0\n",
       "2020-09-27    1.0\n",
       "2020-09-27    0.0\n",
       "Name: Win, Length: 34390, dtype: float64"
      ]
     },
     "execution_count": 16,
     "metadata": {},
     "output_type": "execute_result"
    }
   ],
   "source": [
    "abc['Win']"
   ]
  },
  {
   "cell_type": "markdown",
   "id": "alpha-industry",
   "metadata": {},
   "source": [
    "## How selections by team compare to expected"
   ]
  },
  {
   "cell_type": "code",
   "execution_count": 21,
   "id": "sharing-airfare",
   "metadata": {},
   "outputs": [
    {
     "name": "stdout",
     "output_type": "stream",
     "text": [
      "                            OLS Regression Results                            \n",
      "==============================================================================\n",
      "Dep. Variable:                 Points   R-squared:                       0.008\n",
      "Model:                            OLS   Adj. R-squared:                  0.008\n",
      "Method:                 Least Squares   F-statistic:                     5474.\n",
      "Date:                Sat, 03 Apr 2021   Prob (F-statistic):               0.00\n",
      "Time:                        22:28:00   Log-Likelihood:            -4.7515e+05\n",
      "No. Observations:              659248   AIC:                         9.503e+05\n",
      "Df Residuals:                  659246   BIC:                         9.503e+05\n",
      "Df Model:                           1                                         \n",
      "Covariance Type:            nonrobust                                         \n",
      "==============================================================================\n",
      "                 coef    std err          t      P>|t|      [0.025      0.975]\n",
      "------------------------------------------------------------------------------\n",
      "Intercept     -0.0179      0.007     -2.451      0.014      -0.032      -0.004\n",
      "ExpPoints      1.0556      0.014     73.987      0.000       1.028       1.084\n",
      "==============================================================================\n",
      "Omnibus:                  2296434.161   Durbin-Watson:                   0.998\n",
      "Prob(Omnibus):                  0.000   Jarque-Bera (JB):           106420.017\n",
      "Skew:                          -0.083   Prob(JB):                         0.00\n",
      "Kurtosis:                       1.039   Cond. No.                         29.4\n",
      "==============================================================================\n",
      "\n",
      "Notes:\n",
      "[1] Standard Errors assume that the covariance matrix of the errors is correctly specified.\n"
     ]
    },
    {
     "data": {
      "image/png": "[encoded data removed]",
      "text/plain": [
       "<Figure size 432x288 with 1 Axes>"
      ]
     },
     "metadata": {
      "needs_background": "light"
     },
     "output_type": "display_data"
    }
   ],
   "source": [
    "top_by_team['bin'] = pd.qcut(top_by_team['ExpPoints'], 10, duplicates='drop')\n",
    "\n",
    "dots = top_by_team.groupby(['bin'])[['ExpPoints', 'Points']].agg('mean')\n",
    "dots = dots.reset_index()\n",
    "dots.plot.scatter('ExpPoints', 'Points')\n",
    "\n",
    "model = sm.ols('Points ~ ExpPoints', data=top_by_team)\n",
    "results = model.fit()\n",
    "print(results.summary())"
   ]
  },
  {
   "cell_type": "markdown",
   "id": "active-refund",
   "metadata": {},
   "source": [
    "## How selections by pute max compare to expected"
   ]
  },
  {
   "cell_type": "code",
   "execution_count": 21,
   "id": "varied-phone",
   "metadata": {},
   "outputs": [
    {
     "data": {
      "text/plain": [
       "<AxesSubplot:xlabel='ExpPoints', ylabel='Points'>"
      ]
     },
     "execution_count": 21,
     "metadata": {},
     "output_type": "execute_result"
    },
    {
     "data": {
      "image/png": "[encoded data removed]",
      "text/plain": [
       "<Figure size 432x288 with 1 Axes>"
      ]
     },
     "metadata": {
      "needs_background": "light"
     },
     "output_type": "display_data"
    }
   ],
   "source": [
    "selections1['bin'] = pd.qcut(selections1['ExpPoints'], 10, duplicates='drop')\n",
    "\n",
    "dots2 = selections1.groupby(['bin'])[['ExpPoints', 'Points']].agg('mean')\n",
    "dots2 = dots2.reset_index()\n",
    "dots2.plot.scatter('ExpPoints', 'Points')"
   ]
  },
  {
   "cell_type": "markdown",
   "id": "ready-thursday",
   "metadata": {},
   "source": [
    "## Estimating difference"
   ]
  },
  {
   "cell_type": "code",
   "execution_count": 271,
   "id": "wired-freight",
   "metadata": {},
   "outputs": [],
   "source": [
    "processed = Path('../data/processed')\n",
    "predictions = pd.read_pickle(Path(processed) / 'main_predictions.pkl')"
   ]
  },
  {
   "cell_type": "code",
   "execution_count": 272,
   "id": "opponent-maintenance",
   "metadata": {},
   "outputs": [],
   "source": [
    "small_pred = predictions.loc[predictions.year >= 2000, ['Date', 'EstProb', 'Win', 'BAT_TEAM_ID']]\n",
    "small_pred = small_pred.reset_index()\n",
    "small_pred['id'] = small_pred.groupby('BAT_ID').ngroup()"
   ]
  },
  {
   "cell_type": "code",
   "execution_count": 273,
   "id": "corresponding-naples",
   "metadata": {},
   "outputs": [],
   "source": [
    "test = pd.merge(small_pred, small_pred, on=['Date'])\n",
    "test = test[test.id_x < test.id_y].copy()"
   ]
  },
  {
   "cell_type": "code",
   "execution_count": 289,
   "id": "buried-michael",
   "metadata": {},
   "outputs": [],
   "source": [
    "test['Points'] = (test['Win_x'] * test['Win_y']).astype('int')\n",
    "test['ExpPoints'] = (test['EstProb_x'] * test['EstProb_y']).astype('float')\n",
    "test['Err1'] = test['Win_x'] - test['EstProb_x']\n",
    "test['Err2'] = test['Win_y'] - test['EstProb_y']"
   ]
  },
  {
   "cell_type": "code",
   "execution_count": 290,
   "id": "verbal-syndicate",
   "metadata": {},
   "outputs": [
    {
     "name": "stdout",
     "output_type": "stream",
     "text": [
      "                            OLS Regression Results                            \n",
      "==============================================================================\n",
      "Dep. Variable:                 Points   R-squared:                       0.010\n",
      "Model:                            OLS   Adj. R-squared:                  0.010\n",
      "Method:                 Least Squares   F-statistic:                 5.936e+05\n",
      "Date:                Mon, 05 Apr 2021   Prob (F-statistic):               0.00\n",
      "Time:                        15:27:28   Log-Likelihood:            -4.2402e+07\n",
      "No. Observations:            59414946   AIC:                         8.480e+07\n",
      "Df Residuals:                59414944   BIC:                         8.480e+07\n",
      "Df Model:                           1                                         \n",
      "Covariance Type:            nonrobust                                         \n",
      "==============================================================================\n",
      "                 coef    std err          t      P>|t|      [0.025      0.975]\n",
      "------------------------------------------------------------------------------\n",
      "Intercept      0.0157      0.001     28.303      0.000       0.015       0.017\n",
      "ExpPoints      0.9728      0.001    770.437      0.000       0.970       0.975\n",
      "==============================================================================\n",
      "Omnibus:                214960774.133   Durbin-Watson:                   1.202\n",
      "Prob(Omnibus):                  0.000   Jarque-Bera (JB):          9530630.968\n",
      "Skew:                           0.236   Prob(JB):                         0.00\n",
      "Kurtosis:                       1.096   Cond. No.                         23.5\n",
      "==============================================================================\n",
      "\n",
      "Notes:\n",
      "[1] Standard Errors assume that the covariance matrix of the errors is correctly specified.\n"
     ]
    }
   ],
   "source": [
    "test['bin'] = pd.qcut(test['ExpPoints'], 50, duplicates='drop')\n",
    "dots = test.groupby(['bin'])[['ExpPoints', 'Points']].agg('mean')\n",
    "dots = dots.reset_index()\n",
    "model = sm.ols('Points ~ ExpPoints', data=test)\n",
    "results1 = model.fit()\n",
    "print(results1.summary())"
   ]
  },
  {
   "cell_type": "code",
   "execution_count": 291,
   "id": "inappropriate-routine",
   "metadata": {},
   "outputs": [
    {
     "name": "stdout",
     "output_type": "stream",
     "text": [
      "                            OLS Regression Results                            \n",
      "==============================================================================\n",
      "Dep. Variable:                 Points   R-squared:                       0.011\n",
      "Model:                            OLS   Adj. R-squared:                  0.011\n",
      "Method:                 Least Squares   F-statistic:                 2.143e+04\n",
      "Date:                Mon, 05 Apr 2021   Prob (F-statistic):               0.00\n",
      "Time:                        15:27:36   Log-Likelihood:            -1.3910e+06\n",
      "No. Observations:             1945436   AIC:                         2.782e+06\n",
      "Df Residuals:                 1945434   BIC:                         2.782e+06\n",
      "Df Model:                           1                                         \n",
      "Covariance Type:            nonrobust                                         \n",
      "==============================================================================\n",
      "                 coef    std err          t      P>|t|      [0.025      0.975]\n",
      "------------------------------------------------------------------------------\n",
      "Intercept      0.0174      0.003      5.867      0.000       0.012       0.023\n",
      "ExpPoints      0.9891      0.007    146.390      0.000       0.976       1.002\n",
      "==============================================================================\n",
      "Omnibus:                  6984634.939   Durbin-Watson:                   1.369\n",
      "Prob(Omnibus):                  0.000   Jarque-Bera (JB):           310673.053\n",
      "Skew:                           0.203   Prob(JB):                         0.00\n",
      "Kurtosis:                       1.085   Cond. No.                         22.7\n",
      "==============================================================================\n",
      "\n",
      "Notes:\n",
      "[1] Standard Errors assume that the covariance matrix of the errors is correctly specified.\n"
     ]
    }
   ],
   "source": [
    "test2 = test[(test.GAME_ID_x == test.GAME_ID_y) & (test.BAT_TEAM_ID_x == test.BAT_TEAM_ID_y)].copy()\n",
    "test2['bin'] = pd.qcut(test2['ExpPoints'], 50, duplicates='drop')\n",
    "dots2 = test2.groupby(['bin'])[['ExpPoints', 'Points']].agg('mean')\n",
    "dots2 = dots2.reset_index()\n",
    "\n",
    "model = sm.ols('Points ~ ExpPoints', data=test2)\n",
    "results2 = model.fit()\n",
    "print(results2.summary())"
   ]
  },
  {
   "cell_type": "code",
   "execution_count": 292,
   "id": "running-training",
   "metadata": {},
   "outputs": [
    {
     "data": {
      "text/plain": [
       "<AxesSubplot:xlabel='ExpPoints', ylabel='Points'>"
      ]
     },
     "execution_count": 292,
     "metadata": {},
     "output_type": "execute_result"
    },
    {
     "data": {
      "image/png": "[encoded data removed]",
      "text/plain": [
       "<Figure size 432x288 with 1 Axes>"
      ]
     },
     "metadata": {
      "needs_background": "light"
     },
     "output_type": "display_data"
    }
   ],
   "source": [
    "ax1 = dots.plot(kind='scatter', x='ExpPoints', y='Points')\n",
    "dots2.plot(kind='scatter', x='ExpPoints', y='Points', ax=ax1, color='r')"
   ]
  },
  {
   "cell_type": "code",
   "execution_count": 293,
   "id": "instructional-memphis",
   "metadata": {},
   "outputs": [],
   "source": [
    "def dif(x, results1, results2):\n",
    "    pred = (results2.params['Intercept'] - results1.params['Intercept']) + \\\n",
    "        (results2.params['ExpPoints']-results1.params['ExpPoints'])*x\n",
    "    return pred"
   ]
  },
  {
   "cell_type": "code",
   "execution_count": 294,
   "id": "approved-hamilton",
   "metadata": {},
   "outputs": [
    {
     "data": {
      "text/plain": [
       "0.01796231581661699"
      ]
     },
     "execution_count": 294,
     "metadata": {},
     "output_type": "execute_result"
    }
   ],
   "source": [
    "dif(1, results1, results2)"
   ]
  },
  {
   "cell_type": "code",
   "execution_count": 295,
   "id": "associate-electric",
   "metadata": {},
   "outputs": [
    {
     "data": {
      "text/plain": [
       "0.016999999999999984"
      ]
     },
     "execution_count": 295,
     "metadata": {},
     "output_type": "execute_result"
    }
   ],
   "source": [
    "(.0164 - .0157) + (.9891 - .9728)"
   ]
  },
  {
   "cell_type": "markdown",
   "id": "registered-niagara",
   "metadata": {},
   "source": [
    "## Partial Covariance"
   ]
  },
  {
   "cell_type": "code",
   "execution_count": null,
   "id": "passing-willow",
   "metadata": {},
   "outputs": [],
   "source": [
    "# prob(A=1) = p1\n",
    "# prob(B=1) = p2\n",
    "\n",
    "# Exp(A) = p1\n",
    "# Exp(B) = p2\n",
    "\n",
    "# var(A) = p1(1-p1)\n",
    "# var(B) = p2(1-p2)\n",
    "\n",
    "# Exp(AB) = p3\n",
    "\n",
    "# rho =  (Exp(AB) - p1 * p2) / ( sqrt(p1*(1-p1)) * sqrt(p2*(1-p2)) )\n",
    "\n",
    "# Exp(AB) = rho * ( sqrt(p1*(1-p1)) * sqrt(p2*(1-p2)) ) + p1*p2\n",
    "\n",
    "# P(AB = 1) = Exp(AB)\n",
    "\n",
    "# P(B|A=1) = P(AB = 1) / P(A = 1)\n",
    "#     = (rho * ( sqrt(p1*(1-p1)) * sqrt(p2*(1-p2)) ) + p1*p2) / p1"
   ]
  },
  {
   "cell_type": "code",
   "execution_count": null,
   "id": "remarkable-postage",
   "metadata": {},
   "outputs": [],
   "source": [
    "dif = "
   ]
  },
  {
   "cell_type": "code",
   "execution_count": 330,
   "id": "jewish-behalf",
   "metadata": {},
   "outputs": [
    {
     "data": {
      "text/html": [
       "<div>\n",
       "<style scoped>\n",
       "    .dataframe tbody tr th:only-of-type {\n",
       "        vertical-align: middle;\n",
       "    }\n",
       "\n",
       "    .dataframe tbody tr th {\n",
       "        vertical-align: top;\n",
       "    }\n",
       "\n",
       "    .dataframe thead th {\n",
       "        text-align: right;\n",
       "    }\n",
       "</style>\n",
       "<table border=\"1\" class=\"dataframe\">\n",
       "  <thead>\n",
       "    <tr style=\"text-align: right;\">\n",
       "      <th></th>\n",
       "      <th>Err1</th>\n",
       "      <th>Err2</th>\n",
       "    </tr>\n",
       "  </thead>\n",
       "  <tbody>\n",
       "    <tr>\n",
       "      <th>Err1</th>\n",
       "      <td>1.000000</td>\n",
       "      <td>0.039007</td>\n",
       "    </tr>\n",
       "    <tr>\n",
       "      <th>Err2</th>\n",
       "      <td>0.039007</td>\n",
       "      <td>1.000000</td>\n",
       "    </tr>\n",
       "  </tbody>\n",
       "</table>\n",
       "</div>"
      ],
      "text/plain": [
       "          Err1      Err2\n",
       "Err1  1.000000  0.039007\n",
       "Err2  0.039007  1.000000"
      ]
     },
     "execution_count": 330,
     "metadata": {},
     "output_type": "execute_result"
    }
   ],
   "source": [
    "test2[['Err1', 'Err2']].corr()"
   ]
  },
  {
   "cell_type": "code",
   "execution_count": 343,
   "id": "psychological-africa",
   "metadata": {},
   "outputs": [
    {
     "data": {
      "text/plain": [
       "0.03900654476289184"
      ]
     },
     "execution_count": 343,
     "metadata": {},
     "output_type": "execute_result"
    }
   ],
   "source": [
    "Exp1 = test2.Err1.mean()\n",
    "Exp2 = test2.Err2.mean()\n",
    "SD1 = test2.Err1.std()\n",
    "SD2 = test2.Err2.std()\n",
    "\n",
    "test2['AB'] = test2.Err1 * test2.Err2\n",
    "Exp12 = test2['AB'].mean()\n",
    "\n",
    "rho = (Exp12 - Exp1 * Exp2) / (SD1 * SD2)\n",
    "rho"
   ]
  },
  {
   "cell_type": "code",
   "execution_count": 353,
   "id": "aboriginal-share",
   "metadata": {},
   "outputs": [
    {
     "data": {
      "text/html": [
       "<div>\n",
       "<style scoped>\n",
       "    .dataframe tbody tr th:only-of-type {\n",
       "        vertical-align: middle;\n",
       "    }\n",
       "\n",
       "    .dataframe tbody tr th {\n",
       "        vertical-align: top;\n",
       "    }\n",
       "\n",
       "    .dataframe thead th {\n",
       "        text-align: right;\n",
       "    }\n",
       "</style>\n",
       "<table border=\"1\" class=\"dataframe\">\n",
       "  <thead>\n",
       "    <tr style=\"text-align: right;\">\n",
       "      <th></th>\n",
       "      <th>Win_x</th>\n",
       "      <th>Win_y</th>\n",
       "    </tr>\n",
       "  </thead>\n",
       "  <tbody>\n",
       "    <tr>\n",
       "      <th>Win_x</th>\n",
       "      <td>1.000000</td>\n",
       "      <td>0.040613</td>\n",
       "    </tr>\n",
       "    <tr>\n",
       "      <th>Win_y</th>\n",
       "      <td>0.040613</td>\n",
       "      <td>1.000000</td>\n",
       "    </tr>\n",
       "  </tbody>\n",
       "</table>\n",
       "</div>"
      ],
      "text/plain": [
       "          Win_x     Win_y\n",
       "Win_x  1.000000  0.040613\n",
       "Win_y  0.040613  1.000000"
      ]
     },
     "execution_count": 353,
     "metadata": {},
     "output_type": "execute_result"
    }
   ],
   "source": [
    "test2.loc[:, ['Win_x', 'Win_y']].corr()"
   ]
  },
  {
   "cell_type": "code",
   "execution_count": 352,
   "id": "mental-algebra",
   "metadata": {},
   "outputs": [
    {
     "data": {
      "text/html": [
       "<div>\n",
       "<style scoped>\n",
       "    .dataframe tbody tr th:only-of-type {\n",
       "        vertical-align: middle;\n",
       "    }\n",
       "\n",
       "    .dataframe tbody tr th {\n",
       "        vertical-align: top;\n",
       "    }\n",
       "\n",
       "    .dataframe thead th {\n",
       "        text-align: right;\n",
       "    }\n",
       "</style>\n",
       "<table border=\"1\" class=\"dataframe\">\n",
       "  <thead>\n",
       "    <tr style=\"text-align: right;\">\n",
       "      <th></th>\n",
       "      <th>GAME_ID_x</th>\n",
       "      <th>BAT_ID_x</th>\n",
       "      <th>Date</th>\n",
       "      <th>EstProb_x</th>\n",
       "      <th>Win_x</th>\n",
       "      <th>BAT_TEAM_ID_x</th>\n",
       "      <th>id_x</th>\n",
       "      <th>GAME_ID_y</th>\n",
       "      <th>BAT_ID_y</th>\n",
       "      <th>EstProb_y</th>\n",
       "      <th>...</th>\n",
       "      <th>id_y</th>\n",
       "      <th>Points</th>\n",
       "      <th>ExpPoints</th>\n",
       "      <th>bin</th>\n",
       "      <th>Err1</th>\n",
       "      <th>Err2</th>\n",
       "      <th>ExpSD_x</th>\n",
       "      <th>ExpSD_y</th>\n",
       "      <th>ExpPoints2</th>\n",
       "      <th>AB</th>\n",
       "    </tr>\n",
       "  </thead>\n",
       "  <tbody>\n",
       "    <tr>\n",
       "      <th>201</th>\n",
       "      <td>COL200005020</td>\n",
       "      <td>guerv001</td>\n",
       "      <td>2000-05-02</td>\n",
       "      <td>0.818739</td>\n",
       "      <td>0</td>\n",
       "      <td>MON</td>\n",
       "      <td>598</td>\n",
       "      <td>COL200005020</td>\n",
       "      <td>whitr001</td>\n",
       "      <td>0.785696</td>\n",
       "      <td>...</td>\n",
       "      <td>1517</td>\n",
       "      <td>0</td>\n",
       "      <td>0.643280</td>\n",
       "      <td>(0.538, 0.861]</td>\n",
       "      <td>-0.818739</td>\n",
       "      <td>0.214304</td>\n",
       "      <td>0.385234</td>\n",
       "      <td>0.410338</td>\n",
       "      <td>0.649603</td>\n",
       "      <td>-0.175459</td>\n",
       "    </tr>\n",
       "    <tr>\n",
       "      <th>212</th>\n",
       "      <td>COL200005020</td>\n",
       "      <td>guerv001</td>\n",
       "      <td>2000-05-02</td>\n",
       "      <td>0.818739</td>\n",
       "      <td>0</td>\n",
       "      <td>MON</td>\n",
       "      <td>598</td>\n",
       "      <td>COL200005020</td>\n",
       "      <td>vidrj001</td>\n",
       "      <td>0.743022</td>\n",
       "      <td>...</td>\n",
       "      <td>1490</td>\n",
       "      <td>0</td>\n",
       "      <td>0.608341</td>\n",
       "      <td>(0.538, 0.861]</td>\n",
       "      <td>-0.818739</td>\n",
       "      <td>0.256978</td>\n",
       "      <td>0.385234</td>\n",
       "      <td>0.436967</td>\n",
       "      <td>0.615074</td>\n",
       "      <td>-0.210398</td>\n",
       "    </tr>\n",
       "    <tr>\n",
       "      <th>227</th>\n",
       "      <td>COL200005020</td>\n",
       "      <td>guerv001</td>\n",
       "      <td>2000-05-02</td>\n",
       "      <td>0.818739</td>\n",
       "      <td>0</td>\n",
       "      <td>MON</td>\n",
       "      <td>598</td>\n",
       "      <td>COL200005020</td>\n",
       "      <td>stevl001</td>\n",
       "      <td>0.724982</td>\n",
       "      <td>...</td>\n",
       "      <td>1378</td>\n",
       "      <td>0</td>\n",
       "      <td>0.593571</td>\n",
       "      <td>(0.538, 0.861]</td>\n",
       "      <td>-0.818739</td>\n",
       "      <td>0.275018</td>\n",
       "      <td>0.385234</td>\n",
       "      <td>0.446523</td>\n",
       "      <td>0.600452</td>\n",
       "      <td>-0.225168</td>\n",
       "    </tr>\n",
       "    <tr>\n",
       "      <th>598</th>\n",
       "      <td>COL200005020</td>\n",
       "      <td>cabro001</td>\n",
       "      <td>2000-05-02</td>\n",
       "      <td>0.785696</td>\n",
       "      <td>1</td>\n",
       "      <td>MON</td>\n",
       "      <td>223</td>\n",
       "      <td>COL200005020</td>\n",
       "      <td>guerv001</td>\n",
       "      <td>0.818739</td>\n",
       "      <td>...</td>\n",
       "      <td>598</td>\n",
       "      <td>0</td>\n",
       "      <td>0.643280</td>\n",
       "      <td>(0.538, 0.861]</td>\n",
       "      <td>0.214304</td>\n",
       "      <td>-0.818739</td>\n",
       "      <td>0.410338</td>\n",
       "      <td>0.385234</td>\n",
       "      <td>0.649603</td>\n",
       "      <td>-0.175459</td>\n",
       "    </tr>\n",
       "    <tr>\n",
       "      <th>599</th>\n",
       "      <td>COL200005020</td>\n",
       "      <td>cabro001</td>\n",
       "      <td>2000-05-02</td>\n",
       "      <td>0.785696</td>\n",
       "      <td>1</td>\n",
       "      <td>MON</td>\n",
       "      <td>223</td>\n",
       "      <td>COL200005020</td>\n",
       "      <td>whitr001</td>\n",
       "      <td>0.785696</td>\n",
       "      <td>...</td>\n",
       "      <td>1517</td>\n",
       "      <td>1</td>\n",
       "      <td>0.617319</td>\n",
       "      <td>(0.538, 0.861]</td>\n",
       "      <td>0.214304</td>\n",
       "      <td>0.214304</td>\n",
       "      <td>0.410338</td>\n",
       "      <td>0.410338</td>\n",
       "      <td>0.624054</td>\n",
       "      <td>0.045926</td>\n",
       "    </tr>\n",
       "  </tbody>\n",
       "</table>\n",
       "<p>5 rows × 22 columns</p>\n",
       "</div>"
      ],
      "text/plain": [
       "        GAME_ID_x  BAT_ID_x       Date  EstProb_x  Win_x BAT_TEAM_ID_x  id_x  \\\n",
       "201  COL200005020  guerv001 2000-05-02   0.818739      0           MON   598   \n",
       "212  COL200005020  guerv001 2000-05-02   0.818739      0           MON   598   \n",
       "227  COL200005020  guerv001 2000-05-02   0.818739      0           MON   598   \n",
       "598  COL200005020  cabro001 2000-05-02   0.785696      1           MON   223   \n",
       "599  COL200005020  cabro001 2000-05-02   0.785696      1           MON   223   \n",
       "\n",
       "        GAME_ID_y  BAT_ID_y  EstProb_y  ...  id_y Points  ExpPoints  \\\n",
       "201  COL200005020  whitr001   0.785696  ...  1517      0   0.643280   \n",
       "212  COL200005020  vidrj001   0.743022  ...  1490      0   0.608341   \n",
       "227  COL200005020  stevl001   0.724982  ...  1378      0   0.593571   \n",
       "598  COL200005020  guerv001   0.818739  ...   598      0   0.643280   \n",
       "599  COL200005020  whitr001   0.785696  ...  1517      1   0.617319   \n",
       "\n",
       "                bin      Err1      Err2   ExpSD_x   ExpSD_y  ExpPoints2  \\\n",
       "201  (0.538, 0.861] -0.818739  0.214304  0.385234  0.410338    0.649603   \n",
       "212  (0.538, 0.861] -0.818739  0.256978  0.385234  0.436967    0.615074   \n",
       "227  (0.538, 0.861] -0.818739  0.275018  0.385234  0.446523    0.600452   \n",
       "598  (0.538, 0.861]  0.214304 -0.818739  0.410338  0.385234    0.649603   \n",
       "599  (0.538, 0.861]  0.214304  0.214304  0.410338  0.410338    0.624054   \n",
       "\n",
       "           AB  \n",
       "201 -0.175459  \n",
       "212 -0.210398  \n",
       "227 -0.225168  \n",
       "598 -0.175459  \n",
       "599  0.045926  \n",
       "\n",
       "[5 rows x 22 columns]"
      ]
     },
     "execution_count": 352,
     "metadata": {},
     "output_type": "execute_result"
    }
   ],
   "source": [
    "test2.head()"
   ]
  },
  {
   "cell_type": "code",
   "execution_count": 344,
   "id": "supreme-lincoln",
   "metadata": {},
   "outputs": [],
   "source": [
    "test2['ExpSD_x'] = np.sqrt( test2['EstProb_x'] * (1-test2['EstProb_x']) )\n",
    "test2['ExpSD_y'] = np.sqrt( test2['EstProb_y'] * (1-test2['EstProb_y']) )\n",
    "test2['ExpPoints2'] = .04 * (test2['ExpSD_x']*test2['ExpSD_y']) + test2['EstProb_x']*test2['EstProb_y']"
   ]
  },
  {
   "cell_type": "code",
   "execution_count": 345,
   "id": "southwest-monday",
   "metadata": {},
   "outputs": [
    {
     "data": {
      "text/html": [
       "<div>\n",
       "<style scoped>\n",
       "    .dataframe tbody tr th:only-of-type {\n",
       "        vertical-align: middle;\n",
       "    }\n",
       "\n",
       "    .dataframe tbody tr th {\n",
       "        vertical-align: top;\n",
       "    }\n",
       "\n",
       "    .dataframe thead th {\n",
       "        text-align: right;\n",
       "    }\n",
       "</style>\n",
       "<table border=\"1\" class=\"dataframe\">\n",
       "  <thead>\n",
       "    <tr style=\"text-align: right;\">\n",
       "      <th></th>\n",
       "      <th>GAME_ID_x</th>\n",
       "      <th>BAT_ID_x</th>\n",
       "      <th>Date</th>\n",
       "      <th>EstProb_x</th>\n",
       "      <th>Win_x</th>\n",
       "      <th>BAT_TEAM_ID_x</th>\n",
       "      <th>id_x</th>\n",
       "      <th>GAME_ID_y</th>\n",
       "      <th>BAT_ID_y</th>\n",
       "      <th>EstProb_y</th>\n",
       "      <th>...</th>\n",
       "      <th>id_y</th>\n",
       "      <th>Points</th>\n",
       "      <th>ExpPoints</th>\n",
       "      <th>bin</th>\n",
       "      <th>Err1</th>\n",
       "      <th>Err2</th>\n",
       "      <th>ExpSD_x</th>\n",
       "      <th>ExpSD_y</th>\n",
       "      <th>ExpPoints2</th>\n",
       "      <th>AB</th>\n",
       "    </tr>\n",
       "  </thead>\n",
       "  <tbody>\n",
       "    <tr>\n",
       "      <th>201</th>\n",
       "      <td>COL200005020</td>\n",
       "      <td>guerv001</td>\n",
       "      <td>2000-05-02</td>\n",
       "      <td>0.818739</td>\n",
       "      <td>0</td>\n",
       "      <td>MON</td>\n",
       "      <td>598</td>\n",
       "      <td>COL200005020</td>\n",
       "      <td>whitr001</td>\n",
       "      <td>0.785696</td>\n",
       "      <td>...</td>\n",
       "      <td>1517</td>\n",
       "      <td>0</td>\n",
       "      <td>0.643280</td>\n",
       "      <td>(0.538, 0.861]</td>\n",
       "      <td>-0.818739</td>\n",
       "      <td>0.214304</td>\n",
       "      <td>0.385234</td>\n",
       "      <td>0.410338</td>\n",
       "      <td>0.649603</td>\n",
       "      <td>-0.175459</td>\n",
       "    </tr>\n",
       "    <tr>\n",
       "      <th>212</th>\n",
       "      <td>COL200005020</td>\n",
       "      <td>guerv001</td>\n",
       "      <td>2000-05-02</td>\n",
       "      <td>0.818739</td>\n",
       "      <td>0</td>\n",
       "      <td>MON</td>\n",
       "      <td>598</td>\n",
       "      <td>COL200005020</td>\n",
       "      <td>vidrj001</td>\n",
       "      <td>0.743022</td>\n",
       "      <td>...</td>\n",
       "      <td>1490</td>\n",
       "      <td>0</td>\n",
       "      <td>0.608341</td>\n",
       "      <td>(0.538, 0.861]</td>\n",
       "      <td>-0.818739</td>\n",
       "      <td>0.256978</td>\n",
       "      <td>0.385234</td>\n",
       "      <td>0.436967</td>\n",
       "      <td>0.615074</td>\n",
       "      <td>-0.210398</td>\n",
       "    </tr>\n",
       "    <tr>\n",
       "      <th>227</th>\n",
       "      <td>COL200005020</td>\n",
       "      <td>guerv001</td>\n",
       "      <td>2000-05-02</td>\n",
       "      <td>0.818739</td>\n",
       "      <td>0</td>\n",
       "      <td>MON</td>\n",
       "      <td>598</td>\n",
       "      <td>COL200005020</td>\n",
       "      <td>stevl001</td>\n",
       "      <td>0.724982</td>\n",
       "      <td>...</td>\n",
       "      <td>1378</td>\n",
       "      <td>0</td>\n",
       "      <td>0.593571</td>\n",
       "      <td>(0.538, 0.861]</td>\n",
       "      <td>-0.818739</td>\n",
       "      <td>0.275018</td>\n",
       "      <td>0.385234</td>\n",
       "      <td>0.446523</td>\n",
       "      <td>0.600452</td>\n",
       "      <td>-0.225168</td>\n",
       "    </tr>\n",
       "    <tr>\n",
       "      <th>598</th>\n",
       "      <td>COL200005020</td>\n",
       "      <td>cabro001</td>\n",
       "      <td>2000-05-02</td>\n",
       "      <td>0.785696</td>\n",
       "      <td>1</td>\n",
       "      <td>MON</td>\n",
       "      <td>223</td>\n",
       "      <td>COL200005020</td>\n",
       "      <td>guerv001</td>\n",
       "      <td>0.818739</td>\n",
       "      <td>...</td>\n",
       "      <td>598</td>\n",
       "      <td>0</td>\n",
       "      <td>0.643280</td>\n",
       "      <td>(0.538, 0.861]</td>\n",
       "      <td>0.214304</td>\n",
       "      <td>-0.818739</td>\n",
       "      <td>0.410338</td>\n",
       "      <td>0.385234</td>\n",
       "      <td>0.649603</td>\n",
       "      <td>-0.175459</td>\n",
       "    </tr>\n",
       "    <tr>\n",
       "      <th>599</th>\n",
       "      <td>COL200005020</td>\n",
       "      <td>cabro001</td>\n",
       "      <td>2000-05-02</td>\n",
       "      <td>0.785696</td>\n",
       "      <td>1</td>\n",
       "      <td>MON</td>\n",
       "      <td>223</td>\n",
       "      <td>COL200005020</td>\n",
       "      <td>whitr001</td>\n",
       "      <td>0.785696</td>\n",
       "      <td>...</td>\n",
       "      <td>1517</td>\n",
       "      <td>1</td>\n",
       "      <td>0.617319</td>\n",
       "      <td>(0.538, 0.861]</td>\n",
       "      <td>0.214304</td>\n",
       "      <td>0.214304</td>\n",
       "      <td>0.410338</td>\n",
       "      <td>0.410338</td>\n",
       "      <td>0.624054</td>\n",
       "      <td>0.045926</td>\n",
       "    </tr>\n",
       "    <tr>\n",
       "      <th>...</th>\n",
       "      <td>...</td>\n",
       "      <td>...</td>\n",
       "      <td>...</td>\n",
       "      <td>...</td>\n",
       "      <td>...</td>\n",
       "      <td>...</td>\n",
       "      <td>...</td>\n",
       "      <td>...</td>\n",
       "      <td>...</td>\n",
       "      <td>...</td>\n",
       "      <td>...</td>\n",
       "      <td>...</td>\n",
       "      <td>...</td>\n",
       "      <td>...</td>\n",
       "      <td>...</td>\n",
       "      <td>...</td>\n",
       "      <td>...</td>\n",
       "      <td>...</td>\n",
       "      <td>...</td>\n",
       "      <td>...</td>\n",
       "      <td>...</td>\n",
       "    </tr>\n",
       "    <tr>\n",
       "      <th>119485434</th>\n",
       "      <td>CHN201504050</td>\n",
       "      <td>jay-j001</td>\n",
       "      <td>2015-04-05</td>\n",
       "      <td>0.620176</td>\n",
       "      <td>1</td>\n",
       "      <td>SLN</td>\n",
       "      <td>736</td>\n",
       "      <td>CHN201504050</td>\n",
       "      <td>peraj001</td>\n",
       "      <td>0.653231</td>\n",
       "      <td>...</td>\n",
       "      <td>1115</td>\n",
       "      <td>1</td>\n",
       "      <td>0.405118</td>\n",
       "      <td>(0.402, 0.406]</td>\n",
       "      <td>0.379824</td>\n",
       "      <td>0.346769</td>\n",
       "      <td>0.485343</td>\n",
       "      <td>0.475941</td>\n",
       "      <td>0.414358</td>\n",
       "      <td>0.131711</td>\n",
       "    </tr>\n",
       "    <tr>\n",
       "      <th>119485437</th>\n",
       "      <td>CHN201504050</td>\n",
       "      <td>jay-j001</td>\n",
       "      <td>2015-04-05</td>\n",
       "      <td>0.620176</td>\n",
       "      <td>1</td>\n",
       "      <td>SLN</td>\n",
       "      <td>736</td>\n",
       "      <td>CHN201504050</td>\n",
       "      <td>wongk001</td>\n",
       "      <td>0.593029</td>\n",
       "      <td>...</td>\n",
       "      <td>1544</td>\n",
       "      <td>0</td>\n",
       "      <td>0.367782</td>\n",
       "      <td>(0.362, 0.368]</td>\n",
       "      <td>0.379824</td>\n",
       "      <td>-0.593029</td>\n",
       "      <td>0.485343</td>\n",
       "      <td>0.491269</td>\n",
       "      <td>0.377320</td>\n",
       "      <td>-0.225247</td>\n",
       "    </tr>\n",
       "    <tr>\n",
       "      <th>119485461</th>\n",
       "      <td>CHN201504050</td>\n",
       "      <td>lastt001</td>\n",
       "      <td>2015-04-05</td>\n",
       "      <td>0.554688</td>\n",
       "      <td>1</td>\n",
       "      <td>CHN</td>\n",
       "      <td>832</td>\n",
       "      <td>CHN201504050</td>\n",
       "      <td>rizza001</td>\n",
       "      <td>0.667974</td>\n",
       "      <td>...</td>\n",
       "      <td>1224</td>\n",
       "      <td>0</td>\n",
       "      <td>0.370517</td>\n",
       "      <td>(0.368, 0.374]</td>\n",
       "      <td>0.445312</td>\n",
       "      <td>-0.667974</td>\n",
       "      <td>0.497000</td>\n",
       "      <td>0.470940</td>\n",
       "      <td>0.379879</td>\n",
       "      <td>-0.297456</td>\n",
       "    </tr>\n",
       "    <tr>\n",
       "      <th>119485467</th>\n",
       "      <td>CHN201504050</td>\n",
       "      <td>lastt001</td>\n",
       "      <td>2015-04-05</td>\n",
       "      <td>0.554688</td>\n",
       "      <td>1</td>\n",
       "      <td>CHN</td>\n",
       "      <td>832</td>\n",
       "      <td>CHN201504050</td>\n",
       "      <td>olt-m001</td>\n",
       "      <td>0.524962</td>\n",
       "      <td>...</td>\n",
       "      <td>1064</td>\n",
       "      <td>0</td>\n",
       "      <td>0.291190</td>\n",
       "      <td>(0.0902, 0.326]</td>\n",
       "      <td>0.445312</td>\n",
       "      <td>-0.524962</td>\n",
       "      <td>0.497000</td>\n",
       "      <td>0.499377</td>\n",
       "      <td>0.301118</td>\n",
       "      <td>-0.233772</td>\n",
       "    </tr>\n",
       "    <tr>\n",
       "      <th>119485475</th>\n",
       "      <td>CHN201504050</td>\n",
       "      <td>olt-m001</td>\n",
       "      <td>2015-04-05</td>\n",
       "      <td>0.524962</td>\n",
       "      <td>0</td>\n",
       "      <td>CHN</td>\n",
       "      <td>1064</td>\n",
       "      <td>CHN201504050</td>\n",
       "      <td>rizza001</td>\n",
       "      <td>0.667974</td>\n",
       "      <td>...</td>\n",
       "      <td>1224</td>\n",
       "      <td>0</td>\n",
       "      <td>0.350661</td>\n",
       "      <td>(0.343, 0.354]</td>\n",
       "      <td>-0.524962</td>\n",
       "      <td>-0.667974</td>\n",
       "      <td>0.499377</td>\n",
       "      <td>0.470940</td>\n",
       "      <td>0.360068</td>\n",
       "      <td>0.350661</td>\n",
       "    </tr>\n",
       "  </tbody>\n",
       "</table>\n",
       "<p>1945436 rows × 22 columns</p>\n",
       "</div>"
      ],
      "text/plain": [
       "              GAME_ID_x  BAT_ID_x       Date  EstProb_x  Win_x BAT_TEAM_ID_x  \\\n",
       "201        COL200005020  guerv001 2000-05-02   0.818739      0           MON   \n",
       "212        COL200005020  guerv001 2000-05-02   0.818739      0           MON   \n",
       "227        COL200005020  guerv001 2000-05-02   0.818739      0           MON   \n",
       "598        COL200005020  cabro001 2000-05-02   0.785696      1           MON   \n",
       "599        COL200005020  cabro001 2000-05-02   0.785696      1           MON   \n",
       "...                 ...       ...        ...        ...    ...           ...   \n",
       "119485434  CHN201504050  jay-j001 2015-04-05   0.620176      1           SLN   \n",
       "119485437  CHN201504050  jay-j001 2015-04-05   0.620176      1           SLN   \n",
       "119485461  CHN201504050  lastt001 2015-04-05   0.554688      1           CHN   \n",
       "119485467  CHN201504050  lastt001 2015-04-05   0.554688      1           CHN   \n",
       "119485475  CHN201504050  olt-m001 2015-04-05   0.524962      0           CHN   \n",
       "\n",
       "           id_x     GAME_ID_y  BAT_ID_y  EstProb_y  ...  id_y Points  \\\n",
       "201         598  COL200005020  whitr001   0.785696  ...  1517      0   \n",
       "212         598  COL200005020  vidrj001   0.743022  ...  1490      0   \n",
       "227         598  COL200005020  stevl001   0.724982  ...  1378      0   \n",
       "598         223  COL200005020  guerv001   0.818739  ...   598      0   \n",
       "599         223  COL200005020  whitr001   0.785696  ...  1517      1   \n",
       "...         ...           ...       ...        ...  ...   ...    ...   \n",
       "119485434   736  CHN201504050  peraj001   0.653231  ...  1115      1   \n",
       "119485437   736  CHN201504050  wongk001   0.593029  ...  1544      0   \n",
       "119485461   832  CHN201504050  rizza001   0.667974  ...  1224      0   \n",
       "119485467   832  CHN201504050  olt-m001   0.524962  ...  1064      0   \n",
       "119485475  1064  CHN201504050  rizza001   0.667974  ...  1224      0   \n",
       "\n",
       "           ExpPoints              bin      Err1      Err2   ExpSD_x   ExpSD_y  \\\n",
       "201         0.643280   (0.538, 0.861] -0.818739  0.214304  0.385234  0.410338   \n",
       "212         0.608341   (0.538, 0.861] -0.818739  0.256978  0.385234  0.436967   \n",
       "227         0.593571   (0.538, 0.861] -0.818739  0.275018  0.385234  0.446523   \n",
       "598         0.643280   (0.538, 0.861]  0.214304 -0.818739  0.410338  0.385234   \n",
       "599         0.617319   (0.538, 0.861]  0.214304  0.214304  0.410338  0.410338   \n",
       "...              ...              ...       ...       ...       ...       ...   \n",
       "119485434   0.405118   (0.402, 0.406]  0.379824  0.346769  0.485343  0.475941   \n",
       "119485437   0.367782   (0.362, 0.368]  0.379824 -0.593029  0.485343  0.491269   \n",
       "119485461   0.370517   (0.368, 0.374]  0.445312 -0.667974  0.497000  0.470940   \n",
       "119485467   0.291190  (0.0902, 0.326]  0.445312 -0.524962  0.497000  0.499377   \n",
       "119485475   0.350661   (0.343, 0.354] -0.524962 -0.667974  0.499377  0.470940   \n",
       "\n",
       "           ExpPoints2        AB  \n",
       "201          0.649603 -0.175459  \n",
       "212          0.615074 -0.210398  \n",
       "227          0.600452 -0.225168  \n",
       "598          0.649603 -0.175459  \n",
       "599          0.624054  0.045926  \n",
       "...               ...       ...  \n",
       "119485434    0.414358  0.131711  \n",
       "119485437    0.377320 -0.225247  \n",
       "119485461    0.379879 -0.297456  \n",
       "119485467    0.301118 -0.233772  \n",
       "119485475    0.360068  0.350661  \n",
       "\n",
       "[1945436 rows x 22 columns]"
      ]
     },
     "execution_count": 345,
     "metadata": {},
     "output_type": "execute_result"
    }
   ],
   "source": [
    "test2"
   ]
  },
  {
   "cell_type": "code",
   "execution_count": null,
   "id": "nasty-powell",
   "metadata": {},
   "outputs": [],
   "source": []
  },
  {
   "cell_type": "code",
   "execution_count": null,
   "id": "connected-philadelphia",
   "metadata": {},
   "outputs": [],
   "source": []
  },
  {
   "cell_type": "code",
   "execution_count": null,
   "id": "based-think",
   "metadata": {},
   "outputs": [],
   "source": []
  },
  {
   "cell_type": "code",
   "execution_count": 301,
   "id": "assumed-nancy",
   "metadata": {},
   "outputs": [],
   "source": [
    "test4 = test[(test.GAME_ID_x == test.GAME_ID_y) & (test.BAT_TEAM_ID_x != test.BAT_TEAM_ID_y)].copy()"
   ]
  },
  {
   "cell_type": "code",
   "execution_count": 328,
   "id": "congressional-glory",
   "metadata": {},
   "outputs": [
    {
     "data": {
      "text/html": [
       "<div>\n",
       "<style scoped>\n",
       "    .dataframe tbody tr th:only-of-type {\n",
       "        vertical-align: middle;\n",
       "    }\n",
       "\n",
       "    .dataframe tbody tr th {\n",
       "        vertical-align: top;\n",
       "    }\n",
       "\n",
       "    .dataframe thead th {\n",
       "        text-align: right;\n",
       "    }\n",
       "</style>\n",
       "<table border=\"1\" class=\"dataframe\">\n",
       "  <thead>\n",
       "    <tr style=\"text-align: right;\">\n",
       "      <th></th>\n",
       "      <th>Err1</th>\n",
       "      <th>Err2</th>\n",
       "    </tr>\n",
       "  </thead>\n",
       "  <tbody>\n",
       "    <tr>\n",
       "      <th>Err1</th>\n",
       "      <td>1.000000</td>\n",
       "      <td>0.002575</td>\n",
       "    </tr>\n",
       "    <tr>\n",
       "      <th>Err2</th>\n",
       "      <td>0.002575</td>\n",
       "      <td>1.000000</td>\n",
       "    </tr>\n",
       "  </tbody>\n",
       "</table>\n",
       "</div>"
      ],
      "text/plain": [
       "          Err1      Err2\n",
       "Err1  1.000000  0.002575\n",
       "Err2  0.002575  1.000000"
      ]
     },
     "execution_count": 328,
     "metadata": {},
     "output_type": "execute_result"
    }
   ],
   "source": [
    "test4[['Err1', 'Err2']].corr()"
   ]
  },
  {
   "cell_type": "code",
   "execution_count": 329,
   "id": "executed-profession",
   "metadata": {},
   "outputs": [
    {
     "data": {
      "text/html": [
       "<div>\n",
       "<style scoped>\n",
       "    .dataframe tbody tr th:only-of-type {\n",
       "        vertical-align: middle;\n",
       "    }\n",
       "\n",
       "    .dataframe tbody tr th {\n",
       "        vertical-align: top;\n",
       "    }\n",
       "\n",
       "    .dataframe thead th {\n",
       "        text-align: right;\n",
       "    }\n",
       "</style>\n",
       "<table border=\"1\" class=\"dataframe\">\n",
       "  <thead>\n",
       "    <tr style=\"text-align: right;\">\n",
       "      <th></th>\n",
       "      <th>Win_x</th>\n",
       "      <th>Win_y</th>\n",
       "    </tr>\n",
       "  </thead>\n",
       "  <tbody>\n",
       "    <tr>\n",
       "      <th>Win_x</th>\n",
       "      <td>1.000000</td>\n",
       "      <td>0.004129</td>\n",
       "    </tr>\n",
       "    <tr>\n",
       "      <th>Win_y</th>\n",
       "      <td>0.004129</td>\n",
       "      <td>1.000000</td>\n",
       "    </tr>\n",
       "  </tbody>\n",
       "</table>\n",
       "</div>"
      ],
      "text/plain": [
       "          Win_x     Win_y\n",
       "Win_x  1.000000  0.004129\n",
       "Win_y  0.004129  1.000000"
      ]
     },
     "execution_count": 329,
     "metadata": {},
     "output_type": "execute_result"
    }
   ],
   "source": [
    "test4[['Win_x', 'Win_y']].corr()"
   ]
  },
  {
   "cell_type": "code",
   "execution_count": 303,
   "id": "sensitive-fourth",
   "metadata": {},
   "outputs": [],
   "source": [
    "test3 = test[(test.GAME_ID_x != test.GAME_ID_y)].copy()"
   ]
  },
  {
   "cell_type": "code",
   "execution_count": 304,
   "id": "played-queue",
   "metadata": {},
   "outputs": [
    {
     "data": {
      "text/html": [
       "<div>\n",
       "<style scoped>\n",
       "    .dataframe tbody tr th:only-of-type {\n",
       "        vertical-align: middle;\n",
       "    }\n",
       "\n",
       "    .dataframe tbody tr th {\n",
       "        vertical-align: top;\n",
       "    }\n",
       "\n",
       "    .dataframe thead th {\n",
       "        text-align: right;\n",
       "    }\n",
       "</style>\n",
       "<table border=\"1\" class=\"dataframe\">\n",
       "  <thead>\n",
       "    <tr style=\"text-align: right;\">\n",
       "      <th></th>\n",
       "      <th>Err1</th>\n",
       "      <th>Err2</th>\n",
       "    </tr>\n",
       "  </thead>\n",
       "  <tbody>\n",
       "    <tr>\n",
       "      <th>Err1</th>\n",
       "      <td>1.000000</td>\n",
       "      <td>0.000596</td>\n",
       "    </tr>\n",
       "    <tr>\n",
       "      <th>Err2</th>\n",
       "      <td>0.000596</td>\n",
       "      <td>1.000000</td>\n",
       "    </tr>\n",
       "  </tbody>\n",
       "</table>\n",
       "</div>"
      ],
      "text/plain": [
       "          Err1      Err2\n",
       "Err1  1.000000  0.000596\n",
       "Err2  0.000596  1.000000"
      ]
     },
     "execution_count": 304,
     "metadata": {},
     "output_type": "execute_result"
    }
   ],
   "source": [
    "test3[['Err1', 'Err2']].corr()"
   ]
  },
  {
   "cell_type": "code",
   "execution_count": 327,
   "id": "olive-marketing",
   "metadata": {},
   "outputs": [
    {
     "data": {
      "text/html": [
       "<div>\n",
       "<style scoped>\n",
       "    .dataframe tbody tr th:only-of-type {\n",
       "        vertical-align: middle;\n",
       "    }\n",
       "\n",
       "    .dataframe tbody tr th {\n",
       "        vertical-align: top;\n",
       "    }\n",
       "\n",
       "    .dataframe thead th {\n",
       "        text-align: right;\n",
       "    }\n",
       "</style>\n",
       "<table border=\"1\" class=\"dataframe\">\n",
       "  <thead>\n",
       "    <tr style=\"text-align: right;\">\n",
       "      <th></th>\n",
       "      <th>Win_x</th>\n",
       "      <th>Win_y</th>\n",
       "    </tr>\n",
       "  </thead>\n",
       "  <tbody>\n",
       "    <tr>\n",
       "      <th>Win_x</th>\n",
       "      <td>1.000000</td>\n",
       "      <td>0.001075</td>\n",
       "    </tr>\n",
       "    <tr>\n",
       "      <th>Win_y</th>\n",
       "      <td>0.001075</td>\n",
       "      <td>1.000000</td>\n",
       "    </tr>\n",
       "  </tbody>\n",
       "</table>\n",
       "</div>"
      ],
      "text/plain": [
       "          Win_x     Win_y\n",
       "Win_x  1.000000  0.001075\n",
       "Win_y  0.001075  1.000000"
      ]
     },
     "execution_count": 327,
     "metadata": {},
     "output_type": "execute_result"
    }
   ],
   "source": [
    "test3[['Win_x', 'Win_y']].corr()"
   ]
  },
  {
   "cell_type": "code",
   "execution_count": null,
   "id": "alive-hindu",
   "metadata": {},
   "outputs": [],
   "source": []
  }
 ],
 "metadata": {
  "kernelspec": {
   "display_name": "bts",
   "language": "python",
   "name": "bts"
  },
  "language_info": {
   "codemirror_mode": {
    "name": "ipython",
    "version": 3
   },
   "file_extension": ".py",
   "mimetype": "text/x-python",
   "name": "python",
   "nbconvert_exporter": "python",
   "pygments_lexer": "ipython3",
   "version": "3.7.10"
  }
 },
 "nbformat": 4,
 "nbformat_minor": 5
}
