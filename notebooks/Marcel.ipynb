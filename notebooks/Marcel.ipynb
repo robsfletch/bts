{
 "cells": [
  {
   "cell_type": "code",
   "execution_count": 142,
   "id": "regulated-benchmark",
   "metadata": {},
   "outputs": [],
   "source": [
    "import pandas as pd\n",
    "from pathlib import Path\n",
    "import statsmodels.formula.api as sm\n",
    "import numpy as np"
   ]
  },
  {
   "cell_type": "code",
   "execution_count": 143,
   "id": "foreign-shade",
   "metadata": {},
   "outputs": [],
   "source": [
    "interim = '../data/interim'\n",
    "br = pd.read_pickle(Path(interim) / 'batting_records.pkl')\n",
    "gl = pd.read_pickle(Path(interim) / 'game_logs.pkl')"
   ]
  },
  {
   "cell_type": "code",
   "execution_count": 144,
   "id": "norwegian-penny",
   "metadata": {},
   "outputs": [],
   "source": [
    "br = br.sort_values(['BAT_ID', 'year'])\n",
    "br_pred = br.loc[:, ['BAT_HAND', 'G', 'HR', 'PA']] # .groupby('BAT_ID').shift(1)\n",
    "br_pred = br_pred.dropna(subset=['G'])"
   ]
  },
  {
   "cell_type": "code",
   "execution_count": 212,
   "id": "beginning-beginning",
   "metadata": {},
   "outputs": [],
   "source": [
    "def marcel2(ser):\n",
    "    temp = harp.loc[ser.index]\n",
    "    \n",
    "    if len(temp) == 1:\n",
    "        hr = temp['HR'][0]*5\n",
    "        pa = temp['PA'][0]*.5 + 200\n",
    "    elif len(temp) == 2:\n",
    "        hr = temp['HR'][1]*5 + temp['HR'][0]*4\n",
    "        pa = temp['PA'][1]*.5 + temp['PA'][0]*.1 + 200\n",
    "    else:\n",
    "        hr = temp['HR'][2]*5 + temp['HR'][1]*4 + temp['HR'][0]*3\n",
    "        pa = temp['PA'][2]*.5 + temp['PA'][1]*.1 + 200\n",
    "       \n",
    "    y = temp.index.get_level_values('year')[0]\n",
    "    print([y, hr, pa])\n",
    "    return hr"
   ]
  },
  {
   "cell_type": "code",
   "execution_count": 213,
   "id": "selective-craft",
   "metadata": {},
   "outputs": [],
   "source": [
    "harp = br_pred[br_pred.index.get_level_values('BAT_ID') == 'harpb003']"
   ]
  },
  {
   "cell_type": "code",
   "execution_count": 175,
   "id": "extreme-board",
   "metadata": {},
   "outputs": [
    {
     "name": "stdout",
     "output_type": "stream",
     "text": [
      "[2012, 110, 497.0]\n",
      "[2012, 188, 506.4]\n",
      "[2012, 211, 445.4]\n",
      "[2013, 322, 566.2]\n",
      "[2014, 327, 578.9]\n",
      "[2015, 367, 508.7]\n",
      "[2016, 358, 596.7]\n",
      "[2017, 398, 610.5]\n",
      "[2018, 307, 389.7]\n",
      "BAT_ID  \n",
      "harpb003    110.0\n",
      "harpb003    188.0\n",
      "harpb003    211.0\n",
      "harpb003    322.0\n",
      "harpb003    327.0\n",
      "harpb003    367.0\n",
      "harpb003    358.0\n",
      "harpb003    398.0\n",
      "harpb003    307.0\n"
     ]
    }
   ],
   "source": [
    "print(harp.groupby('BAT_ID')['HR'].rolling(3, 1).apply(marcel2, raw=False).to_string())"
   ]
  },
  {
   "cell_type": "code",
   "execution_count": 191,
   "id": "pleased-handy",
   "metadata": {},
   "outputs": [],
   "source": [
    "temp = gl[['GAME_ID', 'year', 'HomeTeamLeague', 'VisitingTeamLeague', 'HomeHR', 'VisitorHR']]\n",
    "\n",
    "temp.columns = ['GAME_ID', 'year', 'LeagueHome', 'LeagueVisitor', 'HRHome', 'HRVisitor']\n",
    "\n",
    "b = pd.wide_to_long(temp, ['League', 'HR'], i=['GAME_ID', 'year'], j='Type', suffix=r'\\w+')\n",
    "\n",
    "LeagueHR = b.groupby(['League', 'year'])[['HR']].sum()\n",
    "LeagueHR = LeagueHR[LeagueHR.index.get_level_values('League').isin(['AL','NL'])]"
   ]
  },
  {
   "cell_type": "code",
   "execution_count": null,
   "id": "special-rebound",
   "metadata": {},
   "outputs": [],
   "source": []
  }
 ],
 "metadata": {
  "kernelspec": {
   "display_name": "bts",
   "language": "python",
   "name": "bts"
  },
  "language_info": {
   "codemirror_mode": {
    "name": "ipython",
    "version": 3
   },
   "file_extension": ".py",
   "mimetype": "text/x-python",
   "name": "python",
   "nbconvert_exporter": "python",
   "pygments_lexer": "ipython3",
   "version": "3.7.10"
  }
 },
 "nbformat": 4,
 "nbformat_minor": 5
}
