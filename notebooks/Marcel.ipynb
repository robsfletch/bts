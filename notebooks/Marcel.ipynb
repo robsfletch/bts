{
 "cells": [
  {
   "cell_type": "code",
   "execution_count": 142,
   "id": "regulated-benchmark",
   "metadata": {},
   "outputs": [],
   "source": [
    "import pandas as pd\n",
    "from pathlib import Path\n",
    "import statsmodels.formula.api as sm\n",
    "import numpy as np"
   ]
  },
  {
   "cell_type": "code",
   "execution_count": 143,
   "id": "foreign-shade",
   "metadata": {},
   "outputs": [],
   "source": [
    "interim = '../data/interim'\n",
    "br = pd.read_pickle(Path(interim) / 'batting_records.pkl')"
   ]
  },
  {
   "cell_type": "code",
   "execution_count": 144,
   "id": "norwegian-penny",
   "metadata": {},
   "outputs": [],
   "source": [
    "br = br.sort_values(['BAT_ID', 'year'])\n",
    "br_pred = br.loc[:, ['BAT_HAND', 'G', 'HR', 'PA']] # .groupby('BAT_ID').shift(1)\n",
    "br_pred = br_pred.dropna(subset=['G'])"
   ]
  },
  {
   "cell_type": "code",
   "execution_count": 145,
   "id": "infinite-client",
   "metadata": {},
   "outputs": [],
   "source": [
    "test = br_pred.head(100)"
   ]
  },
  {
   "cell_type": "code",
   "execution_count": 146,
   "id": "answering-vermont",
   "metadata": {},
   "outputs": [
    {
     "data": {
      "text/plain": [
       "BAT_ID    year\n",
       "aardd001  2006     0.000000\n",
       "          2008     0.000000\n",
       "          2015     0.000000\n",
       "aaroh101  1954     5.416667\n",
       "          1955    14.750000\n",
       "                    ...    \n",
       "abnes001  1987     0.833333\n",
       "          1988     1.500000\n",
       "          1989     2.000000\n",
       "          1990     1.583333\n",
       "          1991     2.083333\n",
       "Name: HR, Length: 100, dtype: float64"
      ]
     },
     "execution_count": 146,
     "metadata": {},
     "output_type": "execute_result"
    }
   ],
   "source": [
    "def marcel(ser):\n",
    "    temp = test.loc[ser.index]\n",
    "    \n",
    "    if len(temp) == 1:\n",
    "        return temp['HR'][0]*(5/12)\n",
    "    if len(temp) == 2:\n",
    "        return temp['HR'][1]*(5/12) + temp['HR'][0]*(4/12)\n",
    "    else:\n",
    "        return temp['HR'][2]*(5/12) + temp['HR'][1]*(4/12) + temp['HR'][0]*(3/12)\n",
    "\n",
    "test.HR.rolling(3, 1).apply(marcel, raw=False)"
   ]
  },
  {
   "cell_type": "code",
   "execution_count": 173,
   "id": "beginning-beginning",
   "metadata": {},
   "outputs": [],
   "source": [
    "def marcel2(ser):\n",
    "    temp = harp.loc[ser.index]\n",
    "    \n",
    "    if len(temp) == 1:\n",
    "        hr = temp['HR'][0]*5\n",
    "        pa = temp['PA'][0]*.5 + 200\n",
    "    elif len(temp) == 2:\n",
    "        hr = temp['HR'][1]*5 + temp['HR'][0]*4\n",
    "        pa = temp['PA'][1]*.5 + temp['PA'][0]*.1 + 200\n",
    "    else:\n",
    "        hr = temp['HR'][2]*5 + temp['HR'][1]*4 + temp['HR'][0]*3\n",
    "        pa = temp['PA'][2]*.5 + temp['PA'][1]*.1 + 200\n",
    "       \n",
    "    y = temp.index.get_level_values('year')[0]\n",
    "    print([y, hr, pa])\n",
    "    return hr"
   ]
  },
  {
   "cell_type": "code",
   "execution_count": 174,
   "id": "selective-craft",
   "metadata": {},
   "outputs": [],
   "source": [
    "harp = br_pred[br_pred.index.get_level_values('BAT_ID') == 'harpb003']"
   ]
  },
  {
   "cell_type": "code",
   "execution_count": 175,
   "id": "extreme-board",
   "metadata": {},
   "outputs": [
    {
     "name": "stdout",
     "output_type": "stream",
     "text": [
      "[2012, 110, 497.0]\n",
      "[2012, 188, 506.4]\n",
      "[2012, 211, 445.4]\n",
      "[2013, 322, 566.2]\n",
      "[2014, 327, 578.9]\n",
      "[2015, 367, 508.7]\n",
      "[2016, 358, 596.7]\n",
      "[2017, 398, 610.5]\n",
      "[2018, 307, 389.7]\n",
      "BAT_ID  \n",
      "harpb003    110.0\n",
      "harpb003    188.0\n",
      "harpb003    211.0\n",
      "harpb003    322.0\n",
      "harpb003    327.0\n",
      "harpb003    367.0\n",
      "harpb003    358.0\n",
      "harpb003    398.0\n",
      "harpb003    307.0\n"
     ]
    }
   ],
   "source": [
    "print(harp.groupby('BAT_ID')['HR'].rolling(3, 1).apply(marcel2, raw=False).to_string())"
   ]
  },
  {
   "cell_type": "code",
   "execution_count": 172,
   "id": "imperial-counter",
   "metadata": {},
   "outputs": [
    {
     "data": {
      "text/html": [
       "<div>\n",
       "<style scoped>\n",
       "    .dataframe tbody tr th:only-of-type {\n",
       "        vertical-align: middle;\n",
       "    }\n",
       "\n",
       "    .dataframe tbody tr th {\n",
       "        vertical-align: top;\n",
       "    }\n",
       "\n",
       "    .dataframe thead th {\n",
       "        text-align: right;\n",
       "    }\n",
       "</style>\n",
       "<table border=\"1\" class=\"dataframe\">\n",
       "  <thead>\n",
       "    <tr style=\"text-align: right;\">\n",
       "      <th></th>\n",
       "      <th></th>\n",
       "      <th>BAT_HAND</th>\n",
       "      <th>G</th>\n",
       "      <th>HR</th>\n",
       "      <th>PA</th>\n",
       "    </tr>\n",
       "    <tr>\n",
       "      <th>BAT_ID</th>\n",
       "      <th>year</th>\n",
       "      <th></th>\n",
       "      <th></th>\n",
       "      <th></th>\n",
       "      <th></th>\n",
       "    </tr>\n",
       "  </thead>\n",
       "  <tbody>\n",
       "    <tr>\n",
       "      <th rowspan=\"9\" valign=\"top\">harpb003</th>\n",
       "      <th>2012</th>\n",
       "      <td>0.0</td>\n",
       "      <td>138</td>\n",
       "      <td>22</td>\n",
       "      <td>594</td>\n",
       "    </tr>\n",
       "    <tr>\n",
       "      <th>2013</th>\n",
       "      <td>0.0</td>\n",
       "      <td>118</td>\n",
       "      <td>20</td>\n",
       "      <td>494</td>\n",
       "    </tr>\n",
       "    <tr>\n",
       "      <th>2014</th>\n",
       "      <td>0.0</td>\n",
       "      <td>100</td>\n",
       "      <td>13</td>\n",
       "      <td>392</td>\n",
       "    </tr>\n",
       "    <tr>\n",
       "      <th>2015</th>\n",
       "      <td>0.0</td>\n",
       "      <td>153</td>\n",
       "      <td>42</td>\n",
       "      <td>654</td>\n",
       "    </tr>\n",
       "    <tr>\n",
       "      <th>2016</th>\n",
       "      <td>0.0</td>\n",
       "      <td>147</td>\n",
       "      <td>24</td>\n",
       "      <td>627</td>\n",
       "    </tr>\n",
       "    <tr>\n",
       "      <th>2017</th>\n",
       "      <td>0.0</td>\n",
       "      <td>111</td>\n",
       "      <td>29</td>\n",
       "      <td>492</td>\n",
       "    </tr>\n",
       "    <tr>\n",
       "      <th>2018</th>\n",
       "      <td>0.0</td>\n",
       "      <td>159</td>\n",
       "      <td>34</td>\n",
       "      <td>695</td>\n",
       "    </tr>\n",
       "    <tr>\n",
       "      <th>2019</th>\n",
       "      <td>0.0</td>\n",
       "      <td>157</td>\n",
       "      <td>35</td>\n",
       "      <td>682</td>\n",
       "    </tr>\n",
       "    <tr>\n",
       "      <th>2020</th>\n",
       "      <td>0.0</td>\n",
       "      <td>58</td>\n",
       "      <td>13</td>\n",
       "      <td>243</td>\n",
       "    </tr>\n",
       "  </tbody>\n",
       "</table>\n",
       "</div>"
      ],
      "text/plain": [
       "               BAT_HAND    G  HR   PA\n",
       "BAT_ID   year                        \n",
       "harpb003 2012       0.0  138  22  594\n",
       "         2013       0.0  118  20  494\n",
       "         2014       0.0  100  13  392\n",
       "         2015       0.0  153  42  654\n",
       "         2016       0.0  147  24  627\n",
       "         2017       0.0  111  29  492\n",
       "         2018       0.0  159  34  695\n",
       "         2019       0.0  157  35  682\n",
       "         2020       0.0   58  13  243"
      ]
     },
     "execution_count": 172,
     "metadata": {},
     "output_type": "execute_result"
    }
   ],
   "source": [
    "harp"
   ]
  },
  {
   "cell_type": "code",
   "execution_count": null,
   "id": "bearing-christmas",
   "metadata": {},
   "outputs": [],
   "source": []
  }
 ],
 "metadata": {
  "kernelspec": {
   "display_name": "bts",
   "language": "python",
   "name": "bts"
  },
  "language_info": {
   "codemirror_mode": {
    "name": "ipython",
    "version": 3
   },
   "file_extension": ".py",
   "mimetype": "text/x-python",
   "name": "python",
   "nbconvert_exporter": "python",
   "pygments_lexer": "ipython3",
   "version": "3.7.10"
  }
 },
 "nbformat": 4,
 "nbformat_minor": 5
}
