{
 "cells": [
  {
   "cell_type": "code",
   "execution_count": null,
   "id": "tracked-retrieval",
   "metadata": {},
   "outputs": [],
   "source": [
    "import pandas as pd\n",
    "from pathlib import Path"
   ]
  },
  {
   "cell_type": "code",
   "execution_count": null,
   "id": "dried-abortion",
   "metadata": {},
   "outputs": [],
   "source": [
    "interim = Path('../data/interim/')"
   ]
  },
  {
   "cell_type": "code",
   "execution_count": null,
   "id": "stock-tuesday",
   "metadata": {},
   "outputs": [],
   "source": [
    "selection = pd.read_pickle(interim / 'lineup_selections.pkl')\n",
    "directory = pd.read_pickle(Path(interim) / 'directory.pkl')\n",
    "\n",
    "selection = pd.merge(\n",
    "    selection.reset_index(), \n",
    "    directory, \n",
    "    left_on=['BAT_ID'], \n",
    "    right_on=['PLAYER_ID'], \n",
    "    how='left'\n",
    ").set_index(['GAME_ID', 'BAT_ID'])"
   ]
  },
  {
   "cell_type": "code",
   "execution_count": null,
   "id": "italic-wallace",
   "metadata": {},
   "outputs": [],
   "source": [
    "x_vars = [\n",
    "    'FirstName', 'LastName', 'BAT_TEAM_ID', 'PIT_TEAM_ID', 'PIT_ID', 'spot', 'home', \n",
    "    'b_pred_AdjHPAdjPA', 'p_pred_AdjHPAdjPA',\n",
    "    'rating_rating_prob', 'rating_pitcher_rgs',\n",
    "    'rating_own_pitcher_rgs', 'park_h_factor', 'opp_hands'\n",
    "]"
   ]
  },
  {
   "cell_type": "code",
   "execution_count": null,
   "id": "palestinian-amino",
   "metadata": {},
   "outputs": [],
   "source": [
    "selection[['EstProb'] + x_vars].head(50)"
   ]
  },
  {
   "cell_type": "code",
   "execution_count": null,
   "id": "exclusive-shuttle",
   "metadata": {},
   "outputs": [],
   "source": []
  }
 ],
 "metadata": {
  "kernelspec": {
   "display_name": "bts",
   "language": "python",
   "name": "bts"
  },
  "language_info": {
   "codemirror_mode": {
    "name": "ipython",
    "version": 3
   },
   "file_extension": ".py",
   "mimetype": "text/x-python",
   "name": "python",
   "nbconvert_exporter": "python",
   "pygments_lexer": "ipython3"
  }
 },
 "nbformat": 4,
 "nbformat_minor": 5
}
