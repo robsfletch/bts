{
 "cells": [
  {
   "cell_type": "code",
   "execution_count": null,
   "metadata": {},
   "outputs": [],
   "source": [
    "from numpy.random import binomial\n",
    "import pandas as pd\n",
    "import numpy as np\n",
    "from pathlib import Path"
   ]
  },
  {
   "cell_type": "code",
   "execution_count": null,
   "metadata": {},
   "outputs": [],
   "source": [
    "interim = Path('../../data/interim')\n",
    "events = pd.read_pickle(Path(interim) / 'events.pkl')"
   ]
  },
  {
   "cell_type": "code",
   "execution_count": null,
   "metadata": {},
   "outputs": [],
   "source": [
    "events['EVENT_ID'] = events['EVENT_ID'].astype('int')\n",
    "events['INN_CT'] = events['INN_CT'].astype('int')\n",
    "events = events.sort_values(['GAME_ID', 'INN_CT', 'BAT_HOME_ID', 'EVENT_ID', 'BAT_LINEUP_ID'])"
   ]
  },
  {
   "cell_type": "code",
   "execution_count": null,
   "metadata": {},
   "outputs": [],
   "source": [
    "events = events.sort_values(['GAME_ID', 'INN_CT', 'BAT_HOME_ID', 'EVENT_ID', 'BAT_LINEUP_ID'])\n",
    "events['FINAL_OUTS'] = events['OUTS_CT'] + events['EVENT_OUTS_CT']\n",
    "\n",
    "events['outs_in_inn'] = events.groupby(['GAME_ID', 'BAT_HOME_ID', 'INN_CT'])['EVENT_OUTS_CT'].transform('sum')\n",
    "events['outs_in_game'] = events.groupby(['GAME_ID', 'BAT_HOME_ID'])['EVENT_OUTS_CT'].transform('sum')\n",
    "events = events.loc[events.outs_in_inn == 3]\n",
    "events = events.loc[events.outs_in_game == 27]\n",
    "\n",
    "events['INN_LAST_PLAY'] = np.where(events['FINAL_OUTS'] == 3, 1, 0)\n",
    "events['GAME_LAST_PLAY'] = np.where((events['INN_LAST_PLAY'] == 1) & (events['INN_CT'] == 9), 1, 0)\n",
    "\n",
    "events['NEXT_BATTER'] = np.where(\n",
    "    events['INN_LAST_PLAY'] == 1, 1, events['BAT_EVENT_FL'].astype('int')\n",
    ")"
   ]
  },
  {
   "cell_type": "markdown",
   "metadata": {},
   "source": [
    "## Prep data by cleaning states and events"
   ]
  },
  {
   "cell_type": "code",
   "execution_count": null,
   "metadata": {},
   "outputs": [],
   "source": [
    "# Limit to main event types and relevant variables for simplicity\n",
    "states_data = events.loc[\n",
    "    (events.outs_in_inn == 3) & (events.outs_in_game == 27),\n",
    "    ['EVENT_CD', 'BASE1_RUN_ID', 'BASE2_RUN_ID', \n",
    "    'BASE3_RUN_ID', 'BAT_DEST_ID', 'RUN1_DEST_ID', 'RUN2_DEST_ID', 'RUN3_DEST_ID',\n",
    "    'OUTS_CT', 'EVENT_OUTS_CT', 'EVENT_RUNS_CT', \n",
    "    'NEXT_BATTER', 'INN_LAST_PLAY', 'GAME_LAST_PLAY',\n",
    "    'GAME_ID', 'BAT_HOME_ID', 'INN_CT', 'BAT_EVENT_FL', 'BAT_LINEUP_ID', 'EVENT_ID', ]\n",
    "]\n",
    "states_data = states_data.sort_values(['GAME_ID', 'INN_CT', 'BAT_HOME_ID', 'EVENT_ID', 'BAT_LINEUP_ID'])\n",
    "\n",
    "# Come up with starting base state for each event\n",
    "states_data['1b'] = np.where(states_data['BASE1_RUN_ID'].isna(), 0, 1)\n",
    "states_data['2b'] = np.where(states_data['BASE2_RUN_ID'].isna(), 0, 1)\n",
    "states_data['3b'] = np.where(states_data['BASE3_RUN_ID'].isna(), 0, 1)\n",
    "states_data['bases'] = states_data['1b'] + states_data['2b']*2 + states_data['3b']*4\n",
    "\n",
    "# Come up with ending base state for each event\n",
    "states_data['1b_new'] = np.where(\n",
    "    (states_data['BAT_DEST_ID'] == 1) |\n",
    "    (states_data['RUN1_DEST_ID'] == 1) |\n",
    "    (states_data['RUN2_DEST_ID'] == 1) |\n",
    "    (states_data['RUN3_DEST_ID'] == 1),\n",
    "    1, 0\n",
    ")\n",
    "\n",
    "states_data['2b_new'] = np.where(\n",
    "    (states_data['BAT_DEST_ID'] == 2) |\n",
    "    (states_data['RUN1_DEST_ID'] == 2) |\n",
    "    (states_data['RUN2_DEST_ID'] == 2) |\n",
    "    (states_data['RUN3_DEST_ID'] == 2),\n",
    "    1, 0\n",
    ")\n",
    "\n",
    "states_data['3b_new'] = np.where(\n",
    "    (states_data['BAT_DEST_ID'] == 3) |\n",
    "    (states_data['RUN1_DEST_ID'] == 3) |\n",
    "    (states_data['RUN2_DEST_ID'] == 3) |\n",
    "    (states_data['RUN3_DEST_ID'] == 3),\n",
    "    1, 0\n",
    ")\n",
    "\n",
    "# Clean up outs and events\n",
    "states_data = states_data.rename(columns={'OUTS_CT': 'outs', 'EVENT_RUNS_CT': 'runs'})\n",
    "states_data['outs_new'] = np.where(\n",
    "    events['INN_LAST_PLAY'] == 1, 0, states_data['outs'] + states_data['EVENT_OUTS_CT']\n",
    ")\n",
    "\n",
    "# Cleanup lineup events\n",
    "states_data['BAT_LINEUP_ID_new'] = np.where(\n",
    "    states_data['BAT_LINEUP_ID'] + states_data['NEXT_BATTER'] == 10,\n",
    "    1, states_data['BAT_LINEUP_ID'] + states_data['NEXT_BATTER']\n",
    ")\n",
    "\n",
    "states_data['INN_CT_new'] = np.where(\n",
    "    (states_data['INN_LAST_PLAY'] == 1) & (states_data['GAME_LAST_PLAY'] != 1), \n",
    "    states_data['INN_CT'] + 1, \n",
    "    states_data['INN_CT']\n",
    ")\n",
    "\n",
    "states_data['bases_new'] = np.where(\n",
    "    events['INN_LAST_PLAY'] == 1, \n",
    "    0, \n",
    "    states_data['1b_new'] + states_data['2b_new']*2 + states_data['3b_new']*4\n",
    ")\n",
    "\n",
    "# Only keep base variables\n",
    "states = ['INN_CT', 'outs', 'bases', 'BAT_LINEUP_ID', 'INN_CT_new', 'INN_LAST_PLAY', 'outs_new', 'bases_new', 'BAT_LINEUP_ID_new']\n",
    "states_data = states_data.loc[:, states + ['EVENT_CD', 'BAT_EVENT_FL', 'runs'] + ['GAME_ID', 'BAT_HOME_ID', 'EVENT_ID']]"
   ]
  },
  {
   "cell_type": "markdown",
   "metadata": {},
   "source": [
    "## New State Probabilites conditional on starting state and event"
   ]
  },
  {
   "cell_type": "code",
   "execution_count": null,
   "metadata": {},
   "outputs": [],
   "source": [
    "new_state_prob = states_data.groupby(['outs', 'bases', 'INN_LAST_PLAY', 'outs_new', 'bases_new', 'EVENT_CD', 'BAT_EVENT_FL']).size().to_frame()\n",
    "new_state_prob.columns = ['freq']\n",
    "new_state_prob['totals'] = new_state_prob.groupby(['EVENT_CD', 'BAT_EVENT_FL' , 'outs', 'bases'])['freq'].transform('sum')\n",
    "new_state_prob['new_state_prob'] = new_state_prob['freq'] / new_state_prob['totals']\n",
    "del new_state_prob['totals']\n",
    "del new_state_prob['freq']\n",
    "\n",
    "new_state_prob = new_state_prob.reset_index()\n",
    "new_state_prob = new_state_prob.sort_values(['outs', 'bases', 'EVENT_CD', 'BAT_EVENT_FL', 'INN_LAST_PLAY', 'outs_new', 'bases_new'])\n",
    "\n",
    "new_state_prob = new_state_prob.reindex(np.repeat(new_state_prob.index, 9))\n",
    "new_state_prob['BAT_LINEUP_ID'] = new_state_prob.groupby(['outs', 'bases', 'EVENT_CD', 'BAT_EVENT_FL', 'INN_LAST_PLAY', 'outs_new', 'bases_new']).cumcount()+1\n",
    "\n",
    "new_state_prob['NEXT_BATTER'] = np.where(\n",
    "    new_state_prob['INN_LAST_PLAY'] == 1, 1, new_state_prob['BAT_EVENT_FL'].astype('int')\n",
    ")\n",
    "\n",
    "new_state_prob['BAT_LINEUP_ID_new'] = np.where(\n",
    "    new_state_prob['BAT_LINEUP_ID'] + new_state_prob['NEXT_BATTER'] == 10,\n",
    "    1, new_state_prob['BAT_LINEUP_ID'] + new_state_prob['NEXT_BATTER']\n",
    ")\n",
    "\n",
    "new_state_prob = new_state_prob.reset_index()\n",
    "new_state_prob = new_state_prob.reindex(np.repeat(new_state_prob.index, 9))\n",
    "new_state_prob['INN_CT'] = new_state_prob.groupby(['outs', 'bases', 'BAT_LINEUP_ID', 'EVENT_CD', 'BAT_EVENT_FL', 'INN_LAST_PLAY', 'outs_new', 'bases_new', 'BAT_LINEUP_ID_new']).cumcount()+1\n",
    "\n",
    "new_state_prob['INN_CT_new'] = np.where(\n",
    "    new_state_prob['INN_LAST_PLAY'] == 1, \n",
    "    new_state_prob['INN_CT'] + 1, \n",
    "    new_state_prob['INN_CT']\n",
    ")"
   ]
  },
  {
   "cell_type": "markdown",
   "metadata": {},
   "source": [
    "## Calculate Event Odds Conditional on State"
   ]
  },
  {
   "cell_type": "code",
   "execution_count": null,
   "metadata": {},
   "outputs": [],
   "source": [
    "event_prob = states_data.groupby(['outs', 'bases', 'BAT_LINEUP_ID', 'EVENT_CD']).size().to_frame()\n",
    "event_prob.columns = ['freq']\n",
    "event_prob['totals'] = event_prob.groupby(['outs', 'bases', 'BAT_LINEUP_ID'])['freq'].transform('sum')\n",
    "event_prob['event_prob'] = event_prob['freq'] / event_prob['totals']\n",
    "del event_prob['totals']\n",
    "del event_prob['freq']\n",
    "\n",
    "event_prob = event_prob.reset_index()\n",
    "event_prob = event_prob.sort_values(['outs', 'bases', 'BAT_LINEUP_ID', 'EVENT_CD'])"
   ]
  },
  {
   "cell_type": "code",
   "execution_count": null,
   "metadata": {},
   "outputs": [],
   "source": [
    "event_prob = event_prob.reindex(np.repeat(new_state_prob.index, 9))\n",
    "event_prob['INN_CT'] = event_prob.groupby(['outs', 'bases', 'BAT_LINEUP_ID', 'EVENT_CD']).cumcount()+1"
   ]
  },
  {
   "cell_type": "markdown",
   "metadata": {},
   "source": [
    "# Calculate Transition Probabilities"
   ]
  },
  {
   "cell_type": "code",
   "execution_count": null,
   "metadata": {},
   "outputs": [],
   "source": [
    "transition_prob = new_state_prob.merge(event_prob, on=['INN_CT', 'outs', 'bases', 'BAT_LINEUP_ID', 'EVENT_CD']).set_index(states)\n",
    "transition_prob['transition_prob'] = transition_prob['new_state_prob'] * transition_prob['event_prob']\n",
    "transition_prob = transition_prob.groupby(states)['transition_prob'].sum().to_frame()"
   ]
  },
  {
   "cell_type": "markdown",
   "metadata": {},
   "source": [
    "## Calculate Reward Matrix"
   ]
  },
  {
   "cell_type": "code",
   "execution_count": null,
   "metadata": {},
   "outputs": [],
   "source": [
    "rewards = states_data.groupby(['outs', 'bases', 'INN_LAST_PLAY', 'outs_new', 'bases_new'])[['runs']].mean()"
   ]
  },
  {
   "cell_type": "code",
   "execution_count": null,
   "metadata": {},
   "outputs": [],
   "source": [
    "merged = transition_prob.reset_index().merge(rewards, on=['outs', 'bases', 'INN_LAST_PLAY', 'outs_new', 'bases_new']) \n",
    "merged['prod'] = merged['transition_prob'] * merged['runs']\n",
    "Q = merged.groupby(['INN_CT', 'outs', 'bases', 'BAT_LINEUP_ID'])[['prod']].sum().to_numpy()"
   ]
  },
  {
   "cell_type": "markdown",
   "metadata": {},
   "source": [
    "## Set up matrices"
   ]
  },
  {
   "cell_type": "code",
   "execution_count": null,
   "metadata": {},
   "outputs": [],
   "source": [
    "inns_mat = [1, 2, 3, 4, 5, 6, 7, 8, 9]\n",
    "outs_mat = [0, 1, 2]\n",
    "bases_mat = [0, 1, 2, 3, 4, 5, 6, 7]\n",
    "lineup_mat = [1, 2, 3, 4, 5, 6, 7, 8, 9]\n",
    "mind = pd.MultiIndex.from_product(\n",
    "    [inns_mat, outs_mat, bases_mat, lineup_mat, inns_mat, outs_mat, bases_mat, lineup_mat], \n",
    "    names = ['INN_CT', 'outs', 'bases', 'BAT_LINEUP_ID', 'INN_CT_new', 'outs_new', 'bases_new', 'BAT_LINEUP_ID_new']\n",
    ")"
   ]
  },
  {
   "cell_type": "code",
   "execution_count": null,
   "metadata": {},
   "outputs": [],
   "source": [
    "transition_prob = transition_prob.reset_index().set_index(['INN_CT', 'outs', 'bases', 'BAT_LINEUP_ID', 'INN_CT_new', 'outs_new', 'bases_new', 'BAT_LINEUP_ID_new'])"
   ]
  },
  {
   "cell_type": "code",
   "execution_count": null,
   "metadata": {},
   "outputs": [],
   "source": [
    "transition_prob = transition_prob.reindex(mind, fill_value=0)"
   ]
  },
  {
   "cell_type": "code",
   "execution_count": null,
   "metadata": {},
   "outputs": [],
   "source": [
    "transition_prob_wide = transition_prob.reset_index().pivot(\n",
    "    index=['INN_CT', 'outs', 'bases', 'BAT_LINEUP_ID'], \n",
    "    columns=['INN_CT_new', 'outs_new', 'bases_new', 'BAT_LINEUP_ID_new'], \n",
    "    values='transition_prob'\n",
    ")\n",
    "P = transition_prob_wide.to_numpy()"
   ]
  },
  {
   "cell_type": "code",
   "execution_count": null,
   "metadata": {},
   "outputs": [],
   "source": [
    "rewards = rewards.reindex(mind, fill_value=0)\n",
    "rewards_wide = rewards.reset_index().pivot(\n",
    "    index=['INN_CT', 'outs', 'bases', 'BAT_LINEUP_ID'], \n",
    "    columns=['INN_CT_new', 'outs_new', 'bases_new', 'BAT_LINEUP_ID_new'], \n",
    "    values='runs'\n",
    ")\n",
    "R = rewards_wide.to_numpy()"
   ]
  },
  {
   "cell_type": "markdown",
   "metadata": {},
   "source": [
    "## Calculate Expected Runs"
   ]
  },
  {
   "cell_type": "code",
   "execution_count": null,
   "metadata": {},
   "outputs": [],
   "source": [
    "I = np.identity(P.shape[0])"
   ]
  },
  {
   "cell_type": "code",
   "execution_count": null,
   "metadata": {},
   "outputs": [],
   "source": [
    "v = np.linalg.solve((I-P), Q)"
   ]
  },
  {
   "cell_type": "code",
   "execution_count": null,
   "metadata": {},
   "outputs": [],
   "source": [
    "mind2 = pd.MultiIndex.from_product(\n",
    "    [inns_mat, outs_mat, bases_mat, lineup_mat], \n",
    "    names = ['INN_CT', 'outs', 'bases', 'BAT_LINEUP_ID']\n",
    ")\n",
    "v_pd = pd.DataFrame(v, index=mind2)"
   ]
  },
  {
   "cell_type": "markdown",
   "metadata": {},
   "source": [
    "## Compare with Actual Run Values"
   ]
  },
  {
   "cell_type": "code",
   "execution_count": null,
   "metadata": {},
   "outputs": [],
   "source": [
    "states_data = states_data.sort_values(['GAME_ID', 'INN_CT', 'BAT_HOME_ID', 'EVENT_ID', 'BAT_LINEUP_ID'])\n",
    "states_data['current_game_runs'] = states_data.groupby(['GAME_ID', 'BAT_HOME_ID'])['runs'].cumsum()\n",
    "\n",
    "states_data['game_runs'] = states_data.groupby(['GAME_ID', 'BAT_HOME_ID'])['runs'].transform('sum')\n",
    "\n",
    "states_data['add_runs'] = states_data['game_runs'] - states_data['current_game_runs'] + states_data['runs']"
   ]
  },
  {
   "cell_type": "code",
   "execution_count": null,
   "metadata": {},
   "outputs": [],
   "source": [
    "states_data.groupby(['INN_CT', 'outs', 'bases', 'BAT_LINEUP_ID'])['add_runs'].agg('mean').to_frame().head(15)"
   ]
  },
  {
   "cell_type": "code",
   "execution_count": null,
   "metadata": {},
   "outputs": [],
   "source": [
    "v_pd.head(20)"
   ]
  },
  {
   "cell_type": "code",
   "execution_count": null,
   "metadata": {},
   "outputs": [],
   "source": [
    "pd.crosstab(events.inning_runs, events.EVENT_RUNS_CT)"
   ]
  },
  {
   "cell_type": "code",
   "execution_count": null,
   "metadata": {},
   "outputs": [],
   "source": []
  },
  {
   "cell_type": "code",
   "execution_count": null,
   "metadata": {},
   "outputs": [],
   "source": []
  },
  {
   "cell_type": "code",
   "execution_count": null,
   "metadata": {},
   "outputs": [],
   "source": []
  },
  {
   "cell_type": "code",
   "execution_count": null,
   "metadata": {},
   "outputs": [],
   "source": []
  },
  {
   "cell_type": "code",
   "execution_count": null,
   "metadata": {},
   "outputs": [],
   "source": []
  }
 ],
 "metadata": {
  "kernelspec": {
   "display_name": "Python 3",
   "language": "python",
   "name": "python3"
  },
  "language_info": {
   "codemirror_mode": {
    "name": "ipython",
    "version": 3
   },
   "file_extension": ".py",
   "mimetype": "text/x-python",
   "name": "python",
   "nbconvert_exporter": "python",
   "pygments_lexer": "ipython3"
  }
 },
 "nbformat": 4,
 "nbformat_minor": 4
}
