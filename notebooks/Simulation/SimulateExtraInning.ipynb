{
 "cells": [
  {
   "cell_type": "code",
   "execution_count": null,
   "metadata": {},
   "outputs": [],
   "source": [
    "from numpy.random import binomial\n",
    "import pandas as pd\n",
    "import numpy as np\n",
    "from pathlib import Path"
   ]
  },
  {
   "cell_type": "markdown",
   "metadata": {},
   "source": [
    "## Events Prep"
   ]
  },
  {
   "cell_type": "code",
   "execution_count": null,
   "metadata": {},
   "outputs": [],
   "source": [
    "interim = Path('../../data/interim')\n",
    "events = pd.read_pickle(Path(interim) / 'events.pkl')"
   ]
  },
  {
   "cell_type": "code",
   "execution_count": null,
   "metadata": {},
   "outputs": [],
   "source": [
    "events['EVENT_ID'] = events['EVENT_ID'].astype('int')\n",
    "events['INN_CT'] = events['INN_CT'].astype('int')\n",
    "events = events.sort_values(['GAME_ID', 'INN_CT', 'BAT_HOME_ID', 'EVENT_ID', 'BAT_LINEUP_ID'])"
   ]
  },
  {
   "cell_type": "markdown",
   "metadata": {},
   "source": [
    "###### States\n",
    "- Outs DONE\n",
    "- Bases, DONE\n",
    "- ScoreDiff, DONE\n",
    "- TopVBottom, DONE\n",
    "- Home Lineup, DONE\n",
    "- Away Lineup, DONE"
   ]
  },
  {
   "cell_type": "markdown",
   "metadata": {},
   "source": [
    "### Outs"
   ]
  },
  {
   "cell_type": "code",
   "execution_count": null,
   "metadata": {},
   "outputs": [],
   "source": [
    "events['TOTAL_OUTS_CT'] = events['OUTS_CT'] + events['EVENT_OUTS_CT']\n",
    "events['OUTS_CT_new'] = events['TOTAL_OUTS_CT'].mod(3)"
   ]
  },
  {
   "cell_type": "markdown",
   "metadata": {},
   "source": [
    "### Bases"
   ]
  },
  {
   "cell_type": "code",
   "execution_count": null,
   "metadata": {},
   "outputs": [],
   "source": [
    "# Come up with starting base state for each event\n",
    "events['1b'] = np.where(events['BASE1_RUN_ID'].isna(), 0, 1)\n",
    "events['2b'] = np.where(events['BASE2_RUN_ID'].isna(), 0, 1)\n",
    "events['3b'] = np.where(events['BASE3_RUN_ID'].isna(), 0, 1)\n",
    "events['bases'] = events['1b'] + events['2b']*2 + events['3b']*4\n",
    "\n",
    "# Come up with ending base state for each event\n",
    "events['1b_new'] = np.where(\n",
    "    (events['BAT_DEST_ID'] == 1) |\n",
    "    (events['RUN1_DEST_ID'] == 1) |\n",
    "    (events['RUN2_DEST_ID'] == 1) |\n",
    "    (events['RUN3_DEST_ID'] == 1),\n",
    "    1, 0\n",
    ")\n",
    "\n",
    "events['2b_new'] = np.where(\n",
    "    (events['BAT_DEST_ID'] == 2) |\n",
    "    (events['RUN1_DEST_ID'] == 2) |\n",
    "    (events['RUN2_DEST_ID'] == 2) |\n",
    "    (events['RUN3_DEST_ID'] == 2),\n",
    "    1, 0\n",
    ")\n",
    "\n",
    "events['3b_new'] = np.where(\n",
    "    (events['BAT_DEST_ID'] == 3) |\n",
    "    (events['RUN1_DEST_ID'] == 3) |\n",
    "    (events['RUN2_DEST_ID'] == 3) |\n",
    "    (events['RUN3_DEST_ID'] == 3),\n",
    "    1, 0\n",
    ")\n",
    "\n",
    "events['bases_new'] = events['1b_new'] + events['2b_new']*2 + events['3b_new']*4"
   ]
  },
  {
   "cell_type": "markdown",
   "metadata": {},
   "source": [
    "### Top Vs. Bottom"
   ]
  },
  {
   "cell_type": "code",
   "execution_count": null,
   "metadata": {},
   "outputs": [],
   "source": [
    "events['BAT_HOME_ID_new'] = np.where(\n",
    "    (events['TOTAL_OUTS_CT'] == 3),\n",
    "    1 - events['BAT_HOME_ID'] ,\n",
    "    events['BAT_HOME_ID']\n",
    ")"
   ]
  },
  {
   "cell_type": "markdown",
   "metadata": {},
   "source": [
    "### Score Diff"
   ]
  },
  {
   "cell_type": "code",
   "execution_count": null,
   "metadata": {},
   "outputs": [],
   "source": [
    "events['SCORE_DIFF'] = events['HOME_SCORE_CT'] - events['AWAY_SCORE_CT']\n",
    "\n",
    "events['SCORE_DIFF'] = np.where(\n",
    "    events['SCORE_DIFF'] > 8, 8, events['SCORE_DIFF']\n",
    ")\n",
    "\n",
    "events['SCORE_DIFF'] = np.where(\n",
    "    events['SCORE_DIFF'] < -8, -8, events['SCORE_DIFF']\n",
    ")\n",
    "\n",
    "events['HOME_SCORE_CT_new'] = np.where(\n",
    "    events['BAT_HOME_ID'] == 1,\n",
    "    events['HOME_SCORE_CT'] + events['EVENT_RUNS_CT'], \n",
    "    events['HOME_SCORE_CT']\n",
    ")\n",
    "\n",
    "events['AWAY_SCORE_CT_new'] = np.where(\n",
    "    events['BAT_HOME_ID'] == 0,\n",
    "    events['AWAY_SCORE_CT'] + events['EVENT_RUNS_CT'], \n",
    "    events['AWAY_SCORE_CT']\n",
    ")\n",
    "\n",
    "events['SCORE_DIFF_new'] = events['HOME_SCORE_CT_new'] - events['AWAY_SCORE_CT_new']\n",
    "\n",
    "events['SCORE_DIFF_new'] = np.where(\n",
    "    events['SCORE_DIFF_new'] > 8, 8, events['SCORE_DIFF_new']\n",
    ")\n",
    "\n",
    "events['SCORE_DIFF_new'] = np.where(\n",
    "    events['SCORE_DIFF_new'] < -8, -8, events['SCORE_DIFF_new']\n",
    ")"
   ]
  },
  {
   "cell_type": "markdown",
   "metadata": {},
   "source": [
    "### Batting Lineups"
   ]
  },
  {
   "cell_type": "code",
   "execution_count": null,
   "metadata": {},
   "outputs": [],
   "source": [
    "events = events.sort_values(['GAME_ID', 'INN_CT', 'EVENT_ID', 'BAT_LINEUP_ID'])\n",
    "\n",
    "events['HOME_BAT_LINEUP_ID'] = np.where(\n",
    "    events['BAT_HOME_ID'] == 1,\n",
    "    events['BAT_LINEUP_ID'],\n",
    "    np.nan\n",
    ")\n",
    "\n",
    "events['HOME_BAT_LINEUP_ID'] = np.where(\n",
    "    (events['INN_CT'] == 1) & (events['BAT_HOME_ID'] == 0),\n",
    "    1,\n",
    "    events['HOME_BAT_LINEUP_ID']\n",
    ")\n",
    "\n",
    "events['AWAY_BAT_LINEUP_ID'] = np.where(\n",
    "    events['BAT_HOME_ID'] == 0,\n",
    "    events['BAT_LINEUP_ID'],\n",
    "    np.nan\n",
    ")\n",
    "\n",
    "events['half_inning_event_ct'] = events.groupby(['GAME_ID', 'INN_CT', 'BAT_HOME_ID']).cumcount() + 1\n",
    "\n",
    "events['HOME_BAT_LINEUP_ID'] = np.where(\n",
    "    (events['half_inning_event_ct'] == 1) & (events['HOME_BAT_LINEUP_ID'].isna()),\n",
    "    events.groupby(['GAME_ID'])['HOME_BAT_LINEUP_ID'].shift(1).add(1).mod(9),\n",
    "    events['HOME_BAT_LINEUP_ID']\n",
    ")\n",
    "\n",
    "events['AWAY_BAT_LINEUP_ID'] = np.where(\n",
    "    (events['half_inning_event_ct'] == 1) & (events['AWAY_BAT_LINEUP_ID'].isna()),\n",
    "    events.groupby(['GAME_ID'])['AWAY_BAT_LINEUP_ID'].shift(1).add(1).mod(9),\n",
    "    events['AWAY_BAT_LINEUP_ID']\n",
    ")\n",
    "\n",
    "events['HOME_BAT_LINEUP_ID'] = events.groupby(['GAME_ID'])['HOME_BAT_LINEUP_ID'].ffill()\n",
    "events['AWAY_BAT_LINEUP_ID'] = events.groupby(['GAME_ID'])['AWAY_BAT_LINEUP_ID'].ffill()"
   ]
  },
  {
   "cell_type": "code",
   "execution_count": null,
   "metadata": {},
   "outputs": [],
   "source": [
    "events['WALKOFF'] = np.where(\n",
    "    (events['SCORE_DIFF_new'] > 0) & (events['INN_CT'] >= 9) & (events['BAT_HOME_ID'] == 1),\n",
    "    1, 0\n",
    ")\n",
    "\n",
    "events['INN_LAST_PLAY'] = np.where(\n",
    "    (events['TOTAL_OUTS_CT'] == 3) | (events['WALKOFF'] == 1), 1, 0\n",
    ")\n",
    "\n",
    "events['NEXT_BATTER'] = np.where(\n",
    "    events['INN_LAST_PLAY'] == 1, 1, events['BAT_EVENT_FL'].astype('int')\n",
    ")\n",
    "\n",
    "events['HOME_NEXT_BATTER'] = np.where(\n",
    "    events['BAT_HOME_ID'] == 1, events['NEXT_BATTER'], 0\n",
    ")\n",
    "\n",
    "events['AWAY_NEXT_BATTER'] = np.where(\n",
    "    events['BAT_HOME_ID'] == 0, events['NEXT_BATTER'], 0\n",
    ")"
   ]
  },
  {
   "cell_type": "code",
   "execution_count": null,
   "metadata": {},
   "outputs": [],
   "source": [
    "events['HOME_BAT_LINEUP_ID_new'] = (events['HOME_BAT_LINEUP_ID'] + events['HOME_NEXT_BATTER']).mod(9)\n",
    "\n",
    "events['AWAY_BAT_LINEUP_ID_new'] = (events['AWAY_BAT_LINEUP_ID'] + events['AWAY_NEXT_BATTER']).mod(9)\n",
    "\n",
    "events['BAT_LINEUP_ID_new'] = np.where(\n",
    "    events['BAT_HOME_ID_new'] == 1,\n",
    "    events['HOME_BAT_LINEUP_ID_new'],\n",
    "    events['AWAY_BAT_LINEUP_ID_new']\n",
    ")"
   ]
  },
  {
   "cell_type": "markdown",
   "metadata": {},
   "source": [
    "## Prep data by cleaning states and events"
   ]
  },
  {
   "cell_type": "code",
   "execution_count": null,
   "metadata": {},
   "outputs": [],
   "source": [
    "# Limit to main event types and relevant variables for simplicity\n",
    "# states_data = events.loc[\n",
    "#     : , # events.outs_in_inn == 3,\n",
    "#     ['EVENT_CD', 'BASE1_RUN_ID', 'BASE2_RUN_ID', 'BASE3_RUN_ID', \n",
    "#     'BAT_DEST_ID', 'RUN1_DEST_ID', 'RUN2_DEST_ID', 'RUN3_DEST_ID',\n",
    "#     'OUTS_CT', 'EVENT_OUTS_CT', 'NEXT_BATTER',\n",
    "#     'GAME_ID', 'BAT_HOME_ID', 'INN_CT', 'BAT_EVENT_FL', 'EVENT_ID', \n",
    "#     'BAT_LINEUP_ID', 'HOME_BAT_LINEUP_ID', 'AWAY_BAT_LINEUP_ID', \n",
    "#     'EVENT_RUNS_CT', 'AWAY_SCORE_CT', 'HOME_SCORE_CT', 'SCORE_DIFF', 'SCORE_DIFF_new', 'WALKOFF']\n",
    "# ]"
   ]
  },
  {
   "cell_type": "code",
   "execution_count": null,
   "metadata": {},
   "outputs": [],
   "source": [
    "# Only keep base variables\n",
    "states = [\n",
    "    'OUTS_CT', 'bases', 'SCORE_DIFF', 'BAT_HOME_ID', \n",
    "    'HOME_BAT_LINEUP_ID', 'AWAY_BAT_LINEUP_ID', \n",
    "    'OUTS_CT_new', 'bases_new', 'SCORE_DIFF_new', 'BAT_HOME_ID_new', \n",
    "    'HOME_BAT_LINEUP_ID_new', 'AWAY_BAT_LINEUP_ID_new'\n",
    "]\n",
    "\n",
    "states_data = events.loc[:, states + ['EVENT_CD', 'BAT_EVENT_FL', 'TOTAL_OUTS_CT', 'EVENT_RUNS_CT'] + ['GAME_ID', 'INN_CT', 'EVENT_ID']]\n",
    "\n",
    "states_data = states_data.sort_values(['GAME_ID', 'INN_CT', 'BAT_HOME_ID', 'EVENT_ID'])\n"
   ]
  },
  {
   "cell_type": "code",
   "execution_count": null,
   "metadata": {},
   "outputs": [],
   "source": [
    "del events"
   ]
  },
  {
   "cell_type": "markdown",
   "metadata": {},
   "source": [
    "## New State Probabilites conditional on starting state and event"
   ]
  },
  {
   "cell_type": "code",
   "execution_count": null,
   "metadata": {},
   "outputs": [],
   "source": [
    "new_state_prob = states_data.groupby([\n",
    "    'OUTS_CT', 'bases', 'TOTAL_OUTS_CT', 'bases_new', \n",
    "    'EVENT_CD', 'BAT_EVENT_FL', 'EVENT_RUNS_CT'\n",
    "]).size().to_frame()\n",
    "new_state_prob.columns = ['freq']\n",
    "\n",
    "new_state_prob['totals'] = new_state_prob.groupby([\n",
    "    'EVENT_CD', 'BAT_EVENT_FL' , 'OUTS_CT', 'bases'\n",
    "])['freq'].transform('sum')\n",
    "new_state_prob['new_state_prob'] = new_state_prob['freq'] / new_state_prob['totals']\n",
    "del new_state_prob['totals']\n",
    "del new_state_prob['freq']\n",
    "\n",
    "new_state_prob = new_state_prob.reset_index()\n",
    "new_state_prob = new_state_prob.sort_values([\n",
    "    'OUTS_CT', 'bases', 'EVENT_CD', 'BAT_EVENT_FL', 'TOTAL_OUTS_CT', 'bases_new', 'EVENT_RUNS_CT'\n",
    "])"
   ]
  },
  {
   "cell_type": "code",
   "execution_count": null,
   "metadata": {},
   "outputs": [],
   "source": [
    "new_state_prob = new_state_prob.reindex(np.repeat(new_state_prob.index, 9))\n",
    "new_state_prob['HOME_BAT_LINEUP_ID'] = new_state_prob.groupby([\n",
    "    'OUTS_CT', 'bases', 'EVENT_CD', 'BAT_EVENT_FL', 'TOTAL_OUTS_CT', 'bases_new', 'EVENT_RUNS_CT'\n",
    "]).cumcount()+1\n",
    "new_state_prob = new_state_prob.reset_index(drop=True)\n",
    "\n",
    "new_state_prob = new_state_prob.reindex(np.repeat(new_state_prob.index, 9))\n",
    "new_state_prob['AWAY_BAT_LINEUP_ID'] = new_state_prob.groupby([\n",
    "    'OUTS_CT', 'bases', 'HOME_BAT_LINEUP_ID', 'EVENT_CD', \n",
    "    'BAT_EVENT_FL', 'TOTAL_OUTS_CT', 'bases_new', 'EVENT_RUNS_CT'\n",
    "]).cumcount()+1\n",
    "new_state_prob = new_state_prob.reset_index(drop=True)\n",
    "\n",
    "new_state_prob = new_state_prob.reindex(np.repeat(new_state_prob.index, 2))\n",
    "new_state_prob['BAT_HOME_ID'] = new_state_prob.groupby([\n",
    "    'OUTS_CT', 'bases', 'HOME_BAT_LINEUP_ID', 'AWAY_BAT_LINEUP_ID', \n",
    "    'EVENT_CD', 'BAT_EVENT_FL', 'TOTAL_OUTS_CT', 'bases_new', 'EVENT_RUNS_CT'\n",
    "]).cumcount()\n",
    "new_state_prob = new_state_prob.reset_index(drop=True)\n",
    "\n",
    "new_state_prob = new_state_prob.reindex(np.repeat(new_state_prob.index, 17))\n",
    "new_state_prob['SCORE_DIFF'] = new_state_prob.groupby([\n",
    "    'OUTS_CT', 'bases', 'HOME_BAT_LINEUP_ID', 'AWAY_BAT_LINEUP_ID', \n",
    "    'BAT_HOME_ID', 'EVENT_CD', 'BAT_EVENT_FL', 'TOTAL_OUTS_CT', 'bases_new', 'EVENT_RUNS_CT'\n",
    "]).cumcount() - 8 \n",
    "new_state_prob = new_state_prob.reset_index(drop=True)"
   ]
  },
  {
   "cell_type": "code",
   "execution_count": null,
   "metadata": {},
   "outputs": [],
   "source": [
    "new_state_prob['OUTS_CT_new'] = new_state_prob['TOTAL_OUTS_CT'].mod(3)"
   ]
  },
  {
   "cell_type": "code",
   "execution_count": null,
   "metadata": {},
   "outputs": [],
   "source": [
    "new_state_prob['BAT_HOME_ID_new'] = np.where(\n",
    "    (new_state_prob['TOTAL_OUTS_CT'] == 3),\n",
    "    1 - new_state_prob['BAT_HOME_ID'] ,\n",
    "    new_state_prob['BAT_HOME_ID']\n",
    ")"
   ]
  },
  {
   "cell_type": "code",
   "execution_count": null,
   "metadata": {},
   "outputs": [],
   "source": [
    "new_state_prob['SCORE_DIFF_new'] = np.where(\n",
    "    new_state_prob['BAT_HOME_ID'] == 1,\n",
    "    new_state_prob['SCORE_DIFF'] + new_state_prob['EVENT_RUNS_CT'], \n",
    "    new_state_prob['SCORE_DIFF']\n",
    ")\n",
    "\n",
    "new_state_prob['SCORE_DIFF_new'] = np.where(\n",
    "    new_state_prob['BAT_HOME_ID'] == 0,\n",
    "    new_state_prob['SCORE_DIFF'] - new_state_prob['EVENT_RUNS_CT'], \n",
    "    new_state_prob['SCORE_DIFF']\n",
    ")\n",
    "\n",
    "new_state_prob['SCORE_DIFF_new'] = np.where(\n",
    "    new_state_prob['SCORE_DIFF'] > 8, 8, new_state_prob['SCORE_DIFF_new']\n",
    ")\n",
    "\n",
    "new_state_prob['SCORE_DIFF_new'] = np.where(\n",
    "    new_state_prob['SCORE_DIFF_new'] > 8, 8, new_state_prob['SCORE_DIFF_new']\n",
    ")\n",
    "\n",
    "new_state_prob['SCORE_DIFF_new'] = np.where(\n",
    "    new_state_prob['SCORE_DIFF'] < -8, -8, new_state_prob['SCORE_DIFF_new']\n",
    ")\n",
    "\n",
    "new_state_prob['SCORE_DIFF_new'] = np.where(\n",
    "    new_state_prob['SCORE_DIFF_new'] < -8, -8, new_state_prob['SCORE_DIFF_new']\n",
    ")"
   ]
  },
  {
   "cell_type": "code",
   "execution_count": null,
   "metadata": {},
   "outputs": [],
   "source": [
    "new_state_prob['WALKOFF'] = np.where(\n",
    "    (new_state_prob['SCORE_DIFF_new'] > 0) & (new_state_prob['BAT_HOME_ID'] == 1),\n",
    "    1, 0\n",
    ")\n",
    "\n",
    "new_state_prob['INN_LAST_PLAY'] = np.where(\n",
    "    (new_state_prob['TOTAL_OUTS_CT'] == 3) | (new_state_prob['WALKOFF'] == 1), 1, 0\n",
    ")\n",
    "\n",
    "new_state_prob['NEXT_BATTER'] = np.where(\n",
    "    new_state_prob['INN_LAST_PLAY'] == 1, 1, new_state_prob['BAT_EVENT_FL'].astype('int')\n",
    ")\n",
    "\n",
    "new_state_prob['HOME_NEXT_BATTER'] = np.where(\n",
    "    new_state_prob['BAT_HOME_ID'] == 1, new_state_prob['NEXT_BATTER'], 0\n",
    ")\n",
    "\n",
    "new_state_prob['AWAY_NEXT_BATTER'] = np.where(\n",
    "    new_state_prob['BAT_HOME_ID'] == 0, new_state_prob['NEXT_BATTER'], 0\n",
    ")"
   ]
  },
  {
   "cell_type": "code",
   "execution_count": null,
   "metadata": {},
   "outputs": [],
   "source": [
    "new_state_prob['HOME_BAT_LINEUP_ID_new'] = (new_state_prob['HOME_BAT_LINEUP_ID'] + \n",
    "                                            new_state_prob['HOME_NEXT_BATTER']).mod(9)\n",
    "\n",
    "new_state_prob['AWAY_BAT_LINEUP_ID_new'] = (new_state_prob['AWAY_BAT_LINEUP_ID'] + \n",
    "                                            new_state_prob['AWAY_NEXT_BATTER']).mod(9)\n",
    "\n",
    "new_state_prob['BAT_LINEUP_ID_new'] = np.where(\n",
    "    new_state_prob['BAT_HOME_ID_new'] == 1,\n",
    "    new_state_prob['HOME_BAT_LINEUP_ID_new'],\n",
    "    new_state_prob['AWAY_BAT_LINEUP_ID_new']\n",
    ")"
   ]
  },
  {
   "cell_type": "markdown",
   "metadata": {},
   "source": [
    "## Calculate Event Odds Conditional on State"
   ]
  },
  {
   "cell_type": "code",
   "execution_count": null,
   "metadata": {},
   "outputs": [],
   "source": [
    "event_prob = states_data.groupby([\n",
    "    'OUTS_CT', 'bases', 'SCORE_DIFF', 'BAT_HOME_ID', \n",
    "    'HOME_BAT_LINEUP_ID', 'AWAY_BAT_LINEUP_ID', 'EVENT_CD'\n",
    "]).size().to_frame()\n",
    "event_prob.columns = ['freq']\n",
    "event_prob['totals'] = event_prob.groupby([\n",
    "    'OUTS_CT', 'bases', 'SCORE_DIFF', 'BAT_HOME_ID', \n",
    "    'HOME_BAT_LINEUP_ID', 'AWAY_BAT_LINEUP_ID'\n",
    "])['freq'].transform('sum')\n",
    "event_prob['event_prob'] = event_prob['freq'] / event_prob['totals']\n",
    "del event_prob['totals']\n",
    "del event_prob['freq']\n",
    "\n",
    "event_prob = event_prob.reset_index()\n",
    "event_prob = event_prob.sort_values([\n",
    "    'OUTS_CT', 'bases', 'SCORE_DIFF', 'BAT_HOME_ID', \n",
    "    'HOME_BAT_LINEUP_ID', 'AWAY_BAT_LINEUP_ID', 'EVENT_CD'\n",
    "])"
   ]
  },
  {
   "cell_type": "markdown",
   "metadata": {},
   "source": [
    "# Calculate Transition Probabilities"
   ]
  },
  {
   "cell_type": "code",
   "execution_count": null,
   "metadata": {},
   "outputs": [],
   "source": [
    "transition_prob = new_state_prob.merge(event_prob, on=[\n",
    "    'OUTS_CT', 'bases', 'SCORE_DIFF', 'BAT_HOME_ID', \n",
    "    'HOME_BAT_LINEUP_ID', 'AWAY_BAT_LINEUP_ID', 'EVENT_CD'\n",
    "]).set_index(states)\n",
    "transition_prob['transition_prob'] = transition_prob['new_state_prob'] * transition_prob['event_prob']\n",
    "transition_prob = transition_prob.groupby(states)['transition_prob'].sum().to_frame()"
   ]
  },
  {
   "cell_type": "markdown",
   "metadata": {},
   "source": [
    "## Calculate Reward Matrix"
   ]
  },
  {
   "cell_type": "code",
   "execution_count": null,
   "metadata": {},
   "outputs": [],
   "source": [
    "rewards = states_data.groupby(states)[['EVENT_RUNS_CT']].mean()"
   ]
  },
  {
   "cell_type": "code",
   "execution_count": null,
   "metadata": {},
   "outputs": [],
   "source": [
    "merged = transition_prob.merge(rewards, on=states) \n",
    "merged['prod'] = merged['transition_prob'] * merged['EVENT_RUNS_CT']\n",
    "Q = merged.groupby([\n",
    "    'OUTS_CT', 'bases', 'SCORE_DIFF', 'BAT_HOME_ID', \n",
    "    'HOME_BAT_LINEUP_ID', 'AWAY_BAT_LINEUP_ID'\n",
    "])[['prod']].sum().to_numpy()"
   ]
  },
  {
   "cell_type": "markdown",
   "metadata": {},
   "source": [
    "## Set up matrices"
   ]
  },
  {
   "cell_type": "code",
   "execution_count": null,
   "metadata": {},
   "outputs": [],
   "source": [
    "outs_mat = [0, 1, 2]\n",
    "bases_mat = [0, 1, 2, 3, 4, 5, 6, 7]\n",
    "lineup_mat = [1, 2, 3, 4, 5, 6, 7, 8, 9]\n",
    "top_mat = [0, 1]\n",
    "diff_mat = [-8, -7, -6, -5, -4, -3, -2, -1, 0, 1, 2, 3, 4, 5, 6, 7, 8]\n",
    "mind = pd.MultiIndex.from_product(\n",
    "    [outs_mat, bases_mat, diff_mat, top_mat, lineup_mat, lineup_mat], \n",
    "    names = ['OUTS_CT', 'bases', 'SCORE_DIFF', 'BAT_HOME_ID', 'HOME_BAT_LINEUP_ID', 'AWAY_BAT_LINEUP_ID'] \n",
    ")"
   ]
  },
  {
   "cell_type": "code",
   "execution_count": null,
   "metadata": {},
   "outputs": [],
   "source": [
    "transition_prob = transition_prob.astype(pd.SparseDtype(\"float\", 0))"
   ]
  },
  {
   "cell_type": "code",
   "execution_count": null,
   "metadata": {},
   "outputs": [],
   "source": [
    "transition_prob_wide = transition_prob.reset_index().pivot(\n",
    "    index=['OUTS_CT', 'bases', 'SCORE_DIFF', 'BAT_HOME_ID', 'HOME_BAT_LINEUP_ID', 'AWAY_BAT_LINEUP_ID'], \n",
    "    columns=['OUTS_CT_new', 'bases_new', 'SCORE_DIFF_new', 'BAT_HOME_ID_new', 'HOME_BAT_LINEUP_ID_new', 'AWAY_BAT_LINEUP_ID_new'], \n",
    "    values='transition_prob'\n",
    ")\n",
    "P = transition_prob_wide.to_numpy()"
   ]
  },
  {
   "cell_type": "code",
   "execution_count": null,
   "metadata": {},
   "outputs": [],
   "source": [
    "transition_prob_wide = transition_prob_wide.astype(pd.SparseDtype(\"float\", 0))"
   ]
  },
  {
   "cell_type": "code",
   "execution_count": null,
   "metadata": {},
   "outputs": [],
   "source": [
    "transition_prob_wide = transition_prob_wide.reindex(mind, fill_value=0)"
   ]
  },
  {
   "cell_type": "code",
   "execution_count": null,
   "metadata": {},
   "outputs": [],
   "source": [
    "rewards = rewards.reindex(mind, fill_value=0)\n",
    "rewards_wide = rewards.reset_index().pivot(\n",
    "    index=['outs', 'bases', 'SCORE_DIFF', 'BAT_HOME_ID', 'HOME_BAT_LINEUP_ID', 'AWAY_BAT_LINEUP_ID'], \n",
    "    columns=['outs_new', 'bases_new', 'SCORE_DIFF_new', 'BAT_HOME_ID_new', 'HOME_BAT_LINEUP_ID_new', 'AWAY_BAT_LINEUP_ID_new'],\n",
    "    values='runs'\n",
    ")\n",
    "R = rewards_wide.to_numpy()"
   ]
  },
  {
   "cell_type": "markdown",
   "metadata": {},
   "source": [
    "## Calculate Expected Runs"
   ]
  },
  {
   "cell_type": "code",
   "execution_count": null,
   "metadata": {},
   "outputs": [],
   "source": [
    "I = np.identity(P.shape[0])"
   ]
  },
  {
   "cell_type": "code",
   "execution_count": null,
   "metadata": {},
   "outputs": [],
   "source": [
    "v = np.linalg.solve((I-P), Q)"
   ]
  },
  {
   "cell_type": "code",
   "execution_count": null,
   "metadata": {},
   "outputs": [],
   "source": [
    "mind2 = pd.MultiIndex.from_product(\n",
    "    [outs_mat, bases_mat, lineup_mat], \n",
    "    names = ['outs', 'bases', 'SCORE_DIFF', 'BAT_HOME_ID', 'HOME_BAT_LINEUP_ID', 'AWAY_BAT_LINEUP_ID']\n",
    ")\n",
    "v_pd = pd.DataFrame(v, index=mind2)"
   ]
  },
  {
   "cell_type": "markdown",
   "metadata": {},
   "source": [
    "## Compare with Actual Run Values"
   ]
  },
  {
   "cell_type": "code",
   "execution_count": null,
   "metadata": {},
   "outputs": [],
   "source": [
    "states_data = states_data.sort_values(['GAME_ID', 'INN_CT', 'BAT_HOME_ID', 'EVENT_ID', 'BAT_LINEUP_ID'])\n",
    "states_data['current_inning_runs'] = states_data.groupby(['GAME_ID', 'BAT_HOME_ID', 'INN_CT'])['runs'].cumsum()\n",
    "\n",
    "states_data['inning_runs'] = states_data.groupby(['GAME_ID', 'BAT_HOME_ID', 'INN_CT'])['runs'].transform('sum')\n",
    "\n",
    "states_data['add_runs'] = states_data['inning_runs'] - states_data['current_inning_runs'] + states_data['runs']"
   ]
  },
  {
   "cell_type": "code",
   "execution_count": null,
   "metadata": {},
   "outputs": [],
   "source": [
    "states_data.groupby(['outs', 'bases', 'BAT_LINEUP_ID'])['add_runs'].agg('mean').to_frame().head(15)"
   ]
  },
  {
   "cell_type": "code",
   "execution_count": null,
   "metadata": {},
   "outputs": [],
   "source": [
    "v_pd.head(15)"
   ]
  },
  {
   "cell_type": "code",
   "execution_count": null,
   "metadata": {},
   "outputs": [],
   "source": []
  },
  {
   "cell_type": "code",
   "execution_count": null,
   "metadata": {},
   "outputs": [],
   "source": []
  },
  {
   "cell_type": "code",
   "execution_count": null,
   "metadata": {},
   "outputs": [],
   "source": []
  },
  {
   "cell_type": "code",
   "execution_count": null,
   "metadata": {},
   "outputs": [],
   "source": []
  },
  {
   "cell_type": "code",
   "execution_count": null,
   "metadata": {},
   "outputs": [],
   "source": []
  }
 ],
 "metadata": {
  "kernelspec": {
   "display_name": "Python 3",
   "language": "python",
   "name": "python3"
  },
  "language_info": {
   "codemirror_mode": {
    "name": "ipython",
    "version": 3
   },
   "file_extension": ".py",
   "mimetype": "text/x-python",
   "name": "python",
   "nbconvert_exporter": "python",
   "pygments_lexer": "ipython3"
  }
 },
 "nbformat": 4,
 "nbformat_minor": 4
}
