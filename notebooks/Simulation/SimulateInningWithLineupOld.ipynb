{
 "cells": [
  {
   "cell_type": "code",
   "execution_count": null,
   "metadata": {},
   "outputs": [],
   "source": [
    "from numpy.random import binomial\n",
    "import pandas as pd\n",
    "import numpy as np\n",
    "from pathlib import Path"
   ]
  },
  {
   "cell_type": "code",
   "execution_count": null,
   "metadata": {},
   "outputs": [],
   "source": [
    "interim = Path('../../data/interim')\n",
    "events = pd.read_pickle(Path(interim) / 'events.pkl')"
   ]
  },
  {
   "cell_type": "markdown",
   "metadata": {},
   "source": [
    "## Prep data by cleaning states and events"
   ]
  },
  {
   "cell_type": "code",
   "execution_count": null,
   "metadata": {},
   "outputs": [],
   "source": [
    "# Limit to main event types and relevant variables for simplicity\n",
    "states_data = events.loc[\n",
    "    events.EVENT_CD.isin([2, 3, 14, 20, 21, 22, 23]), # 15, 16\n",
    "    ['EVENT_CD', 'BASE1_RUN_ID', 'BASE2_RUN_ID', \n",
    "    'BASE3_RUN_ID', 'BAT_DEST_ID', 'RUN1_DEST_ID', 'RUN2_DEST_ID', \n",
    "    'RUN3_DEST_ID', 'OUTS_CT', 'EVENT_OUTS_CT', 'EVENT_RUNS_CT']\n",
    "]\n",
    "\n",
    "# Come up with starting base state for each event\n",
    "states_data['1b'] = np.where(states_data['BASE1_RUN_ID'].isna(), 0, 1)\n",
    "states_data['2b'] = np.where(states_data['BASE2_RUN_ID'].isna(), 0, 1)\n",
    "states_data['3b'] = np.where(states_data['BASE3_RUN_ID'].isna(), 0, 1)\n",
    "states_data['bases'] = states_data['1b'] + states_data['2b']*2 + states_data['3b']*4\n",
    "\n",
    "# Come up with ending base state for each event\n",
    "states_data['1b_new'] = np.where(\n",
    "    (states_data['BAT_DEST_ID'] == 1) |\n",
    "    (states_data['RUN1_DEST_ID'] == 1) |\n",
    "    (states_data['RUN2_DEST_ID'] == 1) |\n",
    "    (states_data['RUN3_DEST_ID'] == 1),\n",
    "    1, 0\n",
    ")\n",
    "\n",
    "states_data['2b_new'] = np.where(\n",
    "    (states_data['BAT_DEST_ID'] == 2) |\n",
    "    (states_data['RUN1_DEST_ID'] == 2) |\n",
    "    (states_data['RUN2_DEST_ID'] == 2) |\n",
    "    (states_data['RUN3_DEST_ID'] == 2),\n",
    "    1, 0\n",
    ")\n",
    "\n",
    "states_data['3b_new'] = np.where(\n",
    "    (states_data['BAT_DEST_ID'] == 3) |\n",
    "    (states_data['RUN1_DEST_ID'] == 3) |\n",
    "    (states_data['RUN2_DEST_ID'] == 3) |\n",
    "    (states_data['RUN3_DEST_ID'] == 3),\n",
    "    1, 0\n",
    ")\n",
    "\n",
    "states_data['bases_new'] = states_data['1b_new'] + states_data['2b_new']*2 + states_data['3b_new']*4\n",
    "\n",
    "# Clean up outs and events\n",
    "states_data = states_data.rename(columns={'OUTS_CT': 'outs', 'EVENT_RUNS_CT': 'runs'})\n",
    "states_data['outs_new'] = states_data['outs'] + states_data['EVENT_OUTS_CT']\n",
    "\n",
    "# Only keep base variables\n",
    "states = ['outs', 'bases', 'outs_new', 'bases_new']\n",
    "states_data = states_data.loc[:, states + ['EVENT_CD', 'runs']]\n",
    "\n",
    "states_data.head()"
   ]
  },
  {
   "cell_type": "markdown",
   "metadata": {},
   "source": [
    "## New State Probabilites conditional on starting state and event"
   ]
  },
  {
   "cell_type": "code",
   "execution_count": null,
   "metadata": {},
   "outputs": [],
   "source": [
    "new_state_prob = states_data.copy()\n",
    "new_state_prob['freq'] = 1\n",
    "\n",
    "# Calculate how often a state to state transition occurs for a given event, and associated number of runs\n",
    "new_state_prob = new_state_prob.groupby(states + ['EVENT_CD']).agg({'runs':'mean', 'freq': 'sum'})\n",
    "new_state_prob.runs = new_state_prob.runs.round(1)\n",
    "\n",
    "# Only keep the transitions that are non-negligible for a given starting state and event\n",
    "new_state_prob['totals'] = new_state_prob.groupby(['EVENT_CD', 'outs', 'bases'])['freq'].transform('sum')\n",
    "new_state_prob['new_state_prob'] = new_state_prob['freq'] / new_state_prob['totals']\n",
    "new_state_prob = new_state_prob.loc[new_state_prob['new_state_prob'] >= .05]\n",
    "del new_state_prob['totals']\n",
    "del new_state_prob['new_state_prob']\n",
    "\n",
    "# Calculate probabilities of ending state given starting state and event\n",
    "new_state_prob['totals'] = new_state_prob.groupby(['EVENT_CD', 'outs', 'bases'])['freq'].transform('sum')\n",
    "new_state_prob['new_state_prob'] = new_state_prob['freq'] / new_state_prob['totals']\n",
    "del new_state_prob['totals']\n",
    "del new_state_prob['freq']\n",
    "\n",
    "# Clean up index and ordering\n",
    "new_state_prob = new_state_prob.reset_index()\n",
    "new_state_prob = new_state_prob.sort_values(['outs', 'bases', 'EVENT_CD', 'outs_new', 'bases_new'])\n",
    "\n",
    "new_state_prob.head(15)"
   ]
  },
  {
   "cell_type": "markdown",
   "metadata": {},
   "source": [
    "## Calculate Event Odds Conditional on State"
   ]
  },
  {
   "cell_type": "code",
   "execution_count": null,
   "metadata": {},
   "outputs": [],
   "source": [
    "event_prob = states_data.groupby(['outs', 'bases', 'EVENT_CD']).size().to_frame()\n",
    "event_prob.columns = ['count']\n",
    "event_prob['total'] = event_prob.groupby(['outs', 'bases'])['count'].transform('sum')\n",
    "event_prob['event_prob'] = event_prob['count'] / event_prob['total']\n",
    "event_prob = event_prob.drop(['count', 'total'], axis = 1)\n",
    "event_prob = event_prob.reset_index()\n",
    "event_prob.head(15)"
   ]
  },
  {
   "cell_type": "markdown",
   "metadata": {},
   "source": [
    "# Calculate Transition Probabilities"
   ]
  },
  {
   "cell_type": "code",
   "execution_count": null,
   "metadata": {},
   "outputs": [],
   "source": [
    "transition_prob = new_state_prob.merge(event_prob, on=['outs', 'bases', 'EVENT_CD']).set_index(states)\n",
    "transition_prob['transition_prob'] = transition_prob['new_state_prob'] * transition_prob['event_prob']\n",
    "transition_prob = transition_prob.groupby(states)['transition_prob'].sum().to_frame()"
   ]
  },
  {
   "cell_type": "markdown",
   "metadata": {},
   "source": [
    "## Calculate Reward Matrix"
   ]
  },
  {
   "cell_type": "code",
   "execution_count": null,
   "metadata": {},
   "outputs": [],
   "source": [
    "rewards = new_state_prob.groupby(states)['runs'].mean().to_frame()"
   ]
  },
  {
   "cell_type": "markdown",
   "metadata": {},
   "source": [
    "## Set up matrices"
   ]
  },
  {
   "cell_type": "code",
   "execution_count": null,
   "metadata": {},
   "outputs": [],
   "source": [
    "outs_mat = [0, 1, 2]\n",
    "bases_mat = [0, 1, 2, 3, 4, 5, 6, 7]\n",
    "mind = pd.MultiIndex.from_product(\n",
    "    [outs_mat, bases_mat, outs_mat, bases_mat], \n",
    "    names = ['outs', 'bases', 'outs_new', 'bases_new']\n",
    ")"
   ]
  },
  {
   "cell_type": "code",
   "execution_count": null,
   "metadata": {},
   "outputs": [],
   "source": [
    "transition_prob = transition_prob.reindex(mind, fill_value=0)\n",
    "transition_prob_wide = transition_prob.reset_index().pivot(\n",
    "    index=['outs', 'bases'], \n",
    "    columns=['outs_new', 'bases_new'], \n",
    "    values='transition_prob'\n",
    ")\n",
    "P = transition_prob_wide.to_numpy()"
   ]
  },
  {
   "cell_type": "code",
   "execution_count": null,
   "metadata": {},
   "outputs": [],
   "source": [
    "rewards = rewards.reindex(mind, fill_value=0)\n",
    "rewards_wide = rewards.reset_index().pivot(\n",
    "    index=['outs', 'bases'], \n",
    "    columns=['outs_new', 'bases_new'], \n",
    "    values='runs'\n",
    ")\n",
    "R = rewards_wide.to_numpy()"
   ]
  },
  {
   "cell_type": "markdown",
   "metadata": {},
   "source": [
    "## Calculate Expected Runs"
   ]
  },
  {
   "cell_type": "code",
   "execution_count": null,
   "metadata": {},
   "outputs": [],
   "source": [
    "I = np.identity(P.shape[0])"
   ]
  },
  {
   "cell_type": "code",
   "execution_count": null,
   "metadata": {},
   "outputs": [],
   "source": [
    "Q = np.sum(R * P, axis = 1).reshape(24,1)"
   ]
  },
  {
   "cell_type": "code",
   "execution_count": null,
   "metadata": {},
   "outputs": [],
   "source": [
    "v = np.linalg.solve((I-P), Q)"
   ]
  },
  {
   "cell_type": "code",
   "execution_count": null,
   "metadata": {},
   "outputs": [],
   "source": [
    "v"
   ]
  },
  {
   "cell_type": "markdown",
   "metadata": {},
   "source": [
    "## Compare with Actual Run Values"
   ]
  },
  {
   "cell_type": "code",
   "execution_count": null,
   "metadata": {},
   "outputs": [],
   "source": [
    "events[events.EVENT_CD.isin([2, 3, 14, 20, 21, 22, 23])].EVENT_RUNS_CT.sum()"
   ]
  },
  {
   "cell_type": "code",
   "execution_count": null,
   "metadata": {},
   "outputs": [],
   "source": [
    "events[events.EVENT_CD.isin([2, 3, 14, 20, 21, 22, 23])].groupby(['GAME_ID', 'BAT_HOME_ID', 'INN_CT']).size()"
   ]
  },
  {
   "cell_type": "code",
   "execution_count": null,
   "metadata": {},
   "outputs": [],
   "source": [
    "print(1455709 / 3068406)"
   ]
  }
 ],
 "metadata": {
  "kernelspec": {
   "display_name": "Python 3",
   "language": "python",
   "name": "python3"
  },
  "language_info": {
   "codemirror_mode": {
    "name": "ipython",
    "version": 3
   },
   "file_extension": ".py",
   "mimetype": "text/x-python",
   "name": "python",
   "nbconvert_exporter": "python",
   "pygments_lexer": "ipython3"
  }
 },
 "nbformat": 4,
 "nbformat_minor": 4
}
