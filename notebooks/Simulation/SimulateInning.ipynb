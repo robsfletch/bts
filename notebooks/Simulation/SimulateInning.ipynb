{
 "cells": [
  {
   "cell_type": "code",
   "execution_count": 48,
   "metadata": {},
   "outputs": [],
   "source": [
    "from numpy.random import binomial\n",
    "import pandas as pd\n",
    "import numpy as np\n",
    "from pathlib import Path"
   ]
  },
  {
   "cell_type": "code",
   "execution_count": 49,
   "metadata": {},
   "outputs": [],
   "source": [
    "interim = Path('../../data/interim')\n",
    "events = pd.read_pickle(Path(interim) / 'events.pkl')\n",
    "\n",
    "states_data = events.loc[\n",
    "    events.EVENT_CD.isin([2, 3, 14, 20, 21, 22, 23]), # 15, 16\n",
    "    ['EVENT_CD', 'BASE1_RUN_ID', 'BASE2_RUN_ID', \n",
    "    'BASE3_RUN_ID', 'BAT_DEST_ID', 'RUN1_DEST_ID', 'RUN2_DEST_ID', \n",
    "    'RUN3_DEST_ID', 'OUTS_CT', 'EVENT_OUTS_CT', 'EVENT_RUNS_CT']\n",
    "]\n",
    "\n",
    "states_data['1b'] = np.where(states_data['BASE1_RUN_ID'].isna(), 0, 1)\n",
    "states_data['2b'] = np.where(states_data['BASE2_RUN_ID'].isna(), 0, 1)\n",
    "states_data['3b'] = np.where(states_data['BASE3_RUN_ID'].isna(), 0, 1)\n",
    "\n",
    "states_data['1b_new'] = np.where(\n",
    "    (states_data['BAT_DEST_ID'] == 1) |\n",
    "    (states_data['RUN1_DEST_ID'] == 1) |\n",
    "    (states_data['RUN2_DEST_ID'] == 1) |\n",
    "    (states_data['RUN3_DEST_ID'] == 1),\n",
    "    1, 0\n",
    ")\n",
    "\n",
    "states_data['2b_new'] = np.where(\n",
    "    (states_data['BAT_DEST_ID'] == 2) |\n",
    "    (states_data['RUN1_DEST_ID'] == 2) |\n",
    "    (states_data['RUN2_DEST_ID'] == 2) |\n",
    "    (states_data['RUN3_DEST_ID'] == 2),\n",
    "    1, 0\n",
    ")\n",
    "\n",
    "states_data['3b_new'] = np.where(\n",
    "    (states_data['BAT_DEST_ID'] == 3) |\n",
    "    (states_data['RUN1_DEST_ID'] == 3) |\n",
    "    (states_data['RUN2_DEST_ID'] == 3) |\n",
    "    (states_data['RUN3_DEST_ID'] == 3),\n",
    "    1, 0\n",
    ")\n",
    "\n",
    "states_data = states_data.rename(columns={'OUTS_CT': 'outs', 'EVENT_RUNS_CT': 'runs'})\n",
    "\n",
    "states_data['outs_new'] = states_data['outs'] + states_data['EVENT_OUTS_CT']\n",
    "\n",
    "states_data = states_data.drop([\n",
    "    'EVENT_OUTS_CT', 'BASE1_RUN_ID', 'BASE2_RUN_ID', 'BASE3_RUN_ID',\n",
    "    'BAT_DEST_ID', 'RUN1_DEST_ID', 'RUN2_DEST_ID', 'RUN3_DEST_ID'\n",
    "], axis = 1)\n",
    "\n",
    "states_data['freq'] = 1"
   ]
  },
  {
   "cell_type": "code",
   "execution_count": 50,
   "metadata": {},
   "outputs": [],
   "source": [
    "transition_counts = states_data.groupby(['EVENT_CD', 'outs', '1b', '2b', '3b', '1b_new', '2b_new', '3b_new', 'outs_new']).agg({'runs':'mean', 'freq': 'sum'})\n",
    "transition_counts.runs = transition_counts.runs.round(1)\n",
    "\n",
    "transition_counts['totals'] = transition_counts.groupby(['EVENT_CD', 'outs', '1b', '2b', '3b'])['freq'].transform('sum')\n",
    "transition_counts['frac'] = transition_counts['freq'] / transition_counts['totals']\n",
    "\n",
    "transition_counts = transition_counts.loc[transition_counts.frac >= .05]\n",
    "\n",
    "transition_counts['totals'] = transition_counts.groupby(['EVENT_CD', 'outs', '1b', '2b', '3b'])['freq'].transform('sum')\n",
    "transition_counts['frac'] = transition_counts['freq'] / transition_counts['totals']\n",
    "\n",
    "transition_counts = transition_counts.reset_index()\n",
    "transition_counts['bases'] = transition_counts['1b'] + transition_counts['2b']*2 + transition_counts['3b']*4\n",
    "transition_counts['bases_new'] = transition_counts['1b_new'] + transition_counts['2b_new']*2 + transition_counts['3b_new']*4\n",
    "transition_counts = transition_counts.set_index(['outs', 'bases', 'outs_new', 'bases_new'])\n",
    "transition_counts = transition_counts.sort_values(['outs', 'bases', 'outs_new', 'bases_new', 'EVENT_CD'])"
   ]
  },
  {
   "cell_type": "code",
   "execution_count": 51,
   "metadata": {},
   "outputs": [
    {
     "data": {
      "text/html": [
       "<div>\n",
       "<style scoped>\n",
       "    .dataframe tbody tr th:only-of-type {\n",
       "        vertical-align: middle;\n",
       "    }\n",
       "\n",
       "    .dataframe tbody tr th {\n",
       "        vertical-align: top;\n",
       "    }\n",
       "\n",
       "    .dataframe thead th {\n",
       "        text-align: right;\n",
       "    }\n",
       "</style>\n",
       "<table border=\"1\" class=\"dataframe\">\n",
       "  <thead>\n",
       "    <tr style=\"text-align: right;\">\n",
       "      <th></th>\n",
       "      <th>prob</th>\n",
       "    </tr>\n",
       "    <tr>\n",
       "      <th>EVENT_CD</th>\n",
       "      <th></th>\n",
       "    </tr>\n",
       "  </thead>\n",
       "  <tbody>\n",
       "    <tr>\n",
       "      <th>2</th>\n",
       "      <td>0.530417</td>\n",
       "    </tr>\n",
       "    <tr>\n",
       "      <th>3</th>\n",
       "      <td>0.148806</td>\n",
       "    </tr>\n",
       "    <tr>\n",
       "      <th>14</th>\n",
       "      <td>0.080918</td>\n",
       "    </tr>\n",
       "    <tr>\n",
       "      <th>20</th>\n",
       "      <td>0.167842</td>\n",
       "    </tr>\n",
       "    <tr>\n",
       "      <th>21</th>\n",
       "      <td>0.042683</td>\n",
       "    </tr>\n",
       "    <tr>\n",
       "      <th>22</th>\n",
       "      <td>0.006709</td>\n",
       "    </tr>\n",
       "    <tr>\n",
       "      <th>23</th>\n",
       "      <td>0.022625</td>\n",
       "    </tr>\n",
       "  </tbody>\n",
       "</table>\n",
       "</div>"
      ],
      "text/plain": [
       "              prob\n",
       "EVENT_CD          \n",
       "2         0.530417\n",
       "3         0.148806\n",
       "14        0.080918\n",
       "20        0.167842\n",
       "21        0.042683\n",
       "22        0.006709\n",
       "23        0.022625"
      ]
     },
     "execution_count": 51,
     "metadata": {},
     "output_type": "execute_result"
    }
   ],
   "source": [
    "event_odds = states_data.groupby('EVENT_CD').size().to_frame()\n",
    "event_odds.columns = ['count']\n",
    "event_odds['total'] = event_odds['count'].sum()\n",
    "event_odds['prob'] = event_odds['count'] / event_odds['total']\n",
    "event_odds = event_odds.drop(['count', 'total'], axis = 1)\n",
    "event_odds"
   ]
  },
  {
   "cell_type": "code",
   "execution_count": 52,
   "metadata": {},
   "outputs": [],
   "source": [
    "transition_counts = transition_counts.reset_index().merge(event_odds, on='EVENT_CD').set_index(['outs', 'bases', 'outs_new', 'bases_new'])\n",
    "transition_counts['weight'] = transition_counts['frac'] * transition_counts['prob']\n",
    "transition_probs = transition_counts.groupby(['outs', 'bases', 'outs_new', 'bases_new'])['weight'].sum().to_frame()\n",
    "rewards = transition_counts.groupby(['outs', 'bases', 'outs_new', 'bases_new'])['runs'].mean().to_frame()"
   ]
  },
  {
   "cell_type": "code",
   "execution_count": 53,
   "metadata": {},
   "outputs": [],
   "source": [
    "outs_mat = [0, 1, 2]\n",
    "bases_mat = [0, 1, 2, 3, 4, 5, 6, 7]\n",
    "mind = pd.MultiIndex.from_product([outs_mat, bases_mat, outs_mat, bases_mat], names = ['outs', 'bases', 'outs_new', 'bases_new'])"
   ]
  },
  {
   "cell_type": "code",
   "execution_count": 54,
   "metadata": {},
   "outputs": [],
   "source": [
    "transition_probs = transition_probs.reindex(mind, fill_value=0)\n",
    "rewards = rewards.reindex(mind, fill_value=0)"
   ]
  },
  {
   "cell_type": "code",
   "execution_count": 55,
   "metadata": {},
   "outputs": [],
   "source": [
    "transition_probs = transition_probs.reset_index().pivot(index=['outs', 'bases'], columns=['outs_new', 'bases_new'], values='weight')"
   ]
  },
  {
   "cell_type": "code",
   "execution_count": 56,
   "metadata": {},
   "outputs": [],
   "source": [
    "rewards = rewards.reset_index().pivot(index=['outs', 'bases'], columns=['outs_new', 'bases_new'], values='runs')"
   ]
  },
  {
   "cell_type": "code",
   "execution_count": 57,
   "metadata": {},
   "outputs": [],
   "source": [
    "P = transition_probs.to_numpy()\n",
    "R = rewards.to_numpy()\n",
    "I = np.identity(P.shape[0])"
   ]
  },
  {
   "cell_type": "code",
   "execution_count": 58,
   "metadata": {},
   "outputs": [],
   "source": [
    "Q = np.sum(R * P, axis = 1).reshape(24,1)"
   ]
  },
  {
   "cell_type": "code",
   "execution_count": 59,
   "metadata": {},
   "outputs": [],
   "source": [
    "v = np.linalg.solve((I-P), Q)"
   ]
  },
  {
   "cell_type": "code",
   "execution_count": 60,
   "metadata": {},
   "outputs": [
    {
     "data": {
      "text/plain": [
       "array([[0.47153284],\n",
       "       [0.85533331],\n",
       "       [1.1044428 ],\n",
       "       [1.48799641],\n",
       "       [1.30835432],\n",
       "       [1.7201353 ],\n",
       "       [1.94039347],\n",
       "       [2.28017954],\n",
       "       [0.24962086],\n",
       "       [0.49157099],\n",
       "       [0.66964199],\n",
       "       [0.91006201],\n",
       "       [0.91598169],\n",
       "       [1.13448353],\n",
       "       [1.36671354],\n",
       "       [1.54513487],\n",
       "       [0.09472234],\n",
       "       [0.21419276],\n",
       "       [0.33464004],\n",
       "       [0.46222951],\n",
       "       [0.35602184],\n",
       "       [0.47915838],\n",
       "       [0.59627044],\n",
       "       [0.77760919]])"
      ]
     },
     "execution_count": 60,
     "metadata": {},
     "output_type": "execute_result"
    }
   ],
   "source": [
    "v"
   ]
  },
  {
   "cell_type": "code",
   "execution_count": 69,
   "metadata": {},
   "outputs": [
    {
     "data": {
      "text/plain": [
       "1455709"
      ]
     },
     "execution_count": 69,
     "metadata": {},
     "output_type": "execute_result"
    }
   ],
   "source": [
    "events[events.EVENT_CD.isin([2, 3, 14, 20, 21, 22, 23])].EVENT_RUNS_CT.sum()"
   ]
  },
  {
   "cell_type": "code",
   "execution_count": 68,
   "metadata": {},
   "outputs": [
    {
     "data": {
      "text/plain": [
       "GAME_ID       BAT_HOME_ID  INN_CT\n",
       "ANA199704020  0            1         5\n",
       "                           2         4\n",
       "                           3         5\n",
       "                           4         3\n",
       "                           5         3\n",
       "                                    ..\n",
       "WS2197109300  1            4         4\n",
       "                           5         4\n",
       "                           6         7\n",
       "                           7         4\n",
       "                           8         3\n",
       "Length: 3068406, dtype: int64"
      ]
     },
     "execution_count": 68,
     "metadata": {},
     "output_type": "execute_result"
    }
   ],
   "source": [
    "events[events.EVENT_CD.isin([2, 3, 14, 20, 21, 22, 23])].groupby(['GAME_ID', 'BAT_HOME_ID', 'INN_CT']).size()"
   ]
  },
  {
   "cell_type": "code",
   "execution_count": 70,
   "metadata": {},
   "outputs": [
    {
     "name": "stdout",
     "output_type": "stream",
     "text": [
      "0.4744186395151098\n"
     ]
    }
   ],
   "source": [
    "print(1455709 / 3068406)"
   ]
  },
  {
   "cell_type": "code",
   "execution_count": null,
   "metadata": {},
   "outputs": [],
   "source": []
  }
 ],
 "metadata": {
  "kernelspec": {
   "display_name": "Python 3",
   "language": "python",
   "name": "python3"
  },
  "language_info": {
   "codemirror_mode": {
    "name": "ipython",
    "version": 3
   },
   "file_extension": ".py",
   "mimetype": "text/x-python",
   "name": "python",
   "nbconvert_exporter": "python",
   "pygments_lexer": "ipython3",
   "version": "3.8.5"
  }
 },
 "nbformat": 4,
 "nbformat_minor": 4
}
