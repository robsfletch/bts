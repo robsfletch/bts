{
 "cells": [
  {
   "cell_type": "code",
   "execution_count": 7,
   "id": "thrown-memory",
   "metadata": {},
   "outputs": [
    {
     "name": "stdout",
     "output_type": "stream",
     "text": [
      "Current Status: 77.0%\n",
      "Odds are 1 in 42,302\n",
      "Expected Value: $132\n"
     ]
    }
   ],
   "source": [
    "import numpy as np\n",
    "\n",
    "def heads_in_a_row(flips, p, want):\n",
    "    a = np.zeros((want + 1, want + 1))\n",
    "    for i in range(want):\n",
    "        a[i, 0] = 1 - p\n",
    "        a[i, i + 1] = p\n",
    "    a[want, want] = 1.0\n",
    "    odds = np.linalg.matrix_power(a, flips)[0, want]\n",
    "    one_in = 1/odds\n",
    "    return one_in\n",
    "\n",
    "p_val = .77\n",
    "one_in = heads_in_a_row(flips=356, p=p_val, want=57)\n",
    "one_in = round(one_in)\n",
    "exp_value = round(5600000/one_in)\n",
    "\n",
    "perc = round(p_val * 100, 1)\n",
    "\n",
    "print(f'Current Status: {perc}%')\n",
    "print(f'Odds are 1 in {one_in:,}')\n",
    "print(f'Expected Value: ${exp_value}')"
   ]
  },
  {
   "cell_type": "code",
   "execution_count": 8,
   "id": "broadband-wrestling",
   "metadata": {},
   "outputs": [
    {
     "name": "stdout",
     "output_type": "stream",
     "text": [
      "Short-Term Goal: 80%\n",
      "Odds are 1 in 5,495\n",
      "Expected Value: $1019\n"
     ]
    }
   ],
   "source": [
    "p_val = .8\n",
    "one_in = heads_in_a_row(flips=356, p=p_val, want=57)\n",
    "one_in = round(one_in)\n",
    "exp_value = round(5600000/one_in)\n",
    "\n",
    "perc = round(p_val * 100, 1)\n",
    "\n",
    "print(f'Short-Term Goal: 80%')\n",
    "print(f'Odds are 1 in {one_in:,}')\n",
    "print(f'Expected Value: ${exp_value}')"
   ]
  },
  {
   "cell_type": "code",
   "execution_count": 9,
   "id": "controversial-jaguar",
   "metadata": {},
   "outputs": [
    {
     "name": "stdout",
     "output_type": "stream",
     "text": [
      "Long-Term Goal: 85%\n",
      "Odds are 1 in 230\n",
      "Expected Value: $24348\n"
     ]
    }
   ],
   "source": [
    "p_val = .85\n",
    "one_in = heads_in_a_row(flips=356, p=p_val, want=57)\n",
    "one_in = round(one_in)\n",
    "exp_value = round(5600000/one_in)\n",
    "\n",
    "perc = round(p_val * 100, 1)\n",
    "\n",
    "print(f'Long-Term Goal: 85%')\n",
    "print(f'Odds are 1 in {one_in:,}')\n",
    "print(f'Expected Value: ${exp_value}')"
   ]
  },
  {
   "cell_type": "code",
   "execution_count": 10,
   "id": "governmental-graduate",
   "metadata": {},
   "outputs": [
    {
     "name": "stdout",
     "output_type": "stream",
     "text": [
      "Reach Goal: 90%\n",
      "Odds are 1 in 13\n",
      "Expected Value: $430769\n"
     ]
    }
   ],
   "source": [
    "p_val = .9\n",
    "one_in = heads_in_a_row(flips=356, p=p_val, want=57)\n",
    "one_in = round(one_in)\n",
    "exp_value = round(5600000/one_in)\n",
    "\n",
    "perc = round(p_val * 100, 1)\n",
    "\n",
    "print(f'Reach Goal: 90%')\n",
    "print(f'Odds are 1 in {one_in:,}')\n",
    "print(f'Expected Value: ${exp_value}')"
   ]
  },
  {
   "cell_type": "code",
   "execution_count": null,
   "id": "referenced-underground",
   "metadata": {},
   "outputs": [],
   "source": []
  }
 ],
 "metadata": {
  "kernelspec": {
   "display_name": "bts",
   "language": "python",
   "name": "bts"
  },
  "language_info": {
   "codemirror_mode": {
    "name": "ipython",
    "version": 3
   },
   "file_extension": ".py",
   "mimetype": "text/x-python",
   "name": "python",
   "nbconvert_exporter": "python",
   "pygments_lexer": "ipython3",
   "version": "3.7.10"
  }
 },
 "nbformat": 4,
 "nbformat_minor": 5
}
